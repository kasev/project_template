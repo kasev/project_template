{
 "cells": [
  {
   "cell_type": "code",
   "execution_count": null,
   "metadata": {},
   "outputs": [
    {
     "name": "stdout",
     "output_type": "stream",
     "text": [
      "this is a special cell, which appears to run continously. But it does not prevent your from continue\n"
     ]
    },
    {
     "data": {
      "application/javascript": [
       "Jupyter.notebook.session.restart({kernel_name: 'ecce_venv'})"
      ],
      "text/plain": [
       "<IPython.core.display.Javascript object>"
      ]
     },
     "execution_count": 1,
     "metadata": {},
     "output_type": "execute_result"
    }
   ],
   "source": [
    "from IPython.display import Javascript\n",
    "print(\"this is a special cell, which appears to run continously. But it does not prevent your from continue\")\n",
    "Javascript(\"Jupyter.notebook.session.restart({kernel_name: 'ecce_venv'})\")"
   ]
  },
  {
   "cell_type": "code",
   "execution_count": 172,
   "metadata": {},
   "outputs": [],
   "source": [
    "import sddk\n",
    "import pandas as pd\n",
    "import numpy as np\n",
    "import textnet # our own local python module\n",
    "import pickle\n",
    "import re\n",
    "import networkx as nx\n",
    "import nltk\n",
    "import math\n",
    "from importlib import reload\n",
    "import plotly.io as pio\n",
    "from sklearn.feature_extraction.text import CountVectorizer\n",
    "from sklearn.decomposition import TruncatedSVD \n",
    "from sklearn.metrics.pairwise import cosine_similarity"
   ]
  },
  {
   "cell_type": "code",
   "execution_count": 5,
   "metadata": {
    "colab": {
     "base_uri": "https://localhost:8080/"
    },
    "id": "Vk65k519TvBW",
    "outputId": "92254476-4708-4e31-a8a4-7ceedba66d8b"
   },
   "outputs": [
    {
     "name": "stdout",
     "output_type": "stream",
     "text": [
      "Your ScienceData username (e.g. '123456@au.dk'): 648597@au.dk\n",
      "Your ScienceData password: ········\n",
      "connection with shared folder established with you as its owner\n",
      "endpoint variable has been configured to: https://sciencedata.dk/files/SDAM_root/SDAM_data/ECCE_public/\n"
     ]
    }
   ],
   "source": [
    "### not neccessary for reading the data, just for exporting them to sciencedata.dk\n",
    "s = sddk.cloudSession(\"sciencedata.dk\", \"SDAM_root/SDAM_data/ECCE_public\", \"648597@au.dk\")"
   ]
  },
  {
   "cell_type": "code",
   "execution_count": 75,
   "metadata": {
    "colab": {
     "base_uri": "https://localhost:8080/",
     "height": 394
    },
    "id": "uZILdTQmJQlv",
    "outputId": "507cee95-3b09-4f0d-cce8-72b93780d888"
   },
   "outputs": [
    {
     "data": {
      "text/html": [
       "<div>\n",
       "<style scoped>\n",
       "    .dataframe tbody tr th:only-of-type {\n",
       "        vertical-align: middle;\n",
       "    }\n",
       "\n",
       "    .dataframe tbody tr th {\n",
       "        vertical-align: top;\n",
       "    }\n",
       "\n",
       "    .dataframe thead th {\n",
       "        text-align: right;\n",
       "    }\n",
       "</style>\n",
       "<table border=\"1\" class=\"dataframe\">\n",
       "  <thead>\n",
       "    <tr style=\"text-align: right;\">\n",
       "      <th></th>\n",
       "      <th>filename</th>\n",
       "      <th>author</th>\n",
       "      <th>title</th>\n",
       "      <th>wordcount</th>\n",
       "      <th>author_id</th>\n",
       "      <th>doc_id</th>\n",
       "      <th>raw_date</th>\n",
       "      <th>date_avr</th>\n",
       "      <th>date_probs</th>\n",
       "      <th>date_manual</th>\n",
       "      <th>provenience</th>\n",
       "      <th>tlg_epithet</th>\n",
       "      <th>clean_string</th>\n",
       "      <th>n_sentences</th>\n",
       "      <th>lemmatized_sentences</th>\n",
       "    </tr>\n",
       "  </thead>\n",
       "  <tbody>\n",
       "    <tr>\n",
       "      <th>0</th>\n",
       "      <td>tlg0001.tlg001.perseus-grc2.xml</td>\n",
       "      <td>Apollonius Rhodius</td>\n",
       "      <td>Argonautica</td>\n",
       "      <td>38822</td>\n",
       "      <td>tlg0001</td>\n",
       "      <td>tlg0001.tlg001</td>\n",
       "      <td>3 B.C.</td>\n",
       "      <td>-2.5</td>\n",
       "      <td>{'-2.5': 1}</td>\n",
       "      <td>-2.5</td>\n",
       "      <td>pagan</td>\n",
       "      <td>Epici/-ae</td>\n",
       "      <td>ἀρχόμενος σέο, Φοῖβε, παλαιγενέων κλέα φωτῶν μ...</td>\n",
       "      <td>3252</td>\n",
       "      <td>[[ἄρχω, Φοῖβος, παλαιγενής, κλέος, φώς, μιμνήσ...</td>\n",
       "    </tr>\n",
       "    <tr>\n",
       "      <th>1</th>\n",
       "      <td>tlg0003.tlg001.perseus-grc2.xml</td>\n",
       "      <td>Thucydides</td>\n",
       "      <td>The Peloponnesian War</td>\n",
       "      <td>150118</td>\n",
       "      <td>tlg0003</td>\n",
       "      <td>tlg0003.tlg001</td>\n",
       "      <td>5 B.C.</td>\n",
       "      <td>-4.5</td>\n",
       "      <td>{'-4.5': 1}</td>\n",
       "      <td>-4.5</td>\n",
       "      <td>pagan</td>\n",
       "      <td>Historici/-ae</td>\n",
       "      <td>Θουκυδίδης Ἀθηναῖος ξυνέγραψε τὸν πόλεμον τῶν...</td>\n",
       "      <td>6068</td>\n",
       "      <td>[[θουκυδίδης, Ἀθηναῖος, συγγράφω, πόλεμος, Πελ...</td>\n",
       "    </tr>\n",
       "    <tr>\n",
       "      <th>2</th>\n",
       "      <td>tlg0004.tlg001.perseus-grc1.xml</td>\n",
       "      <td>Diogenes Laertius</td>\n",
       "      <td>Lives of Eminent Philosophers</td>\n",
       "      <td>110763</td>\n",
       "      <td>tlg0004</td>\n",
       "      <td>tlg0004.tlg001</td>\n",
       "      <td>A.D. 3</td>\n",
       "      <td>2.5</td>\n",
       "      <td>{'2.5': 1}</td>\n",
       "      <td>NaN</td>\n",
       "      <td></td>\n",
       "      <td>Biographi</td>\n",
       "      <td>Τὸ τῆς φιλοσοφίας ἔργον ἔνιοί φασιν ἀπὸ βαρβάρ...</td>\n",
       "      <td>10245</td>\n",
       "      <td>[[φιλοσοφία, ἔργον, ἔνιοι, φημί, βάρβαρος, ἄρχ...</td>\n",
       "    </tr>\n",
       "    <tr>\n",
       "      <th>3</th>\n",
       "      <td>tlg0005.tlg001.perseus-grc1.xml</td>\n",
       "      <td>Theocritus</td>\n",
       "      <td>Idylls</td>\n",
       "      <td>19200</td>\n",
       "      <td>tlg0005</td>\n",
       "      <td>tlg0005.tlg001</td>\n",
       "      <td>4-3 B.C.</td>\n",
       "      <td>-3.0</td>\n",
       "      <td>{'-3.5': 0.5, '-2.5': 0.5}</td>\n",
       "      <td>NaN</td>\n",
       "      <td></td>\n",
       "      <td>Bucolici</td>\n",
       "      <td>̔Αδύ τι τὸ ψιθύρισμα καὶ ἁ πίτυς αἰπόλε τήνα,...</td>\n",
       "      <td>1982</td>\n",
       "      <td>[[αδύ, ψιθύρισμα, πίτυς, αἰπόλος, τῆνος, πηγή,...</td>\n",
       "    </tr>\n",
       "    <tr>\n",
       "      <th>4</th>\n",
       "      <td>tlg0005.tlg002.perseus-grc1.xml</td>\n",
       "      <td>Theocritus</td>\n",
       "      <td>Epigrams</td>\n",
       "      <td>1734</td>\n",
       "      <td>tlg0005</td>\n",
       "      <td>tlg0005.tlg002</td>\n",
       "      <td>4-3 B.C.</td>\n",
       "      <td>-3.0</td>\n",
       "      <td>{'-3.5': 0.5, '-2.5': 0.5}</td>\n",
       "      <td>NaN</td>\n",
       "      <td></td>\n",
       "      <td>Bucolici</td>\n",
       "      <td>τὰ ῥόδα τὰ δροσόεντα καὶ ἁ κατάπυκνος ἐκείνα ἕ...</td>\n",
       "      <td>152</td>\n",
       "      <td>[[ῥόδον, δροσόεντα, κατάπυκνος, ἐκεῖνος, ἕρπυλ...</td>\n",
       "    </tr>\n",
       "  </tbody>\n",
       "</table>\n",
       "</div>"
      ],
      "text/plain": [
       "                          filename              author  \\\n",
       "0  tlg0001.tlg001.perseus-grc2.xml  Apollonius Rhodius   \n",
       "1  tlg0003.tlg001.perseus-grc2.xml          Thucydides   \n",
       "2  tlg0004.tlg001.perseus-grc1.xml   Diogenes Laertius   \n",
       "3  tlg0005.tlg001.perseus-grc1.xml          Theocritus   \n",
       "4  tlg0005.tlg002.perseus-grc1.xml          Theocritus   \n",
       "\n",
       "                           title  wordcount author_id          doc_id  \\\n",
       "0                    Argonautica      38822   tlg0001  tlg0001.tlg001   \n",
       "1          The Peloponnesian War     150118   tlg0003  tlg0003.tlg001   \n",
       "2  Lives of Eminent Philosophers     110763   tlg0004  tlg0004.tlg001   \n",
       "3                        Idylls       19200   tlg0005  tlg0005.tlg001   \n",
       "4                      Epigrams        1734   tlg0005  tlg0005.tlg002   \n",
       "\n",
       "   raw_date  date_avr                  date_probs  date_manual provenience  \\\n",
       "0    3 B.C.      -2.5                 {'-2.5': 1}         -2.5       pagan   \n",
       "1    5 B.C.      -4.5                 {'-4.5': 1}         -4.5       pagan   \n",
       "2    A.D. 3       2.5                  {'2.5': 1}          NaN               \n",
       "3  4-3 B.C.      -3.0  {'-3.5': 0.5, '-2.5': 0.5}          NaN               \n",
       "4  4-3 B.C.      -3.0  {'-3.5': 0.5, '-2.5': 0.5}          NaN               \n",
       "\n",
       "     tlg_epithet                                       clean_string  \\\n",
       "0      Epici/-ae  ἀρχόμενος σέο, Φοῖβε, παλαιγενέων κλέα φωτῶν μ...   \n",
       "1  Historici/-ae   Θουκυδίδης Ἀθηναῖος ξυνέγραψε τὸν πόλεμον τῶν...   \n",
       "2      Biographi  Τὸ τῆς φιλοσοφίας ἔργον ἔνιοί φασιν ἀπὸ βαρβάρ...   \n",
       "3       Bucolici   ̔Αδύ τι τὸ ψιθύρισμα καὶ ἁ πίτυς αἰπόλε τήνα,...   \n",
       "4       Bucolici  τὰ ῥόδα τὰ δροσόεντα καὶ ἁ κατάπυκνος ἐκείνα ἕ...   \n",
       "\n",
       "   n_sentences                               lemmatized_sentences  \n",
       "0         3252  [[ἄρχω, Φοῖβος, παλαιγενής, κλέος, φώς, μιμνήσ...  \n",
       "1         6068  [[θουκυδίδης, Ἀθηναῖος, συγγράφω, πόλεμος, Πελ...  \n",
       "2        10245  [[φιλοσοφία, ἔργον, ἔνιοι, φημί, βάρβαρος, ἄρχ...  \n",
       "3         1982  [[αδύ, ψιθύρισμα, πίτυς, αἰπόλος, τῆνος, πηγή,...  \n",
       "4          152  [[ῥόδον, δροσόεντα, κατάπυκνος, ἐκεῖνος, ἕρπυλ...  "
      ]
     },
     "execution_count": 75,
     "metadata": {},
     "output_type": "execute_result"
    }
   ],
   "source": [
    "# read the dataset \n",
    "AGT = pd.read_json(\"https://zenodo.org/record/4971946/files/LAGT_v1-0.json?download=1\")\n",
    "AGT.head(5)"
   ]
  },
  {
   "cell_type": "code",
   "execution_count": 10,
   "metadata": {},
   "outputs": [
    {
     "data": {
      "text/plain": [
       "14383627"
      ]
     },
     "execution_count": 10,
     "metadata": {},
     "output_type": "execute_result"
    }
   ],
   "source": [
    "def flat_lemmata(sentences):\n",
    "    lemmata = [word for sent in sentences for word in sent]\n",
    "    return lemmata\n",
    "AGT[\"lemmata\"] = AGT[\"lemmatized_sentences\"].apply(flat_lemmata)\n",
    "\n",
    "AGT[\"lemmata_wordcount\"] = AGT.apply(lambda row: len(row[\"lemmata\"]), axis=1)\n",
    "AGT[\"lemmata_wordcount\"].sum() # previously we had 13925726, then 13713183, 14373580, 14342245"
   ]
  },
  {
   "cell_type": "code",
   "execution_count": 11,
   "metadata": {},
   "outputs": [
    {
     "data": {
      "text/plain": [
       "388    {'0.5': 1}\n",
       "407    {'0.5': 1}\n",
       "408    {'0.5': 1}\n",
       "409    {'0.5': 1}\n",
       "Name: date_probs, dtype: object"
      ]
     },
     "execution_count": 11,
     "metadata": {},
     "output_type": "execute_result"
    }
   ],
   "source": [
    "sub_df = AGT[AGT[\"author_id\"]==\"tlg0031john\"]\n",
    "sub_df[\"date_probs\"]"
   ]
  },
  {
   "cell_type": "code",
   "execution_count": 12,
   "metadata": {},
   "outputs": [
    {
     "data": {
      "text/plain": [
       "{'0.5': 1}"
      ]
     },
     "execution_count": 12,
     "metadata": {},
     "output_type": "execute_result"
    }
   ],
   "source": [
    "probs_dict = {}\n",
    "for d in sub_df[\"date_probs\"]:\n",
    "    probs_dict.update(d)\n",
    "probs_dict"
   ]
  },
  {
   "cell_type": "markdown",
   "metadata": {},
   "source": [
    "# Comparing All Authors"
   ]
  },
  {
   "cell_type": "code",
   "execution_count": 33,
   "metadata": {},
   "outputs": [],
   "source": [
    "def grouping_gnt(author_id):\n",
    "    if author_id == \"tlg0031a\":\n",
    "        author_id = \"tlg0031matt\"\n",
    "    if author_id == \"tlg0031b\":\n",
    "        author_id = \"tlg0031mark\"\n",
    "    if re.match(\"tlg0031\\w?$\", author_id):\n",
    "        return \"tlg0031rest\"\n",
    "    else:\n",
    "        return author_id\n",
    "new_author_ids = AGT[\"author_id\"].apply(grouping_gnt)\n",
    "\n",
    "AGT[\"author_id\"] = new_author_ids"
   ]
  },
  {
   "cell_type": "code",
   "execution_count": 14,
   "metadata": {},
   "outputs": [],
   "source": [
    "def get_flat_sentences(series_sentences):\n",
    "    try: return [sent for work in series_sentences.tolist() for sent in work]\n",
    "    except: return []"
   ]
  },
  {
   "cell_type": "code",
   "execution_count": 15,
   "metadata": {},
   "outputs": [
    {
     "data": {
      "text/plain": [
       "1339"
      ]
     },
     "execution_count": 15,
     "metadata": {},
     "output_type": "execute_result"
    }
   ],
   "source": [
    "john_sentences = get_flat_sentences(sub_df[\"lemmatized_sentences\"])\n",
    "len(john_sentences)"
   ]
  },
  {
   "cell_type": "code",
   "execution_count": 34,
   "metadata": {},
   "outputs": [
    {
     "data": {
      "text/html": [
       "<div>\n",
       "<style scoped>\n",
       "    .dataframe tbody tr th:only-of-type {\n",
       "        vertical-align: middle;\n",
       "    }\n",
       "\n",
       "    .dataframe tbody tr th {\n",
       "        vertical-align: top;\n",
       "    }\n",
       "\n",
       "    .dataframe thead th {\n",
       "        text-align: right;\n",
       "    }\n",
       "</style>\n",
       "<table border=\"1\" class=\"dataframe\">\n",
       "  <thead>\n",
       "    <tr style=\"text-align: right;\">\n",
       "      <th></th>\n",
       "      <th>author_id</th>\n",
       "      <th>author</th>\n",
       "      <th>n_titles</th>\n",
       "      <th>titles</th>\n",
       "      <th>filenames</th>\n",
       "      <th>wordcount</th>\n",
       "      <th>lemmata_wordcount</th>\n",
       "      <th>n_sentences</th>\n",
       "      <th>date_probs</th>\n",
       "      <th>date_avr</th>\n",
       "      <th>provenience</th>\n",
       "      <th>lemmata_lists</th>\n",
       "      <th>lemmatized_sentences</th>\n",
       "    </tr>\n",
       "  </thead>\n",
       "  <tbody>\n",
       "    <tr>\n",
       "      <th>0</th>\n",
       "      <td>tlg0001</td>\n",
       "      <td>Apollonius Rhodius</td>\n",
       "      <td>1</td>\n",
       "      <td>[Argonautica]</td>\n",
       "      <td>[tlg0001.tlg001.perseus-grc2.xml]</td>\n",
       "      <td>38822</td>\n",
       "      <td>23777</td>\n",
       "      <td>3252</td>\n",
       "      <td>{'-2.5': 1}</td>\n",
       "      <td>-2.5</td>\n",
       "      <td>pagan</td>\n",
       "      <td>[[ἄρχω, Φοῖβος, παλαιγενής, κλέος, φώς, μιμνήσ...</td>\n",
       "      <td>[[ἄρχω, Φοῖβος, παλαιγενής, κλέος, φώς, μιμνήσ...</td>\n",
       "    </tr>\n",
       "    <tr>\n",
       "      <th>1</th>\n",
       "      <td>tlg0003</td>\n",
       "      <td>Thucydides</td>\n",
       "      <td>1</td>\n",
       "      <td>[The Peloponnesian War]</td>\n",
       "      <td>[tlg0003.tlg001.perseus-grc2.xml]</td>\n",
       "      <td>150118</td>\n",
       "      <td>71863</td>\n",
       "      <td>6068</td>\n",
       "      <td>{'-4.5': 1}</td>\n",
       "      <td>-4.5</td>\n",
       "      <td>pagan</td>\n",
       "      <td>[[θουκυδίδης, Ἀθηναῖος, συγγράφω, πόλεμος, Πελ...</td>\n",
       "      <td>[[θουκυδίδης, Ἀθηναῖος, συγγράφω, πόλεμος, Πελ...</td>\n",
       "    </tr>\n",
       "    <tr>\n",
       "      <th>2</th>\n",
       "      <td>tlg0004</td>\n",
       "      <td>Diogenes Laertius</td>\n",
       "      <td>1</td>\n",
       "      <td>[Lives of Eminent Philosophers]</td>\n",
       "      <td>[tlg0004.tlg001.perseus-grc1.xml]</td>\n",
       "      <td>110763</td>\n",
       "      <td>56872</td>\n",
       "      <td>10245</td>\n",
       "      <td>{'2.5': 1}</td>\n",
       "      <td>2.5</td>\n",
       "      <td></td>\n",
       "      <td>[[φιλοσοφία, ἔργον, ἔνιοι, φημί, βάρβαρος, ἄρχ...</td>\n",
       "      <td>[[φιλοσοφία, ἔργον, ἔνιοι, φημί, βάρβαρος, ἄρχ...</td>\n",
       "    </tr>\n",
       "    <tr>\n",
       "      <th>3</th>\n",
       "      <td>tlg0005</td>\n",
       "      <td>Theocritus</td>\n",
       "      <td>3</td>\n",
       "      <td>[Idylls , Epigrams , Syrinx]</td>\n",
       "      <td>[tlg0005.tlg001.perseus-grc1.xml, tlg0005.tlg0...</td>\n",
       "      <td>21011</td>\n",
       "      <td>13016</td>\n",
       "      <td>2137</td>\n",
       "      <td>{'-3.5': 0.5, '-2.5': 0.5}</td>\n",
       "      <td>-3.0</td>\n",
       "      <td></td>\n",
       "      <td>[[αδύ, ψιθύρισμα, πίτυς, αἰπόλος, τῆνος, πηγή,...</td>\n",
       "      <td>[[αδύ, ψιθύρισμα, πίτυς, αἰπόλος, τῆνος, πηγή,...</td>\n",
       "    </tr>\n",
       "    <tr>\n",
       "      <th>4</th>\n",
       "      <td>tlg0006</td>\n",
       "      <td>Euripides</td>\n",
       "      <td>17</td>\n",
       "      <td>[Cyclops, Ἡρακλεῖδαι, Ἱππόλυτος, Ἀνδρομάχη, Ἑκ...</td>\n",
       "      <td>[tlg0006.tlg001.perseus-grc2.xml, tlg0006.tlg0...</td>\n",
       "      <td>134129</td>\n",
       "      <td>81439</td>\n",
       "      <td>14482</td>\n",
       "      <td>{'-4.5': 1}</td>\n",
       "      <td>-4.5</td>\n",
       "      <td>pagan</td>\n",
       "      <td>[[Βρόμιος, ἔχω, πόνος, χὥτʼ, ἥβη, ἐμός, εὐσθεν...</td>\n",
       "      <td>[[Βρόμιος, ἔχω, πόνος, χὥτʼ, ἥβη, ἐμός, εὐσθεν...</td>\n",
       "    </tr>\n",
       "  </tbody>\n",
       "</table>\n",
       "</div>"
      ],
      "text/plain": [
       "  author_id              author  n_titles  \\\n",
       "0   tlg0001  Apollonius Rhodius         1   \n",
       "1   tlg0003          Thucydides         1   \n",
       "2   tlg0004   Diogenes Laertius         1   \n",
       "3   tlg0005          Theocritus         3   \n",
       "4   tlg0006           Euripides        17   \n",
       "\n",
       "                                              titles  \\\n",
       "0                                      [Argonautica]   \n",
       "1                            [The Peloponnesian War]   \n",
       "2                    [Lives of Eminent Philosophers]   \n",
       "3                       [Idylls , Epigrams , Syrinx]   \n",
       "4  [Cyclops, Ἡρακλεῖδαι, Ἱππόλυτος, Ἀνδρομάχη, Ἑκ...   \n",
       "\n",
       "                                           filenames  wordcount  \\\n",
       "0                  [tlg0001.tlg001.perseus-grc2.xml]      38822   \n",
       "1                  [tlg0003.tlg001.perseus-grc2.xml]     150118   \n",
       "2                  [tlg0004.tlg001.perseus-grc1.xml]     110763   \n",
       "3  [tlg0005.tlg001.perseus-grc1.xml, tlg0005.tlg0...      21011   \n",
       "4  [tlg0006.tlg001.perseus-grc2.xml, tlg0006.tlg0...     134129   \n",
       "\n",
       "   lemmata_wordcount  n_sentences                  date_probs  date_avr  \\\n",
       "0              23777         3252                 {'-2.5': 1}      -2.5   \n",
       "1              71863         6068                 {'-4.5': 1}      -4.5   \n",
       "2              56872        10245                  {'2.5': 1}       2.5   \n",
       "3              13016         2137  {'-3.5': 0.5, '-2.5': 0.5}      -3.0   \n",
       "4              81439        14482                 {'-4.5': 1}      -4.5   \n",
       "\n",
       "  provenience                                      lemmata_lists  \\\n",
       "0       pagan  [[ἄρχω, Φοῖβος, παλαιγενής, κλέος, φώς, μιμνήσ...   \n",
       "1       pagan  [[θουκυδίδης, Ἀθηναῖος, συγγράφω, πόλεμος, Πελ...   \n",
       "2              [[φιλοσοφία, ἔργον, ἔνιοι, φημί, βάρβαρος, ἄρχ...   \n",
       "3              [[αδύ, ψιθύρισμα, πίτυς, αἰπόλος, τῆνος, πηγή,...   \n",
       "4       pagan  [[Βρόμιος, ἔχω, πόνος, χὥτʼ, ἥβη, ἐμός, εὐσθεν...   \n",
       "\n",
       "                                lemmatized_sentences  \n",
       "0  [[ἄρχω, Φοῖβος, παλαιγενής, κλέος, φώς, μιμνήσ...  \n",
       "1  [[θουκυδίδης, Ἀθηναῖος, συγγράφω, πόλεμος, Πελ...  \n",
       "2  [[φιλοσοφία, ἔργον, ἔνιοι, φημί, βάρβαρος, ἄρχ...  \n",
       "3  [[αδύ, ψιθύρισμα, πίτυς, αἰπόλος, τῆνος, πηγή,...  \n",
       "4  [[Βρόμιος, ἔχω, πόνος, χὥτʼ, ἥβη, ἐμός, εὐσθεν...  "
      ]
     },
     "execution_count": 34,
     "metadata": {},
     "output_type": "execute_result"
    }
   ],
   "source": [
    "authors_dicts = []\n",
    "for author_id in AGT[\"author_id\"].unique():\n",
    "    sub_df = AGT[AGT[\"author_id\"]==author_id]\n",
    "    authors_dict = {}\n",
    "    authors_dict[\"author_id\"] = author_id\n",
    "    authors_dict[\"author\"] = sub_df[\"author\"][0]\n",
    "    authors_dict[\"n_titles\"] = len(sub_df)\n",
    "    authors_dict[\"titles\"] = sub_df[\"title\"].tolist()\n",
    "    authors_dict[\"filenames\"] = sub_df[\"filename\"].tolist()\n",
    "    authors_dict[\"wordcount\"] = sub_df[\"wordcount\"].sum()\n",
    "    authors_dict[\"lemmata_wordcount\"] = sub_df[\"lemmata_wordcount\"].sum()\n",
    "    authors_dict[\"n_sentences\"] = sub_df[\"n_sentences\"].sum()\n",
    "    probs_dict = {}\n",
    "    for d in sub_df[\"date_probs\"]:\n",
    "        probs_dict.update(d)\n",
    "    authors_dict[\"date_probs\"] = probs_dict\n",
    "    authors_dict[\"date_avr\"] = sub_df[\"date_avr\"].tolist()[0]\n",
    "    authors_dict[\"provenience\"] = sub_df[\"provenience\"].tolist()[0]\n",
    "    authors_dict[\"lemmata_lists\"] = sub_df[\"lemmata\"].tolist()\n",
    "    authors_dict[\"lemmatized_sentences\"] = get_flat_sentences(sub_df[\"lemmatized_sentences\"])\n",
    "    authors_dicts.append(authors_dict)\n",
    "    \n",
    "authors_df = pd.DataFrame(authors_dicts)\n",
    "authors_df.head(5)"
   ]
  },
  {
   "cell_type": "code",
   "execution_count": 35,
   "metadata": {},
   "outputs": [
    {
     "data": {
      "text/html": [
       "<div>\n",
       "<style scoped>\n",
       "    .dataframe tbody tr th:only-of-type {\n",
       "        vertical-align: middle;\n",
       "    }\n",
       "\n",
       "    .dataframe tbody tr th {\n",
       "        vertical-align: top;\n",
       "    }\n",
       "\n",
       "    .dataframe thead th {\n",
       "        text-align: right;\n",
       "    }\n",
       "</style>\n",
       "<table border=\"1\" class=\"dataframe\">\n",
       "  <thead>\n",
       "    <tr style=\"text-align: right;\">\n",
       "      <th></th>\n",
       "      <th>author_id</th>\n",
       "      <th>author</th>\n",
       "      <th>n_titles</th>\n",
       "      <th>titles</th>\n",
       "      <th>filenames</th>\n",
       "      <th>wordcount</th>\n",
       "      <th>lemmata_wordcount</th>\n",
       "      <th>n_sentences</th>\n",
       "      <th>date_probs</th>\n",
       "      <th>date_avr</th>\n",
       "      <th>provenience</th>\n",
       "      <th>lemmata_lists</th>\n",
       "      <th>lemmatized_sentences</th>\n",
       "    </tr>\n",
       "  </thead>\n",
       "  <tbody>\n",
       "    <tr>\n",
       "      <th>21</th>\n",
       "      <td>tlg0018</td>\n",
       "      <td>Philo Judaeus</td>\n",
       "      <td>31</td>\n",
       "      <td>[De opificio mundi, Legum allegoriarum libri i...</td>\n",
       "      <td>[tlg0018.tlg001.opp-grc1.xml, tlg0018.tlg002.o...</td>\n",
       "      <td>643011</td>\n",
       "      <td>304615</td>\n",
       "      <td>82966</td>\n",
       "      <td>{'-0.5': 0.5, '0.5': 0.5}</td>\n",
       "      <td>0.0</td>\n",
       "      <td>jewish</td>\n",
       "      <td>[[ἄλλος, νομοθέτης, ἀκαλλώπιστος, γυμνός, νομι...</td>\n",
       "      <td>[[ἄλλος, νομοθέτης, ἀκαλλώπιστος, γυμνός, νομι...</td>\n",
       "    </tr>\n",
       "    <tr>\n",
       "      <th>83</th>\n",
       "      <td>tlg0526</td>\n",
       "      <td>Flavius Josephus</td>\n",
       "      <td>4</td>\n",
       "      <td>[Antiquitates Judaicae, Josephi vita, Contra A...</td>\n",
       "      <td>[tlg0526.tlg001.perseus-grc1.xml, tlg0526.tlg0...</td>\n",
       "      <td>469580</td>\n",
       "      <td>240661</td>\n",
       "      <td>19707</td>\n",
       "      <td>{'0.5': 1}</td>\n",
       "      <td>0.5</td>\n",
       "      <td>jewish</td>\n",
       "      <td>[[ἱστορία, συγγράφω, βούλομαι, αὐτός, ὁράω, σπ...</td>\n",
       "      <td>[[ἱστορία, συγγράφω, βούλομαι, αὐτός, ὁράω, σπ...</td>\n",
       "    </tr>\n",
       "    <tr>\n",
       "      <th>84</th>\n",
       "      <td>tlg0527</td>\n",
       "      <td>Septuaginta</td>\n",
       "      <td>55</td>\n",
       "      <td>[Genesis, Exodus, Leviticus, Numeri, Deuterono...</td>\n",
       "      <td>[tlg0527.tlg001.opp-grc2.xml, tlg0527.tlg002.o...</td>\n",
       "      <td>799083</td>\n",
       "      <td>375155</td>\n",
       "      <td>57856</td>\n",
       "      <td>{}</td>\n",
       "      <td>NaN</td>\n",
       "      <td>jewish</td>\n",
       "      <td>[[εἰμί, ποιέω, θεός, οὐρανός, γῆ, γῆ, εἰμί, ἀό...</td>\n",
       "      <td>[[εἰμί, ποιέω, θεός, οὐρανός, γῆ], [γῆ, εἰμί, ...</td>\n",
       "    </tr>\n",
       "  </tbody>\n",
       "</table>\n",
       "</div>"
      ],
      "text/plain": [
       "   author_id            author  n_titles  \\\n",
       "21   tlg0018     Philo Judaeus        31   \n",
       "83   tlg0526  Flavius Josephus         4   \n",
       "84   tlg0527       Septuaginta        55   \n",
       "\n",
       "                                               titles  \\\n",
       "21  [De opificio mundi, Legum allegoriarum libri i...   \n",
       "83  [Antiquitates Judaicae, Josephi vita, Contra A...   \n",
       "84  [Genesis, Exodus, Leviticus, Numeri, Deuterono...   \n",
       "\n",
       "                                            filenames  wordcount  \\\n",
       "21  [tlg0018.tlg001.opp-grc1.xml, tlg0018.tlg002.o...     643011   \n",
       "83  [tlg0526.tlg001.perseus-grc1.xml, tlg0526.tlg0...     469580   \n",
       "84  [tlg0527.tlg001.opp-grc2.xml, tlg0527.tlg002.o...     799083   \n",
       "\n",
       "    lemmata_wordcount  n_sentences                 date_probs  date_avr  \\\n",
       "21             304615        82966  {'-0.5': 0.5, '0.5': 0.5}       0.0   \n",
       "83             240661        19707                 {'0.5': 1}       0.5   \n",
       "84             375155        57856                         {}       NaN   \n",
       "\n",
       "   provenience                                      lemmata_lists  \\\n",
       "21      jewish  [[ἄλλος, νομοθέτης, ἀκαλλώπιστος, γυμνός, νομι...   \n",
       "83      jewish  [[ἱστορία, συγγράφω, βούλομαι, αὐτός, ὁράω, σπ...   \n",
       "84      jewish  [[εἰμί, ποιέω, θεός, οὐρανός, γῆ, γῆ, εἰμί, ἀό...   \n",
       "\n",
       "                                 lemmatized_sentences  \n",
       "21  [[ἄλλος, νομοθέτης, ἀκαλλώπιστος, γυμνός, νομι...  \n",
       "83  [[ἱστορία, συγγράφω, βούλομαι, αὐτός, ὁράω, σπ...  \n",
       "84  [[εἰμί, ποιέω, θεός, οὐρανός, γῆ], [γῆ, εἰμί, ...  "
      ]
     },
     "execution_count": 35,
     "metadata": {},
     "output_type": "execute_result"
    }
   ],
   "source": [
    "authors_df[authors_df[\"provenience\"]==\"jewish\"]"
   ]
  },
  {
   "cell_type": "code",
   "execution_count": 36,
   "metadata": {},
   "outputs": [],
   "source": [
    "clean_titles = authors_df[\"titles\"].apply(lambda cell: [title.rpartition(\" - \")[2] for title in cell]) \n",
    "authors_df[\"titles\"] = clean_titles"
   ]
  },
  {
   "cell_type": "code",
   "execution_count": 37,
   "metadata": {},
   "outputs": [],
   "source": [
    "def fill_author(author, titles):\n",
    "    if author == None:\n",
    "        return titles[0]\n",
    "    else:\n",
    "        return author.partition(\",\")[0]\n",
    " \n",
    "clean_authors = authors_df.apply(lambda row: fill_author(row[\"author\"], row[\"titles\"]), axis=1)\n",
    "authors_df[\"author\"] = clean_authors"
   ]
  },
  {
   "cell_type": "code",
   "execution_count": 38,
   "metadata": {},
   "outputs": [],
   "source": [
    "authors_df.loc[authors_df[\"author_id\"]==\"tlg0031rest\", \"author\"] = \"GNT rest\" #, [\"author\"]] = "
   ]
  },
  {
   "cell_type": "code",
   "execution_count": 39,
   "metadata": {},
   "outputs": [],
   "source": [
    "authors_df.loc[authors_df[\"author_id\"]==\"tlg1484\", \"author\"] = \"Martyrium Polycarpi\"\n",
    "authors_df.loc[authors_df[\"author_id\"]==\"tlg1311\", \"author\"] = \"Didache\" #, [\"author\"]] = #, [\"author\"]] = "
   ]
  },
  {
   "cell_type": "code",
   "execution_count": 41,
   "metadata": {},
   "outputs": [
    {
     "data": {
      "text/plain": [
       "269"
      ]
     },
     "execution_count": 41,
     "metadata": {},
     "output_type": "execute_result"
    }
   ],
   "source": [
    "len(authors_df)"
   ]
  },
  {
   "cell_type": "code",
   "execution_count": 42,
   "metadata": {},
   "outputs": [],
   "source": [
    "# COUNT δικαιοσύνη IN SENTENCES\n",
    "def count_term_in_sents(lemmatized_sentences):\n",
    "    return sum([sent.count(\"δικαιοσύνη\") for sent in lemmatized_sentences])\n",
    "\n",
    "authors_df[\"dikaiosyne_N\"]  = authors_df[\"lemmatized_sentences\"].apply(count_term_in_sents)"
   ]
  },
  {
   "cell_type": "code",
   "execution_count": 43,
   "metadata": {},
   "outputs": [],
   "source": [
    "authors_df[\"dikaiosyne_TF\"]  = authors_df.apply(lambda row: row[\"dikaiosyne_N\"] / row[\"wordcount\"], axis=1)\n",
    "authors_df.sort_values(\"dikaiosyne_TF\", ascending=False, inplace=True)"
   ]
  },
  {
   "cell_type": "code",
   "execution_count": 44,
   "metadata": {
    "scrolled": false
   },
   "outputs": [
    {
     "data": {
      "text/html": [
       "<div>\n",
       "<style scoped>\n",
       "    .dataframe tbody tr th:only-of-type {\n",
       "        vertical-align: middle;\n",
       "    }\n",
       "\n",
       "    .dataframe tbody tr th {\n",
       "        vertical-align: top;\n",
       "    }\n",
       "\n",
       "    .dataframe thead th {\n",
       "        text-align: right;\n",
       "    }\n",
       "</style>\n",
       "<table border=\"1\" class=\"dataframe\">\n",
       "  <thead>\n",
       "    <tr style=\"text-align: right;\">\n",
       "      <th></th>\n",
       "      <th>author_id</th>\n",
       "      <th>author</th>\n",
       "      <th>n_titles</th>\n",
       "      <th>titles</th>\n",
       "      <th>filenames</th>\n",
       "      <th>wordcount</th>\n",
       "      <th>lemmata_wordcount</th>\n",
       "      <th>n_sentences</th>\n",
       "      <th>date_probs</th>\n",
       "      <th>date_avr</th>\n",
       "      <th>provenience</th>\n",
       "      <th>lemmata_lists</th>\n",
       "      <th>lemmatized_sentences</th>\n",
       "      <th>dikaiosyne_N</th>\n",
       "      <th>dikaiosyne_TF</th>\n",
       "    </tr>\n",
       "  </thead>\n",
       "  <tbody>\n",
       "  </tbody>\n",
       "</table>\n",
       "</div>"
      ],
      "text/plain": [
       "Empty DataFrame\n",
       "Columns: [author_id, author, n_titles, titles, filenames, wordcount, lemmata_wordcount, n_sentences, date_probs, date_avr, provenience, lemmata_lists, lemmatized_sentences, dikaiosyne_N, dikaiosyne_TF]\n",
       "Index: []"
      ]
     },
     "execution_count": 44,
     "metadata": {},
     "output_type": "execute_result"
    }
   ],
   "source": [
    "authors_df[authors_df[\"author\"].str.contains(\"Sal\")]"
   ]
  },
  {
   "cell_type": "code",
   "execution_count": 52,
   "metadata": {},
   "outputs": [
    {
     "data": {
      "text/html": [
       "<div>\n",
       "<style scoped>\n",
       "    .dataframe tbody tr th:only-of-type {\n",
       "        vertical-align: middle;\n",
       "    }\n",
       "\n",
       "    .dataframe tbody tr th {\n",
       "        vertical-align: top;\n",
       "    }\n",
       "\n",
       "    .dataframe thead th {\n",
       "        text-align: right;\n",
       "    }\n",
       "</style>\n",
       "<table border=\"1\" class=\"dataframe\">\n",
       "  <thead>\n",
       "    <tr style=\"text-align: right;\">\n",
       "      <th></th>\n",
       "      <th>author_id</th>\n",
       "      <th>author</th>\n",
       "      <th>n_titles</th>\n",
       "      <th>titles</th>\n",
       "      <th>filenames</th>\n",
       "      <th>wordcount</th>\n",
       "      <th>lemmata_wordcount</th>\n",
       "      <th>n_sentences</th>\n",
       "      <th>date_probs</th>\n",
       "      <th>date_avr</th>\n",
       "      <th>provenience</th>\n",
       "      <th>lemmata_lists</th>\n",
       "      <th>lemmatized_sentences</th>\n",
       "      <th>dikaiosyne_N</th>\n",
       "      <th>dikaiosyne_TF</th>\n",
       "      <th>G_sents</th>\n",
       "      <th>G_lems</th>\n",
       "    </tr>\n",
       "  </thead>\n",
       "  <tbody>\n",
       "    <tr>\n",
       "      <th>70</th>\n",
       "      <td>tlg0096</td>\n",
       "      <td>Aesop</td>\n",
       "      <td>1</td>\n",
       "      <td>[Fabulae]</td>\n",
       "      <td>[tlg0096.tlg002.First1K-grc1.xml]</td>\n",
       "      <td>39492</td>\n",
       "      <td>21577</td>\n",
       "      <td>3333</td>\n",
       "      <td>{'-5.5': 1}</td>\n",
       "      <td>-5.5</td>\n",
       "      <td>pagan</td>\n",
       "      <td>[[ἀγαθός, πᾶς, κακός, διώκω, ἀσθενής, εἰμί, οὐ...</td>\n",
       "      <td>[[ἀγαθός, πᾶς, κακός, διώκω, ἀσθενής, εἰμί], [...</td>\n",
       "      <td>2</td>\n",
       "      <td>0.000051</td>\n",
       "      <td>(μονικοὶ, στ, συνεθισμένοις, περιεχούσης, δίκα...</td>\n",
       "      <td>(βαρύς, ὀξύς, πυκνός, εἰμί, οὗτος, φανερός, γέ...</td>\n",
       "    </tr>\n",
       "    <tr>\n",
       "      <th>1</th>\n",
       "      <td>tlg0003</td>\n",
       "      <td>Thucydides</td>\n",
       "      <td>1</td>\n",
       "      <td>[The Peloponnesian War]</td>\n",
       "      <td>[tlg0003.tlg001.perseus-grc2.xml]</td>\n",
       "      <td>150118</td>\n",
       "      <td>71863</td>\n",
       "      <td>6068</td>\n",
       "      <td>{'-4.5': 1}</td>\n",
       "      <td>-4.5</td>\n",
       "      <td>pagan</td>\n",
       "      <td>[[θουκυδίδης, Ἀθηναῖος, συγγράφω, πόλεμος, Πελ...</td>\n",
       "      <td>[[θουκυδίδης, Ἀθηναῖος, συγγράφω, πόλεμος, Πελ...</td>\n",
       "      <td>1</td>\n",
       "      <td>0.000007</td>\n",
       "      <td>()</td>\n",
       "      <td>(ναῦς, Ἀθηναῖος, πολύς, ὕστερος, εἰμί, πολέμιο...</td>\n",
       "    </tr>\n",
       "    <tr>\n",
       "      <th>19</th>\n",
       "      <td>tlg0016</td>\n",
       "      <td>Herodotus</td>\n",
       "      <td>1</td>\n",
       "      <td>[The Histories]</td>\n",
       "      <td>[tlg0016.tlg001.perseus-grc2.xml]</td>\n",
       "      <td>184947</td>\n",
       "      <td>94799</td>\n",
       "      <td>10149</td>\n",
       "      <td>{'-4.5': 1}</td>\n",
       "      <td>-4.5</td>\n",
       "      <td>pagan</td>\n",
       "      <td>[[Ἡρόδοτος, Ἁλικαρνασσεύς, ἱστορία, ἀπόδειξις,...</td>\n",
       "      <td>[[Ἡρόδοτος, Ἁλικαρνασσεύς, ἱστορία, ἀπόδειξις,...</td>\n",
       "      <td>8</td>\n",
       "      <td>0.000043</td>\n",
       "      <td>()</td>\n",
       "      <td>(λέγω, οὗτος, ποιέω, εἰμί, ὄνομα, γίγνομαι, λό...</td>\n",
       "    </tr>\n",
       "    <tr>\n",
       "      <th>89</th>\n",
       "      <td>tlg0540</td>\n",
       "      <td>Lysias</td>\n",
       "      <td>34</td>\n",
       "      <td>[On the Murder of Eratosthenes, Funeral Oratio...</td>\n",
       "      <td>[tlg0540.tlg001.perseus-grc2.xml, tlg0540.tlg0...</td>\n",
       "      <td>58875</td>\n",
       "      <td>28254</td>\n",
       "      <td>4258</td>\n",
       "      <td>{'-4.5': 0.5, '-3.5': 0.5}</td>\n",
       "      <td>-4.0</td>\n",
       "      <td>pagan</td>\n",
       "      <td>[[πολύς, ποιέω, ἀνήρ, τοιοῦτος, δικαστής, οὗτο...</td>\n",
       "      <td>[[πολύς, ποιέω, ἀνήρ, τοιοῦτος, δικαστής, οὗτο...</td>\n",
       "      <td>2</td>\n",
       "      <td>0.000034</td>\n",
       "      <td>()</td>\n",
       "      <td>(κύριος, λέγω, θεός, υἱός, Ἰσραήλ, βασιλεύς, ο...</td>\n",
       "    </tr>\n",
       "    <tr>\n",
       "      <th>38</th>\n",
       "      <td>tlg0032</td>\n",
       "      <td>Xenophon</td>\n",
       "      <td>14</td>\n",
       "      <td>[Hellenica, Memorabilia, Economics, Symposium,...</td>\n",
       "      <td>[tlg0032.tlg001.perseus-grc2.xml, tlg0032.tlg0...</td>\n",
       "      <td>312187</td>\n",
       "      <td>150357</td>\n",
       "      <td>18988</td>\n",
       "      <td>{'-4.5': 0.5, '-3.5': 0.5}</td>\n",
       "      <td>-4.0</td>\n",
       "      <td>pagan</td>\n",
       "      <td>[[οὗτος, πολύς, ἡμέρα, ὕστερος, ἔρχομαι, Ἀθῆνα...</td>\n",
       "      <td>[[οὗτος, πολύς, ἡμέρα, ὕστερος, ἔρχομαι, Ἀθῆνα...</td>\n",
       "      <td>35</td>\n",
       "      <td>0.000112</td>\n",
       "      <td>(καταβαίνω, πᾶς, δίκαιος, κλύδων, πηγή, ἵστημι...</td>\n",
       "      <td>(ἔργον, ἔχω, πίστις, καταλαλέω, ἀδελφός, ἀγαπη...</td>\n",
       "    </tr>\n",
       "    <tr>\n",
       "      <th>122</th>\n",
       "      <td>tlg0627</td>\n",
       "      <td>Hippocrates</td>\n",
       "      <td>52</td>\n",
       "      <td>[On Ancient Medicine, De aere aquis et locis ,...</td>\n",
       "      <td>[tlg0627.tlg001.perseus-grc1.xml, tlg0627.tlg0...</td>\n",
       "      <td>333443</td>\n",
       "      <td>171332</td>\n",
       "      <td>24456</td>\n",
       "      <td>{'-4.5': 0.5, '-3.5': 0.5}</td>\n",
       "      <td>-4.0</td>\n",
       "      <td>pagan</td>\n",
       "      <td>[[ὁπόσος, ἐπιχειρέω, ἰητρικῆς, λέγω, γράφω, ὑπ...</td>\n",
       "      <td>[[ὁπόσος, ἐπιχειρέω, ἰητρικῆς, λέγω, γράφω, ὑπ...</td>\n",
       "      <td>2</td>\n",
       "      <td>0.000006</td>\n",
       "      <td>()</td>\n",
       "      <td>(εἰμί, οὗτος, λέγω, πολύς, τοιοῦτος, φημί, οὐδ...</td>\n",
       "    </tr>\n",
       "    <tr>\n",
       "      <th>45</th>\n",
       "      <td>tlg0059</td>\n",
       "      <td>Plato</td>\n",
       "      <td>37</td>\n",
       "      <td>[Euthyphro, Apology, Crito, Phaedo, Cratylus, ...</td>\n",
       "      <td>[tlg0059.tlg001.perseus-grc1.xml, tlg0059.tlg0...</td>\n",
       "      <td>574294</td>\n",
       "      <td>272931</td>\n",
       "      <td>52384</td>\n",
       "      <td>{'-4.5': 0.5, '-3.5': 0.5}</td>\n",
       "      <td>-4.0</td>\n",
       "      <td>pagan</td>\n",
       "      <td>[[ευθ, νέος, Σωκράτης, γίγνομαι, λύκειον, κατα...</td>\n",
       "      <td>[[ευθ], [νέος, Σωκράτης, γίγνομαι, λύκειον, κα...</td>\n",
       "      <td>267</td>\n",
       "      <td>0.000465</td>\n",
       "      <td>(κατεγνωσμένον, περιγίγνομαι, δίκαιος, λεωκράτ...</td>\n",
       "      <td>(εἰμί, οὗτος, ἀγαθός, ἀνήρ, πόλις, ἔνοχος, ἄξι...</td>\n",
       "    </tr>\n",
       "    <tr>\n",
       "      <th>7</th>\n",
       "      <td>tlg0010</td>\n",
       "      <td>Isocrates</td>\n",
       "      <td>30</td>\n",
       "      <td>[Against Euthynus, Against Callimachus, Agains...</td>\n",
       "      <td>[tlg0010.tlg001.perseus-grc2.xml, tlg0010.tlg0...</td>\n",
       "      <td>119155</td>\n",
       "      <td>56497</td>\n",
       "      <td>4681</td>\n",
       "      <td>{'-4.5': 0.5, '-3.5': 0.5}</td>\n",
       "      <td>-4.0</td>\n",
       "      <td>pagan</td>\n",
       "      <td>[[πρόφασις, ἀπορέω, λέγω, νικίου, οὗτος, φίλος...</td>\n",
       "      <td>[[πρόφασις, ἀπορέω, λέγω, νικίου, οὗτος], [φίλ...</td>\n",
       "      <td>43</td>\n",
       "      <td>0.000361</td>\n",
       "      <td>()</td>\n",
       "      <td>(οὗτος, ἔχω, γνώμη, λόγος, ποιέω, εἰμί, λέγω, ...</td>\n",
       "    </tr>\n",
       "    <tr>\n",
       "      <th>17</th>\n",
       "      <td>tlg0014</td>\n",
       "      <td>Demosthenes</td>\n",
       "      <td>63</td>\n",
       "      <td>[Ὀλυνθιακὸς α΄, Ὀλυνθιακὸς β΄, Ὀλυνθιακὸς γ΄, ...</td>\n",
       "      <td>[tlg0014.tlg001.perseus-grc2.xml, tlg0014.tlg0...</td>\n",
       "      <td>294362</td>\n",
       "      <td>143390</td>\n",
       "      <td>14564</td>\n",
       "      <td>{'-3.5': 1}</td>\n",
       "      <td>-3.5</td>\n",
       "      <td>pagan</td>\n",
       "      <td>[[πολύς, ἀνήρ, Ἀθηναῖος, χρῆμα, αἱρέω, νομίζω,...</td>\n",
       "      <td>[[πολύς, ἀνήρ, Ἀθηναῖος, χρῆμα, αἱρέω, νομίζω,...</td>\n",
       "      <td>11</td>\n",
       "      <td>0.000037</td>\n",
       "      <td>()</td>\n",
       "      <td>(ἀνήρ, Ἀθηναῖος, δικαστής, εἰμί, οὗτος, λέγω, ...</td>\n",
       "    </tr>\n",
       "    <tr>\n",
       "      <th>63</th>\n",
       "      <td>tlg0086</td>\n",
       "      <td>Aristotle</td>\n",
       "      <td>35</td>\n",
       "      <td>[Aristotelis Analytica Priora et Posteriora, D...</td>\n",
       "      <td>[tlg0086.tlg001.1st1K-grc2.xml, tlg0086.tlg002...</td>\n",
       "      <td>840271</td>\n",
       "      <td>367848</td>\n",
       "      <td>60282</td>\n",
       "      <td>{'-3.5': 1}</td>\n",
       "      <td>-3.5</td>\n",
       "      <td>pagan</td>\n",
       "      <td>[[πρῶτος, λέγω, εἰμί, σκέψις, ἀπόδειξις, ἐπιστ...</td>\n",
       "      <td>[[πρῶτος, λέγω, εἰμί, σκέψις, ἀπόδειξις, ἐπιστ...</td>\n",
       "      <td>162</td>\n",
       "      <td>0.000193</td>\n",
       "      <td>()</td>\n",
       "      <td>(λέγω, οὗτος, εἰμί, πολύς, ἄλλος, γίγνομαι, δε...</td>\n",
       "    </tr>\n",
       "    <tr>\n",
       "      <th>30</th>\n",
       "      <td>tlg0030</td>\n",
       "      <td>Hyperides</td>\n",
       "      <td>6</td>\n",
       "      <td>[In Defence of Lycophron , Against Philippides...</td>\n",
       "      <td>[tlg0030.tlg001.perseus-grc1.xml, tlg0030.tlg0...</td>\n",
       "      <td>12025</td>\n",
       "      <td>5939</td>\n",
       "      <td>1392</td>\n",
       "      <td>{'-3.5': 1}</td>\n",
       "      <td>-3.5</td>\n",
       "      <td></td>\n",
       "      <td>[[ἴδιος, ἕκαστος, νόμος, ὅρκος, κελεύω, ἀκούω,...</td>\n",
       "      <td>[[], [ἴδιος, ἕκαστος, νόμος, ὅρκος, κελεύω, ἀκ...</td>\n",
       "      <td>1</td>\n",
       "      <td>0.000083</td>\n",
       "      <td>(πολλυχ, περιγίγνομαι, δίκαιος, εὔνοιανεὔνοιαν...</td>\n",
       "      <td>(δικαστής, ἀνήρ, δεῖ, οἴομαι, λόγος, ποιέω, εἰ...</td>\n",
       "    </tr>\n",
       "    <tr>\n",
       "      <th>26</th>\n",
       "      <td>tlg0026</td>\n",
       "      <td>Aeschines</td>\n",
       "      <td>4</td>\n",
       "      <td>[Against Timarchus , The Speech on the Embassy...</td>\n",
       "      <td>[tlg0026.tlg001.perseus-grc1.xml, tlg0026.tlg0...</td>\n",
       "      <td>51409</td>\n",
       "      <td>25086</td>\n",
       "      <td>3469</td>\n",
       "      <td>{'-3.5': 1}</td>\n",
       "      <td>-3.5</td>\n",
       "      <td></td>\n",
       "      <td>[[οὐδείς, πολίτης, ἀνήρ, Ἀθηναῖος, γραφή, γραψ...</td>\n",
       "      <td>[[οὐδείς, πολίτης, ἀνήρ, Ἀθηναῖος, γραφή, γραψ...</td>\n",
       "      <td>4</td>\n",
       "      <td>0.000078</td>\n",
       "      <td>(προναίᾳπροναίᾳ, Δορίσκος, περιγίγνομαι, δυστυ...</td>\n",
       "      <td>(ἀνήρ, Ἀθηναῖος, λέγω, ἀληθής, εἰμί, οὗτος, γρ...</td>\n",
       "    </tr>\n",
       "    <tr>\n",
       "      <th>50</th>\n",
       "      <td>tlg0066</td>\n",
       "      <td>Ps. Dicaearchus</td>\n",
       "      <td>1</td>\n",
       "      <td>[Dicaearchi, ut fertur, potius vero Athenaei D...</td>\n",
       "      <td>[tlg0066.tlg001.1st1K-grc1.xml]</td>\n",
       "      <td>2757</td>\n",
       "      <td>1434</td>\n",
       "      <td>207</td>\n",
       "      <td>{'-3.5': 1}</td>\n",
       "      <td>-3.5</td>\n",
       "      <td></td>\n",
       "      <td>[[Ἀθήναιος, ἔπειμι, ἄστυ, ὁδός, ἡδύς, γεωργουμ...</td>\n",
       "      <td>[[Ἀθήναιος, ἔπειμι, ἄστυ], [ὁδός, ἡδύς, γεωργο...</td>\n",
       "      <td>1</td>\n",
       "      <td>0.000363</td>\n",
       "      <td>()</td>\n",
       "      <td>(εἰμί, οὗτος, λέγω, σός, φημί, νε, ἀληθής, ἄλλ...</td>\n",
       "    </tr>\n",
       "    <tr>\n",
       "      <th>29</th>\n",
       "      <td>tlg0029</td>\n",
       "      <td>Dinarchus</td>\n",
       "      <td>3</td>\n",
       "      <td>[Against Demosthenes , Against Aristogiton , A...</td>\n",
       "      <td>[tlg0029.tlg004.perseus-grc1.xml, tlg0029.tlg0...</td>\n",
       "      <td>12101</td>\n",
       "      <td>5902</td>\n",
       "      <td>1285</td>\n",
       "      <td>{'-3.5': 0.5, '-2.5': 0.5}</td>\n",
       "      <td>-3.0</td>\n",
       "      <td></td>\n",
       "      <td>[[δημαγωγός, Ἀθηναῖος, θάνατος, τετιμημένος, ἐ...</td>\n",
       "      <td>[[δημαγωγός, Ἀθηναῖος, θάνατος, τετιμημένος, ἐ...</td>\n",
       "      <td>3</td>\n",
       "      <td>0.000248</td>\n",
       "      <td>(ταυροσθένην, δίκαιος, διανέμω, ἡγεῖταιἡγεῖται...</td>\n",
       "      <td>(πάγος, Ἄρειας, βουλή, δῶρον, λαμβάνω, εἰμί, ο...</td>\n",
       "    </tr>\n",
       "    <tr>\n",
       "      <th>68</th>\n",
       "      <td>tlg0093</td>\n",
       "      <td>Theophrastus</td>\n",
       "      <td>9</td>\n",
       "      <td>[Concerning Odours, Enquiry into Plants, Enqui...</td>\n",
       "      <td>[tlg0093.ogl001.1st1K-grc1.xml, tlg0093.ogl002...</td>\n",
       "      <td>135499</td>\n",
       "      <td>59617</td>\n",
       "      <td>17454</td>\n",
       "      <td>{'-3.5': 0.5, '-2.5': 0.5}</td>\n",
       "      <td>-3.0</td>\n",
       "      <td>pagan</td>\n",
       "      <td>[[ι, ὀσμή, ὅλος, μίξεώς, χυμός, ἄμικτος, ἅπας,...</td>\n",
       "      <td>[[ι], [ὀσμή, ὅλος, μίξεώς, χυμός], [ἄμικτος, ἅ...</td>\n",
       "      <td>1</td>\n",
       "      <td>0.000007</td>\n",
       "      <td>()</td>\n",
       "      <td>(εἰμί, οὗτος, λέγω, πᾶς, οἷος, ἕτερος, ἔχω, πρ...</td>\n",
       "    </tr>\n",
       "    <tr>\n",
       "      <th>155</th>\n",
       "      <td>tlg1264</td>\n",
       "      <td>Chrysippus</td>\n",
       "      <td>1</td>\n",
       "      <td>[Fragmenta Logica et Physica]</td>\n",
       "      <td>[tlg1264.tlg001.1st1K-grc1.xml]</td>\n",
       "      <td>113869</td>\n",
       "      <td>46339</td>\n",
       "      <td>16457</td>\n",
       "      <td>{'-2.5': 1}</td>\n",
       "      <td>-2.5</td>\n",
       "      <td></td>\n",
       "      <td>[[χρύσιππος, Ἀπολλώνιος, σολεὺς, Ταρσεύς, Ἀλέξ...</td>\n",
       "      <td>[[], [], [], [χρύσιππος, Ἀπολλώνιος, σολεὺς, Τ...</td>\n",
       "      <td>13</td>\n",
       "      <td>0.000114</td>\n",
       "      <td>(ἐῤῥάγη, ἄθεος, παράκειμαι, δίκαιος, διανέμω, ...</td>\n",
       "      <td>(εἰμί, θεός, φύσις, ἄνθρωπος, γίγνομαι, σῶμα, ...</td>\n",
       "    </tr>\n",
       "    <tr>\n",
       "      <th>128</th>\n",
       "      <td>tlg0644</td>\n",
       "      <td>Aristophanes of Byzantium</td>\n",
       "      <td>1</td>\n",
       "      <td>[Historiae Animalium Epitome]</td>\n",
       "      <td>[tlg0644.tlg001.1st1K-grc1.xml]</td>\n",
       "      <td>67782</td>\n",
       "      <td>30376</td>\n",
       "      <td>11886</td>\n",
       "      <td>{'-2.5': 0.5, '-1.5': 0.5}</td>\n",
       "      <td>-2.0</td>\n",
       "      <td></td>\n",
       "      <td>[[συλλογή, ζῷον, ἱστορία, χερσαῖος, πτηνός, θα...</td>\n",
       "      <td>[[συλλογή, ζῷον, ἱστορία, χερσαῖος, πτηνός, θα...</td>\n",
       "      <td>1</td>\n",
       "      <td>0.000015</td>\n",
       "      <td>(χρῆσις, περιγίγνομαι, πᾶς, δίκαιος, προθέμενο...</td>\n",
       "      <td>(εἰμί, ἄξιος, δίκη, νόμος, λόγος, οὗτος, αὐτός...</td>\n",
       "    </tr>\n",
       "    <tr>\n",
       "      <th>92</th>\n",
       "      <td>tlg0543</td>\n",
       "      <td>Polybius</td>\n",
       "      <td>1</td>\n",
       "      <td>[Histories]</td>\n",
       "      <td>[tlg0543.tlg001.perseus-grc2.xml]</td>\n",
       "      <td>312715</td>\n",
       "      <td>149727</td>\n",
       "      <td>12964</td>\n",
       "      <td>{'-2.5': 0.5, '-1.5': 0.5}</td>\n",
       "      <td>-2.0</td>\n",
       "      <td>pagan</td>\n",
       "      <td>[[ἀναγράφω, πρᾶξις, παραλείπω, συμβαίνω, ἱστορ...</td>\n",
       "      <td>[[ἀναγράφω, πρᾶξις, παραλείπω, συμβαίνω, ἱστορ...</td>\n",
       "      <td>1</td>\n",
       "      <td>0.000003</td>\n",
       "      <td>(χιών, λίπος, φυγοῦσαι, σφέτερος, λούσων, θεμέ...</td>\n",
       "      <td>(προπέτεια, ἐάω, οὗτος, φίλος, πούς, φέρω, λέγ...</td>\n",
       "    </tr>\n",
       "    <tr>\n",
       "      <th>51</th>\n",
       "      <td>tlg0067</td>\n",
       "      <td>Agatharchides</td>\n",
       "      <td>1</td>\n",
       "      <td>[Ex Agatharchidis De Maris Erythraeo Libri Exc...</td>\n",
       "      <td>[tlg0067.tlg001.1st1K-grc1.xml]</td>\n",
       "      <td>24227</td>\n",
       "      <td>12518</td>\n",
       "      <td>1430</td>\n",
       "      <td>{'-1.5': 1}</td>\n",
       "      <td>-1.5</td>\n",
       "      <td></td>\n",
       "      <td>[[ἐρυθρός, θάλασσα, ἐκλογή, ἀνεγνώσθησαν, ἀγαθ...</td>\n",
       "      <td>[[ἐρυθρός, θάλασσα, ἐκλογή], [ἀνεγνώσθησαν, ἀγ...</td>\n",
       "      <td>1</td>\n",
       "      <td>0.000041</td>\n",
       "      <td>()</td>\n",
       "      <td>(οὗτος, πράσσω, καθίστημι, ὕπατος, πολύς, ἀναι...</td>\n",
       "    </tr>\n",
       "    <tr>\n",
       "      <th>168</th>\n",
       "      <td>tlg1463</td>\n",
       "      <td>Liber Enoch</td>\n",
       "      <td>1</td>\n",
       "      <td>[Apocalypsis Enochi]</td>\n",
       "      <td>[tlg1463.tlg001.opp-grc1.xml]</td>\n",
       "      <td>10916</td>\n",
       "      <td>3758</td>\n",
       "      <td>1356</td>\n",
       "      <td>{'-1.5': 0.5, '-0.5': 0.5}</td>\n",
       "      <td>-1.0</td>\n",
       "      <td></td>\n",
       "      <td>[[λόγος, εὐλογία, ἐνώχ, εὐλογέω, ἐκλεκτός, δίκ...</td>\n",
       "      <td>[[λόγος, εὐλογία, ἐνώχ, εὐλογέω, ἐκλεκτός, δίκ...</td>\n",
       "      <td>7</td>\n",
       "      <td>0.000641</td>\n",
       "      <td>(Ἐρεχθεύς, στασιάζοντες, γηράσκω, πᾶς, συνοικἦ...</td>\n",
       "      <td>(τρωτός, Ἴων, Θεμιστοκλῆς, ἀριστείδης, πολιτεί...</td>\n",
       "    </tr>\n",
       "    <tr>\n",
       "      <th>172</th>\n",
       "      <td>tlg1551</td>\n",
       "      <td>Oracula Sibyllina</td>\n",
       "      <td>2</td>\n",
       "      <td>[Oracula, Fragmenta]</td>\n",
       "      <td>[tlg1551.tlg001.opp-grc1.xml, tlg1551.tlg002.o...</td>\n",
       "      <td>75378</td>\n",
       "      <td>33406</td>\n",
       "      <td>20577</td>\n",
       "      <td>{'-1.5': 0.1667, '-0.5': 0.1667, '0.5': 0.1667...</td>\n",
       "      <td>-1.0</td>\n",
       "      <td></td>\n",
       "      <td>[[ἀνάγνωσις, Ἑλληνικός, γραφή, ἐκπονέω, πολύς,...</td>\n",
       "      <td>[[ἀνάγνωσις, Ἑλληνικός, γραφή, ἐκπονέω, πολύς,...</td>\n",
       "      <td>2</td>\n",
       "      <td>0.000027</td>\n",
       "      <td>(ὀνειροπόμπους, εἰσηγήσαντο, ἀλληγορία, φορτίζ...</td>\n",
       "      <td>(εἰμί, λέγω, ἄνθρωπος, ἐκκλησία, οὗτος, Χριστό...</td>\n",
       "    </tr>\n",
       "    <tr>\n",
       "      <th>173</th>\n",
       "      <td>tlg1595</td>\n",
       "      <td>Philodemus</td>\n",
       "      <td>2</td>\n",
       "      <td>[De Musica Librorum Quae Exstant, Volumina Rhe...</td>\n",
       "      <td>[tlg1595.tlg221.1st1K-grc1.xml, tlg1595.tlg370...</td>\n",
       "      <td>27090</td>\n",
       "      <td>10261</td>\n",
       "      <td>6415</td>\n",
       "      <td>{'-0.5': 1}</td>\n",
       "      <td>-0.5</td>\n",
       "      <td></td>\n",
       "      <td>[[εἰμί, σικὴν, εὐλάβεια, δέω, πᾶς, εἰκών, ἁμαρ...</td>\n",
       "      <td>[[], [], [], [], [εἰμί, σικὴν], [εὐλάβεια], []...</td>\n",
       "      <td>1</td>\n",
       "      <td>0.000037</td>\n",
       "      <td>(χιών, ἐξεληλυθότα, καταβαίνω, ζακιήλ, ὀπός, π...</td>\n",
       "      <td>(υἱός, ἄνθρωπος, κρίσις, ἡμέρα, ἄγγελος, ἅγιος...</td>\n",
       "    </tr>\n",
       "    <tr>\n",
       "      <th>46</th>\n",
       "      <td>tlg0060</td>\n",
       "      <td>Diodorus Siculus</td>\n",
       "      <td>1</td>\n",
       "      <td>[Library (Greek). Machine readable text]</td>\n",
       "      <td>[tlg0060.tlg001.perseus-grc3.xml]</td>\n",
       "      <td>182969</td>\n",
       "      <td>96152</td>\n",
       "      <td>8491</td>\n",
       "      <td>{'-0.5': 1}</td>\n",
       "      <td>-0.5</td>\n",
       "      <td></td>\n",
       "      <td>[[Ξέρξης, διάβασις, Εὐρώπη, μάχη, Θερμοπύλαι, ...</td>\n",
       "      <td>[[Ξέρξης, διάβασις, Εὐρώπη], [μάχη, Θερμοπύλαι...</td>\n",
       "      <td>6</td>\n",
       "      <td>0.000033</td>\n",
       "      <td>(ἐρωή, μελίξεται, καταβαίνω, κηδεμών, ἰφικλέης...</td>\n",
       "      <td>(Σικελικός, ἄρχω, πένθος, Μοῦσα, σός, χεῖλος, ...</td>\n",
       "    </tr>\n",
       "    <tr>\n",
       "      <th>154</th>\n",
       "      <td>tlg1252</td>\n",
       "      <td>Certamen Homeri et Hesiodi</td>\n",
       "      <td>1</td>\n",
       "      <td>[Certamen Homeri et Hesiodi]</td>\n",
       "      <td>[tlg1252.tlg002.1st1K-grc1.xml]</td>\n",
       "      <td>3159</td>\n",
       "      <td>1641</td>\n",
       "      <td>504</td>\n",
       "      <td>{'-2.5': 0.5, '1.5': 0.5}</td>\n",
       "      <td>-0.5</td>\n",
       "      <td></td>\n",
       "      <td>[[α, ὅμηρος, Ἡσίοδος, θεῖος, ποιητός, ἄνθρωπος...</td>\n",
       "      <td>[[], [], [α], [], [], [], [], [], [], [], [ὅμη...</td>\n",
       "      <td>1</td>\n",
       "      <td>0.000317</td>\n",
       "      <td>(πᾶς, ἐλλείπω, τόπος, διεξέρχομαι, γράφω, ἐπίν...</td>\n",
       "      <td>(λόγος, ἔχω, μέγας, εἰμί, ἐλάσσων, διάμετρος, ...</td>\n",
       "    </tr>\n",
       "    <tr>\n",
       "      <th>58</th>\n",
       "      <td>tlg0081</td>\n",
       "      <td>Dionysius of Halicarnassus</td>\n",
       "      <td>13</td>\n",
       "      <td>[Antiquitates Romanae, Books I-XX, De antiquis...</td>\n",
       "      <td>[tlg0081.tlg001.perseus-grc1.xml, tlg0081.tlg0...</td>\n",
       "      <td>379979</td>\n",
       "      <td>195769</td>\n",
       "      <td>15448</td>\n",
       "      <td>{'-0.5': 1}</td>\n",
       "      <td>-0.5</td>\n",
       "      <td></td>\n",
       "      <td>[[ἔθω, ἀποδίδωμι, προοίμιον, ἱστορία, λόγος, β...</td>\n",
       "      <td>[[ἔθω, ἀποδίδωμι, προοίμιον, ἱστορία, λόγος, β...</td>\n",
       "      <td>20</td>\n",
       "      <td>0.000053</td>\n",
       "      <td>(ἱερόν, Φωκίς, μαγνησίαν, ὀγδοήκοντα, μαντεῖον...</td>\n",
       "      <td>(λιμήν, ἔχω, εἰμί, ἡμέρα, ποταμός, παράπλοος, ...</td>\n",
       "    </tr>\n",
       "    <tr>\n",
       "      <th>118</th>\n",
       "      <td>tlg0613</td>\n",
       "      <td>Demetrius of Phaleron (attributed author)</td>\n",
       "      <td>1</td>\n",
       "      <td>[Libro de Elocutione]</td>\n",
       "      <td>[tlg0613.tlg001.perseus-grc1.xml]</td>\n",
       "      <td>15450</td>\n",
       "      <td>7507</td>\n",
       "      <td>960</td>\n",
       "      <td>{'-0.5': 0.5, '0.5': 0.5}</td>\n",
       "      <td>0.0</td>\n",
       "      <td></td>\n",
       "      <td>[[ποίησις, διαιρέω, μέτρον, οἷος, ἡμιμέτροις, ...</td>\n",
       "      <td>[[ποίησις, διαιρέω, μέτρον, οἷος, ἡμιμέτροις, ...</td>\n",
       "      <td>1</td>\n",
       "      <td>0.000065</td>\n",
       "      <td>(πᾶς, δίκαιος, ἁπλόος, ὑμός, γράφω, πηγή, κερά...</td>\n",
       "      <td>(λαμβάνω, προοίμιον, δικανικός, λόγος, λέγω, ο...</td>\n",
       "    </tr>\n",
       "    <tr>\n",
       "      <th>21</th>\n",
       "      <td>tlg0018</td>\n",
       "      <td>Philo Judaeus</td>\n",
       "      <td>31</td>\n",
       "      <td>[De opificio mundi, Legum allegoriarum libri i...</td>\n",
       "      <td>[tlg0018.tlg001.opp-grc1.xml, tlg0018.tlg002.o...</td>\n",
       "      <td>643011</td>\n",
       "      <td>304615</td>\n",
       "      <td>82966</td>\n",
       "      <td>{'-0.5': 0.5, '0.5': 0.5}</td>\n",
       "      <td>0.0</td>\n",
       "      <td>jewish</td>\n",
       "      <td>[[ἄλλος, νομοθέτης, ἀκαλλώπιστος, γυμνός, νομι...</td>\n",
       "      <td>[[ἄλλος, νομοθέτης, ἀκαλλώπιστος, γυμνός, νομι...</td>\n",
       "      <td>157</td>\n",
       "      <td>0.000244</td>\n",
       "      <td>()</td>\n",
       "      <td>(εἰμί, οὗτος, σῶμα, ψυχή, θεός, λέγω, γένος, ἄ...</td>\n",
       "    </tr>\n",
       "    <tr>\n",
       "      <th>71</th>\n",
       "      <td>tlg0099</td>\n",
       "      <td>Strabo</td>\n",
       "      <td>1</td>\n",
       "      <td>[Geography]</td>\n",
       "      <td>[tlg0099.tlg001.perseus-grc2.xml]</td>\n",
       "      <td>288401</td>\n",
       "      <td>139516</td>\n",
       "      <td>16245</td>\n",
       "      <td>{'-0.5': 0.5, '0.5': 0.5}</td>\n",
       "      <td>0.0</td>\n",
       "      <td>pagan</td>\n",
       "      <td>[[φιλόσοφος, πραγματεία, εἰμί, νομίζω, ἄλλος, ...</td>\n",
       "      <td>[[φιλόσοφος, πραγματεία, εἰμί, νομίζω, ἄλλος, ...</td>\n",
       "      <td>5</td>\n",
       "      <td>0.000017</td>\n",
       "      <td>(Ἆσσος)</td>\n",
       "      <td>()</td>\n",
       "    </tr>\n",
       "    <tr>\n",
       "      <th>123</th>\n",
       "      <td>tlg0628</td>\n",
       "      <td>Musonius Rufus</td>\n",
       "      <td>2</td>\n",
       "      <td>[Fragmenta minora, Epistulae spuriae]</td>\n",
       "      <td>[tlg0628.tlg002.1st1K-grc1.xml, tlg0628.tlg003...</td>\n",
       "      <td>2518</td>\n",
       "      <td>1153</td>\n",
       "      <td>129</td>\n",
       "      <td>{'0.5': 1}</td>\n",
       "      <td>0.5</td>\n",
       "      <td></td>\n",
       "      <td>[[ἐνεστηκυῖαν, ἡμέρα, βιόω, προθέμενον, ἔσχατο...</td>\n",
       "      <td>[[ἐνεστηκυῖαν, ἡμέρα, βιόω, προθέμενον, ἔσχατο...</td>\n",
       "      <td>1</td>\n",
       "      <td>0.000397</td>\n",
       "      <td>(κοσμούμενον, παρυσάτιν, χιών, ἀλληγορία, παρά...</td>\n",
       "      <td>(εἰμί, περίοδος, δεινός, αὐτός, ποιέω, τοιοῦτο...</td>\n",
       "    </tr>\n",
       "    <tr>\n",
       "      <th>31</th>\n",
       "      <td>tlg0031matt</td>\n",
       "      <td>Matthew</td>\n",
       "      <td>1</td>\n",
       "      <td>[Matthew]</td>\n",
       "      <td>[tlg0031.tlg001.perseus-grc2.xml]</td>\n",
       "      <td>18288</td>\n",
       "      <td>8526</td>\n",
       "      <td>1276</td>\n",
       "      <td>{'0.5': 1}</td>\n",
       "      <td>0.5</td>\n",
       "      <td>christian</td>\n",
       "      <td>[[βίβλος, γένεσις, Ἰησοῦς, Χριστός, υἱός, Δαυί...</td>\n",
       "      <td>[[βίβλος, γένεσις, Ἰησοῦς, Χριστός, υἱός, Δαυί...</td>\n",
       "      <td>7</td>\n",
       "      <td>0.000383</td>\n",
       "      <td>(χιών, ἑκατόνταρχος, φραγμός, φορτίζω, δίκαιος...</td>\n",
       "      <td>(λέγω, Ἰησοῦς, βασιλεία, οὐρανός, υἱός, ἄνθρωπ...</td>\n",
       "    </tr>\n",
       "  </tbody>\n",
       "</table>\n",
       "</div>"
      ],
      "text/plain": [
       "       author_id                                     author  n_titles  \\\n",
       "70       tlg0096                                      Aesop         1   \n",
       "1        tlg0003                                 Thucydides         1   \n",
       "19       tlg0016                                  Herodotus         1   \n",
       "89       tlg0540                                     Lysias        34   \n",
       "38       tlg0032                                   Xenophon        14   \n",
       "122      tlg0627                                Hippocrates        52   \n",
       "45       tlg0059                                      Plato        37   \n",
       "7        tlg0010                                  Isocrates        30   \n",
       "17       tlg0014                                Demosthenes        63   \n",
       "63       tlg0086                                  Aristotle        35   \n",
       "30       tlg0030                                  Hyperides         6   \n",
       "26       tlg0026                                  Aeschines         4   \n",
       "50       tlg0066                            Ps. Dicaearchus         1   \n",
       "29       tlg0029                                  Dinarchus         3   \n",
       "68       tlg0093                               Theophrastus         9   \n",
       "155      tlg1264                                 Chrysippus         1   \n",
       "128      tlg0644                  Aristophanes of Byzantium         1   \n",
       "92       tlg0543                                   Polybius         1   \n",
       "51       tlg0067                              Agatharchides         1   \n",
       "168      tlg1463                                Liber Enoch         1   \n",
       "172      tlg1551                          Oracula Sibyllina         2   \n",
       "173      tlg1595                                 Philodemus         2   \n",
       "46       tlg0060                           Diodorus Siculus         1   \n",
       "154      tlg1252                 Certamen Homeri et Hesiodi         1   \n",
       "58       tlg0081                 Dionysius of Halicarnassus        13   \n",
       "118      tlg0613  Demetrius of Phaleron (attributed author)         1   \n",
       "21       tlg0018                              Philo Judaeus        31   \n",
       "71       tlg0099                                     Strabo         1   \n",
       "123      tlg0628                             Musonius Rufus         2   \n",
       "31   tlg0031matt                                    Matthew         1   \n",
       "\n",
       "                                                titles  \\\n",
       "70                                           [Fabulae]   \n",
       "1                              [The Peloponnesian War]   \n",
       "19                                     [The Histories]   \n",
       "89   [On the Murder of Eratosthenes, Funeral Oratio...   \n",
       "38   [Hellenica, Memorabilia, Economics, Symposium,...   \n",
       "122  [On Ancient Medicine, De aere aquis et locis ,...   \n",
       "45   [Euthyphro, Apology, Crito, Phaedo, Cratylus, ...   \n",
       "7    [Against Euthynus, Against Callimachus, Agains...   \n",
       "17   [Ὀλυνθιακὸς α΄, Ὀλυνθιακὸς β΄, Ὀλυνθιακὸς γ΄, ...   \n",
       "63   [Aristotelis Analytica Priora et Posteriora, D...   \n",
       "30   [In Defence of Lycophron , Against Philippides...   \n",
       "26   [Against Timarchus , The Speech on the Embassy...   \n",
       "50   [Dicaearchi, ut fertur, potius vero Athenaei D...   \n",
       "29   [Against Demosthenes , Against Aristogiton , A...   \n",
       "68   [Concerning Odours, Enquiry into Plants, Enqui...   \n",
       "155                      [Fragmenta Logica et Physica]   \n",
       "128                      [Historiae Animalium Epitome]   \n",
       "92                                         [Histories]   \n",
       "51   [Ex Agatharchidis De Maris Erythraeo Libri Exc...   \n",
       "168                               [Apocalypsis Enochi]   \n",
       "172                               [Oracula, Fragmenta]   \n",
       "173  [De Musica Librorum Quae Exstant, Volumina Rhe...   \n",
       "46            [Library (Greek). Machine readable text]   \n",
       "154                       [Certamen Homeri et Hesiodi]   \n",
       "58   [Antiquitates Romanae, Books I-XX, De antiquis...   \n",
       "118                              [Libro de Elocutione]   \n",
       "21   [De opificio mundi, Legum allegoriarum libri i...   \n",
       "71                                         [Geography]   \n",
       "123              [Fragmenta minora, Epistulae spuriae]   \n",
       "31                                           [Matthew]   \n",
       "\n",
       "                                             filenames  wordcount  \\\n",
       "70                   [tlg0096.tlg002.First1K-grc1.xml]      39492   \n",
       "1                    [tlg0003.tlg001.perseus-grc2.xml]     150118   \n",
       "19                   [tlg0016.tlg001.perseus-grc2.xml]     184947   \n",
       "89   [tlg0540.tlg001.perseus-grc2.xml, tlg0540.tlg0...      58875   \n",
       "38   [tlg0032.tlg001.perseus-grc2.xml, tlg0032.tlg0...     312187   \n",
       "122  [tlg0627.tlg001.perseus-grc1.xml, tlg0627.tlg0...     333443   \n",
       "45   [tlg0059.tlg001.perseus-grc1.xml, tlg0059.tlg0...     574294   \n",
       "7    [tlg0010.tlg001.perseus-grc2.xml, tlg0010.tlg0...     119155   \n",
       "17   [tlg0014.tlg001.perseus-grc2.xml, tlg0014.tlg0...     294362   \n",
       "63   [tlg0086.tlg001.1st1K-grc2.xml, tlg0086.tlg002...     840271   \n",
       "30   [tlg0030.tlg001.perseus-grc1.xml, tlg0030.tlg0...      12025   \n",
       "26   [tlg0026.tlg001.perseus-grc1.xml, tlg0026.tlg0...      51409   \n",
       "50                     [tlg0066.tlg001.1st1K-grc1.xml]       2757   \n",
       "29   [tlg0029.tlg004.perseus-grc1.xml, tlg0029.tlg0...      12101   \n",
       "68   [tlg0093.ogl001.1st1K-grc1.xml, tlg0093.ogl002...     135499   \n",
       "155                    [tlg1264.tlg001.1st1K-grc1.xml]     113869   \n",
       "128                    [tlg0644.tlg001.1st1K-grc1.xml]      67782   \n",
       "92                   [tlg0543.tlg001.perseus-grc2.xml]     312715   \n",
       "51                     [tlg0067.tlg001.1st1K-grc1.xml]      24227   \n",
       "168                      [tlg1463.tlg001.opp-grc1.xml]      10916   \n",
       "172  [tlg1551.tlg001.opp-grc1.xml, tlg1551.tlg002.o...      75378   \n",
       "173  [tlg1595.tlg221.1st1K-grc1.xml, tlg1595.tlg370...      27090   \n",
       "46                   [tlg0060.tlg001.perseus-grc3.xml]     182969   \n",
       "154                    [tlg1252.tlg002.1st1K-grc1.xml]       3159   \n",
       "58   [tlg0081.tlg001.perseus-grc1.xml, tlg0081.tlg0...     379979   \n",
       "118                  [tlg0613.tlg001.perseus-grc1.xml]      15450   \n",
       "21   [tlg0018.tlg001.opp-grc1.xml, tlg0018.tlg002.o...     643011   \n",
       "71                   [tlg0099.tlg001.perseus-grc2.xml]     288401   \n",
       "123  [tlg0628.tlg002.1st1K-grc1.xml, tlg0628.tlg003...       2518   \n",
       "31                   [tlg0031.tlg001.perseus-grc2.xml]      18288   \n",
       "\n",
       "     lemmata_wordcount  n_sentences  \\\n",
       "70               21577         3333   \n",
       "1                71863         6068   \n",
       "19               94799        10149   \n",
       "89               28254         4258   \n",
       "38              150357        18988   \n",
       "122             171332        24456   \n",
       "45              272931        52384   \n",
       "7                56497         4681   \n",
       "17              143390        14564   \n",
       "63              367848        60282   \n",
       "30                5939         1392   \n",
       "26               25086         3469   \n",
       "50                1434          207   \n",
       "29                5902         1285   \n",
       "68               59617        17454   \n",
       "155              46339        16457   \n",
       "128              30376        11886   \n",
       "92              149727        12964   \n",
       "51               12518         1430   \n",
       "168               3758         1356   \n",
       "172              33406        20577   \n",
       "173              10261         6415   \n",
       "46               96152         8491   \n",
       "154               1641          504   \n",
       "58              195769        15448   \n",
       "118               7507          960   \n",
       "21              304615        82966   \n",
       "71              139516        16245   \n",
       "123               1153          129   \n",
       "31                8526         1276   \n",
       "\n",
       "                                            date_probs  date_avr provenience  \\\n",
       "70                                         {'-5.5': 1}      -5.5       pagan   \n",
       "1                                          {'-4.5': 1}      -4.5       pagan   \n",
       "19                                         {'-4.5': 1}      -4.5       pagan   \n",
       "89                          {'-4.5': 0.5, '-3.5': 0.5}      -4.0       pagan   \n",
       "38                          {'-4.5': 0.5, '-3.5': 0.5}      -4.0       pagan   \n",
       "122                         {'-4.5': 0.5, '-3.5': 0.5}      -4.0       pagan   \n",
       "45                          {'-4.5': 0.5, '-3.5': 0.5}      -4.0       pagan   \n",
       "7                           {'-4.5': 0.5, '-3.5': 0.5}      -4.0       pagan   \n",
       "17                                         {'-3.5': 1}      -3.5       pagan   \n",
       "63                                         {'-3.5': 1}      -3.5       pagan   \n",
       "30                                         {'-3.5': 1}      -3.5               \n",
       "26                                         {'-3.5': 1}      -3.5               \n",
       "50                                         {'-3.5': 1}      -3.5               \n",
       "29                          {'-3.5': 0.5, '-2.5': 0.5}      -3.0               \n",
       "68                          {'-3.5': 0.5, '-2.5': 0.5}      -3.0       pagan   \n",
       "155                                        {'-2.5': 1}      -2.5               \n",
       "128                         {'-2.5': 0.5, '-1.5': 0.5}      -2.0               \n",
       "92                          {'-2.5': 0.5, '-1.5': 0.5}      -2.0       pagan   \n",
       "51                                         {'-1.5': 1}      -1.5               \n",
       "168                         {'-1.5': 0.5, '-0.5': 0.5}      -1.0               \n",
       "172  {'-1.5': 0.1667, '-0.5': 0.1667, '0.5': 0.1667...      -1.0               \n",
       "173                                        {'-0.5': 1}      -0.5               \n",
       "46                                         {'-0.5': 1}      -0.5               \n",
       "154                          {'-2.5': 0.5, '1.5': 0.5}      -0.5               \n",
       "58                                         {'-0.5': 1}      -0.5               \n",
       "118                          {'-0.5': 0.5, '0.5': 0.5}       0.0               \n",
       "21                           {'-0.5': 0.5, '0.5': 0.5}       0.0      jewish   \n",
       "71                           {'-0.5': 0.5, '0.5': 0.5}       0.0       pagan   \n",
       "123                                         {'0.5': 1}       0.5               \n",
       "31                                          {'0.5': 1}       0.5   christian   \n",
       "\n",
       "                                         lemmata_lists  \\\n",
       "70   [[ἀγαθός, πᾶς, κακός, διώκω, ἀσθενής, εἰμί, οὐ...   \n",
       "1    [[θουκυδίδης, Ἀθηναῖος, συγγράφω, πόλεμος, Πελ...   \n",
       "19   [[Ἡρόδοτος, Ἁλικαρνασσεύς, ἱστορία, ἀπόδειξις,...   \n",
       "89   [[πολύς, ποιέω, ἀνήρ, τοιοῦτος, δικαστής, οὗτο...   \n",
       "38   [[οὗτος, πολύς, ἡμέρα, ὕστερος, ἔρχομαι, Ἀθῆνα...   \n",
       "122  [[ὁπόσος, ἐπιχειρέω, ἰητρικῆς, λέγω, γράφω, ὑπ...   \n",
       "45   [[ευθ, νέος, Σωκράτης, γίγνομαι, λύκειον, κατα...   \n",
       "7    [[πρόφασις, ἀπορέω, λέγω, νικίου, οὗτος, φίλος...   \n",
       "17   [[πολύς, ἀνήρ, Ἀθηναῖος, χρῆμα, αἱρέω, νομίζω,...   \n",
       "63   [[πρῶτος, λέγω, εἰμί, σκέψις, ἀπόδειξις, ἐπιστ...   \n",
       "30   [[ἴδιος, ἕκαστος, νόμος, ὅρκος, κελεύω, ἀκούω,...   \n",
       "26   [[οὐδείς, πολίτης, ἀνήρ, Ἀθηναῖος, γραφή, γραψ...   \n",
       "50   [[Ἀθήναιος, ἔπειμι, ἄστυ, ὁδός, ἡδύς, γεωργουμ...   \n",
       "29   [[δημαγωγός, Ἀθηναῖος, θάνατος, τετιμημένος, ἐ...   \n",
       "68   [[ι, ὀσμή, ὅλος, μίξεώς, χυμός, ἄμικτος, ἅπας,...   \n",
       "155  [[χρύσιππος, Ἀπολλώνιος, σολεὺς, Ταρσεύς, Ἀλέξ...   \n",
       "128  [[συλλογή, ζῷον, ἱστορία, χερσαῖος, πτηνός, θα...   \n",
       "92   [[ἀναγράφω, πρᾶξις, παραλείπω, συμβαίνω, ἱστορ...   \n",
       "51   [[ἐρυθρός, θάλασσα, ἐκλογή, ἀνεγνώσθησαν, ἀγαθ...   \n",
       "168  [[λόγος, εὐλογία, ἐνώχ, εὐλογέω, ἐκλεκτός, δίκ...   \n",
       "172  [[ἀνάγνωσις, Ἑλληνικός, γραφή, ἐκπονέω, πολύς,...   \n",
       "173  [[εἰμί, σικὴν, εὐλάβεια, δέω, πᾶς, εἰκών, ἁμαρ...   \n",
       "46   [[Ξέρξης, διάβασις, Εὐρώπη, μάχη, Θερμοπύλαι, ...   \n",
       "154  [[α, ὅμηρος, Ἡσίοδος, θεῖος, ποιητός, ἄνθρωπος...   \n",
       "58   [[ἔθω, ἀποδίδωμι, προοίμιον, ἱστορία, λόγος, β...   \n",
       "118  [[ποίησις, διαιρέω, μέτρον, οἷος, ἡμιμέτροις, ...   \n",
       "21   [[ἄλλος, νομοθέτης, ἀκαλλώπιστος, γυμνός, νομι...   \n",
       "71   [[φιλόσοφος, πραγματεία, εἰμί, νομίζω, ἄλλος, ...   \n",
       "123  [[ἐνεστηκυῖαν, ἡμέρα, βιόω, προθέμενον, ἔσχατο...   \n",
       "31   [[βίβλος, γένεσις, Ἰησοῦς, Χριστός, υἱός, Δαυί...   \n",
       "\n",
       "                                  lemmatized_sentences  dikaiosyne_N  \\\n",
       "70   [[ἀγαθός, πᾶς, κακός, διώκω, ἀσθενής, εἰμί], [...             2   \n",
       "1    [[θουκυδίδης, Ἀθηναῖος, συγγράφω, πόλεμος, Πελ...             1   \n",
       "19   [[Ἡρόδοτος, Ἁλικαρνασσεύς, ἱστορία, ἀπόδειξις,...             8   \n",
       "89   [[πολύς, ποιέω, ἀνήρ, τοιοῦτος, δικαστής, οὗτο...             2   \n",
       "38   [[οὗτος, πολύς, ἡμέρα, ὕστερος, ἔρχομαι, Ἀθῆνα...            35   \n",
       "122  [[ὁπόσος, ἐπιχειρέω, ἰητρικῆς, λέγω, γράφω, ὑπ...             2   \n",
       "45   [[ευθ], [νέος, Σωκράτης, γίγνομαι, λύκειον, κα...           267   \n",
       "7    [[πρόφασις, ἀπορέω, λέγω, νικίου, οὗτος], [φίλ...            43   \n",
       "17   [[πολύς, ἀνήρ, Ἀθηναῖος, χρῆμα, αἱρέω, νομίζω,...            11   \n",
       "63   [[πρῶτος, λέγω, εἰμί, σκέψις, ἀπόδειξις, ἐπιστ...           162   \n",
       "30   [[], [ἴδιος, ἕκαστος, νόμος, ὅρκος, κελεύω, ἀκ...             1   \n",
       "26   [[οὐδείς, πολίτης, ἀνήρ, Ἀθηναῖος, γραφή, γραψ...             4   \n",
       "50   [[Ἀθήναιος, ἔπειμι, ἄστυ], [ὁδός, ἡδύς, γεωργο...             1   \n",
       "29   [[δημαγωγός, Ἀθηναῖος, θάνατος, τετιμημένος, ἐ...             3   \n",
       "68   [[ι], [ὀσμή, ὅλος, μίξεώς, χυμός], [ἄμικτος, ἅ...             1   \n",
       "155  [[], [], [], [χρύσιππος, Ἀπολλώνιος, σολεὺς, Τ...            13   \n",
       "128  [[συλλογή, ζῷον, ἱστορία, χερσαῖος, πτηνός, θα...             1   \n",
       "92   [[ἀναγράφω, πρᾶξις, παραλείπω, συμβαίνω, ἱστορ...             1   \n",
       "51   [[ἐρυθρός, θάλασσα, ἐκλογή], [ἀνεγνώσθησαν, ἀγ...             1   \n",
       "168  [[λόγος, εὐλογία, ἐνώχ, εὐλογέω, ἐκλεκτός, δίκ...             7   \n",
       "172  [[ἀνάγνωσις, Ἑλληνικός, γραφή, ἐκπονέω, πολύς,...             2   \n",
       "173  [[], [], [], [], [εἰμί, σικὴν], [εὐλάβεια], []...             1   \n",
       "46   [[Ξέρξης, διάβασις, Εὐρώπη], [μάχη, Θερμοπύλαι...             6   \n",
       "154  [[], [], [α], [], [], [], [], [], [], [], [ὅμη...             1   \n",
       "58   [[ἔθω, ἀποδίδωμι, προοίμιον, ἱστορία, λόγος, β...            20   \n",
       "118  [[ποίησις, διαιρέω, μέτρον, οἷος, ἡμιμέτροις, ...             1   \n",
       "21   [[ἄλλος, νομοθέτης, ἀκαλλώπιστος, γυμνός, νομι...           157   \n",
       "71   [[φιλόσοφος, πραγματεία, εἰμί, νομίζω, ἄλλος, ...             5   \n",
       "123  [[ἐνεστηκυῖαν, ἡμέρα, βιόω, προθέμενον, ἔσχατο...             1   \n",
       "31   [[βίβλος, γένεσις, Ἰησοῦς, Χριστός, υἱός, Δαυί...             7   \n",
       "\n",
       "     dikaiosyne_TF                                            G_sents  \\\n",
       "70        0.000051  (μονικοὶ, στ, συνεθισμένοις, περιεχούσης, δίκα...   \n",
       "1         0.000007                                                 ()   \n",
       "19        0.000043                                                 ()   \n",
       "89        0.000034                                                 ()   \n",
       "38        0.000112  (καταβαίνω, πᾶς, δίκαιος, κλύδων, πηγή, ἵστημι...   \n",
       "122       0.000006                                                 ()   \n",
       "45        0.000465  (κατεγνωσμένον, περιγίγνομαι, δίκαιος, λεωκράτ...   \n",
       "7         0.000361                                                 ()   \n",
       "17        0.000037                                                 ()   \n",
       "63        0.000193                                                 ()   \n",
       "30        0.000083  (πολλυχ, περιγίγνομαι, δίκαιος, εὔνοιανεὔνοιαν...   \n",
       "26        0.000078  (προναίᾳπροναίᾳ, Δορίσκος, περιγίγνομαι, δυστυ...   \n",
       "50        0.000363                                                 ()   \n",
       "29        0.000248  (ταυροσθένην, δίκαιος, διανέμω, ἡγεῖταιἡγεῖται...   \n",
       "68        0.000007                                                 ()   \n",
       "155       0.000114  (ἐῤῥάγη, ἄθεος, παράκειμαι, δίκαιος, διανέμω, ...   \n",
       "128       0.000015  (χρῆσις, περιγίγνομαι, πᾶς, δίκαιος, προθέμενο...   \n",
       "92        0.000003  (χιών, λίπος, φυγοῦσαι, σφέτερος, λούσων, θεμέ...   \n",
       "51        0.000041                                                 ()   \n",
       "168       0.000641  (Ἐρεχθεύς, στασιάζοντες, γηράσκω, πᾶς, συνοικἦ...   \n",
       "172       0.000027  (ὀνειροπόμπους, εἰσηγήσαντο, ἀλληγορία, φορτίζ...   \n",
       "173       0.000037  (χιών, ἐξεληλυθότα, καταβαίνω, ζακιήλ, ὀπός, π...   \n",
       "46        0.000033  (ἐρωή, μελίξεται, καταβαίνω, κηδεμών, ἰφικλέης...   \n",
       "154       0.000317  (πᾶς, ἐλλείπω, τόπος, διεξέρχομαι, γράφω, ἐπίν...   \n",
       "58        0.000053  (ἱερόν, Φωκίς, μαγνησίαν, ὀγδοήκοντα, μαντεῖον...   \n",
       "118       0.000065  (πᾶς, δίκαιος, ἁπλόος, ὑμός, γράφω, πηγή, κερά...   \n",
       "21        0.000244                                                 ()   \n",
       "71        0.000017                                            (Ἆσσος)   \n",
       "123       0.000397  (κοσμούμενον, παρυσάτιν, χιών, ἀλληγορία, παρά...   \n",
       "31        0.000383  (χιών, ἑκατόνταρχος, φραγμός, φορτίζω, δίκαιος...   \n",
       "\n",
       "                                                G_lems  \n",
       "70   (βαρύς, ὀξύς, πυκνός, εἰμί, οὗτος, φανερός, γέ...  \n",
       "1    (ναῦς, Ἀθηναῖος, πολύς, ὕστερος, εἰμί, πολέμιο...  \n",
       "19   (λέγω, οὗτος, ποιέω, εἰμί, ὄνομα, γίγνομαι, λό...  \n",
       "89   (κύριος, λέγω, θεός, υἱός, Ἰσραήλ, βασιλεύς, ο...  \n",
       "38   (ἔργον, ἔχω, πίστις, καταλαλέω, ἀδελφός, ἀγαπη...  \n",
       "122  (εἰμί, οὗτος, λέγω, πολύς, τοιοῦτος, φημί, οὐδ...  \n",
       "45   (εἰμί, οὗτος, ἀγαθός, ἀνήρ, πόλις, ἔνοχος, ἄξι...  \n",
       "7    (οὗτος, ἔχω, γνώμη, λόγος, ποιέω, εἰμί, λέγω, ...  \n",
       "17   (ἀνήρ, Ἀθηναῖος, δικαστής, εἰμί, οὗτος, λέγω, ...  \n",
       "63   (λέγω, οὗτος, εἰμί, πολύς, ἄλλος, γίγνομαι, δε...  \n",
       "30   (δικαστής, ἀνήρ, δεῖ, οἴομαι, λόγος, ποιέω, εἰ...  \n",
       "26   (ἀνήρ, Ἀθηναῖος, λέγω, ἀληθής, εἰμί, οὗτος, γρ...  \n",
       "50   (εἰμί, οὗτος, λέγω, σός, φημί, νε, ἀληθής, ἄλλ...  \n",
       "29   (πάγος, Ἄρειας, βουλή, δῶρον, λαμβάνω, εἰμί, ο...  \n",
       "68   (εἰμί, οὗτος, λέγω, πᾶς, οἷος, ἕτερος, ἔχω, πρ...  \n",
       "155  (εἰμί, θεός, φύσις, ἄνθρωπος, γίγνομαι, σῶμα, ...  \n",
       "128  (εἰμί, ἄξιος, δίκη, νόμος, λόγος, οὗτος, αὐτός...  \n",
       "92   (προπέτεια, ἐάω, οὗτος, φίλος, πούς, φέρω, λέγ...  \n",
       "51   (οὗτος, πράσσω, καθίστημι, ὕπατος, πολύς, ἀναι...  \n",
       "168  (τρωτός, Ἴων, Θεμιστοκλῆς, ἀριστείδης, πολιτεί...  \n",
       "172  (εἰμί, λέγω, ἄνθρωπος, ἐκκλησία, οὗτος, Χριστό...  \n",
       "173  (υἱός, ἄνθρωπος, κρίσις, ἡμέρα, ἄγγελος, ἅγιος...  \n",
       "46   (Σικελικός, ἄρχω, πένθος, Μοῦσα, σός, χεῖλος, ...  \n",
       "154  (λόγος, ἔχω, μέγας, εἰμί, ἐλάσσων, διάμετρος, ...  \n",
       "58   (λιμήν, ἔχω, εἰμί, ἡμέρα, ποταμός, παράπλοος, ...  \n",
       "118  (λαμβάνω, προοίμιον, δικανικός, λόγος, λέγω, ο...  \n",
       "21   (εἰμί, οὗτος, σῶμα, ψυχή, θεός, λέγω, γένος, ἄ...  \n",
       "71                                                  ()  \n",
       "123  (εἰμί, περίοδος, δεινός, αὐτός, ποιέω, τοιοῦτο...  \n",
       "31   (λέγω, Ἰησοῦς, βασιλεία, οὐρανός, υἱός, ἄνθρωπ...  "
      ]
     },
     "execution_count": 52,
     "metadata": {},
     "output_type": "execute_result"
    }
   ],
   "source": [
    "authors_df[authors_df[\"dikaiosyne_N\"]>0].sort_values(\"date_avr\").head(30)"
   ]
  },
  {
   "cell_type": "markdown",
   "metadata": {},
   "source": [
    "# Networks for authors"
   ]
  },
  {
   "cell_type": "code",
   "execution_count": 58,
   "metadata": {},
   "outputs": [
    {
     "name": "stdout",
     "output_type": "stream",
     "text": [
      "CPU times: user 21min 23s, sys: 55.8 s, total: 22min 19s\n",
      "Wall time: 22min 19s\n"
     ]
    }
   ],
   "source": [
    "%%time\n",
    "nx_from_sentences = authors_df[\"lemmatized_sentences\"].apply(textnet.network_from_sentences)\n",
    "#nx_from_lemmata = authors_df[\"lemmata_lists\"].apply(textnet.network_from_lemmata_lists)"
   ]
  },
  {
   "cell_type": "code",
   "execution_count": 59,
   "metadata": {},
   "outputs": [],
   "source": [
    "pickle.dump(nx_from_sentences, open(\"../data/large_files/nx_from_sentences.pickle\",'wb'))\n",
    "#pickle.dump(nx_from_lemmata, open(\"../data/large_files/nx_from_lemmata.pickle\",'wb'))"
   ]
  },
  {
   "cell_type": "code",
   "execution_count": 76,
   "metadata": {},
   "outputs": [
    {
     "data": {
      "text/plain": [
       "269"
      ]
     },
     "execution_count": 76,
     "metadata": {},
     "output_type": "execute_result"
    }
   ],
   "source": [
    "len(nx_from_sentences)"
   ]
  },
  {
   "cell_type": "code",
   "execution_count": 77,
   "metadata": {},
   "outputs": [
    {
     "data": {
      "text/plain": [
       "269"
      ]
     },
     "execution_count": 77,
     "metadata": {},
     "output_type": "execute_result"
    }
   ],
   "source": [
    "len(authors_df)"
   ]
  },
  {
   "cell_type": "code",
   "execution_count": 62,
   "metadata": {},
   "outputs": [],
   "source": [
    "authors_df[\"G_sents\"] = nx_from_sentences\n",
    "#authors_df[\"G_lems\"] = nx_from_lemmata"
   ]
  },
  {
   "cell_type": "code",
   "execution_count": 63,
   "metadata": {},
   "outputs": [],
   "source": [
    "def get_nn(source_network, source_node, per_level=5):\n",
    "    return [(source_node, n[0]) for n in sorted(source_network[source_node].items(), key=lambda edge: edge[1]['weight'], reverse=True)][:per_level]\n",
    "\n",
    "def construct_association_network(source_network, source_term, per_level=5):\n",
    "    assoc_edges = [] \n",
    "    assoc_edges.extend(get_nn(source_network, source_term, per_level))\n",
    "    neighbors = [e[1] for e in assoc_edges]\n",
    "    for nn in neighbors:\n",
    "        assoc_edges.extend(get_nn(source_network, nn))\n",
    "\n",
    "    assoc_network = source_network.copy(as_view=False)\n",
    "    edges_to_remove = []\n",
    "    for edge in assoc_network.edges():\n",
    "        if edge not in assoc_edges:\n",
    "            if (edge[1],edge[0]) not in assoc_edges:\n",
    "                edges_to_remove.append(edge)\n",
    "    assoc_network.remove_edges_from(edges_to_remove)\n",
    "    isolates = nx.isolates(assoc_network)\n",
    "    assoc_network.remove_nodes_from([n for n in isolates])\n",
    "    return assoc_network"
   ]
  },
  {
   "cell_type": "code",
   "execution_count": 66,
   "metadata": {},
   "outputs": [
    {
     "data": {
      "text/plain": [
       "NodeView(('πᾶς', 'ἁμαρτία', 'φιλαργυρία', 'πίστις', 'δικαιοσύνη', 'προνοοῦντες', 'θεός', 'κύριος', 'οἶδα', 'ἐγείρω', 'ἐντολή', 'οὗτος', 'ἀγαπάω', 'εἰμί', 'κρίσις'))"
      ]
     },
     "execution_count": 66,
     "metadata": {},
     "output_type": "execute_result"
    }
   ],
   "source": [
    "construct_association_network(authors_df.iloc[0][\"G_sents\"], \"δικαιοσύνη\").nodes()"
   ]
  },
  {
   "cell_type": "code",
   "execution_count": 67,
   "metadata": {},
   "outputs": [],
   "source": [
    "def assoc_network(G):\n",
    "    try:\n",
    "        G_assoc = textnet.construct_association_network(G, \"δικαιοσύνη\")\n",
    "    except:\n",
    "        G_assoc = nx.Graph()\n",
    "        G_assoc.clear()\n",
    "    return G_assoc"
   ]
  },
  {
   "cell_type": "code",
   "execution_count": 78,
   "metadata": {},
   "outputs": [],
   "source": [
    "authors_df[\"dikaiosyne_G_sents\"] = authors_df[\"G_sents\"].apply(assoc_network)\n",
    "#authors_df[\"dikaiosyne_G_lems\"] = authors_df[\"G_lems\"].apply(assoc_network)"
   ]
  },
  {
   "cell_type": "code",
   "execution_count": 80,
   "metadata": {},
   "outputs": [],
   "source": [
    "#list(authors_df.iloc[15][\"dikaiosyne_G_lems\"].nodes())"
   ]
  },
  {
   "cell_type": "markdown",
   "metadata": {},
   "source": [
    "# Terms within sentences"
   ]
  },
  {
   "cell_type": "code",
   "execution_count": 81,
   "metadata": {},
   "outputs": [],
   "source": [
    "def sentences_with_term(sentences, term, flatlist=False):\n",
    "    sentences_with_term = [sen for sen in sentences if term in sen]\n",
    "    if flatlist == True:\n",
    "        flatlist = [word for sen in sentences_with_term for word in sen]\n",
    "        flatlist = [word for word in flatlist if word != \"δικαιοσύνη\"]\n",
    "        return flatlist\n",
    "    else: \n",
    "        return sentences_with_term\n",
    "authors_df[\"dik_sents_flat\"] = authors_df[\"lemmatized_sentences\"].apply(lambda cell: sentences_with_term(cell, \"δικαιοσύνη\", flatlist=True))"
   ]
  },
  {
   "cell_type": "code",
   "execution_count": 85,
   "metadata": {},
   "outputs": [],
   "source": [
    "def get_tf(lemmata):\n",
    "    fd_list = list(nltk.FreqDist(lemmata).most_common())\n",
    "    tf_list = [(tup[0], np.round(tup[1] / len(lemmata), 5)) for tup in fd_list]\n",
    "    return tf_list\n",
    "\n",
    "authors_df[\"dik_sents_TF\"] = authors_df[\"dik_sents_flat\"].apply(get_tf)"
   ]
  },
  {
   "cell_type": "code",
   "execution_count": 88,
   "metadata": {},
   "outputs": [],
   "source": [
    "def term_idf(term, all_sentences):\n",
    "    idf_raw =  len(all_sentences) / len([sent for sent in all_sentences if term in sent])\n",
    "    idf_log = math.log(idf_raw)\n",
    "    return idf_log\n",
    "\n",
    "def get_tfidf(key_term_lemmata, all_sentences):\n",
    "    fd_list = list(nltk.FreqDist(key_term_lemmata).most_common())\n",
    "    tfidf_list = [(tup[0], np.round((tup[1] / len(key_term_lemmata) * term_idf(tup[0], all_sentences)), 5)) for tup in fd_list]\n",
    "    tfidf_list = sorted(tfidf_list, key=lambda tup: tup[1], reverse=True)\n",
    "    return tfidf_list\n",
    "\n",
    "authors_df[\"dik_sents_TFIDF\"] = authors_df.apply(lambda x: get_tfidf(x[\"dik_sents_flat\"], x[\"lemmatized_sentences\"]), axis=1)"
   ]
  },
  {
   "cell_type": "code",
   "execution_count": 89,
   "metadata": {},
   "outputs": [],
   "source": [
    "authors_df[\"dik_sents_TFIDF_10\"] = authors_df[\"dik_sents_TFIDF\"].apply(lambda cell: \", \".join([tup[0] for tup in cell[:10]]))"
   ]
  },
  {
   "cell_type": "code",
   "execution_count": 90,
   "metadata": {},
   "outputs": [
    {
     "data": {
      "text/html": [
       "<div>\n",
       "<style scoped>\n",
       "    .dataframe tbody tr th:only-of-type {\n",
       "        vertical-align: middle;\n",
       "    }\n",
       "\n",
       "    .dataframe tbody tr th {\n",
       "        vertical-align: top;\n",
       "    }\n",
       "\n",
       "    .dataframe thead th {\n",
       "        text-align: right;\n",
       "    }\n",
       "</style>\n",
       "<table border=\"1\" class=\"dataframe\">\n",
       "  <thead>\n",
       "    <tr style=\"text-align: right;\">\n",
       "      <th></th>\n",
       "      <th>author_id</th>\n",
       "      <th>author</th>\n",
       "      <th>n_titles</th>\n",
       "      <th>titles</th>\n",
       "      <th>filenames</th>\n",
       "      <th>wordcount</th>\n",
       "      <th>lemmata_wordcount</th>\n",
       "      <th>n_sentences</th>\n",
       "      <th>date_probs</th>\n",
       "      <th>date_avr</th>\n",
       "      <th>...</th>\n",
       "      <th>dikaiosyne_N</th>\n",
       "      <th>dikaiosyne_TF</th>\n",
       "      <th>G_sents</th>\n",
       "      <th>G_lems</th>\n",
       "      <th>dikaiosyne_G_sents</th>\n",
       "      <th>dikaiosyne_G_lems</th>\n",
       "      <th>dik_sents_flat</th>\n",
       "      <th>dik_sents_TF</th>\n",
       "      <th>dik_sents_TFIDF</th>\n",
       "      <th>dik_sents_TFIDF_10</th>\n",
       "    </tr>\n",
       "  </thead>\n",
       "  <tbody>\n",
       "    <tr>\n",
       "      <th>175</th>\n",
       "      <td>tlg1622</td>\n",
       "      <td>Polycarp</td>\n",
       "      <td>1</td>\n",
       "      <td>[Epistula ad Philippenses]</td>\n",
       "      <td>[tlg1622.tlg001.1st1K-grc1.xml]</td>\n",
       "      <td>1804</td>\n",
       "      <td>951</td>\n",
       "      <td>212</td>\n",
       "      <td>{'0.5': 0.5, '1.5': 0.5}</td>\n",
       "      <td>1.0</td>\n",
       "      <td>...</td>\n",
       "      <td>8</td>\n",
       "      <td>0.004435</td>\n",
       "      <td>(υεμ, πᾶς, ἐλεήμων, τόπος, γράφω, παυλυς, νος,...</td>\n",
       "      <td>(μένω, μίμνω, γῆρυς, ἀθάνατος, λευκός, μέλας, ...</td>\n",
       "      <td>(πᾶς, ἁμαρτία, φιλαργυρία, πίστις, δικαιοσύνη,...</td>\n",
       "      <td>()</td>\n",
       "      <td>[μακάριος, πτωχός, διώκω, εἰμί, βασιλεία, θεάο...</td>\n",
       "      <td>[(εἰμί, 0.04651), (οὗτος, 0.04651), (ἐντολή, 0...</td>\n",
       "      <td>[(οὗτος, 0.19805), (ἐντολή, 0.18466), (πτωχός,...</td>\n",
       "      <td>οὗτος, ἐντολή, πτωχός, διώκω, θεάομαι, ἀδελφός...</td>\n",
       "    </tr>\n",
       "    <tr>\n",
       "      <th>35</th>\n",
       "      <td>tlg0031paul</td>\n",
       "      <td>Paul of Tarsus</td>\n",
       "      <td>7</td>\n",
       "      <td>[Romans, 1 Corinthians, 2 Corinthians, Galatia...</td>\n",
       "      <td>[tlg0031.tlg006.perseus-grc2.xml, tlg0031.tlg0...</td>\n",
       "      <td>24066</td>\n",
       "      <td>11089</td>\n",
       "      <td>1632</td>\n",
       "      <td>{'0.5': 1}</td>\n",
       "      <td>0.5</td>\n",
       "      <td>...</td>\n",
       "      <td>49</td>\n",
       "      <td>0.002036</td>\n",
       "      <td>(παράκειμαι, δίκαιος, εὐφραίνω, πάσχα, κλέπτω,...</td>\n",
       "      <td>(Χριστός, Ἰησοῦς, κύριος, θεός, χάρις, πατήρ, ...</td>\n",
       "      <td>(σάρξ, κύριος, χριστός, δικαιοσύνη, θεός, εἰμί...</td>\n",
       "      <td>(Χριστός, θεός, χάρις, πατήρ, εἰμί, πνεῦμα, εἰ...</td>\n",
       "      <td>[θεός, ἀποκαλύπτω, πίστις, πίστις, γράφω, δίκα...</td>\n",
       "      <td>[(θεός, 0.04675), (πίστις, 0.04156), (νόμος, 0...</td>\n",
       "      <td>[(πίστις, 0.12745), (ἁμαρτία, 0.11192), (νόμος...</td>\n",
       "      <td>πίστις, ἁμαρτία, νόμος, λογίζομαι, θεός, βασιλ...</td>\n",
       "    </tr>\n",
       "    <tr>\n",
       "      <th>156</th>\n",
       "      <td>tlg1271</td>\n",
       "      <td>Clemens Romanus</td>\n",
       "      <td>2</td>\n",
       "      <td>[Epistula I ad Corinthios, Epistula II ad Cori...</td>\n",
       "      <td>[tlg1271.tlg001.1st1K-grc1.xml, tlg1271.tlg002...</td>\n",
       "      <td>13936</td>\n",
       "      <td>6290</td>\n",
       "      <td>1410</td>\n",
       "      <td>{'0.5': 1}</td>\n",
       "      <td>0.5</td>\n",
       "      <td>...</td>\n",
       "      <td>21</td>\n",
       "      <td>0.001507</td>\n",
       "      <td>(χιών, εὐφραίνω, δίκαιος, ἀναγγέλλουσιν, κενόω...</td>\n",
       "      <td>(δύσις, ἑῷος, ἀνατέλλω, ἥλιος, αβγ, κύκλος, φα...</td>\n",
       "      <td>(σημεῖον, γίγνομαι, σάρξ, ὁμόνοια, ἀγάπη, κύρι...</td>\n",
       "      <td>()</td>\n",
       "      <td>[οὗτος, ἄπειμι, εἰρήνη, ἀπολιμπάνω, ἕκαστος, φ...</td>\n",
       "      <td>[(θεός, 0.02871), (πίστις, 0.02392), (γίγνομαι...</td>\n",
       "      <td>[(καυχάομαι, 0.10409), (πίστις, 0.10181), (πύλ...</td>\n",
       "      <td>καυχάομαι, πίστις, πύλη, θεός, δύσις, ἀγάπη, π...</td>\n",
       "    </tr>\n",
       "    <tr>\n",
       "      <th>130</th>\n",
       "      <td>tlg0646</td>\n",
       "      <td>Pseudo-Justinus Martyr</td>\n",
       "      <td>1</td>\n",
       "      <td>[Epistula ad Diognetum]</td>\n",
       "      <td>[tlg0646.tlg004.1st1K-grc1.xml]</td>\n",
       "      <td>2725</td>\n",
       "      <td>1364</td>\n",
       "      <td>240</td>\n",
       "      <td>{'2.5': 0.5, '4.5': 0.5}</td>\n",
       "      <td>3.5</td>\n",
       "      <td>...</td>\n",
       "      <td>4</td>\n",
       "      <td>0.001468</td>\n",
       "      <td>(χρῆσις, διατηρέω, ζωοποιοῦνται, ἡτοιμασμένα, ...</td>\n",
       "      <td>(εἰμί, οἷος, λευκός, μικρός, αὐτός, λέγω, οὗτο...</td>\n",
       "      <td>(δίκαιος, ὑπομένω, ἄνομος, γῆ, ἄλλος, δικαιώσῃ...</td>\n",
       "      <td>()</td>\n",
       "      <td>[ἐφηδόμενος, ἁμάρτημα, ἀνεχόμενος, ἀδικία, και...</td>\n",
       "      <td>[(ἐκεῖνος, 0.05556), (πολύς, 0.05556), (πῦρ, 0...</td>\n",
       "      <td>[(ἐκεῖνος, 0.24345), (πῦρ, 0.21507), (πολύς, 0...</td>\n",
       "      <td>ἐκεῖνος, πῦρ, πολύς, ἐφηδόμενος, ἁμάρτημα, ἀνε...</td>\n",
       "    </tr>\n",
       "    <tr>\n",
       "      <th>152</th>\n",
       "      <td>tlg1216</td>\n",
       "      <td>Barnabas</td>\n",
       "      <td>1</td>\n",
       "      <td>[The Epistle of Barnabas]</td>\n",
       "      <td>[tlg1216.tlg001.perseus-grc2.xml]</td>\n",
       "      <td>7440</td>\n",
       "      <td>3450</td>\n",
       "      <td>875</td>\n",
       "      <td>{'0.5': 0.5, '1.5': 0.5}</td>\n",
       "      <td>1.0</td>\n",
       "      <td>...</td>\n",
       "      <td>9</td>\n",
       "      <td>0.001210</td>\n",
       "      <td>(δάμαλις, ἐγκαταλίπῃς, καταβαίνω, τριακόσιοι, ...</td>\n",
       "      <td>(γίγνομαι, κίνησις, μέρος, οὗτος, πολύς, χράω,...</td>\n",
       "      <td>(δίκαιος, μνημονεύω, γῆ, γάλα, καρδία, λαμβάνω...</td>\n",
       "      <td>()</td>\n",
       "      <td>[πείθω, οὗτος, σύνοιδα, λαλέω, πολύς, ἐπίσταμα...</td>\n",
       "      <td>[(ὁδός, 0.0411), (κύριος, 0.0274), (θεός, 0.02...</td>\n",
       "      <td>[(ὁδός, 0.17298), (σκότος, 0.13651), (ἀγαθός, ...</td>\n",
       "      <td>ὁδός, σκότος, ἀγαθός, σύνοιδα, ἐπίσταμαι, συνώ...</td>\n",
       "    </tr>\n",
       "  </tbody>\n",
       "</table>\n",
       "<p>5 rows × 23 columns</p>\n",
       "</div>"
      ],
      "text/plain": [
       "       author_id                  author  n_titles  \\\n",
       "175      tlg1622                Polycarp         1   \n",
       "35   tlg0031paul          Paul of Tarsus         7   \n",
       "156      tlg1271         Clemens Romanus         2   \n",
       "130      tlg0646  Pseudo-Justinus Martyr         1   \n",
       "152      tlg1216                Barnabas         1   \n",
       "\n",
       "                                                titles  \\\n",
       "175                         [Epistula ad Philippenses]   \n",
       "35   [Romans, 1 Corinthians, 2 Corinthians, Galatia...   \n",
       "156  [Epistula I ad Corinthios, Epistula II ad Cori...   \n",
       "130                            [Epistula ad Diognetum]   \n",
       "152                          [The Epistle of Barnabas]   \n",
       "\n",
       "                                             filenames  wordcount  \\\n",
       "175                    [tlg1622.tlg001.1st1K-grc1.xml]       1804   \n",
       "35   [tlg0031.tlg006.perseus-grc2.xml, tlg0031.tlg0...      24066   \n",
       "156  [tlg1271.tlg001.1st1K-grc1.xml, tlg1271.tlg002...      13936   \n",
       "130                    [tlg0646.tlg004.1st1K-grc1.xml]       2725   \n",
       "152                  [tlg1216.tlg001.perseus-grc2.xml]       7440   \n",
       "\n",
       "     lemmata_wordcount  n_sentences                date_probs  date_avr  ...  \\\n",
       "175                951          212  {'0.5': 0.5, '1.5': 0.5}       1.0  ...   \n",
       "35               11089         1632                {'0.5': 1}       0.5  ...   \n",
       "156               6290         1410                {'0.5': 1}       0.5  ...   \n",
       "130               1364          240  {'2.5': 0.5, '4.5': 0.5}       3.5  ...   \n",
       "152               3450          875  {'0.5': 0.5, '1.5': 0.5}       1.0  ...   \n",
       "\n",
       "    dikaiosyne_N dikaiosyne_TF  \\\n",
       "175            8      0.004435   \n",
       "35            49      0.002036   \n",
       "156           21      0.001507   \n",
       "130            4      0.001468   \n",
       "152            9      0.001210   \n",
       "\n",
       "                                               G_sents  \\\n",
       "175  (υεμ, πᾶς, ἐλεήμων, τόπος, γράφω, παυλυς, νος,...   \n",
       "35   (παράκειμαι, δίκαιος, εὐφραίνω, πάσχα, κλέπτω,...   \n",
       "156  (χιών, εὐφραίνω, δίκαιος, ἀναγγέλλουσιν, κενόω...   \n",
       "130  (χρῆσις, διατηρέω, ζωοποιοῦνται, ἡτοιμασμένα, ...   \n",
       "152  (δάμαλις, ἐγκαταλίπῃς, καταβαίνω, τριακόσιοι, ...   \n",
       "\n",
       "                                                G_lems  \\\n",
       "175  (μένω, μίμνω, γῆρυς, ἀθάνατος, λευκός, μέλας, ...   \n",
       "35   (Χριστός, Ἰησοῦς, κύριος, θεός, χάρις, πατήρ, ...   \n",
       "156  (δύσις, ἑῷος, ἀνατέλλω, ἥλιος, αβγ, κύκλος, φα...   \n",
       "130  (εἰμί, οἷος, λευκός, μικρός, αὐτός, λέγω, οὗτο...   \n",
       "152  (γίγνομαι, κίνησις, μέρος, οὗτος, πολύς, χράω,...   \n",
       "\n",
       "                                    dikaiosyne_G_sents  \\\n",
       "175  (πᾶς, ἁμαρτία, φιλαργυρία, πίστις, δικαιοσύνη,...   \n",
       "35   (σάρξ, κύριος, χριστός, δικαιοσύνη, θεός, εἰμί...   \n",
       "156  (σημεῖον, γίγνομαι, σάρξ, ὁμόνοια, ἀγάπη, κύρι...   \n",
       "130  (δίκαιος, ὑπομένω, ἄνομος, γῆ, ἄλλος, δικαιώσῃ...   \n",
       "152  (δίκαιος, μνημονεύω, γῆ, γάλα, καρδία, λαμβάνω...   \n",
       "\n",
       "                                     dikaiosyne_G_lems  \\\n",
       "175                                                 ()   \n",
       "35   (Χριστός, θεός, χάρις, πατήρ, εἰμί, πνεῦμα, εἰ...   \n",
       "156                                                 ()   \n",
       "130                                                 ()   \n",
       "152                                                 ()   \n",
       "\n",
       "                                        dik_sents_flat  \\\n",
       "175  [μακάριος, πτωχός, διώκω, εἰμί, βασιλεία, θεάο...   \n",
       "35   [θεός, ἀποκαλύπτω, πίστις, πίστις, γράφω, δίκα...   \n",
       "156  [οὗτος, ἄπειμι, εἰρήνη, ἀπολιμπάνω, ἕκαστος, φ...   \n",
       "130  [ἐφηδόμενος, ἁμάρτημα, ἀνεχόμενος, ἀδικία, και...   \n",
       "152  [πείθω, οὗτος, σύνοιδα, λαλέω, πολύς, ἐπίσταμα...   \n",
       "\n",
       "                                          dik_sents_TF  \\\n",
       "175  [(εἰμί, 0.04651), (οὗτος, 0.04651), (ἐντολή, 0...   \n",
       "35   [(θεός, 0.04675), (πίστις, 0.04156), (νόμος, 0...   \n",
       "156  [(θεός, 0.02871), (πίστις, 0.02392), (γίγνομαι...   \n",
       "130  [(ἐκεῖνος, 0.05556), (πολύς, 0.05556), (πῦρ, 0...   \n",
       "152  [(ὁδός, 0.0411), (κύριος, 0.0274), (θεός, 0.02...   \n",
       "\n",
       "                                       dik_sents_TFIDF  \\\n",
       "175  [(οὗτος, 0.19805), (ἐντολή, 0.18466), (πτωχός,...   \n",
       "35   [(πίστις, 0.12745), (ἁμαρτία, 0.11192), (νόμος...   \n",
       "156  [(καυχάομαι, 0.10409), (πίστις, 0.10181), (πύλ...   \n",
       "130  [(ἐκεῖνος, 0.24345), (πῦρ, 0.21507), (πολύς, 0...   \n",
       "152  [(ὁδός, 0.17298), (σκότος, 0.13651), (ἀγαθός, ...   \n",
       "\n",
       "                                    dik_sents_TFIDF_10  \n",
       "175  οὗτος, ἐντολή, πτωχός, διώκω, θεάομαι, ἀδελφός...  \n",
       "35   πίστις, ἁμαρτία, νόμος, λογίζομαι, θεός, βασιλ...  \n",
       "156  καυχάομαι, πίστις, πύλη, θεός, δύσις, ἀγάπη, π...  \n",
       "130  ἐκεῖνος, πῦρ, πολύς, ἐφηδόμενος, ἁμάρτημα, ἀνε...  \n",
       "152  ὁδός, σκότος, ἀγαθός, σύνοιδα, ἐπίσταμαι, συνώ...  \n",
       "\n",
       "[5 rows x 23 columns]"
      ]
     },
     "execution_count": 90,
     "metadata": {},
     "output_type": "execute_result"
    }
   ],
   "source": [
    "authors_df.head(5)"
   ]
  },
  {
   "cell_type": "code",
   "execution_count": 91,
   "metadata": {},
   "outputs": [],
   "source": [
    "tfidf_words = list(set([word for wordlist in authors_df[\"dik_sents_TFIDF_10\"].tolist() for word in wordlist]))\n",
    "tfidf_words = [word for word in tfidf_words if not re.search(\"\\W\", word)]"
   ]
  },
  {
   "cell_type": "code",
   "execution_count": 92,
   "metadata": {},
   "outputs": [],
   "source": [
    "columns_to_omit = [\"lemmatized_sentences\", \"lemmata_lists\", \"G_sents\", \"G_lems\", \"dikaiosyne_G_sents\" , \"dikaiosyne_G_lems\"]\n",
    "authors_df.drop(columns_to_omit, axis=1).to_csv(\"../data/authors_df.csv\")\n",
    "# google sheets: set_with_dataframe(ECCE_AGT_overview.add_worksheet(\"authors_df_minimal_20201211\", 1,1), authors_df.drop(columns_to_omit, axis=1))"
   ]
  },
  {
   "cell_type": "markdown",
   "metadata": {},
   "source": [
    "# Individual authors"
   ]
  },
  {
   "cell_type": "code",
   "execution_count": 93,
   "metadata": {},
   "outputs": [
    {
     "data": {
      "text/plain": [
       "'σωφροσύνη, ἀρετή, εὐσέβεια, εἰμί, ἀδικία, σοφία, πολύς, ἔχω, μέγας, οὗτος'"
      ]
     },
     "execution_count": 93,
     "metadata": {},
     "output_type": "execute_result"
    }
   ],
   "source": [
    "authors_df[authors_df[\"author\"].str.contains(\"Isocrates\")][\"dik_sents_TFIDF_10\"].tolist()[0]"
   ]
  },
  {
   "cell_type": "code",
   "execution_count": 94,
   "metadata": {},
   "outputs": [
    {
     "data": {
      "text/plain": [
       "'δίκαιος, ἀρετή, ἀδικία, ἀνδρεία, σωφροσύνη, ἀγαθός, εἰμί, οἷος, ἄλλος, ἕτερος'"
      ]
     },
     "execution_count": 94,
     "metadata": {},
     "output_type": "execute_result"
    }
   ],
   "source": [
    "authors_df[authors_df[\"author\"].str.contains(\"Aristotle\")][\"dik_sents_TFIDF_10\"].tolist()[0]"
   ]
  },
  {
   "cell_type": "code",
   "execution_count": 128,
   "metadata": {},
   "outputs": [
    {
     "data": {
      "text/html": [
       "        <script type=\"text/javascript\">\n",
       "        window.PlotlyConfig = {MathJaxConfig: 'local'};\n",
       "        if (window.MathJax) {MathJax.Hub.Config({SVG: {font: \"STIX-Web\"}});}\n",
       "        if (typeof require !== 'undefined') {\n",
       "        require.undef(\"plotly\");\n",
       "        requirejs.config({\n",
       "            paths: {\n",
       "                'plotly': ['https://cdn.plot.ly/plotly-latest.min']\n",
       "            }\n",
       "        });\n",
       "        require(['plotly'], function(Plotly) {\n",
       "            window._Plotly = Plotly;\n",
       "        });\n",
       "        }\n",
       "        </script>\n",
       "        "
      ]
     },
     "metadata": {},
     "output_type": "display_data"
    },
    {
     "data": {
      "text/plain": [
       "<module 'textnet' from '/home/kasev/ECCE_DIK/scripts/textnet.py'>"
      ]
     },
     "execution_count": 128,
     "metadata": {},
     "output_type": "execute_result"
    }
   ],
   "source": [
    "reload(textnet)"
   ]
  },
  {
   "cell_type": "code",
   "execution_count": 135,
   "metadata": {
    "scrolled": true
   },
   "outputs": [
    {
     "data": {
      "application/vnd.plotly.v1+json": {
       "config": {
        "plotlyServerURL": "https://plot.ly"
       },
       "data": [
        {
         "line": {
          "color": "#000000",
          "width": 4
         },
         "mode": "lines",
         "type": "scatter",
         "x": [
          -0.21504114555328804,
          0.04198970488664955,
          null,
          0.04198970488664955,
          -0.40481117767873975,
          null
         ],
         "y": [
          0.3679474846301177,
          0.2199345225727419,
          null,
          0.2199345225727419,
          -0.2513692262583965,
          null
         ]
        },
        {
         "line": {
          "color": "#404040",
          "width": 2
         },
         "mode": "lines",
         "type": "scatter",
         "x": [
          0.12336852505241598,
          -0.21504114555328804,
          null,
          0.12336852505241598,
          0.04198970488664955,
          null,
          -0.21504114555328804,
          -0.5003199134207165,
          null,
          0.04198970488664955,
          -0.5003199134207165,
          null
         ],
         "y": [
          0.7749006912888591,
          0.3679474846301177,
          null,
          0.7749006912888591,
          0.2199345225727419,
          null,
          0.3679474846301177,
          0.6299067332620633,
          null,
          0.2199345225727419,
          0.6299067332620633,
          null
         ]
        },
        {
         "line": {
          "color": "#C0C0C0",
          "width": 1
         },
         "mode": "lines",
         "type": "scatter",
         "x": [
          0.6551723240235467,
          0.14210848219909483,
          null,
          -0.21504114555328804,
          0.21232297180977017,
          null,
          -0.21504114555328804,
          -0.40481117767873975,
          null,
          -0.21504114555328804,
          -0.14624962125101879,
          null,
          -0.21504114555328804,
          -0.49226370664576546,
          null,
          0.21232297180977017,
          0.04198970488664955,
          null,
          0.21232297180977017,
          -0.14624962125101879,
          null,
          0.21232297180977017,
          0.14210848219909483,
          null,
          0.21232297180977017,
          -0.49226370664576546,
          null,
          0.04198970488664955,
          -0.14624962125101879,
          null,
          0.04198970488664955,
          0.14210848219909483,
          null,
          0.04198970488664955,
          -0.49226370664576546,
          null,
          0.04198970488664955,
          0.6248478034922031,
          null,
          -0.40481117767873975,
          -0.14624962125101879,
          null,
          -0.40481117767873975,
          0.14210848219909483,
          null,
          -0.5003199134207165,
          -0.49226370664576546,
          null,
          -0.14624962125101879,
          0.14210848219909483,
          null,
          -0.14624962125101879,
          -0.49226370664576546,
          null,
          0.14210848219909483,
          -0.041124246914151764,
          null
         ],
         "y": [
          -0.7123911490507588,
          -0.45311952058715077,
          null,
          0.3679474846301177,
          -0.02846003741209545,
          null,
          0.3679474846301177,
          -0.2513692262583965,
          null,
          0.3679474846301177,
          -0.15187474251260133,
          null,
          0.3679474846301177,
          0.1703691748047052,
          null,
          -0.02846003741209545,
          0.2199345225727419,
          null,
          -0.02846003741209545,
          -0.15187474251260133,
          null,
          -0.02846003741209545,
          -0.45311952058715077,
          null,
          -0.02846003741209545,
          0.1703691748047052,
          null,
          0.2199345225727419,
          -0.15187474251260133,
          null,
          0.2199345225727419,
          -0.45311952058715077,
          null,
          0.2199345225727419,
          0.1703691748047052,
          null,
          0.2199345225727419,
          0.4341560692625157,
          null,
          -0.2513692262583965,
          -0.15187474251260133,
          null,
          -0.2513692262583965,
          -0.45311952058715077,
          null,
          0.6299067332620633,
          0.1703691748047052,
          null,
          -0.15187474251260133,
          -0.45311952058715077,
          null,
          -0.15187474251260133,
          0.1703691748047052,
          null,
          -0.45311952058715077,
          -1,
          null
         ]
        },
        {
         "hoverinfo": "text",
         "hovertext": [
          "1",
          "2",
          "7",
          "5",
          "9",
          "4",
          "3",
          "6",
          "6",
          "5",
          "1",
          "1"
         ],
         "marker": {
          "color": [
           12,
           19,
           45,
           36,
           41,
           18,
           10,
           20,
           15,
           6,
           7,
           6
          ],
          "colorbar": {
           "thickness": 30,
           "title": {
            "side": "right",
            "text": "degree"
           },
           "xanchor": "left"
          },
          "colorscale": [
           [
            0,
            "rgb(255,255,255)"
           ],
           [
            0.125,
            "rgb(240,240,240)"
           ],
           [
            0.25,
            "rgb(217,217,217)"
           ],
           [
            0.375,
            "rgb(189,189,189)"
           ],
           [
            0.5,
            "rgb(150,150,150)"
           ],
           [
            0.625,
            "rgb(115,115,115)"
           ],
           [
            0.75,
            "rgb(82,82,82)"
           ],
           [
            0.875,
            "rgb(37,37,37)"
           ],
           [
            1,
            "rgb(0,0,0)"
           ]
          ],
          "line": {
           "width": 1.5
          },
          "showscale": false,
          "size": 15
         },
         "mode": "markers+text",
         "text": [
          "σάρξ",
          "κύριος",
          "χριστός",
          "δικαιοσύνη",
          "θεός",
          "εἰμί",
          "πᾶς",
          "νόμος",
          "ἁμαρτία",
          "πίστις",
          "θάνατος",
          "πνεῦμα"
         ],
         "textfont": {
          "size": 32
         },
         "textposition": "bottom center",
         "type": "scatter",
         "x": [
          0.6551723240235467,
          0.12336852505241598,
          -0.21504114555328804,
          0.21232297180977017,
          0.04198970488664955,
          -0.40481117767873975,
          -0.5003199134207165,
          -0.14624962125101879,
          0.14210848219909483,
          -0.49226370664576546,
          -0.041124246914151764,
          0.6248478034922031
         ],
         "y": [
          -0.7123911490507588,
          0.7749006912888591,
          0.3679474846301177,
          -0.02846003741209545,
          0.2199345225727419,
          -0.2513692262583965,
          0.6299067332620633,
          -0.15187474251260133,
          -0.45311952058715077,
          0.1703691748047052,
          -1,
          0.4341560692625157
         ]
        },
        {
         "hoverinfo": "text",
         "marker": {
          "opacity": 0
         },
         "mode": "markers",
         "opacity": 0,
         "text": [
          "15",
          "60",
          "71",
          "16",
          "148",
          "55",
          "66",
          "25",
          "38",
          "26",
          "16",
          "13",
          "26",
          "93",
          "90",
          "34",
          "23",
          "47",
          "50",
          "36",
          "16",
          "23",
          "29",
          "27",
          "17"
         ],
         "type": "scatter",
         "x": [
          0.39864040311132076,
          -0.04583631025043603,
          0.08267911496953276,
          -0.0013590868717589383,
          -0.08652572033331925,
          -0.3099261616160139,
          -0.35768052948700224,
          -0.18064538340215341,
          -0.35365242609952674,
          0.12715633834820986,
          0.03303667527937569,
          0.1772157270044325,
          -0.13997036741799765,
          -0.1814107363960451,
          -0.22916510426703346,
          -0.05212995818218462,
          0.09204909354287219,
          -0.22513700087955796,
          0.33341875418942635,
          -0.2755303994648793,
          -0.13135134773982246,
          -0.49629181003324097,
          -0.0020705695259619766,
          -0.31925666394839214,
          0.05049211764247154
         ],
         "y": [
          -0.5827553348189548,
          0.5714240879594884,
          0.4974176069308005,
          0.16974372360901113,
          0.29394100360142983,
          0.0582891291858606,
          0.4989271089460905,
          0.1080363710587582,
          0.2691583297174115,
          0.09573724258032323,
          -0.09016738996234838,
          -0.24078977899962312,
          0.07095456869630487,
          -0.015717351842827312,
          0.4249206279174026,
          0.03402989003007029,
          -0.11659249900720443,
          0.19515184868872354,
          0.3270452959176288,
          -0.20162198438549894,
          -0.35224437342277365,
          0.40013795403338426,
          -0.30249713154987606,
          0.009247216146051937,
          -0.7265597602935754
         ]
        }
       ],
       "layout": {
        "autosize": false,
        "height": 1200,
        "hovermode": "closest",
        "margin": {
         "b": 10,
         "l": 10,
         "r": 10,
         "t": 10
        },
        "plot_bgcolor": "rgba(0,0,0,0)",
        "showlegend": false,
        "template": {
         "data": {
          "bar": [
           {
            "error_x": {
             "color": "#2a3f5f"
            },
            "error_y": {
             "color": "#2a3f5f"
            },
            "marker": {
             "line": {
              "color": "#E5ECF6",
              "width": 0.5
             }
            },
            "type": "bar"
           }
          ],
          "barpolar": [
           {
            "marker": {
             "line": {
              "color": "#E5ECF6",
              "width": 0.5
             }
            },
            "type": "barpolar"
           }
          ],
          "carpet": [
           {
            "aaxis": {
             "endlinecolor": "#2a3f5f",
             "gridcolor": "white",
             "linecolor": "white",
             "minorgridcolor": "white",
             "startlinecolor": "#2a3f5f"
            },
            "baxis": {
             "endlinecolor": "#2a3f5f",
             "gridcolor": "white",
             "linecolor": "white",
             "minorgridcolor": "white",
             "startlinecolor": "#2a3f5f"
            },
            "type": "carpet"
           }
          ],
          "choropleth": [
           {
            "colorbar": {
             "outlinewidth": 0,
             "ticks": ""
            },
            "type": "choropleth"
           }
          ],
          "contour": [
           {
            "colorbar": {
             "outlinewidth": 0,
             "ticks": ""
            },
            "colorscale": [
             [
              0,
              "#0d0887"
             ],
             [
              0.1111111111111111,
              "#46039f"
             ],
             [
              0.2222222222222222,
              "#7201a8"
             ],
             [
              0.3333333333333333,
              "#9c179e"
             ],
             [
              0.4444444444444444,
              "#bd3786"
             ],
             [
              0.5555555555555556,
              "#d8576b"
             ],
             [
              0.6666666666666666,
              "#ed7953"
             ],
             [
              0.7777777777777778,
              "#fb9f3a"
             ],
             [
              0.8888888888888888,
              "#fdca26"
             ],
             [
              1,
              "#f0f921"
             ]
            ],
            "type": "contour"
           }
          ],
          "contourcarpet": [
           {
            "colorbar": {
             "outlinewidth": 0,
             "ticks": ""
            },
            "type": "contourcarpet"
           }
          ],
          "heatmap": [
           {
            "colorbar": {
             "outlinewidth": 0,
             "ticks": ""
            },
            "colorscale": [
             [
              0,
              "#0d0887"
             ],
             [
              0.1111111111111111,
              "#46039f"
             ],
             [
              0.2222222222222222,
              "#7201a8"
             ],
             [
              0.3333333333333333,
              "#9c179e"
             ],
             [
              0.4444444444444444,
              "#bd3786"
             ],
             [
              0.5555555555555556,
              "#d8576b"
             ],
             [
              0.6666666666666666,
              "#ed7953"
             ],
             [
              0.7777777777777778,
              "#fb9f3a"
             ],
             [
              0.8888888888888888,
              "#fdca26"
             ],
             [
              1,
              "#f0f921"
             ]
            ],
            "type": "heatmap"
           }
          ],
          "heatmapgl": [
           {
            "colorbar": {
             "outlinewidth": 0,
             "ticks": ""
            },
            "colorscale": [
             [
              0,
              "#0d0887"
             ],
             [
              0.1111111111111111,
              "#46039f"
             ],
             [
              0.2222222222222222,
              "#7201a8"
             ],
             [
              0.3333333333333333,
              "#9c179e"
             ],
             [
              0.4444444444444444,
              "#bd3786"
             ],
             [
              0.5555555555555556,
              "#d8576b"
             ],
             [
              0.6666666666666666,
              "#ed7953"
             ],
             [
              0.7777777777777778,
              "#fb9f3a"
             ],
             [
              0.8888888888888888,
              "#fdca26"
             ],
             [
              1,
              "#f0f921"
             ]
            ],
            "type": "heatmapgl"
           }
          ],
          "histogram": [
           {
            "marker": {
             "colorbar": {
              "outlinewidth": 0,
              "ticks": ""
             }
            },
            "type": "histogram"
           }
          ],
          "histogram2d": [
           {
            "colorbar": {
             "outlinewidth": 0,
             "ticks": ""
            },
            "colorscale": [
             [
              0,
              "#0d0887"
             ],
             [
              0.1111111111111111,
              "#46039f"
             ],
             [
              0.2222222222222222,
              "#7201a8"
             ],
             [
              0.3333333333333333,
              "#9c179e"
             ],
             [
              0.4444444444444444,
              "#bd3786"
             ],
             [
              0.5555555555555556,
              "#d8576b"
             ],
             [
              0.6666666666666666,
              "#ed7953"
             ],
             [
              0.7777777777777778,
              "#fb9f3a"
             ],
             [
              0.8888888888888888,
              "#fdca26"
             ],
             [
              1,
              "#f0f921"
             ]
            ],
            "type": "histogram2d"
           }
          ],
          "histogram2dcontour": [
           {
            "colorbar": {
             "outlinewidth": 0,
             "ticks": ""
            },
            "colorscale": [
             [
              0,
              "#0d0887"
             ],
             [
              0.1111111111111111,
              "#46039f"
             ],
             [
              0.2222222222222222,
              "#7201a8"
             ],
             [
              0.3333333333333333,
              "#9c179e"
             ],
             [
              0.4444444444444444,
              "#bd3786"
             ],
             [
              0.5555555555555556,
              "#d8576b"
             ],
             [
              0.6666666666666666,
              "#ed7953"
             ],
             [
              0.7777777777777778,
              "#fb9f3a"
             ],
             [
              0.8888888888888888,
              "#fdca26"
             ],
             [
              1,
              "#f0f921"
             ]
            ],
            "type": "histogram2dcontour"
           }
          ],
          "mesh3d": [
           {
            "colorbar": {
             "outlinewidth": 0,
             "ticks": ""
            },
            "type": "mesh3d"
           }
          ],
          "parcoords": [
           {
            "line": {
             "colorbar": {
              "outlinewidth": 0,
              "ticks": ""
             }
            },
            "type": "parcoords"
           }
          ],
          "pie": [
           {
            "automargin": true,
            "type": "pie"
           }
          ],
          "scatter": [
           {
            "marker": {
             "colorbar": {
              "outlinewidth": 0,
              "ticks": ""
             }
            },
            "type": "scatter"
           }
          ],
          "scatter3d": [
           {
            "line": {
             "colorbar": {
              "outlinewidth": 0,
              "ticks": ""
             }
            },
            "marker": {
             "colorbar": {
              "outlinewidth": 0,
              "ticks": ""
             }
            },
            "type": "scatter3d"
           }
          ],
          "scattercarpet": [
           {
            "marker": {
             "colorbar": {
              "outlinewidth": 0,
              "ticks": ""
             }
            },
            "type": "scattercarpet"
           }
          ],
          "scattergeo": [
           {
            "marker": {
             "colorbar": {
              "outlinewidth": 0,
              "ticks": ""
             }
            },
            "type": "scattergeo"
           }
          ],
          "scattergl": [
           {
            "marker": {
             "colorbar": {
              "outlinewidth": 0,
              "ticks": ""
             }
            },
            "type": "scattergl"
           }
          ],
          "scattermapbox": [
           {
            "marker": {
             "colorbar": {
              "outlinewidth": 0,
              "ticks": ""
             }
            },
            "type": "scattermapbox"
           }
          ],
          "scatterpolar": [
           {
            "marker": {
             "colorbar": {
              "outlinewidth": 0,
              "ticks": ""
             }
            },
            "type": "scatterpolar"
           }
          ],
          "scatterpolargl": [
           {
            "marker": {
             "colorbar": {
              "outlinewidth": 0,
              "ticks": ""
             }
            },
            "type": "scatterpolargl"
           }
          ],
          "scatterternary": [
           {
            "marker": {
             "colorbar": {
              "outlinewidth": 0,
              "ticks": ""
             }
            },
            "type": "scatterternary"
           }
          ],
          "surface": [
           {
            "colorbar": {
             "outlinewidth": 0,
             "ticks": ""
            },
            "colorscale": [
             [
              0,
              "#0d0887"
             ],
             [
              0.1111111111111111,
              "#46039f"
             ],
             [
              0.2222222222222222,
              "#7201a8"
             ],
             [
              0.3333333333333333,
              "#9c179e"
             ],
             [
              0.4444444444444444,
              "#bd3786"
             ],
             [
              0.5555555555555556,
              "#d8576b"
             ],
             [
              0.6666666666666666,
              "#ed7953"
             ],
             [
              0.7777777777777778,
              "#fb9f3a"
             ],
             [
              0.8888888888888888,
              "#fdca26"
             ],
             [
              1,
              "#f0f921"
             ]
            ],
            "type": "surface"
           }
          ],
          "table": [
           {
            "cells": {
             "fill": {
              "color": "#EBF0F8"
             },
             "line": {
              "color": "white"
             }
            },
            "header": {
             "fill": {
              "color": "#C8D4E3"
             },
             "line": {
              "color": "white"
             }
            },
            "type": "table"
           }
          ]
         },
         "layout": {
          "annotationdefaults": {
           "arrowcolor": "#2a3f5f",
           "arrowhead": 0,
           "arrowwidth": 1
          },
          "autotypenumbers": "strict",
          "coloraxis": {
           "colorbar": {
            "outlinewidth": 0,
            "ticks": ""
           }
          },
          "colorscale": {
           "diverging": [
            [
             0,
             "#8e0152"
            ],
            [
             0.1,
             "#c51b7d"
            ],
            [
             0.2,
             "#de77ae"
            ],
            [
             0.3,
             "#f1b6da"
            ],
            [
             0.4,
             "#fde0ef"
            ],
            [
             0.5,
             "#f7f7f7"
            ],
            [
             0.6,
             "#e6f5d0"
            ],
            [
             0.7,
             "#b8e186"
            ],
            [
             0.8,
             "#7fbc41"
            ],
            [
             0.9,
             "#4d9221"
            ],
            [
             1,
             "#276419"
            ]
           ],
           "sequential": [
            [
             0,
             "#0d0887"
            ],
            [
             0.1111111111111111,
             "#46039f"
            ],
            [
             0.2222222222222222,
             "#7201a8"
            ],
            [
             0.3333333333333333,
             "#9c179e"
            ],
            [
             0.4444444444444444,
             "#bd3786"
            ],
            [
             0.5555555555555556,
             "#d8576b"
            ],
            [
             0.6666666666666666,
             "#ed7953"
            ],
            [
             0.7777777777777778,
             "#fb9f3a"
            ],
            [
             0.8888888888888888,
             "#fdca26"
            ],
            [
             1,
             "#f0f921"
            ]
           ],
           "sequentialminus": [
            [
             0,
             "#0d0887"
            ],
            [
             0.1111111111111111,
             "#46039f"
            ],
            [
             0.2222222222222222,
             "#7201a8"
            ],
            [
             0.3333333333333333,
             "#9c179e"
            ],
            [
             0.4444444444444444,
             "#bd3786"
            ],
            [
             0.5555555555555556,
             "#d8576b"
            ],
            [
             0.6666666666666666,
             "#ed7953"
            ],
            [
             0.7777777777777778,
             "#fb9f3a"
            ],
            [
             0.8888888888888888,
             "#fdca26"
            ],
            [
             1,
             "#f0f921"
            ]
           ]
          },
          "colorway": [
           "#636efa",
           "#EF553B",
           "#00cc96",
           "#ab63fa",
           "#FFA15A",
           "#19d3f3",
           "#FF6692",
           "#B6E880",
           "#FF97FF",
           "#FECB52"
          ],
          "font": {
           "color": "#2a3f5f"
          },
          "geo": {
           "bgcolor": "white",
           "lakecolor": "white",
           "landcolor": "#E5ECF6",
           "showlakes": true,
           "showland": true,
           "subunitcolor": "white"
          },
          "hoverlabel": {
           "align": "left"
          },
          "hovermode": "closest",
          "mapbox": {
           "style": "light"
          },
          "paper_bgcolor": "white",
          "plot_bgcolor": "#E5ECF6",
          "polar": {
           "angularaxis": {
            "gridcolor": "white",
            "linecolor": "white",
            "ticks": ""
           },
           "bgcolor": "#E5ECF6",
           "radialaxis": {
            "gridcolor": "white",
            "linecolor": "white",
            "ticks": ""
           }
          },
          "scene": {
           "xaxis": {
            "backgroundcolor": "#E5ECF6",
            "gridcolor": "white",
            "gridwidth": 2,
            "linecolor": "white",
            "showbackground": true,
            "ticks": "",
            "zerolinecolor": "white"
           },
           "yaxis": {
            "backgroundcolor": "#E5ECF6",
            "gridcolor": "white",
            "gridwidth": 2,
            "linecolor": "white",
            "showbackground": true,
            "ticks": "",
            "zerolinecolor": "white"
           },
           "zaxis": {
            "backgroundcolor": "#E5ECF6",
            "gridcolor": "white",
            "gridwidth": 2,
            "linecolor": "white",
            "showbackground": true,
            "ticks": "",
            "zerolinecolor": "white"
           }
          },
          "shapedefaults": {
           "line": {
            "color": "#2a3f5f"
           }
          },
          "ternary": {
           "aaxis": {
            "gridcolor": "white",
            "linecolor": "white",
            "ticks": ""
           },
           "baxis": {
            "gridcolor": "white",
            "linecolor": "white",
            "ticks": ""
           },
           "bgcolor": "#E5ECF6",
           "caxis": {
            "gridcolor": "white",
            "linecolor": "white",
            "ticks": ""
           }
          },
          "title": {
           "x": 0.05
          },
          "xaxis": {
           "automargin": true,
           "gridcolor": "white",
           "linecolor": "white",
           "ticks": "",
           "title": {
            "standoff": 15
           },
           "zerolinecolor": "white",
           "zerolinewidth": 2
          },
          "yaxis": {
           "automargin": true,
           "gridcolor": "white",
           "linecolor": "white",
           "ticks": "",
           "title": {
            "standoff": 15
           },
           "zerolinecolor": "white",
           "zerolinewidth": 2
          }
         }
        },
        "title": {
         "font": {
          "size": 16
         }
        },
        "width": 1800,
        "xaxis": {
         "range": [
          -1.15,
          1.05
         ],
         "showgrid": false,
         "showticklabels": false,
         "zeroline": false
        },
        "yaxis": {
         "range": [
          -1.15,
          1.05
         ],
         "showgrid": false,
         "showticklabels": false,
         "zeroline": false
        }
       }
      },
      "text/html": [
       "<div>                            <div id=\"d8309fba-d519-4036-aae0-adb222437dae\" class=\"plotly-graph-div\" style=\"height:1200px; width:1800px;\"></div>            <script type=\"text/javascript\">                require([\"plotly\"], function(Plotly) {                    window.PLOTLYENV=window.PLOTLYENV || {};                                    if (document.getElementById(\"d8309fba-d519-4036-aae0-adb222437dae\")) {                    Plotly.newPlot(                        \"d8309fba-d519-4036-aae0-adb222437dae\",                        [{\"line\": {\"color\": \"#000000\", \"width\": 4}, \"mode\": \"lines\", \"type\": \"scatter\", \"x\": [-0.21504114555328804, 0.04198970488664955, null, 0.04198970488664955, -0.40481117767873975, null], \"y\": [0.3679474846301177, 0.2199345225727419, null, 0.2199345225727419, -0.2513692262583965, null]}, {\"line\": {\"color\": \"#404040\", \"width\": 2}, \"mode\": \"lines\", \"type\": \"scatter\", \"x\": [0.12336852505241598, -0.21504114555328804, null, 0.12336852505241598, 0.04198970488664955, null, -0.21504114555328804, -0.5003199134207165, null, 0.04198970488664955, -0.5003199134207165, null], \"y\": [0.7749006912888591, 0.3679474846301177, null, 0.7749006912888591, 0.2199345225727419, null, 0.3679474846301177, 0.6299067332620633, null, 0.2199345225727419, 0.6299067332620633, null]}, {\"line\": {\"color\": \"#C0C0C0\", \"width\": 1}, \"mode\": \"lines\", \"type\": \"scatter\", \"x\": [0.6551723240235467, 0.14210848219909483, null, -0.21504114555328804, 0.21232297180977017, null, -0.21504114555328804, -0.40481117767873975, null, -0.21504114555328804, -0.14624962125101879, null, -0.21504114555328804, -0.49226370664576546, null, 0.21232297180977017, 0.04198970488664955, null, 0.21232297180977017, -0.14624962125101879, null, 0.21232297180977017, 0.14210848219909483, null, 0.21232297180977017, -0.49226370664576546, null, 0.04198970488664955, -0.14624962125101879, null, 0.04198970488664955, 0.14210848219909483, null, 0.04198970488664955, -0.49226370664576546, null, 0.04198970488664955, 0.6248478034922031, null, -0.40481117767873975, -0.14624962125101879, null, -0.40481117767873975, 0.14210848219909483, null, -0.5003199134207165, -0.49226370664576546, null, -0.14624962125101879, 0.14210848219909483, null, -0.14624962125101879, -0.49226370664576546, null, 0.14210848219909483, -0.041124246914151764, null], \"y\": [-0.7123911490507588, -0.45311952058715077, null, 0.3679474846301177, -0.02846003741209545, null, 0.3679474846301177, -0.2513692262583965, null, 0.3679474846301177, -0.15187474251260133, null, 0.3679474846301177, 0.1703691748047052, null, -0.02846003741209545, 0.2199345225727419, null, -0.02846003741209545, -0.15187474251260133, null, -0.02846003741209545, -0.45311952058715077, null, -0.02846003741209545, 0.1703691748047052, null, 0.2199345225727419, -0.15187474251260133, null, 0.2199345225727419, -0.45311952058715077, null, 0.2199345225727419, 0.1703691748047052, null, 0.2199345225727419, 0.4341560692625157, null, -0.2513692262583965, -0.15187474251260133, null, -0.2513692262583965, -0.45311952058715077, null, 0.6299067332620633, 0.1703691748047052, null, -0.15187474251260133, -0.45311952058715077, null, -0.15187474251260133, 0.1703691748047052, null, -0.45311952058715077, -1.0, null]}, {\"hoverinfo\": \"text\", \"hovertext\": [\"1\", \"2\", \"7\", \"5\", \"9\", \"4\", \"3\", \"6\", \"6\", \"5\", \"1\", \"1\"], \"marker\": {\"color\": [12, 19, 45, 36, 41, 18, 10, 20, 15, 6, 7, 6], \"colorbar\": {\"thickness\": 30, \"title\": {\"side\": \"right\", \"text\": \"degree\"}, \"xanchor\": \"left\"}, \"colorscale\": [[0.0, \"rgb(255,255,255)\"], [0.125, \"rgb(240,240,240)\"], [0.25, \"rgb(217,217,217)\"], [0.375, \"rgb(189,189,189)\"], [0.5, \"rgb(150,150,150)\"], [0.625, \"rgb(115,115,115)\"], [0.75, \"rgb(82,82,82)\"], [0.875, \"rgb(37,37,37)\"], [1.0, \"rgb(0,0,0)\"]], \"line\": {\"width\": 1.5}, \"showscale\": false, \"size\": 15}, \"mode\": \"markers+text\", \"text\": [\"\\u03c3\\u03ac\\u03c1\\u03be\", \"\\u03ba\\u03cd\\u03c1\\u03b9\\u03bf\\u03c2\", \"\\u03c7\\u03c1\\u03b9\\u03c3\\u03c4\\u03cc\\u03c2\", \"\\u03b4\\u03b9\\u03ba\\u03b1\\u03b9\\u03bf\\u03c3\\u03cd\\u03bd\\u03b7\", \"\\u03b8\\u03b5\\u03cc\\u03c2\", \"\\u03b5\\u1f30\\u03bc\\u03af\", \"\\u03c0\\u1fb6\\u03c2\", \"\\u03bd\\u03cc\\u03bc\\u03bf\\u03c2\", \"\\u1f01\\u03bc\\u03b1\\u03c1\\u03c4\\u03af\\u03b1\", \"\\u03c0\\u03af\\u03c3\\u03c4\\u03b9\\u03c2\", \"\\u03b8\\u03ac\\u03bd\\u03b1\\u03c4\\u03bf\\u03c2\", \"\\u03c0\\u03bd\\u03b5\\u1fe6\\u03bc\\u03b1\"], \"textfont\": {\"size\": 32}, \"textposition\": \"bottom center\", \"type\": \"scatter\", \"x\": [0.6551723240235467, 0.12336852505241598, -0.21504114555328804, 0.21232297180977017, 0.04198970488664955, -0.40481117767873975, -0.5003199134207165, -0.14624962125101879, 0.14210848219909483, -0.49226370664576546, -0.041124246914151764, 0.6248478034922031], \"y\": [-0.7123911490507588, 0.7749006912888591, 0.3679474846301177, -0.02846003741209545, 0.2199345225727419, -0.2513692262583965, 0.6299067332620633, -0.15187474251260133, -0.45311952058715077, 0.1703691748047052, -1.0, 0.4341560692625157]}, {\"hoverinfo\": \"text\", \"marker\": {\"opacity\": 0}, \"mode\": \"markers\", \"opacity\": 0, \"text\": [\"15\", \"60\", \"71\", \"16\", \"148\", \"55\", \"66\", \"25\", \"38\", \"26\", \"16\", \"13\", \"26\", \"93\", \"90\", \"34\", \"23\", \"47\", \"50\", \"36\", \"16\", \"23\", \"29\", \"27\", \"17\"], \"type\": \"scatter\", \"x\": [0.39864040311132076, -0.04583631025043603, 0.08267911496953276, -0.0013590868717589383, -0.08652572033331925, -0.3099261616160139, -0.35768052948700224, -0.18064538340215341, -0.35365242609952674, 0.12715633834820986, 0.03303667527937569, 0.1772157270044325, -0.13997036741799765, -0.1814107363960451, -0.22916510426703346, -0.05212995818218462, 0.09204909354287219, -0.22513700087955796, 0.33341875418942635, -0.2755303994648793, -0.13135134773982246, -0.49629181003324097, -0.0020705695259619766, -0.31925666394839214, 0.05049211764247154], \"y\": [-0.5827553348189548, 0.5714240879594884, 0.4974176069308005, 0.16974372360901113, 0.29394100360142983, 0.0582891291858606, 0.4989271089460905, 0.1080363710587582, 0.2691583297174115, 0.09573724258032323, -0.09016738996234838, -0.24078977899962312, 0.07095456869630487, -0.015717351842827312, 0.4249206279174026, 0.03402989003007029, -0.11659249900720443, 0.19515184868872354, 0.3270452959176288, -0.20162198438549894, -0.35224437342277365, 0.40013795403338426, -0.30249713154987606, 0.009247216146051937, -0.7265597602935754]}],                        {\"autosize\": false, \"height\": 1200, \"hovermode\": \"closest\", \"margin\": {\"b\": 10, \"l\": 10, \"r\": 10, \"t\": 10}, \"plot_bgcolor\": \"rgba(0,0,0,0)\", \"showlegend\": false, \"template\": {\"data\": {\"bar\": [{\"error_x\": {\"color\": \"#2a3f5f\"}, \"error_y\": {\"color\": \"#2a3f5f\"}, \"marker\": {\"line\": {\"color\": \"#E5ECF6\", \"width\": 0.5}}, \"type\": \"bar\"}], \"barpolar\": [{\"marker\": {\"line\": {\"color\": \"#E5ECF6\", \"width\": 0.5}}, \"type\": \"barpolar\"}], \"carpet\": [{\"aaxis\": {\"endlinecolor\": \"#2a3f5f\", \"gridcolor\": \"white\", \"linecolor\": \"white\", \"minorgridcolor\": \"white\", \"startlinecolor\": \"#2a3f5f\"}, \"baxis\": {\"endlinecolor\": \"#2a3f5f\", \"gridcolor\": \"white\", \"linecolor\": \"white\", \"minorgridcolor\": \"white\", \"startlinecolor\": \"#2a3f5f\"}, \"type\": \"carpet\"}], \"choropleth\": [{\"colorbar\": {\"outlinewidth\": 0, \"ticks\": \"\"}, \"type\": \"choropleth\"}], \"contour\": [{\"colorbar\": {\"outlinewidth\": 0, \"ticks\": \"\"}, \"colorscale\": [[0.0, \"#0d0887\"], [0.1111111111111111, \"#46039f\"], [0.2222222222222222, \"#7201a8\"], [0.3333333333333333, \"#9c179e\"], [0.4444444444444444, \"#bd3786\"], [0.5555555555555556, \"#d8576b\"], [0.6666666666666666, \"#ed7953\"], [0.7777777777777778, \"#fb9f3a\"], [0.8888888888888888, \"#fdca26\"], [1.0, \"#f0f921\"]], \"type\": \"contour\"}], \"contourcarpet\": [{\"colorbar\": {\"outlinewidth\": 0, \"ticks\": \"\"}, \"type\": \"contourcarpet\"}], \"heatmap\": [{\"colorbar\": {\"outlinewidth\": 0, \"ticks\": \"\"}, \"colorscale\": [[0.0, \"#0d0887\"], [0.1111111111111111, \"#46039f\"], [0.2222222222222222, \"#7201a8\"], [0.3333333333333333, \"#9c179e\"], [0.4444444444444444, \"#bd3786\"], [0.5555555555555556, \"#d8576b\"], [0.6666666666666666, \"#ed7953\"], [0.7777777777777778, \"#fb9f3a\"], [0.8888888888888888, \"#fdca26\"], [1.0, \"#f0f921\"]], \"type\": \"heatmap\"}], \"heatmapgl\": [{\"colorbar\": {\"outlinewidth\": 0, \"ticks\": \"\"}, \"colorscale\": [[0.0, \"#0d0887\"], [0.1111111111111111, \"#46039f\"], [0.2222222222222222, \"#7201a8\"], [0.3333333333333333, \"#9c179e\"], [0.4444444444444444, \"#bd3786\"], [0.5555555555555556, \"#d8576b\"], [0.6666666666666666, \"#ed7953\"], [0.7777777777777778, \"#fb9f3a\"], [0.8888888888888888, \"#fdca26\"], [1.0, \"#f0f921\"]], \"type\": \"heatmapgl\"}], \"histogram\": [{\"marker\": {\"colorbar\": {\"outlinewidth\": 0, \"ticks\": \"\"}}, \"type\": \"histogram\"}], \"histogram2d\": [{\"colorbar\": {\"outlinewidth\": 0, \"ticks\": \"\"}, \"colorscale\": [[0.0, \"#0d0887\"], [0.1111111111111111, \"#46039f\"], [0.2222222222222222, \"#7201a8\"], [0.3333333333333333, \"#9c179e\"], [0.4444444444444444, \"#bd3786\"], [0.5555555555555556, \"#d8576b\"], [0.6666666666666666, \"#ed7953\"], [0.7777777777777778, \"#fb9f3a\"], [0.8888888888888888, \"#fdca26\"], [1.0, \"#f0f921\"]], \"type\": \"histogram2d\"}], \"histogram2dcontour\": [{\"colorbar\": {\"outlinewidth\": 0, \"ticks\": \"\"}, \"colorscale\": [[0.0, \"#0d0887\"], [0.1111111111111111, \"#46039f\"], [0.2222222222222222, \"#7201a8\"], [0.3333333333333333, \"#9c179e\"], [0.4444444444444444, \"#bd3786\"], [0.5555555555555556, \"#d8576b\"], [0.6666666666666666, \"#ed7953\"], [0.7777777777777778, \"#fb9f3a\"], [0.8888888888888888, \"#fdca26\"], [1.0, \"#f0f921\"]], \"type\": \"histogram2dcontour\"}], \"mesh3d\": [{\"colorbar\": {\"outlinewidth\": 0, \"ticks\": \"\"}, \"type\": \"mesh3d\"}], \"parcoords\": [{\"line\": {\"colorbar\": {\"outlinewidth\": 0, \"ticks\": \"\"}}, \"type\": \"parcoords\"}], \"pie\": [{\"automargin\": true, \"type\": \"pie\"}], \"scatter\": [{\"marker\": {\"colorbar\": {\"outlinewidth\": 0, \"ticks\": \"\"}}, \"type\": \"scatter\"}], \"scatter3d\": [{\"line\": {\"colorbar\": {\"outlinewidth\": 0, \"ticks\": \"\"}}, \"marker\": {\"colorbar\": {\"outlinewidth\": 0, \"ticks\": \"\"}}, \"type\": \"scatter3d\"}], \"scattercarpet\": [{\"marker\": {\"colorbar\": {\"outlinewidth\": 0, \"ticks\": \"\"}}, \"type\": \"scattercarpet\"}], \"scattergeo\": [{\"marker\": {\"colorbar\": {\"outlinewidth\": 0, \"ticks\": \"\"}}, \"type\": \"scattergeo\"}], \"scattergl\": [{\"marker\": {\"colorbar\": {\"outlinewidth\": 0, \"ticks\": \"\"}}, \"type\": \"scattergl\"}], \"scattermapbox\": [{\"marker\": {\"colorbar\": {\"outlinewidth\": 0, \"ticks\": \"\"}}, \"type\": \"scattermapbox\"}], \"scatterpolar\": [{\"marker\": {\"colorbar\": {\"outlinewidth\": 0, \"ticks\": \"\"}}, \"type\": \"scatterpolar\"}], \"scatterpolargl\": [{\"marker\": {\"colorbar\": {\"outlinewidth\": 0, \"ticks\": \"\"}}, \"type\": \"scatterpolargl\"}], \"scatterternary\": [{\"marker\": {\"colorbar\": {\"outlinewidth\": 0, \"ticks\": \"\"}}, \"type\": \"scatterternary\"}], \"surface\": [{\"colorbar\": {\"outlinewidth\": 0, \"ticks\": \"\"}, \"colorscale\": [[0.0, \"#0d0887\"], [0.1111111111111111, \"#46039f\"], [0.2222222222222222, \"#7201a8\"], [0.3333333333333333, \"#9c179e\"], [0.4444444444444444, \"#bd3786\"], [0.5555555555555556, \"#d8576b\"], [0.6666666666666666, \"#ed7953\"], [0.7777777777777778, \"#fb9f3a\"], [0.8888888888888888, \"#fdca26\"], [1.0, \"#f0f921\"]], \"type\": \"surface\"}], \"table\": [{\"cells\": {\"fill\": {\"color\": \"#EBF0F8\"}, \"line\": {\"color\": \"white\"}}, \"header\": {\"fill\": {\"color\": \"#C8D4E3\"}, \"line\": {\"color\": \"white\"}}, \"type\": \"table\"}]}, \"layout\": {\"annotationdefaults\": {\"arrowcolor\": \"#2a3f5f\", \"arrowhead\": 0, \"arrowwidth\": 1}, \"autotypenumbers\": \"strict\", \"coloraxis\": {\"colorbar\": {\"outlinewidth\": 0, \"ticks\": \"\"}}, \"colorscale\": {\"diverging\": [[0, \"#8e0152\"], [0.1, \"#c51b7d\"], [0.2, \"#de77ae\"], [0.3, \"#f1b6da\"], [0.4, \"#fde0ef\"], [0.5, \"#f7f7f7\"], [0.6, \"#e6f5d0\"], [0.7, \"#b8e186\"], [0.8, \"#7fbc41\"], [0.9, \"#4d9221\"], [1, \"#276419\"]], \"sequential\": [[0.0, \"#0d0887\"], [0.1111111111111111, \"#46039f\"], [0.2222222222222222, \"#7201a8\"], [0.3333333333333333, \"#9c179e\"], [0.4444444444444444, \"#bd3786\"], [0.5555555555555556, \"#d8576b\"], [0.6666666666666666, \"#ed7953\"], [0.7777777777777778, \"#fb9f3a\"], [0.8888888888888888, \"#fdca26\"], [1.0, \"#f0f921\"]], \"sequentialminus\": [[0.0, \"#0d0887\"], [0.1111111111111111, \"#46039f\"], [0.2222222222222222, \"#7201a8\"], [0.3333333333333333, \"#9c179e\"], [0.4444444444444444, \"#bd3786\"], [0.5555555555555556, \"#d8576b\"], [0.6666666666666666, \"#ed7953\"], [0.7777777777777778, \"#fb9f3a\"], [0.8888888888888888, \"#fdca26\"], [1.0, \"#f0f921\"]]}, \"colorway\": [\"#636efa\", \"#EF553B\", \"#00cc96\", \"#ab63fa\", \"#FFA15A\", \"#19d3f3\", \"#FF6692\", \"#B6E880\", \"#FF97FF\", \"#FECB52\"], \"font\": {\"color\": \"#2a3f5f\"}, \"geo\": {\"bgcolor\": \"white\", \"lakecolor\": \"white\", \"landcolor\": \"#E5ECF6\", \"showlakes\": true, \"showland\": true, \"subunitcolor\": \"white\"}, \"hoverlabel\": {\"align\": \"left\"}, \"hovermode\": \"closest\", \"mapbox\": {\"style\": \"light\"}, \"paper_bgcolor\": \"white\", \"plot_bgcolor\": \"#E5ECF6\", \"polar\": {\"angularaxis\": {\"gridcolor\": \"white\", \"linecolor\": \"white\", \"ticks\": \"\"}, \"bgcolor\": \"#E5ECF6\", \"radialaxis\": {\"gridcolor\": \"white\", \"linecolor\": \"white\", \"ticks\": \"\"}}, \"scene\": {\"xaxis\": {\"backgroundcolor\": \"#E5ECF6\", \"gridcolor\": \"white\", \"gridwidth\": 2, \"linecolor\": \"white\", \"showbackground\": true, \"ticks\": \"\", \"zerolinecolor\": \"white\"}, \"yaxis\": {\"backgroundcolor\": \"#E5ECF6\", \"gridcolor\": \"white\", \"gridwidth\": 2, \"linecolor\": \"white\", \"showbackground\": true, \"ticks\": \"\", \"zerolinecolor\": \"white\"}, \"zaxis\": {\"backgroundcolor\": \"#E5ECF6\", \"gridcolor\": \"white\", \"gridwidth\": 2, \"linecolor\": \"white\", \"showbackground\": true, \"ticks\": \"\", \"zerolinecolor\": \"white\"}}, \"shapedefaults\": {\"line\": {\"color\": \"#2a3f5f\"}}, \"ternary\": {\"aaxis\": {\"gridcolor\": \"white\", \"linecolor\": \"white\", \"ticks\": \"\"}, \"baxis\": {\"gridcolor\": \"white\", \"linecolor\": \"white\", \"ticks\": \"\"}, \"bgcolor\": \"#E5ECF6\", \"caxis\": {\"gridcolor\": \"white\", \"linecolor\": \"white\", \"ticks\": \"\"}}, \"title\": {\"x\": 0.05}, \"xaxis\": {\"automargin\": true, \"gridcolor\": \"white\", \"linecolor\": \"white\", \"ticks\": \"\", \"title\": {\"standoff\": 15}, \"zerolinecolor\": \"white\", \"zerolinewidth\": 2}, \"yaxis\": {\"automargin\": true, \"gridcolor\": \"white\", \"linecolor\": \"white\", \"ticks\": \"\", \"title\": {\"standoff\": 15}, \"zerolinecolor\": \"white\", \"zerolinewidth\": 2}}}, \"title\": {\"font\": {\"size\": 16}}, \"width\": 1800, \"xaxis\": {\"range\": [-1.15, 1.05], \"showgrid\": false, \"showticklabels\": false, \"zeroline\": false}, \"yaxis\": {\"range\": [-1.15, 1.05], \"showgrid\": false, \"showticklabels\": false, \"zeroline\": false}},                        {\"responsive\": true}                    ).then(function(){\n",
       "                            \n",
       "var gd = document.getElementById('d8309fba-d519-4036-aae0-adb222437dae');\n",
       "var x = new MutationObserver(function (mutations, observer) {{\n",
       "        var display = window.getComputedStyle(gd).display;\n",
       "        if (!display || display === 'none') {{\n",
       "            console.log([gd, 'removed!']);\n",
       "            Plotly.purge(gd);\n",
       "            observer.disconnect();\n",
       "        }}\n",
       "}});\n",
       "\n",
       "// Listen for the removal of the full notebook cells\n",
       "var notebookContainer = gd.closest('#notebook-container');\n",
       "if (notebookContainer) {{\n",
       "    x.observe(notebookContainer, {childList: true});\n",
       "}}\n",
       "\n",
       "// Listen for the clearing of the current output cell\n",
       "var outputEl = gd.closest('.output');\n",
       "if (outputEl) {{\n",
       "    x.observe(outputEl, {childList: true});\n",
       "}}\n",
       "\n",
       "                        })                };                });            </script>        </div>"
      ]
     },
     "metadata": {},
     "output_type": "display_data"
    }
   ],
   "source": [
    "G = authors_df[authors_df[\"author\"].str.contains(\"Paul of\")][\"dikaiosyne_G_sents\"].tolist()[0]\n",
    "fig = textnet.draw_2d_network(G, 1800, 1200, 32) #\n",
    "fig.show()"
   ]
  },
  {
   "cell_type": "code",
   "execution_count": 136,
   "metadata": {},
   "outputs": [
    {
     "name": "stdout",
     "output_type": "stream",
     "text": [
      "A file with the same name (\"G_sents_paul.png\") already exists in this location.\n",
      "Press Enter to overwrite it or choose different path and filename: \n",
      "Your <class 'plotly.graph_objs._figure.Figure'> object has been succefully written as \"https://sciencedata.dk/files/SDAM_root/SDAM_data/ECCE_public/G_sents_paul.png\"\n"
     ]
    }
   ],
   "source": [
    "pio.write_image(fig, \"../figures/G_sents_paul.png\")\n",
    "#s.write_file(\"G_sents_paul.png\", fig)"
   ]
  },
  {
   "cell_type": "code",
   "execution_count": 137,
   "metadata": {},
   "outputs": [
    {
     "data": {
      "application/vnd.plotly.v1+json": {
       "config": {
        "plotlyServerURL": "https://plot.ly"
       },
       "data": [
        {
         "line": {
          "color": "#000000",
          "width": 4
         },
         "mode": "lines",
         "type": "scatter",
         "x": [
          0.12262367571703188,
          0.20366629093060945,
          null,
          0.12262367571703188,
          -0.224949006464176,
          null
         ],
         "y": [
          0.07448887759343632,
          -0.17131693637845824,
          null,
          0.07448887759343632,
          -0.2772447876659098,
          null
         ]
        },
        {
         "line": {
          "color": "#404040",
          "width": 2
         },
         "mode": "lines",
         "type": "scatter",
         "x": [
          0.7843190671752259,
          0.12262367571703188,
          null,
          -0.3948775178782617,
          0.12262367571703188,
          null,
          0.12262367571703188,
          0.03835665281158546,
          null,
          0.20366629093060945,
          -0.224949006464176,
          null
         ],
         "y": [
          -0.21560336070532207,
          0.07448887759343632,
          null,
          0.04804412403001821,
          0.07448887759343632,
          null,
          0.07448887759343632,
          -0.53752973980001,
          null,
          -0.17131693637845824,
          -0.2772447876659098,
          null
         ]
        },
        {
         "line": {
          "color": "#C0C0C0",
          "width": 1
         },
         "mode": "lines",
         "type": "scatter",
         "x": [
          0.7843190671752259,
          0.45388032729528155,
          null,
          0.7843190671752259,
          0.20366629093060945,
          null,
          0.45388032729528155,
          0.1718155336172795,
          null,
          0.45388032729528155,
          0.12262367571703188,
          null,
          0.45388032729528155,
          0.20366629093060945,
          null,
          0.45388032729528155,
          -0.224949006464176,
          null,
          0.45388032729528155,
          0.03835665281158546,
          null,
          0.45388032729528155,
          -0.15483502320457618,
          null,
          -0.3948775178782617,
          0.1718155336172795,
          null,
          -0.3948775178782617,
          -1,
          null,
          -0.3948775178782617,
          0.20366629093060945,
          null,
          -0.3948775178782617,
          -0.224949006464176,
          null,
          -0.3948775178782617,
          0.03835665281158546,
          null,
          -0.3948775178782617,
          -0.15483502320457618,
          null,
          0.1718155336172795,
          0.12262367571703188,
          null,
          0.1718155336172795,
          0.20366629093060945,
          null,
          0.1718155336172795,
          -0.15483502320457618,
          null,
          0.12262367571703188,
          -0.15483502320457618,
          null,
          0.20366629093060945,
          0.03835665281158546,
          null,
          0.20366629093060945,
          -0.15483502320457618,
          null,
          -0.224949006464176,
          -0.15483502320457618,
          null
         ],
         "y": [
          -0.21560336070532207,
          0.08605819236296984,
          null,
          -0.21560336070532207,
          -0.17131693637845824,
          null,
          0.08605819236296984,
          0.5390706835133624,
          null,
          0.08605819236296984,
          0.07448887759343632,
          null,
          0.08605819236296984,
          -0.17131693637845824,
          null,
          0.08605819236296984,
          -0.2772447876659098,
          null,
          0.08605819236296984,
          -0.53752973980001,
          null,
          0.08605819236296984,
          0.3721162964593598,
          null,
          0.04804412403001821,
          0.5390706835133624,
          null,
          0.04804412403001821,
          0.08191665059055364,
          null,
          0.04804412403001821,
          -0.17131693637845824,
          null,
          0.04804412403001821,
          -0.2772447876659098,
          null,
          0.04804412403001821,
          -0.53752973980001,
          null,
          0.04804412403001821,
          0.3721162964593598,
          null,
          0.5390706835133624,
          0.07448887759343632,
          null,
          0.5390706835133624,
          -0.17131693637845824,
          null,
          0.5390706835133624,
          0.3721162964593598,
          null,
          0.07448887759343632,
          0.3721162964593598,
          null,
          -0.17131693637845824,
          -0.53752973980001,
          null,
          -0.17131693637845824,
          0.3721162964593598,
          null,
          -0.2772447876659098,
          0.3721162964593598,
          null
         ]
        },
        {
         "hoverinfo": "text",
         "hovertext": [
          "3",
          "7",
          "7",
          "5",
          "8",
          "1",
          "8",
          "5",
          "4",
          "6"
         ],
         "marker": {
          "color": [
           24,
           52,
           56,
           30,
           32,
           5,
           27,
           15,
           4,
           7
          ],
          "colorbar": {
           "thickness": 30,
           "title": {
            "side": "right",
            "text": "degree"
           },
           "xanchor": "left"
          },
          "colorscale": [
           [
            0,
            "rgb(255,255,255)"
           ],
           [
            0.125,
            "rgb(240,240,240)"
           ],
           [
            0.25,
            "rgb(217,217,217)"
           ],
           [
            0.375,
            "rgb(189,189,189)"
           ],
           [
            0.5,
            "rgb(150,150,150)"
           ],
           [
            0.625,
            "rgb(115,115,115)"
           ],
           [
            0.75,
            "rgb(82,82,82)"
           ],
           [
            0.875,
            "rgb(37,37,37)"
           ],
           [
            1,
            "rgb(0,0,0)"
           ]
          ],
          "line": {
           "width": 1.5
          },
          "showscale": false,
          "size": 15
         },
         "mode": "markers+text",
         "text": [
          "πᾶς",
          "ἄνθρωπος",
          "πίστις",
          "δικαιοσύνη",
          "θεός",
          "ἀγάπη",
          "κύριος",
          "χριστός",
          "εἰμί",
          "ἀλήθεια"
         ],
         "textfont": {
          "size": 32
         },
         "textposition": "bottom center",
         "type": "scatter",
         "x": [
          0.7843190671752259,
          0.45388032729528155,
          -0.3948775178782617,
          0.1718155336172795,
          0.12262367571703188,
          -1,
          0.20366629093060945,
          -0.224949006464176,
          0.03835665281158546,
          -0.15483502320457618
         ],
         "y": [
          -0.21560336070532207,
          0.08605819236296984,
          0.04804412403001821,
          0.5390706835133624,
          0.07448887759343632,
          0.08191665059055364,
          -0.17131693637845824,
          -0.2772447876659098,
          -0.53752973980001,
          0.3721162964593598
         ]
        },
        {
         "hoverinfo": "text",
         "marker": {
          "opacity": 0
         },
         "mode": "markers",
         "opacity": 0,
         "text": [
          "19",
          "42",
          "27",
          "3",
          "22",
          "10",
          "26",
          "13",
          "8",
          "3",
          "40",
          "16",
          "20",
          "29",
          "15",
          "12",
          "3",
          "3",
          "4",
          "59",
          "95",
          "49",
          "19",
          "56",
          "25",
          "8",
          "9"
         ],
         "type": "scatter",
         "x": [
          0.6190996972352537,
          0.4534713714461289,
          0.49399267905291766,
          0.3128479304562805,
          0.2882520015061567,
          0.3287733091129455,
          0.11446566041555277,
          0.2461184900534335,
          0.1495226520453527,
          -0.1115309921304911,
          -0.13612692108061492,
          -0.6974387589391309,
          -0.09560561347382612,
          -0.30991326217121884,
          -0.17826043253333812,
          -0.2748562705414189,
          0.1472196046671557,
          0.18774091227394446,
          0.00849025520635166,
          0.16314498332382066,
          -0.051162665373572065,
          0.08049016426430866,
          -0.01610567374377215,
          -0.01064135776678328,
          0.12101147187109745,
          0.024415633863016636,
          -0.1898920148343761
         ],
         "y": [
          -0.06477258417117612,
          -0.07055724155594287,
          -0.19346014854189014,
          0.31256443793816613,
          0.08027353497820308,
          -0.0426293720077442,
          -0.09559329765146998,
          -0.22573577371852005,
          0.22908724441116482,
          0.2935574037716903,
          0.06126650081172727,
          0.06498038731028592,
          -0.06163640617422002,
          -0.11460033181794581,
          -0.24474280788499586,
          0.210080210244689,
          0.3067797805533994,
          0.18387687356745208,
          0.45559348998636107,
          -0.04841402939251096,
          -0.10137795503623676,
          -0.23152043110328682,
          0.22330258702639805,
          -0.22428086202218403,
          -0.3544233380892341,
          0.10039968004045077,
          0.04743575439672498
         ]
        }
       ],
       "layout": {
        "autosize": false,
        "height": 1200,
        "hovermode": "closest",
        "margin": {
         "b": 10,
         "l": 10,
         "r": 10,
         "t": 10
        },
        "plot_bgcolor": "rgba(0,0,0,0)",
        "showlegend": false,
        "template": {
         "data": {
          "bar": [
           {
            "error_x": {
             "color": "#2a3f5f"
            },
            "error_y": {
             "color": "#2a3f5f"
            },
            "marker": {
             "line": {
              "color": "#E5ECF6",
              "width": 0.5
             }
            },
            "type": "bar"
           }
          ],
          "barpolar": [
           {
            "marker": {
             "line": {
              "color": "#E5ECF6",
              "width": 0.5
             }
            },
            "type": "barpolar"
           }
          ],
          "carpet": [
           {
            "aaxis": {
             "endlinecolor": "#2a3f5f",
             "gridcolor": "white",
             "linecolor": "white",
             "minorgridcolor": "white",
             "startlinecolor": "#2a3f5f"
            },
            "baxis": {
             "endlinecolor": "#2a3f5f",
             "gridcolor": "white",
             "linecolor": "white",
             "minorgridcolor": "white",
             "startlinecolor": "#2a3f5f"
            },
            "type": "carpet"
           }
          ],
          "choropleth": [
           {
            "colorbar": {
             "outlinewidth": 0,
             "ticks": ""
            },
            "type": "choropleth"
           }
          ],
          "contour": [
           {
            "colorbar": {
             "outlinewidth": 0,
             "ticks": ""
            },
            "colorscale": [
             [
              0,
              "#0d0887"
             ],
             [
              0.1111111111111111,
              "#46039f"
             ],
             [
              0.2222222222222222,
              "#7201a8"
             ],
             [
              0.3333333333333333,
              "#9c179e"
             ],
             [
              0.4444444444444444,
              "#bd3786"
             ],
             [
              0.5555555555555556,
              "#d8576b"
             ],
             [
              0.6666666666666666,
              "#ed7953"
             ],
             [
              0.7777777777777778,
              "#fb9f3a"
             ],
             [
              0.8888888888888888,
              "#fdca26"
             ],
             [
              1,
              "#f0f921"
             ]
            ],
            "type": "contour"
           }
          ],
          "contourcarpet": [
           {
            "colorbar": {
             "outlinewidth": 0,
             "ticks": ""
            },
            "type": "contourcarpet"
           }
          ],
          "heatmap": [
           {
            "colorbar": {
             "outlinewidth": 0,
             "ticks": ""
            },
            "colorscale": [
             [
              0,
              "#0d0887"
             ],
             [
              0.1111111111111111,
              "#46039f"
             ],
             [
              0.2222222222222222,
              "#7201a8"
             ],
             [
              0.3333333333333333,
              "#9c179e"
             ],
             [
              0.4444444444444444,
              "#bd3786"
             ],
             [
              0.5555555555555556,
              "#d8576b"
             ],
             [
              0.6666666666666666,
              "#ed7953"
             ],
             [
              0.7777777777777778,
              "#fb9f3a"
             ],
             [
              0.8888888888888888,
              "#fdca26"
             ],
             [
              1,
              "#f0f921"
             ]
            ],
            "type": "heatmap"
           }
          ],
          "heatmapgl": [
           {
            "colorbar": {
             "outlinewidth": 0,
             "ticks": ""
            },
            "colorscale": [
             [
              0,
              "#0d0887"
             ],
             [
              0.1111111111111111,
              "#46039f"
             ],
             [
              0.2222222222222222,
              "#7201a8"
             ],
             [
              0.3333333333333333,
              "#9c179e"
             ],
             [
              0.4444444444444444,
              "#bd3786"
             ],
             [
              0.5555555555555556,
              "#d8576b"
             ],
             [
              0.6666666666666666,
              "#ed7953"
             ],
             [
              0.7777777777777778,
              "#fb9f3a"
             ],
             [
              0.8888888888888888,
              "#fdca26"
             ],
             [
              1,
              "#f0f921"
             ]
            ],
            "type": "heatmapgl"
           }
          ],
          "histogram": [
           {
            "marker": {
             "colorbar": {
              "outlinewidth": 0,
              "ticks": ""
             }
            },
            "type": "histogram"
           }
          ],
          "histogram2d": [
           {
            "colorbar": {
             "outlinewidth": 0,
             "ticks": ""
            },
            "colorscale": [
             [
              0,
              "#0d0887"
             ],
             [
              0.1111111111111111,
              "#46039f"
             ],
             [
              0.2222222222222222,
              "#7201a8"
             ],
             [
              0.3333333333333333,
              "#9c179e"
             ],
             [
              0.4444444444444444,
              "#bd3786"
             ],
             [
              0.5555555555555556,
              "#d8576b"
             ],
             [
              0.6666666666666666,
              "#ed7953"
             ],
             [
              0.7777777777777778,
              "#fb9f3a"
             ],
             [
              0.8888888888888888,
              "#fdca26"
             ],
             [
              1,
              "#f0f921"
             ]
            ],
            "type": "histogram2d"
           }
          ],
          "histogram2dcontour": [
           {
            "colorbar": {
             "outlinewidth": 0,
             "ticks": ""
            },
            "colorscale": [
             [
              0,
              "#0d0887"
             ],
             [
              0.1111111111111111,
              "#46039f"
             ],
             [
              0.2222222222222222,
              "#7201a8"
             ],
             [
              0.3333333333333333,
              "#9c179e"
             ],
             [
              0.4444444444444444,
              "#bd3786"
             ],
             [
              0.5555555555555556,
              "#d8576b"
             ],
             [
              0.6666666666666666,
              "#ed7953"
             ],
             [
              0.7777777777777778,
              "#fb9f3a"
             ],
             [
              0.8888888888888888,
              "#fdca26"
             ],
             [
              1,
              "#f0f921"
             ]
            ],
            "type": "histogram2dcontour"
           }
          ],
          "mesh3d": [
           {
            "colorbar": {
             "outlinewidth": 0,
             "ticks": ""
            },
            "type": "mesh3d"
           }
          ],
          "parcoords": [
           {
            "line": {
             "colorbar": {
              "outlinewidth": 0,
              "ticks": ""
             }
            },
            "type": "parcoords"
           }
          ],
          "pie": [
           {
            "automargin": true,
            "type": "pie"
           }
          ],
          "scatter": [
           {
            "marker": {
             "colorbar": {
              "outlinewidth": 0,
              "ticks": ""
             }
            },
            "type": "scatter"
           }
          ],
          "scatter3d": [
           {
            "line": {
             "colorbar": {
              "outlinewidth": 0,
              "ticks": ""
             }
            },
            "marker": {
             "colorbar": {
              "outlinewidth": 0,
              "ticks": ""
             }
            },
            "type": "scatter3d"
           }
          ],
          "scattercarpet": [
           {
            "marker": {
             "colorbar": {
              "outlinewidth": 0,
              "ticks": ""
             }
            },
            "type": "scattercarpet"
           }
          ],
          "scattergeo": [
           {
            "marker": {
             "colorbar": {
              "outlinewidth": 0,
              "ticks": ""
             }
            },
            "type": "scattergeo"
           }
          ],
          "scattergl": [
           {
            "marker": {
             "colorbar": {
              "outlinewidth": 0,
              "ticks": ""
             }
            },
            "type": "scattergl"
           }
          ],
          "scattermapbox": [
           {
            "marker": {
             "colorbar": {
              "outlinewidth": 0,
              "ticks": ""
             }
            },
            "type": "scattermapbox"
           }
          ],
          "scatterpolar": [
           {
            "marker": {
             "colorbar": {
              "outlinewidth": 0,
              "ticks": ""
             }
            },
            "type": "scatterpolar"
           }
          ],
          "scatterpolargl": [
           {
            "marker": {
             "colorbar": {
              "outlinewidth": 0,
              "ticks": ""
             }
            },
            "type": "scatterpolargl"
           }
          ],
          "scatterternary": [
           {
            "marker": {
             "colorbar": {
              "outlinewidth": 0,
              "ticks": ""
             }
            },
            "type": "scatterternary"
           }
          ],
          "surface": [
           {
            "colorbar": {
             "outlinewidth": 0,
             "ticks": ""
            },
            "colorscale": [
             [
              0,
              "#0d0887"
             ],
             [
              0.1111111111111111,
              "#46039f"
             ],
             [
              0.2222222222222222,
              "#7201a8"
             ],
             [
              0.3333333333333333,
              "#9c179e"
             ],
             [
              0.4444444444444444,
              "#bd3786"
             ],
             [
              0.5555555555555556,
              "#d8576b"
             ],
             [
              0.6666666666666666,
              "#ed7953"
             ],
             [
              0.7777777777777778,
              "#fb9f3a"
             ],
             [
              0.8888888888888888,
              "#fdca26"
             ],
             [
              1,
              "#f0f921"
             ]
            ],
            "type": "surface"
           }
          ],
          "table": [
           {
            "cells": {
             "fill": {
              "color": "#EBF0F8"
             },
             "line": {
              "color": "white"
             }
            },
            "header": {
             "fill": {
              "color": "#C8D4E3"
             },
             "line": {
              "color": "white"
             }
            },
            "type": "table"
           }
          ]
         },
         "layout": {
          "annotationdefaults": {
           "arrowcolor": "#2a3f5f",
           "arrowhead": 0,
           "arrowwidth": 1
          },
          "autotypenumbers": "strict",
          "coloraxis": {
           "colorbar": {
            "outlinewidth": 0,
            "ticks": ""
           }
          },
          "colorscale": {
           "diverging": [
            [
             0,
             "#8e0152"
            ],
            [
             0.1,
             "#c51b7d"
            ],
            [
             0.2,
             "#de77ae"
            ],
            [
             0.3,
             "#f1b6da"
            ],
            [
             0.4,
             "#fde0ef"
            ],
            [
             0.5,
             "#f7f7f7"
            ],
            [
             0.6,
             "#e6f5d0"
            ],
            [
             0.7,
             "#b8e186"
            ],
            [
             0.8,
             "#7fbc41"
            ],
            [
             0.9,
             "#4d9221"
            ],
            [
             1,
             "#276419"
            ]
           ],
           "sequential": [
            [
             0,
             "#0d0887"
            ],
            [
             0.1111111111111111,
             "#46039f"
            ],
            [
             0.2222222222222222,
             "#7201a8"
            ],
            [
             0.3333333333333333,
             "#9c179e"
            ],
            [
             0.4444444444444444,
             "#bd3786"
            ],
            [
             0.5555555555555556,
             "#d8576b"
            ],
            [
             0.6666666666666666,
             "#ed7953"
            ],
            [
             0.7777777777777778,
             "#fb9f3a"
            ],
            [
             0.8888888888888888,
             "#fdca26"
            ],
            [
             1,
             "#f0f921"
            ]
           ],
           "sequentialminus": [
            [
             0,
             "#0d0887"
            ],
            [
             0.1111111111111111,
             "#46039f"
            ],
            [
             0.2222222222222222,
             "#7201a8"
            ],
            [
             0.3333333333333333,
             "#9c179e"
            ],
            [
             0.4444444444444444,
             "#bd3786"
            ],
            [
             0.5555555555555556,
             "#d8576b"
            ],
            [
             0.6666666666666666,
             "#ed7953"
            ],
            [
             0.7777777777777778,
             "#fb9f3a"
            ],
            [
             0.8888888888888888,
             "#fdca26"
            ],
            [
             1,
             "#f0f921"
            ]
           ]
          },
          "colorway": [
           "#636efa",
           "#EF553B",
           "#00cc96",
           "#ab63fa",
           "#FFA15A",
           "#19d3f3",
           "#FF6692",
           "#B6E880",
           "#FF97FF",
           "#FECB52"
          ],
          "font": {
           "color": "#2a3f5f"
          },
          "geo": {
           "bgcolor": "white",
           "lakecolor": "white",
           "landcolor": "#E5ECF6",
           "showlakes": true,
           "showland": true,
           "subunitcolor": "white"
          },
          "hoverlabel": {
           "align": "left"
          },
          "hovermode": "closest",
          "mapbox": {
           "style": "light"
          },
          "paper_bgcolor": "white",
          "plot_bgcolor": "#E5ECF6",
          "polar": {
           "angularaxis": {
            "gridcolor": "white",
            "linecolor": "white",
            "ticks": ""
           },
           "bgcolor": "#E5ECF6",
           "radialaxis": {
            "gridcolor": "white",
            "linecolor": "white",
            "ticks": ""
           }
          },
          "scene": {
           "xaxis": {
            "backgroundcolor": "#E5ECF6",
            "gridcolor": "white",
            "gridwidth": 2,
            "linecolor": "white",
            "showbackground": true,
            "ticks": "",
            "zerolinecolor": "white"
           },
           "yaxis": {
            "backgroundcolor": "#E5ECF6",
            "gridcolor": "white",
            "gridwidth": 2,
            "linecolor": "white",
            "showbackground": true,
            "ticks": "",
            "zerolinecolor": "white"
           },
           "zaxis": {
            "backgroundcolor": "#E5ECF6",
            "gridcolor": "white",
            "gridwidth": 2,
            "linecolor": "white",
            "showbackground": true,
            "ticks": "",
            "zerolinecolor": "white"
           }
          },
          "shapedefaults": {
           "line": {
            "color": "#2a3f5f"
           }
          },
          "ternary": {
           "aaxis": {
            "gridcolor": "white",
            "linecolor": "white",
            "ticks": ""
           },
           "baxis": {
            "gridcolor": "white",
            "linecolor": "white",
            "ticks": ""
           },
           "bgcolor": "#E5ECF6",
           "caxis": {
            "gridcolor": "white",
            "linecolor": "white",
            "ticks": ""
           }
          },
          "title": {
           "x": 0.05
          },
          "xaxis": {
           "automargin": true,
           "gridcolor": "white",
           "linecolor": "white",
           "ticks": "",
           "title": {
            "standoff": 15
           },
           "zerolinecolor": "white",
           "zerolinewidth": 2
          },
          "yaxis": {
           "automargin": true,
           "gridcolor": "white",
           "linecolor": "white",
           "ticks": "",
           "title": {
            "standoff": 15
           },
           "zerolinecolor": "white",
           "zerolinewidth": 2
          }
         }
        },
        "title": {
         "font": {
          "size": 16
         }
        },
        "width": 1800,
        "xaxis": {
         "range": [
          -1.15,
          1.05
         ],
         "showgrid": false,
         "showticklabels": false,
         "zeroline": false
        },
        "yaxis": {
         "range": [
          -1.15,
          1.05
         ],
         "showgrid": false,
         "showticklabels": false,
         "zeroline": false
        }
       }
      },
      "text/html": [
       "<div>                            <div id=\"257b44af-9b9e-4581-ba80-67cec02a3bab\" class=\"plotly-graph-div\" style=\"height:1200px; width:1800px;\"></div>            <script type=\"text/javascript\">                require([\"plotly\"], function(Plotly) {                    window.PLOTLYENV=window.PLOTLYENV || {};                                    if (document.getElementById(\"257b44af-9b9e-4581-ba80-67cec02a3bab\")) {                    Plotly.newPlot(                        \"257b44af-9b9e-4581-ba80-67cec02a3bab\",                        [{\"line\": {\"color\": \"#000000\", \"width\": 4}, \"mode\": \"lines\", \"type\": \"scatter\", \"x\": [0.12262367571703188, 0.20366629093060945, null, 0.12262367571703188, -0.224949006464176, null], \"y\": [0.07448887759343632, -0.17131693637845824, null, 0.07448887759343632, -0.2772447876659098, null]}, {\"line\": {\"color\": \"#404040\", \"width\": 2}, \"mode\": \"lines\", \"type\": \"scatter\", \"x\": [0.7843190671752259, 0.12262367571703188, null, -0.3948775178782617, 0.12262367571703188, null, 0.12262367571703188, 0.03835665281158546, null, 0.20366629093060945, -0.224949006464176, null], \"y\": [-0.21560336070532207, 0.07448887759343632, null, 0.04804412403001821, 0.07448887759343632, null, 0.07448887759343632, -0.53752973980001, null, -0.17131693637845824, -0.2772447876659098, null]}, {\"line\": {\"color\": \"#C0C0C0\", \"width\": 1}, \"mode\": \"lines\", \"type\": \"scatter\", \"x\": [0.7843190671752259, 0.45388032729528155, null, 0.7843190671752259, 0.20366629093060945, null, 0.45388032729528155, 0.1718155336172795, null, 0.45388032729528155, 0.12262367571703188, null, 0.45388032729528155, 0.20366629093060945, null, 0.45388032729528155, -0.224949006464176, null, 0.45388032729528155, 0.03835665281158546, null, 0.45388032729528155, -0.15483502320457618, null, -0.3948775178782617, 0.1718155336172795, null, -0.3948775178782617, -1.0, null, -0.3948775178782617, 0.20366629093060945, null, -0.3948775178782617, -0.224949006464176, null, -0.3948775178782617, 0.03835665281158546, null, -0.3948775178782617, -0.15483502320457618, null, 0.1718155336172795, 0.12262367571703188, null, 0.1718155336172795, 0.20366629093060945, null, 0.1718155336172795, -0.15483502320457618, null, 0.12262367571703188, -0.15483502320457618, null, 0.20366629093060945, 0.03835665281158546, null, 0.20366629093060945, -0.15483502320457618, null, -0.224949006464176, -0.15483502320457618, null], \"y\": [-0.21560336070532207, 0.08605819236296984, null, -0.21560336070532207, -0.17131693637845824, null, 0.08605819236296984, 0.5390706835133624, null, 0.08605819236296984, 0.07448887759343632, null, 0.08605819236296984, -0.17131693637845824, null, 0.08605819236296984, -0.2772447876659098, null, 0.08605819236296984, -0.53752973980001, null, 0.08605819236296984, 0.3721162964593598, null, 0.04804412403001821, 0.5390706835133624, null, 0.04804412403001821, 0.08191665059055364, null, 0.04804412403001821, -0.17131693637845824, null, 0.04804412403001821, -0.2772447876659098, null, 0.04804412403001821, -0.53752973980001, null, 0.04804412403001821, 0.3721162964593598, null, 0.5390706835133624, 0.07448887759343632, null, 0.5390706835133624, -0.17131693637845824, null, 0.5390706835133624, 0.3721162964593598, null, 0.07448887759343632, 0.3721162964593598, null, -0.17131693637845824, -0.53752973980001, null, -0.17131693637845824, 0.3721162964593598, null, -0.2772447876659098, 0.3721162964593598, null]}, {\"hoverinfo\": \"text\", \"hovertext\": [\"3\", \"7\", \"7\", \"5\", \"8\", \"1\", \"8\", \"5\", \"4\", \"6\"], \"marker\": {\"color\": [24, 52, 56, 30, 32, 5, 27, 15, 4, 7], \"colorbar\": {\"thickness\": 30, \"title\": {\"side\": \"right\", \"text\": \"degree\"}, \"xanchor\": \"left\"}, \"colorscale\": [[0.0, \"rgb(255,255,255)\"], [0.125, \"rgb(240,240,240)\"], [0.25, \"rgb(217,217,217)\"], [0.375, \"rgb(189,189,189)\"], [0.5, \"rgb(150,150,150)\"], [0.625, \"rgb(115,115,115)\"], [0.75, \"rgb(82,82,82)\"], [0.875, \"rgb(37,37,37)\"], [1.0, \"rgb(0,0,0)\"]], \"line\": {\"width\": 1.5}, \"showscale\": false, \"size\": 15}, \"mode\": \"markers+text\", \"text\": [\"\\u03c0\\u1fb6\\u03c2\", \"\\u1f04\\u03bd\\u03b8\\u03c1\\u03c9\\u03c0\\u03bf\\u03c2\", \"\\u03c0\\u03af\\u03c3\\u03c4\\u03b9\\u03c2\", \"\\u03b4\\u03b9\\u03ba\\u03b1\\u03b9\\u03bf\\u03c3\\u03cd\\u03bd\\u03b7\", \"\\u03b8\\u03b5\\u03cc\\u03c2\", \"\\u1f00\\u03b3\\u03ac\\u03c0\\u03b7\", \"\\u03ba\\u03cd\\u03c1\\u03b9\\u03bf\\u03c2\", \"\\u03c7\\u03c1\\u03b9\\u03c3\\u03c4\\u03cc\\u03c2\", \"\\u03b5\\u1f30\\u03bc\\u03af\", \"\\u1f00\\u03bb\\u03ae\\u03b8\\u03b5\\u03b9\\u03b1\"], \"textfont\": {\"size\": 32}, \"textposition\": \"bottom center\", \"type\": \"scatter\", \"x\": [0.7843190671752259, 0.45388032729528155, -0.3948775178782617, 0.1718155336172795, 0.12262367571703188, -1.0, 0.20366629093060945, -0.224949006464176, 0.03835665281158546, -0.15483502320457618], \"y\": [-0.21560336070532207, 0.08605819236296984, 0.04804412403001821, 0.5390706835133624, 0.07448887759343632, 0.08191665059055364, -0.17131693637845824, -0.2772447876659098, -0.53752973980001, 0.3721162964593598]}, {\"hoverinfo\": \"text\", \"marker\": {\"opacity\": 0}, \"mode\": \"markers\", \"opacity\": 0, \"text\": [\"19\", \"42\", \"27\", \"3\", \"22\", \"10\", \"26\", \"13\", \"8\", \"3\", \"40\", \"16\", \"20\", \"29\", \"15\", \"12\", \"3\", \"3\", \"4\", \"59\", \"95\", \"49\", \"19\", \"56\", \"25\", \"8\", \"9\"], \"type\": \"scatter\", \"x\": [0.6190996972352537, 0.4534713714461289, 0.49399267905291766, 0.3128479304562805, 0.2882520015061567, 0.3287733091129455, 0.11446566041555277, 0.2461184900534335, 0.1495226520453527, -0.1115309921304911, -0.13612692108061492, -0.6974387589391309, -0.09560561347382612, -0.30991326217121884, -0.17826043253333812, -0.2748562705414189, 0.1472196046671557, 0.18774091227394446, 0.00849025520635166, 0.16314498332382066, -0.051162665373572065, 0.08049016426430866, -0.01610567374377215, -0.01064135776678328, 0.12101147187109745, 0.024415633863016636, -0.1898920148343761], \"y\": [-0.06477258417117612, -0.07055724155594287, -0.19346014854189014, 0.31256443793816613, 0.08027353497820308, -0.0426293720077442, -0.09559329765146998, -0.22573577371852005, 0.22908724441116482, 0.2935574037716903, 0.06126650081172727, 0.06498038731028592, -0.06163640617422002, -0.11460033181794581, -0.24474280788499586, 0.210080210244689, 0.3067797805533994, 0.18387687356745208, 0.45559348998636107, -0.04841402939251096, -0.10137795503623676, -0.23152043110328682, 0.22330258702639805, -0.22428086202218403, -0.3544233380892341, 0.10039968004045077, 0.04743575439672498]}],                        {\"autosize\": false, \"height\": 1200, \"hovermode\": \"closest\", \"margin\": {\"b\": 10, \"l\": 10, \"r\": 10, \"t\": 10}, \"plot_bgcolor\": \"rgba(0,0,0,0)\", \"showlegend\": false, \"template\": {\"data\": {\"bar\": [{\"error_x\": {\"color\": \"#2a3f5f\"}, \"error_y\": {\"color\": \"#2a3f5f\"}, \"marker\": {\"line\": {\"color\": \"#E5ECF6\", \"width\": 0.5}}, \"type\": \"bar\"}], \"barpolar\": [{\"marker\": {\"line\": {\"color\": \"#E5ECF6\", \"width\": 0.5}}, \"type\": \"barpolar\"}], \"carpet\": [{\"aaxis\": {\"endlinecolor\": \"#2a3f5f\", \"gridcolor\": \"white\", \"linecolor\": \"white\", \"minorgridcolor\": \"white\", \"startlinecolor\": \"#2a3f5f\"}, \"baxis\": {\"endlinecolor\": \"#2a3f5f\", \"gridcolor\": \"white\", \"linecolor\": \"white\", \"minorgridcolor\": \"white\", \"startlinecolor\": \"#2a3f5f\"}, \"type\": \"carpet\"}], \"choropleth\": [{\"colorbar\": {\"outlinewidth\": 0, \"ticks\": \"\"}, \"type\": \"choropleth\"}], \"contour\": [{\"colorbar\": {\"outlinewidth\": 0, \"ticks\": \"\"}, \"colorscale\": [[0.0, \"#0d0887\"], [0.1111111111111111, \"#46039f\"], [0.2222222222222222, \"#7201a8\"], [0.3333333333333333, \"#9c179e\"], [0.4444444444444444, \"#bd3786\"], [0.5555555555555556, \"#d8576b\"], [0.6666666666666666, \"#ed7953\"], [0.7777777777777778, \"#fb9f3a\"], [0.8888888888888888, \"#fdca26\"], [1.0, \"#f0f921\"]], \"type\": \"contour\"}], \"contourcarpet\": [{\"colorbar\": {\"outlinewidth\": 0, \"ticks\": \"\"}, \"type\": \"contourcarpet\"}], \"heatmap\": [{\"colorbar\": {\"outlinewidth\": 0, \"ticks\": \"\"}, \"colorscale\": [[0.0, \"#0d0887\"], [0.1111111111111111, \"#46039f\"], [0.2222222222222222, \"#7201a8\"], [0.3333333333333333, \"#9c179e\"], [0.4444444444444444, \"#bd3786\"], [0.5555555555555556, \"#d8576b\"], [0.6666666666666666, \"#ed7953\"], [0.7777777777777778, \"#fb9f3a\"], [0.8888888888888888, \"#fdca26\"], [1.0, \"#f0f921\"]], \"type\": \"heatmap\"}], \"heatmapgl\": [{\"colorbar\": {\"outlinewidth\": 0, \"ticks\": \"\"}, \"colorscale\": [[0.0, \"#0d0887\"], [0.1111111111111111, \"#46039f\"], [0.2222222222222222, \"#7201a8\"], [0.3333333333333333, \"#9c179e\"], [0.4444444444444444, \"#bd3786\"], [0.5555555555555556, \"#d8576b\"], [0.6666666666666666, \"#ed7953\"], [0.7777777777777778, \"#fb9f3a\"], [0.8888888888888888, \"#fdca26\"], [1.0, \"#f0f921\"]], \"type\": \"heatmapgl\"}], \"histogram\": [{\"marker\": {\"colorbar\": {\"outlinewidth\": 0, \"ticks\": \"\"}}, \"type\": \"histogram\"}], \"histogram2d\": [{\"colorbar\": {\"outlinewidth\": 0, \"ticks\": \"\"}, \"colorscale\": [[0.0, \"#0d0887\"], [0.1111111111111111, \"#46039f\"], [0.2222222222222222, \"#7201a8\"], [0.3333333333333333, \"#9c179e\"], [0.4444444444444444, \"#bd3786\"], [0.5555555555555556, \"#d8576b\"], [0.6666666666666666, \"#ed7953\"], [0.7777777777777778, \"#fb9f3a\"], [0.8888888888888888, \"#fdca26\"], [1.0, \"#f0f921\"]], \"type\": \"histogram2d\"}], \"histogram2dcontour\": [{\"colorbar\": {\"outlinewidth\": 0, \"ticks\": \"\"}, \"colorscale\": [[0.0, \"#0d0887\"], [0.1111111111111111, \"#46039f\"], [0.2222222222222222, \"#7201a8\"], [0.3333333333333333, \"#9c179e\"], [0.4444444444444444, \"#bd3786\"], [0.5555555555555556, \"#d8576b\"], [0.6666666666666666, \"#ed7953\"], [0.7777777777777778, \"#fb9f3a\"], [0.8888888888888888, \"#fdca26\"], [1.0, \"#f0f921\"]], \"type\": \"histogram2dcontour\"}], \"mesh3d\": [{\"colorbar\": {\"outlinewidth\": 0, \"ticks\": \"\"}, \"type\": \"mesh3d\"}], \"parcoords\": [{\"line\": {\"colorbar\": {\"outlinewidth\": 0, \"ticks\": \"\"}}, \"type\": \"parcoords\"}], \"pie\": [{\"automargin\": true, \"type\": \"pie\"}], \"scatter\": [{\"marker\": {\"colorbar\": {\"outlinewidth\": 0, \"ticks\": \"\"}}, \"type\": \"scatter\"}], \"scatter3d\": [{\"line\": {\"colorbar\": {\"outlinewidth\": 0, \"ticks\": \"\"}}, \"marker\": {\"colorbar\": {\"outlinewidth\": 0, \"ticks\": \"\"}}, \"type\": \"scatter3d\"}], \"scattercarpet\": [{\"marker\": {\"colorbar\": {\"outlinewidth\": 0, \"ticks\": \"\"}}, \"type\": \"scattercarpet\"}], \"scattergeo\": [{\"marker\": {\"colorbar\": {\"outlinewidth\": 0, \"ticks\": \"\"}}, \"type\": \"scattergeo\"}], \"scattergl\": [{\"marker\": {\"colorbar\": {\"outlinewidth\": 0, \"ticks\": \"\"}}, \"type\": \"scattergl\"}], \"scattermapbox\": [{\"marker\": {\"colorbar\": {\"outlinewidth\": 0, \"ticks\": \"\"}}, \"type\": \"scattermapbox\"}], \"scatterpolar\": [{\"marker\": {\"colorbar\": {\"outlinewidth\": 0, \"ticks\": \"\"}}, \"type\": \"scatterpolar\"}], \"scatterpolargl\": [{\"marker\": {\"colorbar\": {\"outlinewidth\": 0, \"ticks\": \"\"}}, \"type\": \"scatterpolargl\"}], \"scatterternary\": [{\"marker\": {\"colorbar\": {\"outlinewidth\": 0, \"ticks\": \"\"}}, \"type\": \"scatterternary\"}], \"surface\": [{\"colorbar\": {\"outlinewidth\": 0, \"ticks\": \"\"}, \"colorscale\": [[0.0, \"#0d0887\"], [0.1111111111111111, \"#46039f\"], [0.2222222222222222, \"#7201a8\"], [0.3333333333333333, \"#9c179e\"], [0.4444444444444444, \"#bd3786\"], [0.5555555555555556, \"#d8576b\"], [0.6666666666666666, \"#ed7953\"], [0.7777777777777778, \"#fb9f3a\"], [0.8888888888888888, \"#fdca26\"], [1.0, \"#f0f921\"]], \"type\": \"surface\"}], \"table\": [{\"cells\": {\"fill\": {\"color\": \"#EBF0F8\"}, \"line\": {\"color\": \"white\"}}, \"header\": {\"fill\": {\"color\": \"#C8D4E3\"}, \"line\": {\"color\": \"white\"}}, \"type\": \"table\"}]}, \"layout\": {\"annotationdefaults\": {\"arrowcolor\": \"#2a3f5f\", \"arrowhead\": 0, \"arrowwidth\": 1}, \"autotypenumbers\": \"strict\", \"coloraxis\": {\"colorbar\": {\"outlinewidth\": 0, \"ticks\": \"\"}}, \"colorscale\": {\"diverging\": [[0, \"#8e0152\"], [0.1, \"#c51b7d\"], [0.2, \"#de77ae\"], [0.3, \"#f1b6da\"], [0.4, \"#fde0ef\"], [0.5, \"#f7f7f7\"], [0.6, \"#e6f5d0\"], [0.7, \"#b8e186\"], [0.8, \"#7fbc41\"], [0.9, \"#4d9221\"], [1, \"#276419\"]], \"sequential\": [[0.0, \"#0d0887\"], [0.1111111111111111, \"#46039f\"], [0.2222222222222222, \"#7201a8\"], [0.3333333333333333, \"#9c179e\"], [0.4444444444444444, \"#bd3786\"], [0.5555555555555556, \"#d8576b\"], [0.6666666666666666, \"#ed7953\"], [0.7777777777777778, \"#fb9f3a\"], [0.8888888888888888, \"#fdca26\"], [1.0, \"#f0f921\"]], \"sequentialminus\": [[0.0, \"#0d0887\"], [0.1111111111111111, \"#46039f\"], [0.2222222222222222, \"#7201a8\"], [0.3333333333333333, \"#9c179e\"], [0.4444444444444444, \"#bd3786\"], [0.5555555555555556, \"#d8576b\"], [0.6666666666666666, \"#ed7953\"], [0.7777777777777778, \"#fb9f3a\"], [0.8888888888888888, \"#fdca26\"], [1.0, \"#f0f921\"]]}, \"colorway\": [\"#636efa\", \"#EF553B\", \"#00cc96\", \"#ab63fa\", \"#FFA15A\", \"#19d3f3\", \"#FF6692\", \"#B6E880\", \"#FF97FF\", \"#FECB52\"], \"font\": {\"color\": \"#2a3f5f\"}, \"geo\": {\"bgcolor\": \"white\", \"lakecolor\": \"white\", \"landcolor\": \"#E5ECF6\", \"showlakes\": true, \"showland\": true, \"subunitcolor\": \"white\"}, \"hoverlabel\": {\"align\": \"left\"}, \"hovermode\": \"closest\", \"mapbox\": {\"style\": \"light\"}, \"paper_bgcolor\": \"white\", \"plot_bgcolor\": \"#E5ECF6\", \"polar\": {\"angularaxis\": {\"gridcolor\": \"white\", \"linecolor\": \"white\", \"ticks\": \"\"}, \"bgcolor\": \"#E5ECF6\", \"radialaxis\": {\"gridcolor\": \"white\", \"linecolor\": \"white\", \"ticks\": \"\"}}, \"scene\": {\"xaxis\": {\"backgroundcolor\": \"#E5ECF6\", \"gridcolor\": \"white\", \"gridwidth\": 2, \"linecolor\": \"white\", \"showbackground\": true, \"ticks\": \"\", \"zerolinecolor\": \"white\"}, \"yaxis\": {\"backgroundcolor\": \"#E5ECF6\", \"gridcolor\": \"white\", \"gridwidth\": 2, \"linecolor\": \"white\", \"showbackground\": true, \"ticks\": \"\", \"zerolinecolor\": \"white\"}, \"zaxis\": {\"backgroundcolor\": \"#E5ECF6\", \"gridcolor\": \"white\", \"gridwidth\": 2, \"linecolor\": \"white\", \"showbackground\": true, \"ticks\": \"\", \"zerolinecolor\": \"white\"}}, \"shapedefaults\": {\"line\": {\"color\": \"#2a3f5f\"}}, \"ternary\": {\"aaxis\": {\"gridcolor\": \"white\", \"linecolor\": \"white\", \"ticks\": \"\"}, \"baxis\": {\"gridcolor\": \"white\", \"linecolor\": \"white\", \"ticks\": \"\"}, \"bgcolor\": \"#E5ECF6\", \"caxis\": {\"gridcolor\": \"white\", \"linecolor\": \"white\", \"ticks\": \"\"}}, \"title\": {\"x\": 0.05}, \"xaxis\": {\"automargin\": true, \"gridcolor\": \"white\", \"linecolor\": \"white\", \"ticks\": \"\", \"title\": {\"standoff\": 15}, \"zerolinecolor\": \"white\", \"zerolinewidth\": 2}, \"yaxis\": {\"automargin\": true, \"gridcolor\": \"white\", \"linecolor\": \"white\", \"ticks\": \"\", \"title\": {\"standoff\": 15}, \"zerolinecolor\": \"white\", \"zerolinewidth\": 2}}}, \"title\": {\"font\": {\"size\": 16}}, \"width\": 1800, \"xaxis\": {\"range\": [-1.15, 1.05], \"showgrid\": false, \"showticklabels\": false, \"zeroline\": false}, \"yaxis\": {\"range\": [-1.15, 1.05], \"showgrid\": false, \"showticklabels\": false, \"zeroline\": false}},                        {\"responsive\": true}                    ).then(function(){\n",
       "                            \n",
       "var gd = document.getElementById('257b44af-9b9e-4581-ba80-67cec02a3bab');\n",
       "var x = new MutationObserver(function (mutations, observer) {{\n",
       "        var display = window.getComputedStyle(gd).display;\n",
       "        if (!display || display === 'none') {{\n",
       "            console.log([gd, 'removed!']);\n",
       "            Plotly.purge(gd);\n",
       "            observer.disconnect();\n",
       "        }}\n",
       "}});\n",
       "\n",
       "// Listen for the removal of the full notebook cells\n",
       "var notebookContainer = gd.closest('#notebook-container');\n",
       "if (notebookContainer) {{\n",
       "    x.observe(notebookContainer, {childList: true});\n",
       "}}\n",
       "\n",
       "// Listen for the clearing of the current output cell\n",
       "var outputEl = gd.closest('.output');\n",
       "if (outputEl) {{\n",
       "    x.observe(outputEl, {childList: true});\n",
       "}}\n",
       "\n",
       "                        })                };                });            </script>        </div>"
      ]
     },
     "metadata": {},
     "output_type": "display_data"
    }
   ],
   "source": [
    "G = authors_df[authors_df[\"author\"].str.contains(\"Pauline \")][\"dikaiosyne_G_sents\"].tolist()[0]\n",
    "fig = textnet.draw_2d_network(G, 1800, 1200, 32)\n",
    "fig.show()"
   ]
  },
  {
   "cell_type": "code",
   "execution_count": 139,
   "metadata": {},
   "outputs": [
    {
     "name": "stdout",
     "output_type": "stream",
     "text": [
      "A file with the same name (\"G_sents_pauline.png\") already exists in this location.\n",
      "Press Enter to overwrite it or choose different path and filename: \n",
      "Your <class 'plotly.graph_objs._figure.Figure'> object has been succefully written as \"https://sciencedata.dk/files/SDAM_root/SDAM_data/ECCE_public/G_sents_pauline.png\"\n"
     ]
    }
   ],
   "source": [
    "pio.write_image(fig, \"../figures/G_sents_pauline.png\")\n",
    "# s.write_file(\"G_sents_pauline.png\",fig)"
   ]
  },
  {
   "cell_type": "markdown",
   "metadata": {},
   "source": [
    "# N of shared terms within dik_sents_TFIDF_10"
   ]
  },
  {
   "cell_type": "code",
   "execution_count": 140,
   "metadata": {},
   "outputs": [
    {
     "data": {
      "text/plain": [
       "['οὗτος, ἐντολή, πτωχός, διώκω, θεάομαι, ἀδελφός, ἐπιτρέπω, προεπεκαλέσασθέ, τὶς, πληρόω',\n",
       " 'πίστις, ἁμαρτία, νόμος, λογίζομαι, θεός, βασιλεύω, δοῦλος, παρίστημι, πιστεύω, Χριστός',\n",
       " 'καυχάομαι, πίστις, πύλη, θεός, δύσις, ἀγάπη, πατήρ, ὑπομονή, ἄνθρωπος, Ἀβραάμ',\n",
       " 'ἐκεῖνος, πῦρ, πολύς, ἐφηδόμενος, ἁμάρτημα, ἀνεχόμενος, συνευδοκέω, ἐλεγχθέντες, ἀνάξιος, καλύπτω',\n",
       " 'ὁδός, σκότος, ἀγαθός, σύνοιδα, ἐπίσταμαι, συνώδευσεν, ἀναγκάζω, ἀνατελεῖ, προπορεύσεται, περιστελεῖ']"
      ]
     },
     "execution_count": 140,
     "metadata": {},
     "output_type": "execute_result"
    }
   ],
   "source": [
    "authors_df[\"dik_sents_TFIDF_10\"].tolist()[:5]"
   ]
  },
  {
   "cell_type": "code",
   "execution_count": 141,
   "metadata": {},
   "outputs": [],
   "source": [
    "philo_josephus = authors_df[authors_df[\"author_id\"].isin([\"tlg0526\", \"tlg0018\"])]"
   ]
  },
  {
   "cell_type": "code",
   "execution_count": 143,
   "metadata": {},
   "outputs": [],
   "source": [
    "authors_df_c = authors_df[(authors_df[\"provenience\"] == \"christian\") & (authors_df[\"date_avr\"] < 4) & (authors_df[\"dikaiosyne_N\"] > 0)]"
   ]
  },
  {
   "cell_type": "code",
   "execution_count": 144,
   "metadata": {},
   "outputs": [],
   "source": [
    "# christian + philo + josephus\n",
    "authors_df_cj = pd.concat([authors_df_c, philo_josephus])"
   ]
  },
  {
   "cell_type": "code",
   "execution_count": 145,
   "metadata": {},
   "outputs": [
    {
     "data": {
      "text/html": [
       "<div>\n",
       "<style scoped>\n",
       "    .dataframe tbody tr th:only-of-type {\n",
       "        vertical-align: middle;\n",
       "    }\n",
       "\n",
       "    .dataframe tbody tr th {\n",
       "        vertical-align: top;\n",
       "    }\n",
       "\n",
       "    .dataframe thead th {\n",
       "        text-align: right;\n",
       "    }\n",
       "</style>\n",
       "<table border=\"1\" class=\"dataframe\">\n",
       "  <thead>\n",
       "    <tr style=\"text-align: right;\">\n",
       "      <th></th>\n",
       "      <th>author_id</th>\n",
       "      <th>author</th>\n",
       "      <th>n_titles</th>\n",
       "      <th>titles</th>\n",
       "      <th>filenames</th>\n",
       "      <th>wordcount</th>\n",
       "      <th>lemmata_wordcount</th>\n",
       "      <th>n_sentences</th>\n",
       "      <th>date_probs</th>\n",
       "      <th>date_avr</th>\n",
       "      <th>...</th>\n",
       "      <th>dikaiosyne_N</th>\n",
       "      <th>dikaiosyne_TF</th>\n",
       "      <th>G_sents</th>\n",
       "      <th>G_lems</th>\n",
       "      <th>dikaiosyne_G_sents</th>\n",
       "      <th>dikaiosyne_G_lems</th>\n",
       "      <th>dik_sents_flat</th>\n",
       "      <th>dik_sents_TF</th>\n",
       "      <th>dik_sents_TFIDF</th>\n",
       "      <th>dik_sents_TFIDF_10</th>\n",
       "    </tr>\n",
       "  </thead>\n",
       "  <tbody>\n",
       "    <tr>\n",
       "      <th>175</th>\n",
       "      <td>tlg1622</td>\n",
       "      <td>Polycarp</td>\n",
       "      <td>1</td>\n",
       "      <td>[Epistula ad Philippenses]</td>\n",
       "      <td>[tlg1622.tlg001.1st1K-grc1.xml]</td>\n",
       "      <td>1804</td>\n",
       "      <td>951</td>\n",
       "      <td>212</td>\n",
       "      <td>{'0.5': 0.5, '1.5': 0.5}</td>\n",
       "      <td>1.0</td>\n",
       "      <td>...</td>\n",
       "      <td>8</td>\n",
       "      <td>0.004435</td>\n",
       "      <td>(υεμ, πᾶς, ἐλεήμων, τόπος, γράφω, παυλυς, νος,...</td>\n",
       "      <td>(μένω, μίμνω, γῆρυς, ἀθάνατος, λευκός, μέλας, ...</td>\n",
       "      <td>(πᾶς, ἁμαρτία, φιλαργυρία, πίστις, δικαιοσύνη,...</td>\n",
       "      <td>()</td>\n",
       "      <td>[μακάριος, πτωχός, διώκω, εἰμί, βασιλεία, θεάο...</td>\n",
       "      <td>[(εἰμί, 0.04651), (οὗτος, 0.04651), (ἐντολή, 0...</td>\n",
       "      <td>[(οὗτος, 0.19805), (ἐντολή, 0.18466), (πτωχός,...</td>\n",
       "      <td>οὗτος, ἐντολή, πτωχός, διώκω, θεάομαι, ἀδελφός...</td>\n",
       "    </tr>\n",
       "    <tr>\n",
       "      <th>35</th>\n",
       "      <td>tlg0031paul</td>\n",
       "      <td>Paul of Tarsus</td>\n",
       "      <td>7</td>\n",
       "      <td>[Romans, 1 Corinthians, 2 Corinthians, Galatia...</td>\n",
       "      <td>[tlg0031.tlg006.perseus-grc2.xml, tlg0031.tlg0...</td>\n",
       "      <td>24066</td>\n",
       "      <td>11089</td>\n",
       "      <td>1632</td>\n",
       "      <td>{'0.5': 1}</td>\n",
       "      <td>0.5</td>\n",
       "      <td>...</td>\n",
       "      <td>49</td>\n",
       "      <td>0.002036</td>\n",
       "      <td>(παράκειμαι, δίκαιος, εὐφραίνω, πάσχα, κλέπτω,...</td>\n",
       "      <td>(Χριστός, Ἰησοῦς, κύριος, θεός, χάρις, πατήρ, ...</td>\n",
       "      <td>(σάρξ, κύριος, χριστός, δικαιοσύνη, θεός, εἰμί...</td>\n",
       "      <td>(Χριστός, θεός, χάρις, πατήρ, εἰμί, πνεῦμα, εἰ...</td>\n",
       "      <td>[θεός, ἀποκαλύπτω, πίστις, πίστις, γράφω, δίκα...</td>\n",
       "      <td>[(θεός, 0.04675), (πίστις, 0.04156), (νόμος, 0...</td>\n",
       "      <td>[(πίστις, 0.12745), (ἁμαρτία, 0.11192), (νόμος...</td>\n",
       "      <td>πίστις, ἁμαρτία, νόμος, λογίζομαι, θεός, βασιλ...</td>\n",
       "    </tr>\n",
       "    <tr>\n",
       "      <th>156</th>\n",
       "      <td>tlg1271</td>\n",
       "      <td>Clemens Romanus</td>\n",
       "      <td>2</td>\n",
       "      <td>[Epistula I ad Corinthios, Epistula II ad Cori...</td>\n",
       "      <td>[tlg1271.tlg001.1st1K-grc1.xml, tlg1271.tlg002...</td>\n",
       "      <td>13936</td>\n",
       "      <td>6290</td>\n",
       "      <td>1410</td>\n",
       "      <td>{'0.5': 1}</td>\n",
       "      <td>0.5</td>\n",
       "      <td>...</td>\n",
       "      <td>21</td>\n",
       "      <td>0.001507</td>\n",
       "      <td>(χιών, εὐφραίνω, δίκαιος, ἀναγγέλλουσιν, κενόω...</td>\n",
       "      <td>(δύσις, ἑῷος, ἀνατέλλω, ἥλιος, αβγ, κύκλος, φα...</td>\n",
       "      <td>(σημεῖον, γίγνομαι, σάρξ, ὁμόνοια, ἀγάπη, κύρι...</td>\n",
       "      <td>()</td>\n",
       "      <td>[οὗτος, ἄπειμι, εἰρήνη, ἀπολιμπάνω, ἕκαστος, φ...</td>\n",
       "      <td>[(θεός, 0.02871), (πίστις, 0.02392), (γίγνομαι...</td>\n",
       "      <td>[(καυχάομαι, 0.10409), (πίστις, 0.10181), (πύλ...</td>\n",
       "      <td>καυχάομαι, πίστις, πύλη, θεός, δύσις, ἀγάπη, π...</td>\n",
       "    </tr>\n",
       "    <tr>\n",
       "      <th>130</th>\n",
       "      <td>tlg0646</td>\n",
       "      <td>Pseudo-Justinus Martyr</td>\n",
       "      <td>1</td>\n",
       "      <td>[Epistula ad Diognetum]</td>\n",
       "      <td>[tlg0646.tlg004.1st1K-grc1.xml]</td>\n",
       "      <td>2725</td>\n",
       "      <td>1364</td>\n",
       "      <td>240</td>\n",
       "      <td>{'2.5': 0.5, '4.5': 0.5}</td>\n",
       "      <td>3.5</td>\n",
       "      <td>...</td>\n",
       "      <td>4</td>\n",
       "      <td>0.001468</td>\n",
       "      <td>(χρῆσις, διατηρέω, ζωοποιοῦνται, ἡτοιμασμένα, ...</td>\n",
       "      <td>(εἰμί, οἷος, λευκός, μικρός, αὐτός, λέγω, οὗτο...</td>\n",
       "      <td>(δίκαιος, ὑπομένω, ἄνομος, γῆ, ἄλλος, δικαιώσῃ...</td>\n",
       "      <td>()</td>\n",
       "      <td>[ἐφηδόμενος, ἁμάρτημα, ἀνεχόμενος, ἀδικία, και...</td>\n",
       "      <td>[(ἐκεῖνος, 0.05556), (πολύς, 0.05556), (πῦρ, 0...</td>\n",
       "      <td>[(ἐκεῖνος, 0.24345), (πῦρ, 0.21507), (πολύς, 0...</td>\n",
       "      <td>ἐκεῖνος, πῦρ, πολύς, ἐφηδόμενος, ἁμάρτημα, ἀνε...</td>\n",
       "    </tr>\n",
       "    <tr>\n",
       "      <th>152</th>\n",
       "      <td>tlg1216</td>\n",
       "      <td>Barnabas</td>\n",
       "      <td>1</td>\n",
       "      <td>[The Epistle of Barnabas]</td>\n",
       "      <td>[tlg1216.tlg001.perseus-grc2.xml]</td>\n",
       "      <td>7440</td>\n",
       "      <td>3450</td>\n",
       "      <td>875</td>\n",
       "      <td>{'0.5': 0.5, '1.5': 0.5}</td>\n",
       "      <td>1.0</td>\n",
       "      <td>...</td>\n",
       "      <td>9</td>\n",
       "      <td>0.001210</td>\n",
       "      <td>(δάμαλις, ἐγκαταλίπῃς, καταβαίνω, τριακόσιοι, ...</td>\n",
       "      <td>(γίγνομαι, κίνησις, μέρος, οὗτος, πολύς, χράω,...</td>\n",
       "      <td>(δίκαιος, μνημονεύω, γῆ, γάλα, καρδία, λαμβάνω...</td>\n",
       "      <td>()</td>\n",
       "      <td>[πείθω, οὗτος, σύνοιδα, λαλέω, πολύς, ἐπίσταμα...</td>\n",
       "      <td>[(ὁδός, 0.0411), (κύριος, 0.0274), (θεός, 0.02...</td>\n",
       "      <td>[(ὁδός, 0.17298), (σκότος, 0.13651), (ἀγαθός, ...</td>\n",
       "      <td>ὁδός, σκότος, ἀγαθός, σύνοιδα, ἐπίσταμαι, συνώ...</td>\n",
       "    </tr>\n",
       "    <tr>\n",
       "      <th>164</th>\n",
       "      <td>tlg1419</td>\n",
       "      <td>Hermas</td>\n",
       "      <td>1</td>\n",
       "      <td>[The Shepherd of Hermas]</td>\n",
       "      <td>[tlg1419.tlg001.1st1K-grc1.xml]</td>\n",
       "      <td>30282</td>\n",
       "      <td>14340</td>\n",
       "      <td>2959</td>\n",
       "      <td>{'1.5': 1}</td>\n",
       "      <td>1.5</td>\n",
       "      <td>...</td>\n",
       "      <td>33</td>\n",
       "      <td>0.001090</td>\n",
       "      <td>(χιών, περιγίγνομαι, ἀσελγέσι, τίβεριν, εὐφραί...</td>\n",
       "      <td>(πέμπω, ἐφόδιον, αὐτός, καιρός, παροικία, ἐπισ...</td>\n",
       "      <td>(κύριος, ἄγγελος, οὗτος, ἔχω, πονηρός, δικαιοσ...</td>\n",
       "      <td>()</td>\n",
       "      <td>[λέγω, προηγουμένοις, ἐκκλησία, κατορθώσωνται,...</td>\n",
       "      <td>[(ἄγγελος, 0.03333), (ἐργάζομαι, 0.03), (εἰμί,...</td>\n",
       "      <td>[(ἄγγελος, 0.12433), (ἐργάζομαι, 0.12302), (ἀρ...</td>\n",
       "      <td>ἄγγελος, ἐργάζομαι, ἀρετή, ἔργον, ἀλήθεια, πον...</td>\n",
       "    </tr>\n",
       "    <tr>\n",
       "      <th>36</th>\n",
       "      <td>tlg0031pspa</td>\n",
       "      <td>Pauline literature</td>\n",
       "      <td>6</td>\n",
       "      <td>[Ephesians, Colossians, 2 Thessalonians, 1 Tim...</td>\n",
       "      <td>[tlg0031.tlg010.perseus-grc2.xml, tlg0031.tlg0...</td>\n",
       "      <td>8324</td>\n",
       "      <td>4103</td>\n",
       "      <td>390</td>\n",
       "      <td>{'0.5': 1}</td>\n",
       "      <td>0.5</td>\n",
       "      <td>...</td>\n",
       "      <td>8</td>\n",
       "      <td>0.000961</td>\n",
       "      <td>(βλασφημία, Λουκᾶς, καταβαίνω, ἀντιλαμβάνω, φρ...</td>\n",
       "      <td>(Χριστός, Ἰησοῦς, κύριος, θεός, πατήρ, ἀγαθός,...</td>\n",
       "      <td>(πᾶς, ἄνθρωπος, πίστις, δικαιοσύνη, θεός, ἀγάπ...</td>\n",
       "      <td>(Χριστός, Ἰησοῦς, θεός, ἔργον, πίστις, λόγος, ...</td>\n",
       "      <td>[μανθάνω, χριστός, ἀκούω, διδάσκω, ἀλήθεια, Ἰη...</td>\n",
       "      <td>[(ἀλήθεια, 0.03252), (ἄνθρωπος, 0.02439), (θεό...</td>\n",
       "      <td>[(ἀλήθεια, 0.0935), (διώκω, 0.07915), (ἐνδύω, ...</td>\n",
       "      <td>ἀλήθεια, διώκω, ἐνδύω, φῶς, ἐπιθυμία, ἄνθρωπος...</td>\n",
       "    </tr>\n",
       "    <tr>\n",
       "      <th>37</th>\n",
       "      <td>tlg0031rest</td>\n",
       "      <td>GNT rest</td>\n",
       "      <td>6</td>\n",
       "      <td>[Hebrews, James, 1 Peter, 2 Peter, Jude, Revel...</td>\n",
       "      <td>[tlg0031.tlg019.perseus-grc2.xml, tlg0031.tlg0...</td>\n",
       "      <td>19782</td>\n",
       "      <td>9755</td>\n",
       "      <td>1037</td>\n",
       "      <td>{'0.5': 1}</td>\n",
       "      <td>0.5</td>\n",
       "      <td>...</td>\n",
       "      <td>17</td>\n",
       "      <td>0.000859</td>\n",
       "      <td>(χισεδέκ, χιών, πάσχα, δίκαιος, εὐφραίνω, κλύδ...</td>\n",
       "      <td>(εἰσέρχομαι, κατάπαυσις, εἰμί, οὗτος, υἱός, πν...</td>\n",
       "      <td>(δίκαιος, μέγας, κύριος, ἱερεύς, οὗτος, χριστό...</td>\n",
       "      <td>(εἰμί, θεός, κύριος, Μελχισέδεκ, γίγνομαι, λαλ...</td>\n",
       "      <td>[ἀγαπάω, μισέω, ἀνομία, μετέχω, γάλα, ἄπειρος,...</td>\n",
       "      <td>[(θεός, 0.02703), (πίστις, 0.02317), (βασιλεύς...</td>\n",
       "      <td>[(βασιλεύς, 0.07352), (πίστις, 0.0668), (δίκαι...</td>\n",
       "      <td>βασιλεύς, πίστις, δίκαιος, Σαλήμ, βραδύς, φείδ...</td>\n",
       "    </tr>\n",
       "    <tr>\n",
       "      <th>158</th>\n",
       "      <td>tlg1311</td>\n",
       "      <td>Didache</td>\n",
       "      <td>1</td>\n",
       "      <td>[Didache XII Apostolorum]</td>\n",
       "      <td>[tlg1311.tlg001.1st1K-grc1.xml]</td>\n",
       "      <td>2377</td>\n",
       "      <td>1049</td>\n",
       "      <td>284</td>\n",
       "      <td>{'1.5': 1}</td>\n",
       "      <td>1.5</td>\n",
       "      <td>...</td>\n",
       "      <td>2</td>\n",
       "      <td>0.000841</td>\n",
       "      <td>(βλασφημία, ἐγκαταλίπῃς, θυμικός, πραΰς, πᾶς, ...</td>\n",
       "      <td>(δῆλος, ἅπας, κακός, πόλεμος, πρῶτος, σελίς, τ...</td>\n",
       "      <td>(δεχθήτω, δικαιοσύνη, ἔρχομαι, κύριος, προστίθ...</td>\n",
       "      <td>()</td>\n",
       "      <td>[διῶκται, ἀγαθός, μισέω, ἀλήθεια, ἀγαπῶντες, ψ...</td>\n",
       "      <td>[(κύριος, 0.14286), (διῶκται, 0.07143), (ἀγαθό...</td>\n",
       "      <td>[(διῶκται, 0.4035), (ψεῦδος, 0.4035), (κύριος,...</td>\n",
       "      <td>διῶκται, ψεῦδος, κύριος, ἀγαπῶντες, μισθός, πρ...</td>\n",
       "    </tr>\n",
       "    <tr>\n",
       "      <th>129</th>\n",
       "      <td>tlg0645</td>\n",
       "      <td>Justinus Martyr</td>\n",
       "      <td>3</td>\n",
       "      <td>[Apologia, Apology II, Dialogus cum Tryphone]</td>\n",
       "      <td>[tlg0645.tlg001.opp-grc1.xml, tlg0645.tlg002.p...</td>\n",
       "      <td>73449</td>\n",
       "      <td>34006</td>\n",
       "      <td>5829</td>\n",
       "      <td>{'1.5': 1}</td>\n",
       "      <td>1.5</td>\n",
       "      <td>...</td>\n",
       "      <td>45</td>\n",
       "      <td>0.000613</td>\n",
       "      <td>(ψάλλοντας, ἡτοιμασμένα, χιών, ἀναισθησία, κεν...</td>\n",
       "      <td>(λέγω, οὗτος, φημί, βασιλεύς, πολύς, σοφός, ἀν...</td>\n",
       "      <td>(οὗτος, κρίσις, λέγω, εἰμί, πᾶς, λαός, βασιλεύ...</td>\n",
       "      <td>(λέγω, οὗτος, φημί, πολύς, ἀνήρ, εἰμί, ὁράω, α...</td>\n",
       "      <td>[λέγω, εὐσεβής, φιλόσοφος, φύλαξ, ἐραστής, παι...</td>\n",
       "      <td>[(θεός, 0.03846), (κρίσις, 0.01795), (λαός, 0....</td>\n",
       "      <td>[(κρίσις, 0.08306), (θεός, 0.08202), (εἰρήνη, ...</td>\n",
       "      <td>κρίσις, θεός, εἰρήνη, δίδωμι, εὐσέβεια, πεπεδη...</td>\n",
       "    </tr>\n",
       "    <tr>\n",
       "      <th>150</th>\n",
       "      <td>tlg1205</td>\n",
       "      <td>Athenagoras</td>\n",
       "      <td>2</td>\n",
       "      <td>[Supplication pro Christianis, De resurrectione]</td>\n",
       "      <td>[tlg1205.tlg001.perseus-grc2.xml, tlg1205.tlg0...</td>\n",
       "      <td>20210</td>\n",
       "      <td>9819</td>\n",
       "      <td>808</td>\n",
       "      <td>{'1.5': 1}</td>\n",
       "      <td>1.5</td>\n",
       "      <td>...</td>\n",
       "      <td>12</td>\n",
       "      <td>0.000594</td>\n",
       "      <td>(ἐῤῥάγη, ἄθεος, παράκειμαι, δίκαιος, διανέμω, ...</td>\n",
       "      <td>(δηλόω, ἀνήρ, σημεῖον, ἄλλος, σημαίνω, εἰμί, ο...</td>\n",
       "      <td>(σῶμα, ψυχή, γίγνομαι, οὗτος, λόγος, ἔχω, δικα...</td>\n",
       "      <td>(ἀνήρ, θρίξ, μαλακός, βαρύς, μέτωπον, βλέφαρον...</td>\n",
       "      <td>[ὑμέτερος, ἄλλος, αἰτία, λαμβάνω, ἀδίκημα, πρό...</td>\n",
       "      <td>[(ἄνθρωπος, 0.02888), (ἔχω, 0.02166), (ψυχή, 0...</td>\n",
       "      <td>[(δίδωμι, 0.07665), (νόμος, 0.06069), (ψυχή, 0...</td>\n",
       "      <td>δίδωμι, νόμος, ψυχή, ἄνθρωπος, ἔχω, ἀποχή, κρί...</td>\n",
       "    </tr>\n",
       "    <tr>\n",
       "      <th>205</th>\n",
       "      <td>tlg2042</td>\n",
       "      <td>Origenes</td>\n",
       "      <td>44</td>\n",
       "      <td>[Contra Celsum, Commentarii in Evangelium Joan...</td>\n",
       "      <td>[tlg2042.tlg001.perseus-grc1.xml, tlg2042.tlg0...</td>\n",
       "      <td>931431</td>\n",
       "      <td>388077</td>\n",
       "      <td>110127</td>\n",
       "      <td>{'1.5': 0.5, '2.5': 0.5}</td>\n",
       "      <td>2.0</td>\n",
       "      <td>...</td>\n",
       "      <td>493</td>\n",
       "      <td>0.000529</td>\n",
       "      <td>()</td>\n",
       "      <td>(εἰμί, υἱός, λόγος, πατήρ, θεός, λέγω, γίγνομα...</td>\n",
       "      <td>()</td>\n",
       "      <td>(εἰμί, υἱός, πατήρ, θεός, λέγω, οὗτος, πᾶς, κύ...</td>\n",
       "      <td>[δοκέω, παραπλήσιος, κέλσος, ποιέω, πλατωνικῷ,...</td>\n",
       "      <td>[(θεός, 0.03426), (εἰμί, 0.02608), (σοφία, 0.0...</td>\n",
       "      <td>[(θεός, 0.09367), (σοφία, 0.08321), (εἰμί, 0.0...</td>\n",
       "      <td>θεός, σοφία, εἰμί, δίκαιος, Χριστός, ἀλήθεια, ...</td>\n",
       "    </tr>\n",
       "    <tr>\n",
       "      <th>179</th>\n",
       "      <td>tlg1725</td>\n",
       "      <td>Theophilus Antiochenus</td>\n",
       "      <td>1</td>\n",
       "      <td>[Ad Autolycum]</td>\n",
       "      <td>[tlg1725.tlg001.perseus-grc2.xml]</td>\n",
       "      <td>21548</td>\n",
       "      <td>10945</td>\n",
       "      <td>1300</td>\n",
       "      <td>{'1.5': 1}</td>\n",
       "      <td>1.5</td>\n",
       "      <td>...</td>\n",
       "      <td>9</td>\n",
       "      <td>0.000418</td>\n",
       "      <td>(προσκυνεῖθαι, χιών, τεθνηκότων, πυθομένου, εἰ...</td>\n",
       "      <td>(οὗτος, παῖς, γράφω, μικρός, ὕστερος, αὐτός, ἔ...</td>\n",
       "      <td>(γίγνομαι, οὐρανός, ποιέω, ἔχω, διδάσκω, γῆ, λ...</td>\n",
       "      <td>(χαροπός, πράσσω, ἥκιστος, ἐργάζομαι, ὑπόμβρου...</td>\n",
       "      <td>[θάλασσα, ἔχω, ποταμός, πηγή, ἐπίῤῥυσιν, ἐπιχο...</td>\n",
       "      <td>[(θεός, 0.04762), (νόμος, 0.03175), (προφήτης,...</td>\n",
       "      <td>[(νόμος, 0.12808), (βραβεύω, 0.10281), (ἀδικία...</td>\n",
       "      <td>νόμος, βραβεύω, ἀδικία, πράσσω, προφήτης, ἁμαρ...</td>\n",
       "    </tr>\n",
       "    <tr>\n",
       "      <th>31</th>\n",
       "      <td>tlg0031matt</td>\n",
       "      <td>Matthew</td>\n",
       "      <td>1</td>\n",
       "      <td>[Matthew]</td>\n",
       "      <td>[tlg0031.tlg001.perseus-grc2.xml]</td>\n",
       "      <td>18288</td>\n",
       "      <td>8526</td>\n",
       "      <td>1276</td>\n",
       "      <td>{'0.5': 1}</td>\n",
       "      <td>0.5</td>\n",
       "      <td>...</td>\n",
       "      <td>7</td>\n",
       "      <td>0.000383</td>\n",
       "      <td>(χιών, ἑκατόνταρχος, φραγμός, φορτίζω, δίκαιος...</td>\n",
       "      <td>(λέγω, Ἰησοῦς, βασιλεία, οὐρανός, υἱός, ἄνθρωπ...</td>\n",
       "      <td>(μακάριος, οὐρανός, κύριος, ποιέω, οὗτος, βασι...</td>\n",
       "      <td>(λέγω, βασιλεία, οὐρανός, ἄνθρωπος, ποιέω, πλη...</td>\n",
       "      <td>[ἀποκρίνω, Ἰησοῦς, λέγω, ἀφίημι, πρέπω, πληρόω...</td>\n",
       "      <td>[(βασιλεία, 0.08333), (λέγω, 0.05556), (μακάρι...</td>\n",
       "      <td>[(βασιλεία, 0.26354), (μακάριος, 0.25925), (πρ...</td>\n",
       "      <td>βασιλεία, μακάριος, πρέπω, πεινῶντες, διψῶντες...</td>\n",
       "    </tr>\n",
       "    <tr>\n",
       "      <th>100</th>\n",
       "      <td>tlg0555</td>\n",
       "      <td>Clement of Alexandria</td>\n",
       "      <td>7</td>\n",
       "      <td>[Protrepticus, Paedagogus, Stromata (Books I-V...</td>\n",
       "      <td>[tlg0555.tlg001.perseus-grc1.xml, tlg0555.tlg0...</td>\n",
       "      <td>235754</td>\n",
       "      <td>53102</td>\n",
       "      <td>14753</td>\n",
       "      <td>{'1.5': 0.5, '2.5': 0.5}</td>\n",
       "      <td>2.0</td>\n",
       "      <td>...</td>\n",
       "      <td>69</td>\n",
       "      <td>0.000293</td>\n",
       "      <td>(ἡτοιμασμένα, χιών, συνέμποροι, λίπος, ἐκθειάσ...</td>\n",
       "      <td>(γίγνομαι, παῖς, γεννάω, λέγω, ἔνιοι, οὗτος, ν...</td>\n",
       "      <td>(οὗτος, λέγω, εἰμί, πᾶς, θεός, ἀγαθός, ἄνθρωπο...</td>\n",
       "      <td>(λέγω, οὗτος, μάχη, βασιλεία, λαμβάνω, Ἡρακλέη...</td>\n",
       "      <td>[ἰοβόλους, τὶς, παλίμβολος, ὑποκριτής, ἐφοδεύο...</td>\n",
       "      <td>[(θεός, 0.03221), (ἀγαθός, 0.02241), (εἰμί, 0....</td>\n",
       "      <td>[(θεός, 0.09662), (ἀγαθός, 0.09364), (ἄνθρωπος...</td>\n",
       "      <td>θεός, ἀγαθός, ἄνθρωπος, εἰμί, πᾶς, ἀρετή, ἴσος...</td>\n",
       "    </tr>\n",
       "    <tr>\n",
       "      <th>192</th>\n",
       "      <td>tlg2018</td>\n",
       "      <td>Eusebius</td>\n",
       "      <td>10</td>\n",
       "      <td>[Praeperatio Evangelica, Historia ecclesiastic...</td>\n",
       "      <td>[tlg2018.tlg001.opp-grc1.xml, tlg2018.tlg002.p...</td>\n",
       "      <td>620546</td>\n",
       "      <td>251700</td>\n",
       "      <td>35220</td>\n",
       "      <td>{'3.5': 1}</td>\n",
       "      <td>3.5</td>\n",
       "      <td>...</td>\n",
       "      <td>180</td>\n",
       "      <td>0.000290</td>\n",
       "      <td>()</td>\n",
       "      <td>(λέγω, ἔπος, πολύς, χρόνος, αἱρέω, φέρω, κεφαλ...</td>\n",
       "      <td>()</td>\n",
       "      <td>(ἔπος, οὗτος, ἀκούω, ἔχω, Γλαῦκος, βούλομαι, δ...</td>\n",
       "      <td>[πάρειμι, Χριστός, θεός, προφήτης, ἐρῶ, ἀνατελ...</td>\n",
       "      <td>[(θεός, 0.02629), (εἰμί, 0.01444), (πᾶς, 0.013...</td>\n",
       "      <td>[(θεός, 0.05911), (ἀδικία, 0.03861), (εὐσέβεια...</td>\n",
       "      <td>θεός, ἀδικία, εὐσέβεια, πᾶς, ἀρετή, λέγω, κύρι...</td>\n",
       "    </tr>\n",
       "    <tr>\n",
       "      <th>34</th>\n",
       "      <td>tlg0031john</td>\n",
       "      <td>Johnannine literature</td>\n",
       "      <td>4</td>\n",
       "      <td>[John, 1 John, 2 John, 3 John]</td>\n",
       "      <td>[tlg0031.tlg004.perseus-grc2.xml, tlg0031.tlg0...</td>\n",
       "      <td>18189</td>\n",
       "      <td>8142</td>\n",
       "      <td>1339</td>\n",
       "      <td>{'0.5': 1}</td>\n",
       "      <td>0.5</td>\n",
       "      <td>...</td>\n",
       "      <td>5</td>\n",
       "      <td>0.000275</td>\n",
       "      <td>(βλασφημία, ὑπομιμνῄσκω, καταβαίνω, πάσχα, πᾶς...</td>\n",
       "      <td>(λέγω, Ἰησοῦς, οὗτος, ἀποκρίνω, εἰμί, πιστεύω,...</td>\n",
       "      <td>(δίκαιος, ἁμαρτία, δικαιοσύνη, κόσμος, θεός, π...</td>\n",
       "      <td>(λέγω, Ἰησοῦς, οὗτος, εἰμί, πιστεύω, θεός, ἔχω...</td>\n",
       "      <td>[ἔρχομαι, ἐκεῖνος, ἐλέγχω, κόσμος, ἁμαρτία, κρ...</td>\n",
       "      <td>[(δίκαιος, 0.125), (εἰμί, 0.125), (ποιέω, 0.12...</td>\n",
       "      <td>[(δίκαιος, 0.64003), (ποιέω, 0.30904), (ἐλέγχω...</td>\n",
       "      <td>δίκαιος, ποιέω, ἐλέγχω, κρίσις, εἰμί, γεννάω, ...</td>\n",
       "    </tr>\n",
       "    <tr>\n",
       "      <th>193</th>\n",
       "      <td>tlg2021</td>\n",
       "      <td>Epiphanius</td>\n",
       "      <td>3</td>\n",
       "      <td>[Ancoratus, Panarion (Adversus haereses), Anac...</td>\n",
       "      <td>[tlg2021.tlg001.opp-grc1.xml, tlg2021.tlg002.o...</td>\n",
       "      <td>325038</td>\n",
       "      <td>137693</td>\n",
       "      <td>33079</td>\n",
       "      <td>{'3.5': 1}</td>\n",
       "      <td>3.5</td>\n",
       "      <td>...</td>\n",
       "      <td>60</td>\n",
       "      <td>0.000185</td>\n",
       "      <td>()</td>\n",
       "      <td>(εἰμί, πᾶς, ἄλλος, αὐτός, οὗτος, λέγω, εἷς, ψυ...</td>\n",
       "      <td>()</td>\n",
       "      <td>(εἰμί, πᾶς, ἄλλος, αὐτός, οὗτος, λέγω, ψυχή, ἀ...</td>\n",
       "      <td>[περιεκάκησα, περικακῶ, τοσοῦτος, αἵρεσις, ὄνο...</td>\n",
       "      <td>[(νόμος, 0.01896), (λέγω, 0.0154), (ἔρχομαι, 0...</td>\n",
       "      <td>[(νόμος, 0.08375), (ἔρχομαι, 0.06763), (ἀγαθός...</td>\n",
       "      <td>νόμος, ἔρχομαι, ἀγαθός, ἀνίστημι, σάρξ, ἁμαρτί...</td>\n",
       "    </tr>\n",
       "    <tr>\n",
       "      <th>200</th>\n",
       "      <td>tlg2035</td>\n",
       "      <td>Athanasius of Alexandria</td>\n",
       "      <td>5</td>\n",
       "      <td>[De decretis Nicaenae synodi (Chapters 41 and ...</td>\n",
       "      <td>[tlg2035.tlg003.opp-lat1.xml, tlg2035.tlg117.1...</td>\n",
       "      <td>94010</td>\n",
       "      <td>40340</td>\n",
       "      <td>10789</td>\n",
       "      <td>{'3.5': 1}</td>\n",
       "      <td>3.5</td>\n",
       "      <td>...</td>\n",
       "      <td>17</td>\n",
       "      <td>0.000181</td>\n",
       "      <td>(φανείσης, τυπτομένου, φραγμός, ἄθεος, εὐφραίν...</td>\n",
       "      <td>(εἰμί, οὗτος, σῶμα, ψυχή, πᾶς, ἀγαθός, τοιοῦτο...</td>\n",
       "      <td>(γίγνομαι, κύριος, λόγος, ἀγαπάω, δικαιοσύνη, ...</td>\n",
       "      <td>(εἰμί, οὗτος, ψυχή, πᾶς, ἀγαθός, τοιοῦτος, μόν...</td>\n",
       "      <td>[μανθάνω, Χριστός, αὐτός, ἀκούω, διδάσκω, ἀποτ...</td>\n",
       "      <td>[(εἰμί, 0.07752), (αὐτός, 0.05426), (ἀγαπάω, 0...</td>\n",
       "      <td>[(ἀγαπάω, 0.32506), (μισέω, 0.30596), (ἀδικία,...</td>\n",
       "      <td>ἀγαπάω, μισέω, ἀδικία, αὐτός, ὁσιότης, ἀδικίαν...</td>\n",
       "    </tr>\n",
       "    <tr>\n",
       "      <th>33</th>\n",
       "      <td>tlg0031luke</td>\n",
       "      <td>Luke (the evangelist)</td>\n",
       "      <td>2</td>\n",
       "      <td>[Luke, Acts]</td>\n",
       "      <td>[tlg0031.tlg003.perseus-grc2.xml, tlg0031.tlg0...</td>\n",
       "      <td>37864</td>\n",
       "      <td>18113</td>\n",
       "      <td>2234</td>\n",
       "      <td>{'0.5': 1}</td>\n",
       "      <td>0.5</td>\n",
       "      <td>...</td>\n",
       "      <td>5</td>\n",
       "      <td>0.000132</td>\n",
       "      <td>(σεβαστός, ὑπομιμνῄσκω, Μαθθίας, φραγμός, Παμφ...</td>\n",
       "      <td>(κύριος, λέγω, πνεῦμα, ἅγιος, Ἰησοῦς, οὗτος, γ...</td>\n",
       "      <td>(γίγνομαι, κύριος, ποιέω, οὗτος, ἐχθρός, δικαι...</td>\n",
       "      <td>(κύριος, λέγω, οὗτος, γίγνομαι, ἡμέρα, θεός, ε...</td>\n",
       "      <td>[Ζαχαρίας, πατήρ, πίμπλημι, πνεῦμα, ἅγιος, προ...</td>\n",
       "      <td>[(πᾶς, 0.04386), (ἅγιος, 0.03509), (πατήρ, 0.0...</td>\n",
       "      <td>[(ἐχθρός, 0.14511), (ἅγιος, 0.12101), (πᾶς, 0....</td>\n",
       "      <td>ἐχθρός, ἅγιος, πᾶς, σωτηρία, πατήρ, στόμα, πίμ...</td>\n",
       "    </tr>\n",
       "    <tr>\n",
       "      <th>194</th>\n",
       "      <td>tlg2022</td>\n",
       "      <td>Gregorius Nazianzenus</td>\n",
       "      <td>7</td>\n",
       "      <td>[Christus patiens [Dub.] (fort. auctore Consta...</td>\n",
       "      <td>[tlg2022.tlg003.opp-grc1.xml, tlg2022.tlg007.o...</td>\n",
       "      <td>77297</td>\n",
       "      <td>32255</td>\n",
       "      <td>20005</td>\n",
       "      <td>{'3.5': 1}</td>\n",
       "      <td>3.5</td>\n",
       "      <td>...</td>\n",
       "      <td>10</td>\n",
       "      <td>0.000129</td>\n",
       "      <td>(χιών, κόσμο, ἡμιχ, πληρῶ, ψιλός, συντρέχοντα,...</td>\n",
       "      <td>(εἰμί, οὗτος, λέγω, πρῶτος, σχῆμα, κίνησις, πᾶ...</td>\n",
       "      <td>(οὗτος, παυσόμενον, χείρων, λέγω, πᾶς, χάρις, ...</td>\n",
       "      <td>(εἰμί, οὗτος, λέγω, κίνησις, πᾶς, αὐτός, γίγνο...</td>\n",
       "      <td>[πνεῦμα, πῦρ, φῶς, ἀγάπη, σοφία, νόος, λόγος, ...</td>\n",
       "      <td>[(εἰρήνη, 0.05172), (ἀγάπη, 0.03448), (σῶμα, 0...</td>\n",
       "      <td>[(εἰρήνη, 0.41959), (ἀγάπη, 0.30363), (χείρων,...</td>\n",
       "      <td>εἰρήνη, ἀγάπη, χείρων, βασιλεύς, ἄρχω, σῶμα, ἐ...</td>\n",
       "    </tr>\n",
       "    <tr>\n",
       "      <th>166</th>\n",
       "      <td>tlg1443</td>\n",
       "      <td>Ignatius Antiochenus</td>\n",
       "      <td>7</td>\n",
       "      <td>[Ad Ephesios (epist. 1), Ad Magnesios (epist. ...</td>\n",
       "      <td>[tlg1443.tlg004.1st1K-grc1.xml, tlg1443.tlg005...</td>\n",
       "      <td>8396</td>\n",
       "      <td>3919</td>\n",
       "      <td>790</td>\n",
       "      <td>{'0.5': 0.5, '1.5': 0.5}</td>\n",
       "      <td>1.0</td>\n",
       "      <td>...</td>\n",
       "      <td>1</td>\n",
       "      <td>0.000119</td>\n",
       "      <td>(χρῆσις, βλασφημία, πέτρα, κατοικέω, ἄθεος, πᾶ...</td>\n",
       "      <td>(δημοσθένης, κτησιφῶντος, κύριος, ὄνομα, φιλιπ...</td>\n",
       "      <td>()</td>\n",
       "      <td>()</td>\n",
       "      <td>[Ἰωάν(ν)ης, πληρόω]</td>\n",
       "      <td>[(Ἰωάν(ν)ης, 0.5), (πληρόω, 0.5)]</td>\n",
       "      <td>[(Ἰωάν(ν)ης, 3.33602), (πληρόω, 2.98944)]</td>\n",
       "      <td>Ἰωάν(ν)ης, πληρόω</td>\n",
       "    </tr>\n",
       "    <tr>\n",
       "      <th>203</th>\n",
       "      <td>tlg2040</td>\n",
       "      <td>Basil</td>\n",
       "      <td>2</td>\n",
       "      <td>[To Young Men, On How They Might Dervice Profi...</td>\n",
       "      <td>[tlg2040.tlg002.perseus-grc1.xml, tlg2040.tlg0...</td>\n",
       "      <td>144429</td>\n",
       "      <td>65718</td>\n",
       "      <td>11257</td>\n",
       "      <td>{'3.5': 1}</td>\n",
       "      <td>3.5</td>\n",
       "      <td>...</td>\n",
       "      <td>14</td>\n",
       "      <td>0.000097</td>\n",
       "      <td>(χιών, ἐξῃρημένηνἐξηρτημένην, συμπαραληψόμενον...</td>\n",
       "      <td>(εἰμί, ἴσος, λόγος, ἔχω, μέγας, κέντρον, κύκλο...</td>\n",
       "      <td>(οὗτος, εἰμί, πᾶς, κρίμα, εἰκών, ἔχω, θεός, πί...</td>\n",
       "      <td>()</td>\n",
       "      <td>[φρόνησις, λοιπός, ἀρετή, ὅσος, γενικαῖς, ὑποδ...</td>\n",
       "      <td>[(σοφία, 0.0339), (θεός, 0.0339), (κρίμα, 0.02...</td>\n",
       "      <td>[(σοφία, 0.19382), (κρίμα, 0.16668), (στέφανος...</td>\n",
       "      <td>σοφία, κρίμα, στέφανος, θεός, δίκαιος, γενικαῖ...</td>\n",
       "    </tr>\n",
       "    <tr>\n",
       "      <th>212</th>\n",
       "      <td>tlg2115</td>\n",
       "      <td>Hippolytus</td>\n",
       "      <td>1</td>\n",
       "      <td>[Refutatio Omnium Haeresium]</td>\n",
       "      <td>[tlg2115.tlg060.perseus-grc1.xml]</td>\n",
       "      <td>69987</td>\n",
       "      <td>36776</td>\n",
       "      <td>4394</td>\n",
       "      <td>{'2.5': 1}</td>\n",
       "      <td>2.5</td>\n",
       "      <td>...</td>\n",
       "      <td>6</td>\n",
       "      <td>0.000086</td>\n",
       "      <td>(χιών, ἐμόναζεν, ἀγρευτής, κενόω, δοκιμάζω, δι...</td>\n",
       "      <td>(υἱός, ὄβριμος, Πρίαμος, πόλις, πατήρ, ἑός, Τρ...</td>\n",
       "      <td>(ἀνδρεία, ἕκαστος, οὗτος, μείωσιν, φρόνησις, π...</td>\n",
       "      <td>()</td>\n",
       "      <td>[ὑπερβάλλω, ἐνδέω, κακία, τελευτάω, οἷος, τέσσ...</td>\n",
       "      <td>[(ὑπερβολή, 0.05952), (μείωσιν, 0.05952), (σωφ...</td>\n",
       "      <td>[(μείωσιν, 0.45803), (ὑπερβολή, 0.40349), (σωφ...</td>\n",
       "      <td>μείωσιν, ὑπερβολή, σωφροσύνη, ἀνδρεία, φρόνησι...</td>\n",
       "    </tr>\n",
       "    <tr>\n",
       "      <th>107</th>\n",
       "      <td>tlg0563</td>\n",
       "      <td>Maximus of Tyre</td>\n",
       "      <td>1</td>\n",
       "      <td>[Dialexeis]</td>\n",
       "      <td>[tlg0563.tlg001.1st1K-grc1.xml]</td>\n",
       "      <td>118960</td>\n",
       "      <td>50202</td>\n",
       "      <td>22598</td>\n",
       "      <td>{'1.5': 1}</td>\n",
       "      <td>1.5</td>\n",
       "      <td>...</td>\n",
       "      <td>10</td>\n",
       "      <td>0.000084</td>\n",
       "      <td>(χιών, ἀναπλάττει, συνέμποροι, εὐλα, ψιλός, πτ...</td>\n",
       "      <td>(εἰμί, οὗτος, κακός, ἀγαθός, λέγω, ἄλλος, οὐδε...</td>\n",
       "      <td>(οὗτος, ἐλεύθερος, λέγω, εἰμί, πᾶς, ἐλάσσων, ἄ...</td>\n",
       "      <td>(εἰμί, οὗτος, λέγω, ἄλλος, οὐδείς, ἔχω, αὐτός,...</td>\n",
       "      <td>[ἀδίκημα, θηρίον, καθαρτής, οὗτος, τύραννος, σ...</td>\n",
       "      <td>[(οὗτος, 0.08163), (τύραννος, 0.04082), (ἀδικί...</td>\n",
       "      <td>[(ἀδικία, 0.29357), (οὗτος, 0.28576), (τύραννο...</td>\n",
       "      <td>ἀδικία, οὗτος, τύραννος, ἐλευθερωτής, βεβαιωτή...</td>\n",
       "    </tr>\n",
       "    <tr>\n",
       "      <th>167</th>\n",
       "      <td>tlg1447</td>\n",
       "      <td>Irenaeus</td>\n",
       "      <td>1</td>\n",
       "      <td>[Libros quinque adversus haereses]</td>\n",
       "      <td>[tlg1447.tlg001.1st1K-grc1.xml]</td>\n",
       "      <td>24651</td>\n",
       "      <td>10517</td>\n",
       "      <td>4525</td>\n",
       "      <td>{'1.5': 1}</td>\n",
       "      <td>1.5</td>\n",
       "      <td>...</td>\n",
       "      <td>1</td>\n",
       "      <td>0.000041</td>\n",
       "      <td>(ὀνειροπόμπους, εἰσηγήσαντο, ἀλληγορία, φορτίζ...</td>\n",
       "      <td>(εἰμί, ὅμοιος, σχέσις, κοινός, στίχος, οἷος, ἀ...</td>\n",
       "      <td>(γίγνομαι, οὗτος, λόγος, δικαιοσύνη, λέγω, πᾶς...</td>\n",
       "      <td>()</td>\n",
       "      <td>[κᾀκεῖνον, πολύς, μέρος, ὁμολογήσαντα, ποιέω, ...</td>\n",
       "      <td>[(γίγνομαι, 0.125), (κᾀκεῖνον, 0.0625), (πολύς...</td>\n",
       "      <td>[(ὁμολογήσαντα, 0.52609), (θελήσαντα, 0.52609)...</td>\n",
       "      <td>ὁμολογήσαντα, θελήσαντα, ἡττηθέντα, κᾀκεῖνον, ...</td>\n",
       "    </tr>\n",
       "    <tr>\n",
       "      <th>21</th>\n",
       "      <td>tlg0018</td>\n",
       "      <td>Philo Judaeus</td>\n",
       "      <td>31</td>\n",
       "      <td>[De opificio mundi, Legum allegoriarum libri i...</td>\n",
       "      <td>[tlg0018.tlg001.opp-grc1.xml, tlg0018.tlg002.o...</td>\n",
       "      <td>643011</td>\n",
       "      <td>304615</td>\n",
       "      <td>82966</td>\n",
       "      <td>{'-0.5': 0.5, '0.5': 0.5}</td>\n",
       "      <td>0.0</td>\n",
       "      <td>...</td>\n",
       "      <td>157</td>\n",
       "      <td>0.000244</td>\n",
       "      <td>()</td>\n",
       "      <td>(εἰμί, οὗτος, σῶμα, ψυχή, θεός, λέγω, γένος, ἄ...</td>\n",
       "      <td>()</td>\n",
       "      <td>(εἰμί, θεός, γίγνομαι, τέλειος, ἄλλος, ἀρετή, ...</td>\n",
       "      <td>[ἐκεῖνος, ἀγνοητέον, πρῶτος, ἀριθμός, τέσσαρες...</td>\n",
       "      <td>[(ἀρετή, 0.02197), (φρόνησις, 0.01862), (εἰμί,...</td>\n",
       "      <td>[(φρόνησις, 0.11227), (ἀρετή, 0.09582), (σωφρο...</td>\n",
       "      <td>φρόνησις, ἀρετή, σωφροσύνη, ἀνδρεία, ἰσότης, ἀ...</td>\n",
       "    </tr>\n",
       "    <tr>\n",
       "      <th>83</th>\n",
       "      <td>tlg0526</td>\n",
       "      <td>Flavius Josephus</td>\n",
       "      <td>4</td>\n",
       "      <td>[Antiquitates Judaicae, Josephi vita, Contra A...</td>\n",
       "      <td>[tlg0526.tlg001.perseus-grc1.xml, tlg0526.tlg0...</td>\n",
       "      <td>469580</td>\n",
       "      <td>240661</td>\n",
       "      <td>19707</td>\n",
       "      <td>{'0.5': 1}</td>\n",
       "      <td>0.5</td>\n",
       "      <td>...</td>\n",
       "      <td>39</td>\n",
       "      <td>0.000083</td>\n",
       "      <td>()</td>\n",
       "      <td>(εἰμί, ἀριθμός, μέγας, ἐλάσσων, ιϛ, ἠμί, ϛ, δε...</td>\n",
       "      <td>()</td>\n",
       "      <td>()</td>\n",
       "      <td>[ἄβελος, νέος, ἐπιμελέομαι, πράσσω, πάρειμι, θ...</td>\n",
       "      <td>[(εἰμί, 0.02242), (θεός, 0.02093), (εὐσέβεια, ...</td>\n",
       "      <td>[(εὐσέβεια, 0.10229), (θεός, 0.05143), (εἰμί, ...</td>\n",
       "      <td>εὐσέβεια, θεός, εἰμί, ἀρετή, δόξα, πολύς, ἀμάν...</td>\n",
       "    </tr>\n",
       "  </tbody>\n",
       "</table>\n",
       "<p>28 rows × 23 columns</p>\n",
       "</div>"
      ],
      "text/plain": [
       "       author_id                    author  n_titles  \\\n",
       "175      tlg1622                  Polycarp         1   \n",
       "35   tlg0031paul            Paul of Tarsus         7   \n",
       "156      tlg1271           Clemens Romanus         2   \n",
       "130      tlg0646    Pseudo-Justinus Martyr         1   \n",
       "152      tlg1216                  Barnabas         1   \n",
       "164      tlg1419                    Hermas         1   \n",
       "36   tlg0031pspa        Pauline literature         6   \n",
       "37   tlg0031rest                  GNT rest         6   \n",
       "158      tlg1311                   Didache         1   \n",
       "129      tlg0645           Justinus Martyr         3   \n",
       "150      tlg1205               Athenagoras         2   \n",
       "205      tlg2042                  Origenes        44   \n",
       "179      tlg1725    Theophilus Antiochenus         1   \n",
       "31   tlg0031matt                   Matthew         1   \n",
       "100      tlg0555     Clement of Alexandria         7   \n",
       "192      tlg2018                  Eusebius        10   \n",
       "34   tlg0031john     Johnannine literature         4   \n",
       "193      tlg2021                Epiphanius         3   \n",
       "200      tlg2035  Athanasius of Alexandria         5   \n",
       "33   tlg0031luke     Luke (the evangelist)         2   \n",
       "194      tlg2022     Gregorius Nazianzenus         7   \n",
       "166      tlg1443      Ignatius Antiochenus         7   \n",
       "203      tlg2040                     Basil         2   \n",
       "212      tlg2115                Hippolytus         1   \n",
       "107      tlg0563           Maximus of Tyre         1   \n",
       "167      tlg1447                  Irenaeus         1   \n",
       "21       tlg0018             Philo Judaeus        31   \n",
       "83       tlg0526          Flavius Josephus         4   \n",
       "\n",
       "                                                titles  \\\n",
       "175                         [Epistula ad Philippenses]   \n",
       "35   [Romans, 1 Corinthians, 2 Corinthians, Galatia...   \n",
       "156  [Epistula I ad Corinthios, Epistula II ad Cori...   \n",
       "130                            [Epistula ad Diognetum]   \n",
       "152                          [The Epistle of Barnabas]   \n",
       "164                           [The Shepherd of Hermas]   \n",
       "36   [Ephesians, Colossians, 2 Thessalonians, 1 Tim...   \n",
       "37   [Hebrews, James, 1 Peter, 2 Peter, Jude, Revel...   \n",
       "158                          [Didache XII Apostolorum]   \n",
       "129      [Apologia, Apology II, Dialogus cum Tryphone]   \n",
       "150   [Supplication pro Christianis, De resurrectione]   \n",
       "205  [Contra Celsum, Commentarii in Evangelium Joan...   \n",
       "179                                     [Ad Autolycum]   \n",
       "31                                           [Matthew]   \n",
       "100  [Protrepticus, Paedagogus, Stromata (Books I-V...   \n",
       "192  [Praeperatio Evangelica, Historia ecclesiastic...   \n",
       "34                      [John, 1 John, 2 John, 3 John]   \n",
       "193  [Ancoratus, Panarion (Adversus haereses), Anac...   \n",
       "200  [De decretis Nicaenae synodi (Chapters 41 and ...   \n",
       "33                                        [Luke, Acts]   \n",
       "194  [Christus patiens [Dub.] (fort. auctore Consta...   \n",
       "166  [Ad Ephesios (epist. 1), Ad Magnesios (epist. ...   \n",
       "203  [To Young Men, On How They Might Dervice Profi...   \n",
       "212                       [Refutatio Omnium Haeresium]   \n",
       "107                                        [Dialexeis]   \n",
       "167                 [Libros quinque adversus haereses]   \n",
       "21   [De opificio mundi, Legum allegoriarum libri i...   \n",
       "83   [Antiquitates Judaicae, Josephi vita, Contra A...   \n",
       "\n",
       "                                             filenames  wordcount  \\\n",
       "175                    [tlg1622.tlg001.1st1K-grc1.xml]       1804   \n",
       "35   [tlg0031.tlg006.perseus-grc2.xml, tlg0031.tlg0...      24066   \n",
       "156  [tlg1271.tlg001.1st1K-grc1.xml, tlg1271.tlg002...      13936   \n",
       "130                    [tlg0646.tlg004.1st1K-grc1.xml]       2725   \n",
       "152                  [tlg1216.tlg001.perseus-grc2.xml]       7440   \n",
       "164                    [tlg1419.tlg001.1st1K-grc1.xml]      30282   \n",
       "36   [tlg0031.tlg010.perseus-grc2.xml, tlg0031.tlg0...       8324   \n",
       "37   [tlg0031.tlg019.perseus-grc2.xml, tlg0031.tlg0...      19782   \n",
       "158                    [tlg1311.tlg001.1st1K-grc1.xml]       2377   \n",
       "129  [tlg0645.tlg001.opp-grc1.xml, tlg0645.tlg002.p...      73449   \n",
       "150  [tlg1205.tlg001.perseus-grc2.xml, tlg1205.tlg0...      20210   \n",
       "205  [tlg2042.tlg001.perseus-grc1.xml, tlg2042.tlg0...     931431   \n",
       "179                  [tlg1725.tlg001.perseus-grc2.xml]      21548   \n",
       "31                   [tlg0031.tlg001.perseus-grc2.xml]      18288   \n",
       "100  [tlg0555.tlg001.perseus-grc1.xml, tlg0555.tlg0...     235754   \n",
       "192  [tlg2018.tlg001.opp-grc1.xml, tlg2018.tlg002.p...     620546   \n",
       "34   [tlg0031.tlg004.perseus-grc2.xml, tlg0031.tlg0...      18189   \n",
       "193  [tlg2021.tlg001.opp-grc1.xml, tlg2021.tlg002.o...     325038   \n",
       "200  [tlg2035.tlg003.opp-lat1.xml, tlg2035.tlg117.1...      94010   \n",
       "33   [tlg0031.tlg003.perseus-grc2.xml, tlg0031.tlg0...      37864   \n",
       "194  [tlg2022.tlg003.opp-grc1.xml, tlg2022.tlg007.o...      77297   \n",
       "166  [tlg1443.tlg004.1st1K-grc1.xml, tlg1443.tlg005...       8396   \n",
       "203  [tlg2040.tlg002.perseus-grc1.xml, tlg2040.tlg0...     144429   \n",
       "212                  [tlg2115.tlg060.perseus-grc1.xml]      69987   \n",
       "107                    [tlg0563.tlg001.1st1K-grc1.xml]     118960   \n",
       "167                    [tlg1447.tlg001.1st1K-grc1.xml]      24651   \n",
       "21   [tlg0018.tlg001.opp-grc1.xml, tlg0018.tlg002.o...     643011   \n",
       "83   [tlg0526.tlg001.perseus-grc1.xml, tlg0526.tlg0...     469580   \n",
       "\n",
       "     lemmata_wordcount  n_sentences                 date_probs  date_avr  ...  \\\n",
       "175                951          212   {'0.5': 0.5, '1.5': 0.5}       1.0  ...   \n",
       "35               11089         1632                 {'0.5': 1}       0.5  ...   \n",
       "156               6290         1410                 {'0.5': 1}       0.5  ...   \n",
       "130               1364          240   {'2.5': 0.5, '4.5': 0.5}       3.5  ...   \n",
       "152               3450          875   {'0.5': 0.5, '1.5': 0.5}       1.0  ...   \n",
       "164              14340         2959                 {'1.5': 1}       1.5  ...   \n",
       "36                4103          390                 {'0.5': 1}       0.5  ...   \n",
       "37                9755         1037                 {'0.5': 1}       0.5  ...   \n",
       "158               1049          284                 {'1.5': 1}       1.5  ...   \n",
       "129              34006         5829                 {'1.5': 1}       1.5  ...   \n",
       "150               9819          808                 {'1.5': 1}       1.5  ...   \n",
       "205             388077       110127   {'1.5': 0.5, '2.5': 0.5}       2.0  ...   \n",
       "179              10945         1300                 {'1.5': 1}       1.5  ...   \n",
       "31                8526         1276                 {'0.5': 1}       0.5  ...   \n",
       "100              53102        14753   {'1.5': 0.5, '2.5': 0.5}       2.0  ...   \n",
       "192             251700        35220                 {'3.5': 1}       3.5  ...   \n",
       "34                8142         1339                 {'0.5': 1}       0.5  ...   \n",
       "193             137693        33079                 {'3.5': 1}       3.5  ...   \n",
       "200              40340        10789                 {'3.5': 1}       3.5  ...   \n",
       "33               18113         2234                 {'0.5': 1}       0.5  ...   \n",
       "194              32255        20005                 {'3.5': 1}       3.5  ...   \n",
       "166               3919          790   {'0.5': 0.5, '1.5': 0.5}       1.0  ...   \n",
       "203              65718        11257                 {'3.5': 1}       3.5  ...   \n",
       "212              36776         4394                 {'2.5': 1}       2.5  ...   \n",
       "107              50202        22598                 {'1.5': 1}       1.5  ...   \n",
       "167              10517         4525                 {'1.5': 1}       1.5  ...   \n",
       "21              304615        82966  {'-0.5': 0.5, '0.5': 0.5}       0.0  ...   \n",
       "83              240661        19707                 {'0.5': 1}       0.5  ...   \n",
       "\n",
       "    dikaiosyne_N dikaiosyne_TF  \\\n",
       "175            8      0.004435   \n",
       "35            49      0.002036   \n",
       "156           21      0.001507   \n",
       "130            4      0.001468   \n",
       "152            9      0.001210   \n",
       "164           33      0.001090   \n",
       "36             8      0.000961   \n",
       "37            17      0.000859   \n",
       "158            2      0.000841   \n",
       "129           45      0.000613   \n",
       "150           12      0.000594   \n",
       "205          493      0.000529   \n",
       "179            9      0.000418   \n",
       "31             7      0.000383   \n",
       "100           69      0.000293   \n",
       "192          180      0.000290   \n",
       "34             5      0.000275   \n",
       "193           60      0.000185   \n",
       "200           17      0.000181   \n",
       "33             5      0.000132   \n",
       "194           10      0.000129   \n",
       "166            1      0.000119   \n",
       "203           14      0.000097   \n",
       "212            6      0.000086   \n",
       "107           10      0.000084   \n",
       "167            1      0.000041   \n",
       "21           157      0.000244   \n",
       "83            39      0.000083   \n",
       "\n",
       "                                               G_sents  \\\n",
       "175  (υεμ, πᾶς, ἐλεήμων, τόπος, γράφω, παυλυς, νος,...   \n",
       "35   (παράκειμαι, δίκαιος, εὐφραίνω, πάσχα, κλέπτω,...   \n",
       "156  (χιών, εὐφραίνω, δίκαιος, ἀναγγέλλουσιν, κενόω...   \n",
       "130  (χρῆσις, διατηρέω, ζωοποιοῦνται, ἡτοιμασμένα, ...   \n",
       "152  (δάμαλις, ἐγκαταλίπῃς, καταβαίνω, τριακόσιοι, ...   \n",
       "164  (χιών, περιγίγνομαι, ἀσελγέσι, τίβεριν, εὐφραί...   \n",
       "36   (βλασφημία, Λουκᾶς, καταβαίνω, ἀντιλαμβάνω, φρ...   \n",
       "37   (χισεδέκ, χιών, πάσχα, δίκαιος, εὐφραίνω, κλύδ...   \n",
       "158  (βλασφημία, ἐγκαταλίπῃς, θυμικός, πραΰς, πᾶς, ...   \n",
       "129  (ψάλλοντας, ἡτοιμασμένα, χιών, ἀναισθησία, κεν...   \n",
       "150  (ἐῤῥάγη, ἄθεος, παράκειμαι, δίκαιος, διανέμω, ...   \n",
       "205                                                 ()   \n",
       "179  (προσκυνεῖθαι, χιών, τεθνηκότων, πυθομένου, εἰ...   \n",
       "31   (χιών, ἑκατόνταρχος, φραγμός, φορτίζω, δίκαιος...   \n",
       "100  (ἡτοιμασμένα, χιών, συνέμποροι, λίπος, ἐκθειάσ...   \n",
       "192                                                 ()   \n",
       "34   (βλασφημία, ὑπομιμνῄσκω, καταβαίνω, πάσχα, πᾶς...   \n",
       "193                                                 ()   \n",
       "200  (φανείσης, τυπτομένου, φραγμός, ἄθεος, εὐφραίν...   \n",
       "33   (σεβαστός, ὑπομιμνῄσκω, Μαθθίας, φραγμός, Παμφ...   \n",
       "194  (χιών, κόσμο, ἡμιχ, πληρῶ, ψιλός, συντρέχοντα,...   \n",
       "166  (χρῆσις, βλασφημία, πέτρα, κατοικέω, ἄθεος, πᾶ...   \n",
       "203  (χιών, ἐξῃρημένηνἐξηρτημένην, συμπαραληψόμενον...   \n",
       "212  (χιών, ἐμόναζεν, ἀγρευτής, κενόω, δοκιμάζω, δι...   \n",
       "107  (χιών, ἀναπλάττει, συνέμποροι, εὐλα, ψιλός, πτ...   \n",
       "167  (ὀνειροπόμπους, εἰσηγήσαντο, ἀλληγορία, φορτίζ...   \n",
       "21                                                  ()   \n",
       "83                                                  ()   \n",
       "\n",
       "                                                G_lems  \\\n",
       "175  (μένω, μίμνω, γῆρυς, ἀθάνατος, λευκός, μέλας, ...   \n",
       "35   (Χριστός, Ἰησοῦς, κύριος, θεός, χάρις, πατήρ, ...   \n",
       "156  (δύσις, ἑῷος, ἀνατέλλω, ἥλιος, αβγ, κύκλος, φα...   \n",
       "130  (εἰμί, οἷος, λευκός, μικρός, αὐτός, λέγω, οὗτο...   \n",
       "152  (γίγνομαι, κίνησις, μέρος, οὗτος, πολύς, χράω,...   \n",
       "164  (πέμπω, ἐφόδιον, αὐτός, καιρός, παροικία, ἐπισ...   \n",
       "36   (Χριστός, Ἰησοῦς, κύριος, θεός, πατήρ, ἀγαθός,...   \n",
       "37   (εἰσέρχομαι, κατάπαυσις, εἰμί, οὗτος, υἱός, πν...   \n",
       "158  (δῆλος, ἅπας, κακός, πόλεμος, πρῶτος, σελίς, τ...   \n",
       "129  (λέγω, οὗτος, φημί, βασιλεύς, πολύς, σοφός, ἀν...   \n",
       "150  (δηλόω, ἀνήρ, σημεῖον, ἄλλος, σημαίνω, εἰμί, ο...   \n",
       "205  (εἰμί, υἱός, λόγος, πατήρ, θεός, λέγω, γίγνομα...   \n",
       "179  (οὗτος, παῖς, γράφω, μικρός, ὕστερος, αὐτός, ἔ...   \n",
       "31   (λέγω, Ἰησοῦς, βασιλεία, οὐρανός, υἱός, ἄνθρωπ...   \n",
       "100  (γίγνομαι, παῖς, γεννάω, λέγω, ἔνιοι, οὗτος, ν...   \n",
       "192  (λέγω, ἔπος, πολύς, χρόνος, αἱρέω, φέρω, κεφαλ...   \n",
       "34   (λέγω, Ἰησοῦς, οὗτος, ἀποκρίνω, εἰμί, πιστεύω,...   \n",
       "193  (εἰμί, πᾶς, ἄλλος, αὐτός, οὗτος, λέγω, εἷς, ψυ...   \n",
       "200  (εἰμί, οὗτος, σῶμα, ψυχή, πᾶς, ἀγαθός, τοιοῦτο...   \n",
       "33   (κύριος, λέγω, πνεῦμα, ἅγιος, Ἰησοῦς, οὗτος, γ...   \n",
       "194  (εἰμί, οὗτος, λέγω, πρῶτος, σχῆμα, κίνησις, πᾶ...   \n",
       "166  (δημοσθένης, κτησιφῶντος, κύριος, ὄνομα, φιλιπ...   \n",
       "203  (εἰμί, ἴσος, λόγος, ἔχω, μέγας, κέντρον, κύκλο...   \n",
       "212  (υἱός, ὄβριμος, Πρίαμος, πόλις, πατήρ, ἑός, Τρ...   \n",
       "107  (εἰμί, οὗτος, κακός, ἀγαθός, λέγω, ἄλλος, οὐδε...   \n",
       "167  (εἰμί, ὅμοιος, σχέσις, κοινός, στίχος, οἷος, ἀ...   \n",
       "21   (εἰμί, οὗτος, σῶμα, ψυχή, θεός, λέγω, γένος, ἄ...   \n",
       "83   (εἰμί, ἀριθμός, μέγας, ἐλάσσων, ιϛ, ἠμί, ϛ, δε...   \n",
       "\n",
       "                                    dikaiosyne_G_sents  \\\n",
       "175  (πᾶς, ἁμαρτία, φιλαργυρία, πίστις, δικαιοσύνη,...   \n",
       "35   (σάρξ, κύριος, χριστός, δικαιοσύνη, θεός, εἰμί...   \n",
       "156  (σημεῖον, γίγνομαι, σάρξ, ὁμόνοια, ἀγάπη, κύρι...   \n",
       "130  (δίκαιος, ὑπομένω, ἄνομος, γῆ, ἄλλος, δικαιώσῃ...   \n",
       "152  (δίκαιος, μνημονεύω, γῆ, γάλα, καρδία, λαμβάνω...   \n",
       "164  (κύριος, ἄγγελος, οὗτος, ἔχω, πονηρός, δικαιοσ...   \n",
       "36   (πᾶς, ἄνθρωπος, πίστις, δικαιοσύνη, θεός, ἀγάπ...   \n",
       "37   (δίκαιος, μέγας, κύριος, ἱερεύς, οὗτος, χριστό...   \n",
       "158  (δεχθήτω, δικαιοσύνη, ἔρχομαι, κύριος, προστίθ...   \n",
       "129  (οὗτος, κρίσις, λέγω, εἰμί, πᾶς, λαός, βασιλεύ...   \n",
       "150  (σῶμα, ψυχή, γίγνομαι, οὗτος, λόγος, ἔχω, δικα...   \n",
       "205                                                 ()   \n",
       "179  (γίγνομαι, οὐρανός, ποιέω, ἔχω, διδάσκω, γῆ, λ...   \n",
       "31   (μακάριος, οὐρανός, κύριος, ποιέω, οὗτος, βασι...   \n",
       "100  (οὗτος, λέγω, εἰμί, πᾶς, θεός, ἀγαθός, ἄνθρωπο...   \n",
       "192                                                 ()   \n",
       "34   (δίκαιος, ἁμαρτία, δικαιοσύνη, κόσμος, θεός, π...   \n",
       "193                                                 ()   \n",
       "200  (γίγνομαι, κύριος, λόγος, ἀγαπάω, δικαιοσύνη, ...   \n",
       "33   (γίγνομαι, κύριος, ποιέω, οὗτος, ἐχθρός, δικαι...   \n",
       "194  (οὗτος, παυσόμενον, χείρων, λέγω, πᾶς, χάρις, ...   \n",
       "166                                                 ()   \n",
       "203  (οὗτος, εἰμί, πᾶς, κρίμα, εἰκών, ἔχω, θεός, πί...   \n",
       "212  (ἀνδρεία, ἕκαστος, οὗτος, μείωσιν, φρόνησις, π...   \n",
       "107  (οὗτος, ἐλεύθερος, λέγω, εἰμί, πᾶς, ἐλάσσων, ἄ...   \n",
       "167  (γίγνομαι, οὗτος, λόγος, δικαιοσύνη, λέγω, πᾶς...   \n",
       "21                                                  ()   \n",
       "83                                                  ()   \n",
       "\n",
       "                                     dikaiosyne_G_lems  \\\n",
       "175                                                 ()   \n",
       "35   (Χριστός, θεός, χάρις, πατήρ, εἰμί, πνεῦμα, εἰ...   \n",
       "156                                                 ()   \n",
       "130                                                 ()   \n",
       "152                                                 ()   \n",
       "164                                                 ()   \n",
       "36   (Χριστός, Ἰησοῦς, θεός, ἔργον, πίστις, λόγος, ...   \n",
       "37   (εἰμί, θεός, κύριος, Μελχισέδεκ, γίγνομαι, λαλ...   \n",
       "158                                                 ()   \n",
       "129  (λέγω, οὗτος, φημί, πολύς, ἀνήρ, εἰμί, ὁράω, α...   \n",
       "150  (ἀνήρ, θρίξ, μαλακός, βαρύς, μέτωπον, βλέφαρον...   \n",
       "205  (εἰμί, υἱός, πατήρ, θεός, λέγω, οὗτος, πᾶς, κύ...   \n",
       "179  (χαροπός, πράσσω, ἥκιστος, ἐργάζομαι, ὑπόμβρου...   \n",
       "31   (λέγω, βασιλεία, οὐρανός, ἄνθρωπος, ποιέω, πλη...   \n",
       "100  (λέγω, οὗτος, μάχη, βασιλεία, λαμβάνω, Ἡρακλέη...   \n",
       "192  (ἔπος, οὗτος, ἀκούω, ἔχω, Γλαῦκος, βούλομαι, δ...   \n",
       "34   (λέγω, Ἰησοῦς, οὗτος, εἰμί, πιστεύω, θεός, ἔχω...   \n",
       "193  (εἰμί, πᾶς, ἄλλος, αὐτός, οὗτος, λέγω, ψυχή, ἀ...   \n",
       "200  (εἰμί, οὗτος, ψυχή, πᾶς, ἀγαθός, τοιοῦτος, μόν...   \n",
       "33   (κύριος, λέγω, οὗτος, γίγνομαι, ἡμέρα, θεός, ε...   \n",
       "194  (εἰμί, οὗτος, λέγω, κίνησις, πᾶς, αὐτός, γίγνο...   \n",
       "166                                                 ()   \n",
       "203                                                 ()   \n",
       "212                                                 ()   \n",
       "107  (εἰμί, οὗτος, λέγω, ἄλλος, οὐδείς, ἔχω, αὐτός,...   \n",
       "167                                                 ()   \n",
       "21   (εἰμί, θεός, γίγνομαι, τέλειος, ἄλλος, ἀρετή, ...   \n",
       "83                                                  ()   \n",
       "\n",
       "                                        dik_sents_flat  \\\n",
       "175  [μακάριος, πτωχός, διώκω, εἰμί, βασιλεία, θεάο...   \n",
       "35   [θεός, ἀποκαλύπτω, πίστις, πίστις, γράφω, δίκα...   \n",
       "156  [οὗτος, ἄπειμι, εἰρήνη, ἀπολιμπάνω, ἕκαστος, φ...   \n",
       "130  [ἐφηδόμενος, ἁμάρτημα, ἀνεχόμενος, ἀδικία, και...   \n",
       "152  [πείθω, οὗτος, σύνοιδα, λαλέω, πολύς, ἐπίσταμα...   \n",
       "164  [λέγω, προηγουμένοις, ἐκκλησία, κατορθώσωνται,...   \n",
       "36   [μανθάνω, χριστός, ἀκούω, διδάσκω, ἀλήθεια, Ἰη...   \n",
       "37   [ἀγαπάω, μισέω, ἀνομία, μετέχω, γάλα, ἄπειρος,...   \n",
       "158  [διῶκται, ἀγαθός, μισέω, ἀλήθεια, ἀγαπῶντες, ψ...   \n",
       "129  [λέγω, εὐσεβής, φιλόσοφος, φύλαξ, ἐραστής, παι...   \n",
       "150  [ὑμέτερος, ἄλλος, αἰτία, λαμβάνω, ἀδίκημα, πρό...   \n",
       "205  [δοκέω, παραπλήσιος, κέλσος, ποιέω, πλατωνικῷ,...   \n",
       "179  [θάλασσα, ἔχω, ποταμός, πηγή, ἐπίῤῥυσιν, ἐπιχο...   \n",
       "31   [ἀποκρίνω, Ἰησοῦς, λέγω, ἀφίημι, πρέπω, πληρόω...   \n",
       "100  [ἰοβόλους, τὶς, παλίμβολος, ὑποκριτής, ἐφοδεύο...   \n",
       "192  [πάρειμι, Χριστός, θεός, προφήτης, ἐρῶ, ἀνατελ...   \n",
       "34   [ἔρχομαι, ἐκεῖνος, ἐλέγχω, κόσμος, ἁμαρτία, κρ...   \n",
       "193  [περιεκάκησα, περικακῶ, τοσοῦτος, αἵρεσις, ὄνο...   \n",
       "200  [μανθάνω, Χριστός, αὐτός, ἀκούω, διδάσκω, ἀποτ...   \n",
       "33   [Ζαχαρίας, πατήρ, πίμπλημι, πνεῦμα, ἅγιος, προ...   \n",
       "194  [πνεῦμα, πῦρ, φῶς, ἀγάπη, σοφία, νόος, λόγος, ...   \n",
       "166                                [Ἰωάν(ν)ης, πληρόω]   \n",
       "203  [φρόνησις, λοιπός, ἀρετή, ὅσος, γενικαῖς, ὑποδ...   \n",
       "212  [ὑπερβάλλω, ἐνδέω, κακία, τελευτάω, οἷος, τέσσ...   \n",
       "107  [ἀδίκημα, θηρίον, καθαρτής, οὗτος, τύραννος, σ...   \n",
       "167  [κᾀκεῖνον, πολύς, μέρος, ὁμολογήσαντα, ποιέω, ...   \n",
       "21   [ἐκεῖνος, ἀγνοητέον, πρῶτος, ἀριθμός, τέσσαρες...   \n",
       "83   [ἄβελος, νέος, ἐπιμελέομαι, πράσσω, πάρειμι, θ...   \n",
       "\n",
       "                                          dik_sents_TF  \\\n",
       "175  [(εἰμί, 0.04651), (οὗτος, 0.04651), (ἐντολή, 0...   \n",
       "35   [(θεός, 0.04675), (πίστις, 0.04156), (νόμος, 0...   \n",
       "156  [(θεός, 0.02871), (πίστις, 0.02392), (γίγνομαι...   \n",
       "130  [(ἐκεῖνος, 0.05556), (πολύς, 0.05556), (πῦρ, 0...   \n",
       "152  [(ὁδός, 0.0411), (κύριος, 0.0274), (θεός, 0.02...   \n",
       "164  [(ἄγγελος, 0.03333), (ἐργάζομαι, 0.03), (εἰμί,...   \n",
       "36   [(ἀλήθεια, 0.03252), (ἄνθρωπος, 0.02439), (θεό...   \n",
       "37   [(θεός, 0.02703), (πίστις, 0.02317), (βασιλεύς...   \n",
       "158  [(κύριος, 0.14286), (διῶκται, 0.07143), (ἀγαθό...   \n",
       "129  [(θεός, 0.03846), (κρίσις, 0.01795), (λαός, 0....   \n",
       "150  [(ἄνθρωπος, 0.02888), (ἔχω, 0.02166), (ψυχή, 0...   \n",
       "205  [(θεός, 0.03426), (εἰμί, 0.02608), (σοφία, 0.0...   \n",
       "179  [(θεός, 0.04762), (νόμος, 0.03175), (προφήτης,...   \n",
       "31   [(βασιλεία, 0.08333), (λέγω, 0.05556), (μακάρι...   \n",
       "100  [(θεός, 0.03221), (ἀγαθός, 0.02241), (εἰμί, 0....   \n",
       "192  [(θεός, 0.02629), (εἰμί, 0.01444), (πᾶς, 0.013...   \n",
       "34   [(δίκαιος, 0.125), (εἰμί, 0.125), (ποιέω, 0.12...   \n",
       "193  [(νόμος, 0.01896), (λέγω, 0.0154), (ἔρχομαι, 0...   \n",
       "200  [(εἰμί, 0.07752), (αὐτός, 0.05426), (ἀγαπάω, 0...   \n",
       "33   [(πᾶς, 0.04386), (ἅγιος, 0.03509), (πατήρ, 0.0...   \n",
       "194  [(εἰρήνη, 0.05172), (ἀγάπη, 0.03448), (σῶμα, 0...   \n",
       "166                  [(Ἰωάν(ν)ης, 0.5), (πληρόω, 0.5)]   \n",
       "203  [(σοφία, 0.0339), (θεός, 0.0339), (κρίμα, 0.02...   \n",
       "212  [(ὑπερβολή, 0.05952), (μείωσιν, 0.05952), (σωφ...   \n",
       "107  [(οὗτος, 0.08163), (τύραννος, 0.04082), (ἀδικί...   \n",
       "167  [(γίγνομαι, 0.125), (κᾀκεῖνον, 0.0625), (πολύς...   \n",
       "21   [(ἀρετή, 0.02197), (φρόνησις, 0.01862), (εἰμί,...   \n",
       "83   [(εἰμί, 0.02242), (θεός, 0.02093), (εὐσέβεια, ...   \n",
       "\n",
       "                                       dik_sents_TFIDF  \\\n",
       "175  [(οὗτος, 0.19805), (ἐντολή, 0.18466), (πτωχός,...   \n",
       "35   [(πίστις, 0.12745), (ἁμαρτία, 0.11192), (νόμος...   \n",
       "156  [(καυχάομαι, 0.10409), (πίστις, 0.10181), (πύλ...   \n",
       "130  [(ἐκεῖνος, 0.24345), (πῦρ, 0.21507), (πολύς, 0...   \n",
       "152  [(ὁδός, 0.17298), (σκότος, 0.13651), (ἀγαθός, ...   \n",
       "164  [(ἄγγελος, 0.12433), (ἐργάζομαι, 0.12302), (ἀρ...   \n",
       "36   [(ἀλήθεια, 0.0935), (διώκω, 0.07915), (ἐνδύω, ...   \n",
       "37   [(βασιλεύς, 0.07352), (πίστις, 0.0668), (δίκαι...   \n",
       "158  [(διῶκται, 0.4035), (ψεῦδος, 0.4035), (κύριος,...   \n",
       "129  [(κρίσις, 0.08306), (θεός, 0.08202), (εἰρήνη, ...   \n",
       "150  [(δίδωμι, 0.07665), (νόμος, 0.06069), (ψυχή, 0...   \n",
       "205  [(θεός, 0.09367), (σοφία, 0.08321), (εἰμί, 0.0...   \n",
       "179  [(νόμος, 0.12808), (βραβεύω, 0.10281), (ἀδικία...   \n",
       "31   [(βασιλεία, 0.26354), (μακάριος, 0.25925), (πρ...   \n",
       "100  [(θεός, 0.09662), (ἀγαθός, 0.09364), (ἄνθρωπος...   \n",
       "192  [(θεός, 0.05911), (ἀδικία, 0.03861), (εὐσέβεια...   \n",
       "34   [(δίκαιος, 0.64003), (ποιέω, 0.30904), (ἐλέγχω...   \n",
       "193  [(νόμος, 0.08375), (ἔρχομαι, 0.06763), (ἀγαθός...   \n",
       "200  [(ἀγαπάω, 0.32506), (μισέω, 0.30596), (ἀδικία,...   \n",
       "33   [(ἐχθρός, 0.14511), (ἅγιος, 0.12101), (πᾶς, 0....   \n",
       "194  [(εἰρήνη, 0.41959), (ἀγάπη, 0.30363), (χείρων,...   \n",
       "166          [(Ἰωάν(ν)ης, 3.33602), (πληρόω, 2.98944)]   \n",
       "203  [(σοφία, 0.19382), (κρίμα, 0.16668), (στέφανος...   \n",
       "212  [(μείωσιν, 0.45803), (ὑπερβολή, 0.40349), (σωφ...   \n",
       "107  [(ἀδικία, 0.29357), (οὗτος, 0.28576), (τύραννο...   \n",
       "167  [(ὁμολογήσαντα, 0.52609), (θελήσαντα, 0.52609)...   \n",
       "21   [(φρόνησις, 0.11227), (ἀρετή, 0.09582), (σωφρο...   \n",
       "83   [(εὐσέβεια, 0.10229), (θεός, 0.05143), (εἰμί, ...   \n",
       "\n",
       "                                    dik_sents_TFIDF_10  \n",
       "175  οὗτος, ἐντολή, πτωχός, διώκω, θεάομαι, ἀδελφός...  \n",
       "35   πίστις, ἁμαρτία, νόμος, λογίζομαι, θεός, βασιλ...  \n",
       "156  καυχάομαι, πίστις, πύλη, θεός, δύσις, ἀγάπη, π...  \n",
       "130  ἐκεῖνος, πῦρ, πολύς, ἐφηδόμενος, ἁμάρτημα, ἀνε...  \n",
       "152  ὁδός, σκότος, ἀγαθός, σύνοιδα, ἐπίσταμαι, συνώ...  \n",
       "164  ἄγγελος, ἐργάζομαι, ἀρετή, ἔργον, ἀλήθεια, πον...  \n",
       "36   ἀλήθεια, διώκω, ἐνδύω, φῶς, ἐπιθυμία, ἄνθρωπος...  \n",
       "37   βασιλεύς, πίστις, δίκαιος, Σαλήμ, βραδύς, φείδ...  \n",
       "158  διῶκται, ψεῦδος, κύριος, ἀγαπῶντες, μισθός, πρ...  \n",
       "129  κρίσις, θεός, εἰρήνη, δίδωμι, εὐσέβεια, πεπεδη...  \n",
       "150  δίδωμι, νόμος, ψυχή, ἄνθρωπος, ἔχω, ἀποχή, κρί...  \n",
       "205  θεός, σοφία, εἰμί, δίκαιος, Χριστός, ἀλήθεια, ...  \n",
       "179  νόμος, βραβεύω, ἀδικία, πράσσω, προφήτης, ἁμαρ...  \n",
       "31   βασιλεία, μακάριος, πρέπω, πεινῶντες, διψῶντες...  \n",
       "100  θεός, ἀγαθός, ἄνθρωπος, εἰμί, πᾶς, ἀρετή, ἴσος...  \n",
       "192  θεός, ἀδικία, εὐσέβεια, πᾶς, ἀρετή, λέγω, κύρι...  \n",
       "34   δίκαιος, ποιέω, ἐλέγχω, κρίσις, εἰμί, γεννάω, ...  \n",
       "193  νόμος, ἔρχομαι, ἀγαθός, ἀνίστημι, σάρξ, ἁμαρτί...  \n",
       "200  ἀγαπάω, μισέω, ἀδικία, αὐτός, ὁσιότης, ἀδικίαν...  \n",
       "33   ἐχθρός, ἅγιος, πᾶς, σωτηρία, πατήρ, στόμα, πίμ...  \n",
       "194  εἰρήνη, ἀγάπη, χείρων, βασιλεύς, ἄρχω, σῶμα, ἐ...  \n",
       "166                                  Ἰωάν(ν)ης, πληρόω  \n",
       "203  σοφία, κρίμα, στέφανος, θεός, δίκαιος, γενικαῖ...  \n",
       "212  μείωσιν, ὑπερβολή, σωφροσύνη, ἀνδρεία, φρόνησι...  \n",
       "107  ἀδικία, οὗτος, τύραννος, ἐλευθερωτής, βεβαιωτή...  \n",
       "167  ὁμολογήσαντα, θελήσαντα, ἡττηθέντα, κᾀκεῖνον, ...  \n",
       "21   φρόνησις, ἀρετή, σωφροσύνη, ἀνδρεία, ἰσότης, ἀ...  \n",
       "83   εὐσέβεια, θεός, εἰμί, ἀρετή, δόξα, πολύς, ἀμάν...  \n",
       "\n",
       "[28 rows x 23 columns]"
      ]
     },
     "execution_count": 145,
     "metadata": {},
     "output_type": "execute_result"
    }
   ],
   "source": [
    "authors_df_cj"
   ]
  },
  {
   "cell_type": "code",
   "execution_count": 146,
   "metadata": {},
   "outputs": [
    {
     "data": {
      "text/plain": [
       "28"
      ]
     },
     "execution_count": 146,
     "metadata": {},
     "output_type": "execute_result"
    }
   ],
   "source": [
    "len(authors_df_cj)"
   ]
  },
  {
   "cell_type": "code",
   "execution_count": 147,
   "metadata": {},
   "outputs": [
    {
     "data": {
      "text/plain": [
       "Index(['author_id', 'author', 'n_titles', 'titles', 'filenames', 'wordcount',\n",
       "       'lemmata_wordcount', 'n_sentences', 'date_probs', 'date_avr',\n",
       "       'provenience', 'lemmata_lists', 'lemmatized_sentences', 'dikaiosyne_N',\n",
       "       'dikaiosyne_TF', 'G_sents', 'G_lems', 'dikaiosyne_G_sents',\n",
       "       'dikaiosyne_G_lems', 'dik_sents_flat', 'dik_sents_TF',\n",
       "       'dik_sents_TFIDF', 'dik_sents_TFIDF_10'],\n",
       "      dtype='object')"
      ]
     },
     "execution_count": 147,
     "metadata": {},
     "output_type": "execute_result"
    }
   ],
   "source": [
    "authors_df_cj.columns"
   ]
  },
  {
   "cell_type": "code",
   "execution_count": 149,
   "metadata": {},
   "outputs": [],
   "source": [
    "authors_df_cj[[\"author\", \"dik_sents_TFIDF_10\"]].to_csv(\"../data/authors_df_cj_TFIDF10.csv\")\n",
    "# to google sheets: set_with_dataframe(ECCE_AGT_overview.add_worksheet(\"authors_df_cj_TFIDF10\", 1,1), authors_df_cj[[\"author\", \"dik_sents_TFIDF_10\"]])"
   ]
  },
  {
   "cell_type": "code",
   "execution_count": 150,
   "metadata": {},
   "outputs": [],
   "source": [
    "edges_tuples = []\n",
    "for author1 in authors_df_cj[\"author\"].tolist():\n",
    "    author1_words = authors_df_cj.loc[authors_df_cj[\"author\"]==author1, \"dik_sents_TFIDF_10\"].values[0].split()\n",
    "    for author2 in authors_df_cj[\"author\"].tolist():\n",
    "        if author2 != author1:\n",
    "            author2_words = authors_df_cj.loc[authors_df_cj[\"author\"]==author2, \"dik_sents_TFIDF_10\"].values[0].split()\n",
    "            shared = len(set(author1_words) & set(author2_words))\n",
    "            if shared > 0:\n",
    "                edges_tuples.append((author1, author2, shared))"
   ]
  },
  {
   "cell_type": "code",
   "execution_count": 151,
   "metadata": {},
   "outputs": [],
   "source": [
    "G = nx.Graph()\n",
    "G.clear()\n",
    "G.add_weighted_edges_from(edges_tuples)\n",
    "for (u, v, wt) in G.edges.data('weight'):\n",
    "    G[u][v][\"weight\"] = int(wt)\n",
    "total_weight = sum([int(n) for n in nx.get_edge_attributes(G, \"weight\").values()])\n",
    "for (u, v) in G.edges:\n",
    "    G[u][v][\"norm_weight\"] = round((G[u][v][\"weight\"] / total_weight), 5)\n",
    "    G[u][v][\"distance\"] = round(1 / (G[u][v][\"weight\"]), 5)\n",
    "    G[u][v][\"norm_distance\"] = round(1 / (G[u][v][\"norm_weight\"] ), 5)\n",
    "G.remove_edges_from(nx.selfloop_edges(G))"
   ]
  },
  {
   "cell_type": "code",
   "execution_count": 152,
   "metadata": {},
   "outputs": [
    {
     "data": {
      "text/html": [
       "<div>\n",
       "<style scoped>\n",
       "    .dataframe tbody tr th:only-of-type {\n",
       "        vertical-align: middle;\n",
       "    }\n",
       "\n",
       "    .dataframe tbody tr th {\n",
       "        vertical-align: top;\n",
       "    }\n",
       "\n",
       "    .dataframe thead th {\n",
       "        text-align: right;\n",
       "    }\n",
       "</style>\n",
       "<table border=\"1\" class=\"dataframe\">\n",
       "  <thead>\n",
       "    <tr style=\"text-align: right;\">\n",
       "      <th></th>\n",
       "      <th>Polycarp</th>\n",
       "      <th>Pauline literature</th>\n",
       "      <th>Clement of Alexandria</th>\n",
       "      <th>Ignatius Antiochenus</th>\n",
       "      <th>Maximus of Tyre</th>\n",
       "      <th>Flavius Josephus</th>\n",
       "      <th>Paul of Tarsus</th>\n",
       "      <th>Clemens Romanus</th>\n",
       "      <th>Hermas</th>\n",
       "      <th>GNT rest</th>\n",
       "      <th>...</th>\n",
       "      <th>Basil</th>\n",
       "      <th>Luke (the evangelist)</th>\n",
       "      <th>Gregorius Nazianzenus</th>\n",
       "      <th>Pseudo-Justinus Martyr</th>\n",
       "      <th>Barnabas</th>\n",
       "      <th>Didache</th>\n",
       "      <th>Athanasius of Alexandria</th>\n",
       "      <th>Hippolytus</th>\n",
       "      <th>Philo Judaeus</th>\n",
       "      <th>Matthew</th>\n",
       "    </tr>\n",
       "  </thead>\n",
       "  <tbody>\n",
       "    <tr>\n",
       "      <th>Polycarp</th>\n",
       "      <td>0.0</td>\n",
       "      <td>1.0</td>\n",
       "      <td>1.0</td>\n",
       "      <td>1.0</td>\n",
       "      <td>1.0</td>\n",
       "      <td>1.0</td>\n",
       "      <td>0.0</td>\n",
       "      <td>0.0</td>\n",
       "      <td>0.0</td>\n",
       "      <td>0.0</td>\n",
       "      <td>...</td>\n",
       "      <td>0.0</td>\n",
       "      <td>0.0</td>\n",
       "      <td>0.0</td>\n",
       "      <td>0.0</td>\n",
       "      <td>0.0</td>\n",
       "      <td>0.0</td>\n",
       "      <td>0.0</td>\n",
       "      <td>0.0</td>\n",
       "      <td>0.0</td>\n",
       "      <td>0.0</td>\n",
       "    </tr>\n",
       "    <tr>\n",
       "      <th>Pauline literature</th>\n",
       "      <td>1.0</td>\n",
       "      <td>0.0</td>\n",
       "      <td>1.0</td>\n",
       "      <td>0.0</td>\n",
       "      <td>0.0</td>\n",
       "      <td>0.0</td>\n",
       "      <td>1.0</td>\n",
       "      <td>2.0</td>\n",
       "      <td>2.0</td>\n",
       "      <td>2.0</td>\n",
       "      <td>...</td>\n",
       "      <td>0.0</td>\n",
       "      <td>0.0</td>\n",
       "      <td>1.0</td>\n",
       "      <td>0.0</td>\n",
       "      <td>0.0</td>\n",
       "      <td>1.0</td>\n",
       "      <td>0.0</td>\n",
       "      <td>0.0</td>\n",
       "      <td>0.0</td>\n",
       "      <td>0.0</td>\n",
       "    </tr>\n",
       "    <tr>\n",
       "      <th>Clement of Alexandria</th>\n",
       "      <td>1.0</td>\n",
       "      <td>1.0</td>\n",
       "      <td>0.0</td>\n",
       "      <td>0.0</td>\n",
       "      <td>1.0</td>\n",
       "      <td>4.0</td>\n",
       "      <td>1.0</td>\n",
       "      <td>2.0</td>\n",
       "      <td>2.0</td>\n",
       "      <td>0.0</td>\n",
       "      <td>...</td>\n",
       "      <td>1.0</td>\n",
       "      <td>1.0</td>\n",
       "      <td>0.0</td>\n",
       "      <td>0.0</td>\n",
       "      <td>1.0</td>\n",
       "      <td>0.0</td>\n",
       "      <td>1.0</td>\n",
       "      <td>1.0</td>\n",
       "      <td>2.0</td>\n",
       "      <td>0.0</td>\n",
       "    </tr>\n",
       "    <tr>\n",
       "      <th>Ignatius Antiochenus</th>\n",
       "      <td>1.0</td>\n",
       "      <td>0.0</td>\n",
       "      <td>0.0</td>\n",
       "      <td>0.0</td>\n",
       "      <td>0.0</td>\n",
       "      <td>0.0</td>\n",
       "      <td>0.0</td>\n",
       "      <td>0.0</td>\n",
       "      <td>0.0</td>\n",
       "      <td>0.0</td>\n",
       "      <td>...</td>\n",
       "      <td>0.0</td>\n",
       "      <td>0.0</td>\n",
       "      <td>0.0</td>\n",
       "      <td>0.0</td>\n",
       "      <td>0.0</td>\n",
       "      <td>0.0</td>\n",
       "      <td>0.0</td>\n",
       "      <td>0.0</td>\n",
       "      <td>0.0</td>\n",
       "      <td>0.0</td>\n",
       "    </tr>\n",
       "    <tr>\n",
       "      <th>Maximus of Tyre</th>\n",
       "      <td>1.0</td>\n",
       "      <td>0.0</td>\n",
       "      <td>1.0</td>\n",
       "      <td>0.0</td>\n",
       "      <td>0.0</td>\n",
       "      <td>1.0</td>\n",
       "      <td>0.0</td>\n",
       "      <td>0.0</td>\n",
       "      <td>0.0</td>\n",
       "      <td>0.0</td>\n",
       "      <td>...</td>\n",
       "      <td>0.0</td>\n",
       "      <td>0.0</td>\n",
       "      <td>1.0</td>\n",
       "      <td>0.0</td>\n",
       "      <td>0.0</td>\n",
       "      <td>0.0</td>\n",
       "      <td>1.0</td>\n",
       "      <td>0.0</td>\n",
       "      <td>1.0</td>\n",
       "      <td>0.0</td>\n",
       "    </tr>\n",
       "    <tr>\n",
       "      <th>Flavius Josephus</th>\n",
       "      <td>1.0</td>\n",
       "      <td>0.0</td>\n",
       "      <td>4.0</td>\n",
       "      <td>0.0</td>\n",
       "      <td>1.0</td>\n",
       "      <td>0.0</td>\n",
       "      <td>1.0</td>\n",
       "      <td>1.0</td>\n",
       "      <td>2.0</td>\n",
       "      <td>0.0</td>\n",
       "      <td>...</td>\n",
       "      <td>1.0</td>\n",
       "      <td>0.0</td>\n",
       "      <td>0.0</td>\n",
       "      <td>1.0</td>\n",
       "      <td>0.0</td>\n",
       "      <td>0.0</td>\n",
       "      <td>1.0</td>\n",
       "      <td>1.0</td>\n",
       "      <td>3.0</td>\n",
       "      <td>0.0</td>\n",
       "    </tr>\n",
       "    <tr>\n",
       "      <th>Paul of Tarsus</th>\n",
       "      <td>0.0</td>\n",
       "      <td>1.0</td>\n",
       "      <td>1.0</td>\n",
       "      <td>0.0</td>\n",
       "      <td>0.0</td>\n",
       "      <td>1.0</td>\n",
       "      <td>0.0</td>\n",
       "      <td>2.0</td>\n",
       "      <td>1.0</td>\n",
       "      <td>1.0</td>\n",
       "      <td>...</td>\n",
       "      <td>1.0</td>\n",
       "      <td>0.0</td>\n",
       "      <td>0.0</td>\n",
       "      <td>0.0</td>\n",
       "      <td>0.0</td>\n",
       "      <td>0.0</td>\n",
       "      <td>0.0</td>\n",
       "      <td>0.0</td>\n",
       "      <td>0.0</td>\n",
       "      <td>0.0</td>\n",
       "    </tr>\n",
       "    <tr>\n",
       "      <th>Clemens Romanus</th>\n",
       "      <td>0.0</td>\n",
       "      <td>2.0</td>\n",
       "      <td>2.0</td>\n",
       "      <td>0.0</td>\n",
       "      <td>0.0</td>\n",
       "      <td>1.0</td>\n",
       "      <td>2.0</td>\n",
       "      <td>0.0</td>\n",
       "      <td>1.0</td>\n",
       "      <td>1.0</td>\n",
       "      <td>...</td>\n",
       "      <td>1.0</td>\n",
       "      <td>1.0</td>\n",
       "      <td>1.0</td>\n",
       "      <td>0.0</td>\n",
       "      <td>0.0</td>\n",
       "      <td>0.0</td>\n",
       "      <td>0.0</td>\n",
       "      <td>0.0</td>\n",
       "      <td>0.0</td>\n",
       "      <td>0.0</td>\n",
       "    </tr>\n",
       "    <tr>\n",
       "      <th>Hermas</th>\n",
       "      <td>0.0</td>\n",
       "      <td>2.0</td>\n",
       "      <td>2.0</td>\n",
       "      <td>0.0</td>\n",
       "      <td>0.0</td>\n",
       "      <td>2.0</td>\n",
       "      <td>1.0</td>\n",
       "      <td>1.0</td>\n",
       "      <td>0.0</td>\n",
       "      <td>1.0</td>\n",
       "      <td>...</td>\n",
       "      <td>0.0</td>\n",
       "      <td>0.0</td>\n",
       "      <td>0.0</td>\n",
       "      <td>0.0</td>\n",
       "      <td>0.0</td>\n",
       "      <td>1.0</td>\n",
       "      <td>1.0</td>\n",
       "      <td>1.0</td>\n",
       "      <td>2.0</td>\n",
       "      <td>0.0</td>\n",
       "    </tr>\n",
       "    <tr>\n",
       "      <th>GNT rest</th>\n",
       "      <td>0.0</td>\n",
       "      <td>2.0</td>\n",
       "      <td>0.0</td>\n",
       "      <td>0.0</td>\n",
       "      <td>0.0</td>\n",
       "      <td>0.0</td>\n",
       "      <td>1.0</td>\n",
       "      <td>1.0</td>\n",
       "      <td>1.0</td>\n",
       "      <td>0.0</td>\n",
       "      <td>...</td>\n",
       "      <td>1.0</td>\n",
       "      <td>0.0</td>\n",
       "      <td>2.0</td>\n",
       "      <td>0.0</td>\n",
       "      <td>0.0</td>\n",
       "      <td>0.0</td>\n",
       "      <td>0.0</td>\n",
       "      <td>0.0</td>\n",
       "      <td>0.0</td>\n",
       "      <td>0.0</td>\n",
       "    </tr>\n",
       "    <tr>\n",
       "      <th>Justinus Martyr</th>\n",
       "      <td>0.0</td>\n",
       "      <td>2.0</td>\n",
       "      <td>1.0</td>\n",
       "      <td>0.0</td>\n",
       "      <td>0.0</td>\n",
       "      <td>2.0</td>\n",
       "      <td>1.0</td>\n",
       "      <td>1.0</td>\n",
       "      <td>0.0</td>\n",
       "      <td>1.0</td>\n",
       "      <td>...</td>\n",
       "      <td>1.0</td>\n",
       "      <td>0.0</td>\n",
       "      <td>1.0</td>\n",
       "      <td>0.0</td>\n",
       "      <td>0.0</td>\n",
       "      <td>0.0</td>\n",
       "      <td>0.0</td>\n",
       "      <td>0.0</td>\n",
       "      <td>0.0</td>\n",
       "      <td>0.0</td>\n",
       "    </tr>\n",
       "    <tr>\n",
       "      <th>Athenagoras</th>\n",
       "      <td>0.0</td>\n",
       "      <td>1.0</td>\n",
       "      <td>3.0</td>\n",
       "      <td>0.0</td>\n",
       "      <td>0.0</td>\n",
       "      <td>1.0</td>\n",
       "      <td>1.0</td>\n",
       "      <td>1.0</td>\n",
       "      <td>1.0</td>\n",
       "      <td>0.0</td>\n",
       "      <td>...</td>\n",
       "      <td>0.0</td>\n",
       "      <td>0.0</td>\n",
       "      <td>0.0</td>\n",
       "      <td>0.0</td>\n",
       "      <td>1.0</td>\n",
       "      <td>0.0</td>\n",
       "      <td>0.0</td>\n",
       "      <td>1.0</td>\n",
       "      <td>1.0</td>\n",
       "      <td>0.0</td>\n",
       "    </tr>\n",
       "    <tr>\n",
       "      <th>Origenes</th>\n",
       "      <td>0.0</td>\n",
       "      <td>1.0</td>\n",
       "      <td>3.0</td>\n",
       "      <td>0.0</td>\n",
       "      <td>0.0</td>\n",
       "      <td>2.0</td>\n",
       "      <td>1.0</td>\n",
       "      <td>1.0</td>\n",
       "      <td>2.0</td>\n",
       "      <td>1.0</td>\n",
       "      <td>...</td>\n",
       "      <td>3.0</td>\n",
       "      <td>0.0</td>\n",
       "      <td>0.0</td>\n",
       "      <td>0.0</td>\n",
       "      <td>0.0</td>\n",
       "      <td>1.0</td>\n",
       "      <td>1.0</td>\n",
       "      <td>1.0</td>\n",
       "      <td>2.0</td>\n",
       "      <td>0.0</td>\n",
       "    </tr>\n",
       "    <tr>\n",
       "      <th>Theophilus Antiochenus</th>\n",
       "      <td>0.0</td>\n",
       "      <td>0.0</td>\n",
       "      <td>1.0</td>\n",
       "      <td>0.0</td>\n",
       "      <td>1.0</td>\n",
       "      <td>1.0</td>\n",
       "      <td>3.0</td>\n",
       "      <td>1.0</td>\n",
       "      <td>0.0</td>\n",
       "      <td>0.0</td>\n",
       "      <td>...</td>\n",
       "      <td>1.0</td>\n",
       "      <td>1.0</td>\n",
       "      <td>1.0</td>\n",
       "      <td>0.0</td>\n",
       "      <td>0.0</td>\n",
       "      <td>0.0</td>\n",
       "      <td>1.0</td>\n",
       "      <td>0.0</td>\n",
       "      <td>1.0</td>\n",
       "      <td>0.0</td>\n",
       "    </tr>\n",
       "    <tr>\n",
       "      <th>Eusebius</th>\n",
       "      <td>0.0</td>\n",
       "      <td>0.0</td>\n",
       "      <td>3.0</td>\n",
       "      <td>0.0</td>\n",
       "      <td>1.0</td>\n",
       "      <td>3.0</td>\n",
       "      <td>2.0</td>\n",
       "      <td>1.0</td>\n",
       "      <td>1.0</td>\n",
       "      <td>1.0</td>\n",
       "      <td>...</td>\n",
       "      <td>1.0</td>\n",
       "      <td>1.0</td>\n",
       "      <td>2.0</td>\n",
       "      <td>0.0</td>\n",
       "      <td>0.0</td>\n",
       "      <td>1.0</td>\n",
       "      <td>1.0</td>\n",
       "      <td>1.0</td>\n",
       "      <td>2.0</td>\n",
       "      <td>0.0</td>\n",
       "    </tr>\n",
       "    <tr>\n",
       "      <th>Johnannine literature</th>\n",
       "      <td>0.0</td>\n",
       "      <td>0.0</td>\n",
       "      <td>2.0</td>\n",
       "      <td>0.0</td>\n",
       "      <td>0.0</td>\n",
       "      <td>1.0</td>\n",
       "      <td>1.0</td>\n",
       "      <td>0.0</td>\n",
       "      <td>1.0</td>\n",
       "      <td>1.0</td>\n",
       "      <td>...</td>\n",
       "      <td>1.0</td>\n",
       "      <td>0.0</td>\n",
       "      <td>0.0</td>\n",
       "      <td>0.0</td>\n",
       "      <td>0.0</td>\n",
       "      <td>0.0</td>\n",
       "      <td>1.0</td>\n",
       "      <td>0.0</td>\n",
       "      <td>1.0</td>\n",
       "      <td>0.0</td>\n",
       "    </tr>\n",
       "    <tr>\n",
       "      <th>Epiphanius</th>\n",
       "      <td>0.0</td>\n",
       "      <td>1.0</td>\n",
       "      <td>2.0</td>\n",
       "      <td>0.0</td>\n",
       "      <td>0.0</td>\n",
       "      <td>1.0</td>\n",
       "      <td>4.0</td>\n",
       "      <td>2.0</td>\n",
       "      <td>1.0</td>\n",
       "      <td>1.0</td>\n",
       "      <td>...</td>\n",
       "      <td>1.0</td>\n",
       "      <td>0.0</td>\n",
       "      <td>0.0</td>\n",
       "      <td>0.0</td>\n",
       "      <td>1.0</td>\n",
       "      <td>0.0</td>\n",
       "      <td>0.0</td>\n",
       "      <td>0.0</td>\n",
       "      <td>0.0</td>\n",
       "      <td>0.0</td>\n",
       "    </tr>\n",
       "    <tr>\n",
       "      <th>Basil</th>\n",
       "      <td>0.0</td>\n",
       "      <td>0.0</td>\n",
       "      <td>1.0</td>\n",
       "      <td>0.0</td>\n",
       "      <td>0.0</td>\n",
       "      <td>1.0</td>\n",
       "      <td>1.0</td>\n",
       "      <td>1.0</td>\n",
       "      <td>0.0</td>\n",
       "      <td>1.0</td>\n",
       "      <td>...</td>\n",
       "      <td>0.0</td>\n",
       "      <td>0.0</td>\n",
       "      <td>0.0</td>\n",
       "      <td>0.0</td>\n",
       "      <td>0.0</td>\n",
       "      <td>0.0</td>\n",
       "      <td>0.0</td>\n",
       "      <td>0.0</td>\n",
       "      <td>0.0</td>\n",
       "      <td>0.0</td>\n",
       "    </tr>\n",
       "    <tr>\n",
       "      <th>Luke (the evangelist)</th>\n",
       "      <td>0.0</td>\n",
       "      <td>0.0</td>\n",
       "      <td>1.0</td>\n",
       "      <td>0.0</td>\n",
       "      <td>0.0</td>\n",
       "      <td>0.0</td>\n",
       "      <td>0.0</td>\n",
       "      <td>1.0</td>\n",
       "      <td>0.0</td>\n",
       "      <td>0.0</td>\n",
       "      <td>...</td>\n",
       "      <td>0.0</td>\n",
       "      <td>0.0</td>\n",
       "      <td>0.0</td>\n",
       "      <td>0.0</td>\n",
       "      <td>0.0</td>\n",
       "      <td>0.0</td>\n",
       "      <td>0.0</td>\n",
       "      <td>0.0</td>\n",
       "      <td>0.0</td>\n",
       "      <td>0.0</td>\n",
       "    </tr>\n",
       "    <tr>\n",
       "      <th>Gregorius Nazianzenus</th>\n",
       "      <td>0.0</td>\n",
       "      <td>1.0</td>\n",
       "      <td>0.0</td>\n",
       "      <td>0.0</td>\n",
       "      <td>1.0</td>\n",
       "      <td>0.0</td>\n",
       "      <td>0.0</td>\n",
       "      <td>1.0</td>\n",
       "      <td>0.0</td>\n",
       "      <td>2.0</td>\n",
       "      <td>...</td>\n",
       "      <td>0.0</td>\n",
       "      <td>0.0</td>\n",
       "      <td>0.0</td>\n",
       "      <td>0.0</td>\n",
       "      <td>0.0</td>\n",
       "      <td>0.0</td>\n",
       "      <td>1.0</td>\n",
       "      <td>0.0</td>\n",
       "      <td>1.0</td>\n",
       "      <td>0.0</td>\n",
       "    </tr>\n",
       "    <tr>\n",
       "      <th>Pseudo-Justinus Martyr</th>\n",
       "      <td>0.0</td>\n",
       "      <td>0.0</td>\n",
       "      <td>0.0</td>\n",
       "      <td>0.0</td>\n",
       "      <td>0.0</td>\n",
       "      <td>1.0</td>\n",
       "      <td>0.0</td>\n",
       "      <td>0.0</td>\n",
       "      <td>0.0</td>\n",
       "      <td>0.0</td>\n",
       "      <td>...</td>\n",
       "      <td>0.0</td>\n",
       "      <td>0.0</td>\n",
       "      <td>0.0</td>\n",
       "      <td>0.0</td>\n",
       "      <td>0.0</td>\n",
       "      <td>0.0</td>\n",
       "      <td>0.0</td>\n",
       "      <td>0.0</td>\n",
       "      <td>0.0</td>\n",
       "      <td>0.0</td>\n",
       "    </tr>\n",
       "    <tr>\n",
       "      <th>Barnabas</th>\n",
       "      <td>0.0</td>\n",
       "      <td>0.0</td>\n",
       "      <td>1.0</td>\n",
       "      <td>0.0</td>\n",
       "      <td>0.0</td>\n",
       "      <td>0.0</td>\n",
       "      <td>0.0</td>\n",
       "      <td>0.0</td>\n",
       "      <td>0.0</td>\n",
       "      <td>0.0</td>\n",
       "      <td>...</td>\n",
       "      <td>0.0</td>\n",
       "      <td>0.0</td>\n",
       "      <td>0.0</td>\n",
       "      <td>0.0</td>\n",
       "      <td>0.0</td>\n",
       "      <td>0.0</td>\n",
       "      <td>0.0</td>\n",
       "      <td>0.0</td>\n",
       "      <td>0.0</td>\n",
       "      <td>0.0</td>\n",
       "    </tr>\n",
       "    <tr>\n",
       "      <th>Didache</th>\n",
       "      <td>0.0</td>\n",
       "      <td>1.0</td>\n",
       "      <td>0.0</td>\n",
       "      <td>0.0</td>\n",
       "      <td>0.0</td>\n",
       "      <td>0.0</td>\n",
       "      <td>0.0</td>\n",
       "      <td>0.0</td>\n",
       "      <td>1.0</td>\n",
       "      <td>0.0</td>\n",
       "      <td>...</td>\n",
       "      <td>0.0</td>\n",
       "      <td>0.0</td>\n",
       "      <td>0.0</td>\n",
       "      <td>0.0</td>\n",
       "      <td>0.0</td>\n",
       "      <td>0.0</td>\n",
       "      <td>0.0</td>\n",
       "      <td>0.0</td>\n",
       "      <td>1.0</td>\n",
       "      <td>1.0</td>\n",
       "    </tr>\n",
       "    <tr>\n",
       "      <th>Athanasius of Alexandria</th>\n",
       "      <td>0.0</td>\n",
       "      <td>0.0</td>\n",
       "      <td>1.0</td>\n",
       "      <td>0.0</td>\n",
       "      <td>1.0</td>\n",
       "      <td>1.0</td>\n",
       "      <td>0.0</td>\n",
       "      <td>0.0</td>\n",
       "      <td>1.0</td>\n",
       "      <td>0.0</td>\n",
       "      <td>...</td>\n",
       "      <td>0.0</td>\n",
       "      <td>0.0</td>\n",
       "      <td>1.0</td>\n",
       "      <td>0.0</td>\n",
       "      <td>0.0</td>\n",
       "      <td>0.0</td>\n",
       "      <td>0.0</td>\n",
       "      <td>0.0</td>\n",
       "      <td>3.0</td>\n",
       "      <td>0.0</td>\n",
       "    </tr>\n",
       "    <tr>\n",
       "      <th>Hippolytus</th>\n",
       "      <td>0.0</td>\n",
       "      <td>0.0</td>\n",
       "      <td>1.0</td>\n",
       "      <td>0.0</td>\n",
       "      <td>0.0</td>\n",
       "      <td>1.0</td>\n",
       "      <td>0.0</td>\n",
       "      <td>0.0</td>\n",
       "      <td>1.0</td>\n",
       "      <td>0.0</td>\n",
       "      <td>...</td>\n",
       "      <td>0.0</td>\n",
       "      <td>0.0</td>\n",
       "      <td>0.0</td>\n",
       "      <td>0.0</td>\n",
       "      <td>0.0</td>\n",
       "      <td>0.0</td>\n",
       "      <td>0.0</td>\n",
       "      <td>0.0</td>\n",
       "      <td>4.0</td>\n",
       "      <td>0.0</td>\n",
       "    </tr>\n",
       "    <tr>\n",
       "      <th>Philo Judaeus</th>\n",
       "      <td>0.0</td>\n",
       "      <td>0.0</td>\n",
       "      <td>2.0</td>\n",
       "      <td>0.0</td>\n",
       "      <td>1.0</td>\n",
       "      <td>3.0</td>\n",
       "      <td>0.0</td>\n",
       "      <td>0.0</td>\n",
       "      <td>2.0</td>\n",
       "      <td>0.0</td>\n",
       "      <td>...</td>\n",
       "      <td>0.0</td>\n",
       "      <td>0.0</td>\n",
       "      <td>1.0</td>\n",
       "      <td>0.0</td>\n",
       "      <td>0.0</td>\n",
       "      <td>1.0</td>\n",
       "      <td>3.0</td>\n",
       "      <td>4.0</td>\n",
       "      <td>0.0</td>\n",
       "      <td>0.0</td>\n",
       "    </tr>\n",
       "    <tr>\n",
       "      <th>Matthew</th>\n",
       "      <td>0.0</td>\n",
       "      <td>0.0</td>\n",
       "      <td>0.0</td>\n",
       "      <td>0.0</td>\n",
       "      <td>0.0</td>\n",
       "      <td>0.0</td>\n",
       "      <td>0.0</td>\n",
       "      <td>0.0</td>\n",
       "      <td>0.0</td>\n",
       "      <td>0.0</td>\n",
       "      <td>...</td>\n",
       "      <td>0.0</td>\n",
       "      <td>0.0</td>\n",
       "      <td>0.0</td>\n",
       "      <td>0.0</td>\n",
       "      <td>0.0</td>\n",
       "      <td>1.0</td>\n",
       "      <td>0.0</td>\n",
       "      <td>0.0</td>\n",
       "      <td>0.0</td>\n",
       "      <td>0.0</td>\n",
       "    </tr>\n",
       "  </tbody>\n",
       "</table>\n",
       "<p>27 rows × 27 columns</p>\n",
       "</div>"
      ],
      "text/plain": [
       "                          Polycarp  Pauline literature  Clement of Alexandria  \\\n",
       "Polycarp                       0.0                 1.0                    1.0   \n",
       "Pauline literature             1.0                 0.0                    1.0   \n",
       "Clement of Alexandria          1.0                 1.0                    0.0   \n",
       "Ignatius Antiochenus           1.0                 0.0                    0.0   \n",
       "Maximus of Tyre                1.0                 0.0                    1.0   \n",
       "Flavius Josephus               1.0                 0.0                    4.0   \n",
       "Paul of Tarsus                 0.0                 1.0                    1.0   \n",
       "Clemens Romanus                0.0                 2.0                    2.0   \n",
       "Hermas                         0.0                 2.0                    2.0   \n",
       "GNT rest                       0.0                 2.0                    0.0   \n",
       "Justinus Martyr                0.0                 2.0                    1.0   \n",
       "Athenagoras                    0.0                 1.0                    3.0   \n",
       "Origenes                       0.0                 1.0                    3.0   \n",
       "Theophilus Antiochenus         0.0                 0.0                    1.0   \n",
       "Eusebius                       0.0                 0.0                    3.0   \n",
       "Johnannine literature          0.0                 0.0                    2.0   \n",
       "Epiphanius                     0.0                 1.0                    2.0   \n",
       "Basil                          0.0                 0.0                    1.0   \n",
       "Luke (the evangelist)          0.0                 0.0                    1.0   \n",
       "Gregorius Nazianzenus          0.0                 1.0                    0.0   \n",
       "Pseudo-Justinus Martyr         0.0                 0.0                    0.0   \n",
       "Barnabas                       0.0                 0.0                    1.0   \n",
       "Didache                        0.0                 1.0                    0.0   \n",
       "Athanasius of Alexandria       0.0                 0.0                    1.0   \n",
       "Hippolytus                     0.0                 0.0                    1.0   \n",
       "Philo Judaeus                  0.0                 0.0                    2.0   \n",
       "Matthew                        0.0                 0.0                    0.0   \n",
       "\n",
       "                          Ignatius Antiochenus  Maximus of Tyre  \\\n",
       "Polycarp                                   1.0              1.0   \n",
       "Pauline literature                         0.0              0.0   \n",
       "Clement of Alexandria                      0.0              1.0   \n",
       "Ignatius Antiochenus                       0.0              0.0   \n",
       "Maximus of Tyre                            0.0              0.0   \n",
       "Flavius Josephus                           0.0              1.0   \n",
       "Paul of Tarsus                             0.0              0.0   \n",
       "Clemens Romanus                            0.0              0.0   \n",
       "Hermas                                     0.0              0.0   \n",
       "GNT rest                                   0.0              0.0   \n",
       "Justinus Martyr                            0.0              0.0   \n",
       "Athenagoras                                0.0              0.0   \n",
       "Origenes                                   0.0              0.0   \n",
       "Theophilus Antiochenus                     0.0              1.0   \n",
       "Eusebius                                   0.0              1.0   \n",
       "Johnannine literature                      0.0              0.0   \n",
       "Epiphanius                                 0.0              0.0   \n",
       "Basil                                      0.0              0.0   \n",
       "Luke (the evangelist)                      0.0              0.0   \n",
       "Gregorius Nazianzenus                      0.0              1.0   \n",
       "Pseudo-Justinus Martyr                     0.0              0.0   \n",
       "Barnabas                                   0.0              0.0   \n",
       "Didache                                    0.0              0.0   \n",
       "Athanasius of Alexandria                   0.0              1.0   \n",
       "Hippolytus                                 0.0              0.0   \n",
       "Philo Judaeus                              0.0              1.0   \n",
       "Matthew                                    0.0              0.0   \n",
       "\n",
       "                          Flavius Josephus  Paul of Tarsus  Clemens Romanus  \\\n",
       "Polycarp                               1.0             0.0              0.0   \n",
       "Pauline literature                     0.0             1.0              2.0   \n",
       "Clement of Alexandria                  4.0             1.0              2.0   \n",
       "Ignatius Antiochenus                   0.0             0.0              0.0   \n",
       "Maximus of Tyre                        1.0             0.0              0.0   \n",
       "Flavius Josephus                       0.0             1.0              1.0   \n",
       "Paul of Tarsus                         1.0             0.0              2.0   \n",
       "Clemens Romanus                        1.0             2.0              0.0   \n",
       "Hermas                                 2.0             1.0              1.0   \n",
       "GNT rest                               0.0             1.0              1.0   \n",
       "Justinus Martyr                        2.0             1.0              1.0   \n",
       "Athenagoras                            1.0             1.0              1.0   \n",
       "Origenes                               2.0             1.0              1.0   \n",
       "Theophilus Antiochenus                 1.0             3.0              1.0   \n",
       "Eusebius                               3.0             2.0              1.0   \n",
       "Johnannine literature                  1.0             1.0              0.0   \n",
       "Epiphanius                             1.0             4.0              2.0   \n",
       "Basil                                  1.0             1.0              1.0   \n",
       "Luke (the evangelist)                  0.0             0.0              1.0   \n",
       "Gregorius Nazianzenus                  0.0             0.0              1.0   \n",
       "Pseudo-Justinus Martyr                 1.0             0.0              0.0   \n",
       "Barnabas                               0.0             0.0              0.0   \n",
       "Didache                                0.0             0.0              0.0   \n",
       "Athanasius of Alexandria               1.0             0.0              0.0   \n",
       "Hippolytus                             1.0             0.0              0.0   \n",
       "Philo Judaeus                          3.0             0.0              0.0   \n",
       "Matthew                                0.0             0.0              0.0   \n",
       "\n",
       "                          Hermas  GNT rest  ...  Basil  Luke (the evangelist)  \\\n",
       "Polycarp                     0.0       0.0  ...    0.0                    0.0   \n",
       "Pauline literature           2.0       2.0  ...    0.0                    0.0   \n",
       "Clement of Alexandria        2.0       0.0  ...    1.0                    1.0   \n",
       "Ignatius Antiochenus         0.0       0.0  ...    0.0                    0.0   \n",
       "Maximus of Tyre              0.0       0.0  ...    0.0                    0.0   \n",
       "Flavius Josephus             2.0       0.0  ...    1.0                    0.0   \n",
       "Paul of Tarsus               1.0       1.0  ...    1.0                    0.0   \n",
       "Clemens Romanus              1.0       1.0  ...    1.0                    1.0   \n",
       "Hermas                       0.0       1.0  ...    0.0                    0.0   \n",
       "GNT rest                     1.0       0.0  ...    1.0                    0.0   \n",
       "Justinus Martyr              0.0       1.0  ...    1.0                    0.0   \n",
       "Athenagoras                  1.0       0.0  ...    0.0                    0.0   \n",
       "Origenes                     2.0       1.0  ...    3.0                    0.0   \n",
       "Theophilus Antiochenus       0.0       0.0  ...    1.0                    1.0   \n",
       "Eusebius                     1.0       1.0  ...    1.0                    1.0   \n",
       "Johnannine literature        1.0       1.0  ...    1.0                    0.0   \n",
       "Epiphanius                   1.0       1.0  ...    1.0                    0.0   \n",
       "Basil                        0.0       1.0  ...    0.0                    0.0   \n",
       "Luke (the evangelist)        0.0       0.0  ...    0.0                    0.0   \n",
       "Gregorius Nazianzenus        0.0       2.0  ...    0.0                    0.0   \n",
       "Pseudo-Justinus Martyr       0.0       0.0  ...    0.0                    0.0   \n",
       "Barnabas                     0.0       0.0  ...    0.0                    0.0   \n",
       "Didache                      1.0       0.0  ...    0.0                    0.0   \n",
       "Athanasius of Alexandria     1.0       0.0  ...    0.0                    0.0   \n",
       "Hippolytus                   1.0       0.0  ...    0.0                    0.0   \n",
       "Philo Judaeus                2.0       0.0  ...    0.0                    0.0   \n",
       "Matthew                      0.0       0.0  ...    0.0                    0.0   \n",
       "\n",
       "                          Gregorius Nazianzenus  Pseudo-Justinus Martyr  \\\n",
       "Polycarp                                    0.0                     0.0   \n",
       "Pauline literature                          1.0                     0.0   \n",
       "Clement of Alexandria                       0.0                     0.0   \n",
       "Ignatius Antiochenus                        0.0                     0.0   \n",
       "Maximus of Tyre                             1.0                     0.0   \n",
       "Flavius Josephus                            0.0                     1.0   \n",
       "Paul of Tarsus                              0.0                     0.0   \n",
       "Clemens Romanus                             1.0                     0.0   \n",
       "Hermas                                      0.0                     0.0   \n",
       "GNT rest                                    2.0                     0.0   \n",
       "Justinus Martyr                             1.0                     0.0   \n",
       "Athenagoras                                 0.0                     0.0   \n",
       "Origenes                                    0.0                     0.0   \n",
       "Theophilus Antiochenus                      1.0                     0.0   \n",
       "Eusebius                                    2.0                     0.0   \n",
       "Johnannine literature                       0.0                     0.0   \n",
       "Epiphanius                                  0.0                     0.0   \n",
       "Basil                                       0.0                     0.0   \n",
       "Luke (the evangelist)                       0.0                     0.0   \n",
       "Gregorius Nazianzenus                       0.0                     0.0   \n",
       "Pseudo-Justinus Martyr                      0.0                     0.0   \n",
       "Barnabas                                    0.0                     0.0   \n",
       "Didache                                     0.0                     0.0   \n",
       "Athanasius of Alexandria                    1.0                     0.0   \n",
       "Hippolytus                                  0.0                     0.0   \n",
       "Philo Judaeus                               1.0                     0.0   \n",
       "Matthew                                     0.0                     0.0   \n",
       "\n",
       "                          Barnabas  Didache  Athanasius of Alexandria  \\\n",
       "Polycarp                       0.0      0.0                       0.0   \n",
       "Pauline literature             0.0      1.0                       0.0   \n",
       "Clement of Alexandria          1.0      0.0                       1.0   \n",
       "Ignatius Antiochenus           0.0      0.0                       0.0   \n",
       "Maximus of Tyre                0.0      0.0                       1.0   \n",
       "Flavius Josephus               0.0      0.0                       1.0   \n",
       "Paul of Tarsus                 0.0      0.0                       0.0   \n",
       "Clemens Romanus                0.0      0.0                       0.0   \n",
       "Hermas                         0.0      1.0                       1.0   \n",
       "GNT rest                       0.0      0.0                       0.0   \n",
       "Justinus Martyr                0.0      0.0                       0.0   \n",
       "Athenagoras                    1.0      0.0                       0.0   \n",
       "Origenes                       0.0      1.0                       1.0   \n",
       "Theophilus Antiochenus         0.0      0.0                       1.0   \n",
       "Eusebius                       0.0      1.0                       1.0   \n",
       "Johnannine literature          0.0      0.0                       1.0   \n",
       "Epiphanius                     1.0      0.0                       0.0   \n",
       "Basil                          0.0      0.0                       0.0   \n",
       "Luke (the evangelist)          0.0      0.0                       0.0   \n",
       "Gregorius Nazianzenus          0.0      0.0                       1.0   \n",
       "Pseudo-Justinus Martyr         0.0      0.0                       0.0   \n",
       "Barnabas                       0.0      0.0                       0.0   \n",
       "Didache                        0.0      0.0                       0.0   \n",
       "Athanasius of Alexandria       0.0      0.0                       0.0   \n",
       "Hippolytus                     0.0      0.0                       0.0   \n",
       "Philo Judaeus                  0.0      1.0                       3.0   \n",
       "Matthew                        0.0      1.0                       0.0   \n",
       "\n",
       "                          Hippolytus  Philo Judaeus  Matthew  \n",
       "Polycarp                         0.0            0.0      0.0  \n",
       "Pauline literature               0.0            0.0      0.0  \n",
       "Clement of Alexandria            1.0            2.0      0.0  \n",
       "Ignatius Antiochenus             0.0            0.0      0.0  \n",
       "Maximus of Tyre                  0.0            1.0      0.0  \n",
       "Flavius Josephus                 1.0            3.0      0.0  \n",
       "Paul of Tarsus                   0.0            0.0      0.0  \n",
       "Clemens Romanus                  0.0            0.0      0.0  \n",
       "Hermas                           1.0            2.0      0.0  \n",
       "GNT rest                         0.0            0.0      0.0  \n",
       "Justinus Martyr                  0.0            0.0      0.0  \n",
       "Athenagoras                      1.0            1.0      0.0  \n",
       "Origenes                         1.0            2.0      0.0  \n",
       "Theophilus Antiochenus           0.0            1.0      0.0  \n",
       "Eusebius                         1.0            2.0      0.0  \n",
       "Johnannine literature            0.0            1.0      0.0  \n",
       "Epiphanius                       0.0            0.0      0.0  \n",
       "Basil                            0.0            0.0      0.0  \n",
       "Luke (the evangelist)            0.0            0.0      0.0  \n",
       "Gregorius Nazianzenus            0.0            1.0      0.0  \n",
       "Pseudo-Justinus Martyr           0.0            0.0      0.0  \n",
       "Barnabas                         0.0            0.0      0.0  \n",
       "Didache                          0.0            1.0      1.0  \n",
       "Athanasius of Alexandria         0.0            3.0      0.0  \n",
       "Hippolytus                       0.0            4.0      0.0  \n",
       "Philo Judaeus                    4.0            0.0      0.0  \n",
       "Matthew                          0.0            0.0      0.0  \n",
       "\n",
       "[27 rows x 27 columns]"
      ]
     },
     "execution_count": 152,
     "metadata": {},
     "output_type": "execute_result"
    }
   ],
   "source": [
    "nx.convert_matrix.to_pandas_adjacency(G)"
   ]
  },
  {
   "cell_type": "code",
   "execution_count": 159,
   "metadata": {},
   "outputs": [],
   "source": [
    "fig = textnet.draw_2d_network(G, 1800, 1200, 16)"
   ]
  },
  {
   "cell_type": "code",
   "execution_count": 160,
   "metadata": {},
   "outputs": [
    {
     "data": {
      "application/vnd.plotly.v1+json": {
       "config": {
        "plotlyServerURL": "https://plot.ly"
       },
       "data": [
        {
         "line": {
          "color": "#000000",
          "width": 4
         },
         "mode": "lines",
         "type": "scatter",
         "x": [
          -0.06506297279114519,
          -0.0789620386201738,
          null,
          -0.06506297279114519,
          0.011238694149120924,
          null,
          -0.06506297279114519,
          0.022399163707006335,
          null,
          -0.06506297279114519,
          0.0667803233821039,
          null,
          0.0667803233821039,
          0.022399163707006335,
          null,
          0.0667803233821039,
          0.3165249405637759,
          null,
          -0.20252457763551157,
          -0.3001379315027865,
          null,
          -0.20252457763551157,
          -0.4254130171537033,
          null,
          0.011238694149120924,
          -0.2555872236483853,
          null,
          0.011238694149120924,
          -0.5727528167553011,
          null,
          -0.3001379315027865,
          0.022399163707006335,
          null,
          -0.3001379315027865,
          -0.4254130171537033,
          null,
          0.09840898460097863,
          0.3165249405637759,
          null,
          0.4753716329740933,
          0.3165249405637759,
          null
         ],
         "y": [
          -0.13323376032627385,
          0.1421291836106538,
          null,
          -0.13323376032627385,
          0.2443092972996581,
          null,
          -0.13323376032627385,
          0.04139365894761362,
          null,
          -0.13323376032627385,
          -0.17944998758877687,
          null,
          -0.17944998758877687,
          0.04139365894761362,
          null,
          -0.17944998758877687,
          -0.09858914114011094,
          null,
          0.37815296010153143,
          -0.24772957939394175,
          null,
          0.37815296010153143,
          0.016089694872387032,
          null,
          0.2443092972996581,
          -0.01666408471891066,
          null,
          0.2443092972996581,
          0.13646518122324372,
          null,
          -0.24772957939394175,
          0.04139365894761362,
          null,
          -0.24772957939394175,
          0.016089694872387032,
          null,
          -0.4182988715652653,
          -0.09858914114011094,
          null,
          0.10975070124573755,
          -0.09858914114011094,
          null
         ]
        },
        {
         "line": {
          "color": "#404040",
          "width": 2
         },
         "mode": "lines",
         "type": "scatter",
         "x": [
          0.08905122289249046,
          -0.3293751174119399,
          null,
          0.08905122289249046,
          0.20318174340441153,
          null,
          0.08905122289249046,
          -0.2983269704334583,
          null,
          0.08905122289249046,
          -0.40850623120386625,
          null,
          -0.06506297279114519,
          -0.3293751174119399,
          null,
          -0.06506297279114519,
          0.20318174340441153,
          null,
          -0.06506297279114519,
          -0.2555872236483853,
          null,
          -0.06506297279114519,
          -0.4254130171537033,
          null,
          -0.06506297279114519,
          0.3165249405637759,
          null,
          0.0667803233821039,
          0.20318174340441153,
          null,
          0.0667803233821039,
          -0.40850623120386625,
          null,
          0.0667803233821039,
          0.011238694149120924,
          null,
          -0.20252457763551157,
          -0.3293751174119399,
          null,
          -0.20252457763551157,
          0.022399163707006335,
          null,
          -0.3293751174119399,
          -0.4254130171537033,
          null,
          0.20318174340441153,
          0.011238694149120924,
          null,
          0.20318174340441153,
          0.3165249405637759,
          null,
          -0.2983269704334583,
          -0.12780002292490084,
          null,
          -0.40850623120386625,
          -0.0789620386201738,
          null,
          -0.40850623120386625,
          0.022399163707006335,
          null,
          -0.0789620386201738,
          -0.4254130171537033,
          null,
          0.011238694149120924,
          -0.4254130171537033,
          null,
          0.011238694149120924,
          0.3165249405637759,
          null,
          0.022399163707006335,
          -0.4254130171537033,
          null,
          0.022399163707006335,
          -0.12780002292490084,
          null,
          0.022399163707006335,
          0.3165249405637759,
          null
         ],
         "y": [
          0.4308738429822203,
          0.15661641483575978,
          null,
          0.4308738429822203,
          0.222533964722206,
          null,
          0.4308738429822203,
          0.5086039747989297,
          null,
          0.4308738429822203,
          0.2852988391764869,
          null,
          -0.13323376032627385,
          0.15661641483575978,
          null,
          -0.13323376032627385,
          0.222533964722206,
          null,
          -0.13323376032627385,
          -0.01666408471891066,
          null,
          -0.13323376032627385,
          0.016089694872387032,
          null,
          -0.13323376032627385,
          -0.09858914114011094,
          null,
          -0.17944998758877687,
          0.222533964722206,
          null,
          -0.17944998758877687,
          0.2852988391764869,
          null,
          -0.17944998758877687,
          0.2443092972996581,
          null,
          0.37815296010153143,
          0.15661641483575978,
          null,
          0.37815296010153143,
          0.04139365894761362,
          null,
          0.15661641483575978,
          0.016089694872387032,
          null,
          0.222533964722206,
          0.2443092972996581,
          null,
          0.222533964722206,
          -0.09858914114011094,
          null,
          0.5086039747989297,
          -0.2624373323070885,
          null,
          0.2852988391764869,
          0.1421291836106538,
          null,
          0.2852988391764869,
          0.04139365894761362,
          null,
          0.1421291836106538,
          0.016089694872387032,
          null,
          0.2443092972996581,
          0.016089694872387032,
          null,
          0.2443092972996581,
          -0.09858914114011094,
          null,
          0.04139365894761362,
          0.016089694872387032,
          null,
          0.04139365894761362,
          -0.2624373323070885,
          null,
          0.04139365894761362,
          -0.09858914114011094,
          null
         ]
        },
        {
         "line": {
          "color": "#C0C0C0",
          "width": 1
         },
         "mode": "lines",
         "type": "scatter",
         "x": [
          0.5439056265770327,
          0.08905122289249046,
          null,
          0.5439056265770327,
          -0.06506297279114519,
          null,
          0.5439056265770327,
          1,
          null,
          0.5439056265770327,
          0.2747303642452712,
          null,
          0.5439056265770327,
          0.0667803233821039,
          null,
          0.08905122289249046,
          -0.20252457763551157,
          null,
          0.08905122289249046,
          0.44313343998535737,
          null,
          0.08905122289249046,
          -0.0789620386201738,
          null,
          0.08905122289249046,
          0.011238694149120924,
          null,
          0.08905122289249046,
          -0.06506297279114519,
          null,
          0.08905122289249046,
          -0.4254130171537033,
          null,
          0.08905122289249046,
          -0.12780002292490084,
          null,
          -0.06506297279114519,
          -0.20252457763551157,
          null,
          -0.06506297279114519,
          -0.4843664059407718,
          null,
          -0.06506297279114519,
          -0.40850623120386625,
          null,
          -0.06506297279114519,
          -0.3001379315027865,
          null,
          -0.06506297279114519,
          0.09840898460097863,
          null,
          -0.06506297279114519,
          -0.6422564229979142,
          null,
          -0.06506297279114519,
          -0.5727528167553011,
          null,
          -0.06506297279114519,
          0.4753716329740933,
          null,
          -0.06506297279114519,
          0.2747303642452712,
          null,
          0.2747303642452712,
          -0.3001379315027865,
          null,
          0.2747303642452712,
          0.022399163707006335,
          null,
          0.2747303642452712,
          0.09840898460097863,
          null,
          0.2747303642452712,
          -0.12780002292490084,
          null,
          0.2747303642452712,
          0.3165249405637759,
          null,
          0.2747303642452712,
          0.0667803233821039,
          null,
          0.0667803233821039,
          -0.20252457763551157,
          null,
          0.0667803233821039,
          -0.3293751174119399,
          null,
          0.0667803233821039,
          -0.04077842281433075,
          null,
          0.0667803233821039,
          -0.0789620386201738,
          null,
          0.0667803233821039,
          -0.3001379315027865,
          null,
          0.0667803233821039,
          -0.2555872236483853,
          null,
          0.0667803233821039,
          -0.4254130171537033,
          null,
          0.0667803233821039,
          0.09840898460097863,
          null,
          0.0667803233821039,
          -0.5727528167553011,
          null,
          0.0667803233821039,
          0.4753716329740933,
          null,
          -0.20252457763551157,
          0.20318174340441153,
          null,
          -0.20252457763551157,
          -0.2983269704334583,
          null,
          -0.20252457763551157,
          -0.40850623120386625,
          null,
          -0.20252457763551157,
          -0.0789620386201738,
          null,
          -0.20252457763551157,
          0.011238694149120924,
          null,
          -0.20252457763551157,
          -0.2555872236483853,
          null,
          -0.20252457763551157,
          -0.5727528167553011,
          null,
          -0.3293751174119399,
          0.20318174340441153,
          null,
          -0.3293751174119399,
          -0.2983269704334583,
          null,
          -0.3293751174119399,
          -0.40850623120386625,
          null,
          -0.3293751174119399,
          -0.0789620386201738,
          null,
          -0.3293751174119399,
          0.011238694149120924,
          null,
          -0.3293751174119399,
          -0.3001379315027865,
          null,
          -0.3293751174119399,
          0.022399163707006335,
          null,
          -0.3293751174119399,
          -0.6422564229979142,
          null,
          -0.3293751174119399,
          -0.12780002292490084,
          null,
          -0.3293751174119399,
          -0.5727528167553011,
          null,
          0.20318174340441153,
          -0.2983269704334583,
          null,
          0.20318174340441153,
          0.44313343998535737,
          null,
          0.20318174340441153,
          -0.0789620386201738,
          null,
          0.20318174340441153,
          0.022399163707006335,
          null,
          0.20318174340441153,
          -0.2555872236483853,
          null,
          0.20318174340441153,
          -0.4254130171537033,
          null,
          0.20318174340441153,
          0.09840898460097863,
          null,
          0.20318174340441153,
          0.4753716329740933,
          null,
          -0.2983269704334583,
          -0.40850623120386625,
          null,
          -0.2983269704334583,
          0.011238694149120924,
          null,
          -0.2983269704334583,
          0.022399163707006335,
          null,
          -0.2983269704334583,
          -0.2555872236483853,
          null,
          -0.2983269704334583,
          -0.4254130171537033,
          null,
          -0.2983269704334583,
          -0.5727528167553011,
          null,
          -0.40850623120386625,
          0.011238694149120924,
          null,
          -0.40850623120386625,
          -0.3001379315027865,
          null,
          -0.40850623120386625,
          -0.2555872236483853,
          null,
          -0.40850623120386625,
          -0.4254130171537033,
          null,
          -0.40850623120386625,
          -0.12780002292490084,
          null,
          -0.40850623120386625,
          -0.5727528167553011,
          null,
          -0.0789620386201738,
          -0.4843664059407718,
          null,
          -0.0789620386201738,
          -0.3001379315027865,
          null,
          -0.0789620386201738,
          0.022399163707006335,
          null,
          -0.0789620386201738,
          -0.2555872236483853,
          null,
          -0.0789620386201738,
          0.4753716329740933,
          null,
          -0.0789620386201738,
          0.3165249405637759,
          null,
          0.011238694149120924,
          0.44313343998535737,
          null,
          0.011238694149120924,
          -0.3001379315027865,
          null,
          0.011238694149120924,
          0.022399163707006335,
          null,
          0.011238694149120924,
          0.09840898460097863,
          null,
          0.011238694149120924,
          0.4753716329740933,
          null,
          -0.3001379315027865,
          -0.2555872236483853,
          null,
          -0.3001379315027865,
          0.09840898460097863,
          null,
          -0.3001379315027865,
          -0.6422564229979142,
          null,
          -0.3001379315027865,
          -0.12780002292490084,
          null,
          -0.3001379315027865,
          -0.5727528167553011,
          null,
          -0.3001379315027865,
          0.3165249405637759,
          null,
          0.022399163707006335,
          0.44313343998535737,
          null,
          0.022399163707006335,
          -0.2555872236483853,
          null,
          0.022399163707006335,
          0.09840898460097863,
          null,
          0.022399163707006335,
          -0.6422564229979142,
          null,
          0.022399163707006335,
          -0.5727528167553011,
          null,
          0.022399163707006335,
          0.4753716329740933,
          null,
          -0.2555872236483853,
          -0.4254130171537033,
          null,
          -0.2555872236483853,
          0.09840898460097863,
          null,
          -0.2555872236483853,
          -0.5727528167553011,
          null,
          -0.2555872236483853,
          0.3165249405637759,
          null,
          -0.4254130171537033,
          -0.4843664059407718,
          null,
          -0.4254130171537033,
          -0.5727528167553011,
          null,
          -0.12780002292490084,
          0.09840898460097863,
          null,
          -0.12780002292490084,
          0.3165249405637759,
          null,
          0.44313343998535737,
          0.6871240353525468,
          null,
          0.44313343998535737,
          0.3165249405637759,
          null
         ],
         "y": [
          -0.212361942060958,
          0.4308738429822203,
          null,
          -0.212361942060958,
          -0.13323376032627385,
          null,
          -0.212361942060958,
          -0.44926833133939087,
          null,
          -0.212361942060958,
          -0.4927642055543715,
          null,
          -0.212361942060958,
          -0.17944998758877687,
          null,
          0.4308738429822203,
          0.37815296010153143,
          null,
          0.4308738429822203,
          0.48625090736418175,
          null,
          0.4308738429822203,
          0.1421291836106538,
          null,
          0.4308738429822203,
          0.2443092972996581,
          null,
          0.4308738429822203,
          -0.13323376032627385,
          null,
          0.4308738429822203,
          0.016089694872387032,
          null,
          0.4308738429822203,
          -0.2624373323070885,
          null,
          -0.13323376032627385,
          0.37815296010153143,
          null,
          -0.13323376032627385,
          -0.5055043752347752,
          null,
          -0.13323376032627385,
          0.2852988391764869,
          null,
          -0.13323376032627385,
          -0.24772957939394175,
          null,
          -0.13323376032627385,
          -0.4182988715652653,
          null,
          -0.13323376032627385,
          -0.23255135909503916,
          null,
          -0.13323376032627385,
          0.13646518122324372,
          null,
          -0.13323376032627385,
          0.10975070124573755,
          null,
          -0.13323376032627385,
          -0.4927642055543715,
          null,
          -0.4927642055543715,
          -0.24772957939394175,
          null,
          -0.4927642055543715,
          0.04139365894761362,
          null,
          -0.4927642055543715,
          -0.4182988715652653,
          null,
          -0.4927642055543715,
          -0.2624373323070885,
          null,
          -0.4927642055543715,
          -0.09858914114011094,
          null,
          -0.4927642055543715,
          -0.17944998758877687,
          null,
          -0.17944998758877687,
          0.37815296010153143,
          null,
          -0.17944998758877687,
          0.15661641483575978,
          null,
          -0.17944998758877687,
          -0.8242381349394519,
          null,
          -0.17944998758877687,
          0.1421291836106538,
          null,
          -0.17944998758877687,
          -0.24772957939394175,
          null,
          -0.17944998758877687,
          -0.01666408471891066,
          null,
          -0.17944998758877687,
          0.016089694872387032,
          null,
          -0.17944998758877687,
          -0.4182988715652653,
          null,
          -0.17944998758877687,
          0.13646518122324372,
          null,
          -0.17944998758877687,
          0.10975070124573755,
          null,
          0.37815296010153143,
          0.222533964722206,
          null,
          0.37815296010153143,
          0.5086039747989297,
          null,
          0.37815296010153143,
          0.2852988391764869,
          null,
          0.37815296010153143,
          0.1421291836106538,
          null,
          0.37815296010153143,
          0.2443092972996581,
          null,
          0.37815296010153143,
          -0.01666408471891066,
          null,
          0.37815296010153143,
          0.13646518122324372,
          null,
          0.15661641483575978,
          0.222533964722206,
          null,
          0.15661641483575978,
          0.5086039747989297,
          null,
          0.15661641483575978,
          0.2852988391764869,
          null,
          0.15661641483575978,
          0.1421291836106538,
          null,
          0.15661641483575978,
          0.2443092972996581,
          null,
          0.15661641483575978,
          -0.24772957939394175,
          null,
          0.15661641483575978,
          0.04139365894761362,
          null,
          0.15661641483575978,
          -0.23255135909503916,
          null,
          0.15661641483575978,
          -0.2624373323070885,
          null,
          0.15661641483575978,
          0.13646518122324372,
          null,
          0.222533964722206,
          0.5086039747989297,
          null,
          0.222533964722206,
          0.48625090736418175,
          null,
          0.222533964722206,
          0.1421291836106538,
          null,
          0.222533964722206,
          0.04139365894761362,
          null,
          0.222533964722206,
          -0.01666408471891066,
          null,
          0.222533964722206,
          0.016089694872387032,
          null,
          0.222533964722206,
          -0.4182988715652653,
          null,
          0.222533964722206,
          0.10975070124573755,
          null,
          0.5086039747989297,
          0.2852988391764869,
          null,
          0.5086039747989297,
          0.2443092972996581,
          null,
          0.5086039747989297,
          0.04139365894761362,
          null,
          0.5086039747989297,
          -0.01666408471891066,
          null,
          0.5086039747989297,
          0.016089694872387032,
          null,
          0.5086039747989297,
          0.13646518122324372,
          null,
          0.2852988391764869,
          0.2443092972996581,
          null,
          0.2852988391764869,
          -0.24772957939394175,
          null,
          0.2852988391764869,
          -0.01666408471891066,
          null,
          0.2852988391764869,
          0.016089694872387032,
          null,
          0.2852988391764869,
          -0.2624373323070885,
          null,
          0.2852988391764869,
          0.13646518122324372,
          null,
          0.1421291836106538,
          -0.5055043752347752,
          null,
          0.1421291836106538,
          -0.24772957939394175,
          null,
          0.1421291836106538,
          0.04139365894761362,
          null,
          0.1421291836106538,
          -0.01666408471891066,
          null,
          0.1421291836106538,
          0.10975070124573755,
          null,
          0.1421291836106538,
          -0.09858914114011094,
          null,
          0.2443092972996581,
          0.48625090736418175,
          null,
          0.2443092972996581,
          -0.24772957939394175,
          null,
          0.2443092972996581,
          0.04139365894761362,
          null,
          0.2443092972996581,
          -0.4182988715652653,
          null,
          0.2443092972996581,
          0.10975070124573755,
          null,
          -0.24772957939394175,
          -0.01666408471891066,
          null,
          -0.24772957939394175,
          -0.4182988715652653,
          null,
          -0.24772957939394175,
          -0.23255135909503916,
          null,
          -0.24772957939394175,
          -0.2624373323070885,
          null,
          -0.24772957939394175,
          0.13646518122324372,
          null,
          -0.24772957939394175,
          -0.09858914114011094,
          null,
          0.04139365894761362,
          0.48625090736418175,
          null,
          0.04139365894761362,
          -0.01666408471891066,
          null,
          0.04139365894761362,
          -0.4182988715652653,
          null,
          0.04139365894761362,
          -0.23255135909503916,
          null,
          0.04139365894761362,
          0.13646518122324372,
          null,
          0.04139365894761362,
          0.10975070124573755,
          null,
          -0.01666408471891066,
          0.016089694872387032,
          null,
          -0.01666408471891066,
          -0.4182988715652653,
          null,
          -0.01666408471891066,
          0.13646518122324372,
          null,
          -0.01666408471891066,
          -0.09858914114011094,
          null,
          0.016089694872387032,
          -0.5055043752347752,
          null,
          0.016089694872387032,
          0.13646518122324372,
          null,
          -0.2624373323070885,
          -0.4182988715652653,
          null,
          -0.2624373323070885,
          -0.09858914114011094,
          null,
          0.48625090736418175,
          0.9146224840837451,
          null,
          0.48625090736418175,
          -0.09858914114011094,
          null
         ]
        },
        {
         "hoverinfo": "text",
         "hovertext": [
          "5",
          "12",
          "20",
          "1",
          "8",
          "18",
          "14",
          "15",
          "15",
          "11",
          "14",
          "14",
          "17",
          "16",
          "20",
          "14",
          "15",
          "11",
          "4",
          "9",
          "1",
          "3",
          "6",
          "10",
          "7",
          "13",
          "1"
         ],
         "marker": {
          "color": [
           103,
           165,
           281,
           20,
           125,
           235,
           154,
           161,
           136,
           103,
           129,
           110,
           137,
           153,
           149,
           77,
           25,
           5,
           21,
           60,
           22,
           8,
           29,
           38,
           24,
           13,
           7
          ],
          "colorbar": {
           "thickness": 30,
           "title": {
            "side": "right",
            "text": "degree"
           },
           "xanchor": "left"
          },
          "colorscale": [
           [
            0,
            "rgb(255,255,255)"
           ],
           [
            0.125,
            "rgb(240,240,240)"
           ],
           [
            0.25,
            "rgb(217,217,217)"
           ],
           [
            0.375,
            "rgb(189,189,189)"
           ],
           [
            0.5,
            "rgb(150,150,150)"
           ],
           [
            0.625,
            "rgb(115,115,115)"
           ],
           [
            0.75,
            "rgb(82,82,82)"
           ],
           [
            0.875,
            "rgb(37,37,37)"
           ],
           [
            1,
            "rgb(0,0,0)"
           ]
          ],
          "line": {
           "width": 1.5
          },
          "showscale": false,
          "size": 15
         },
         "mode": "markers+text",
         "text": [
          "Polycarp",
          "Pauline literature",
          "Clement of Alexandria",
          "Ignatius Antiochenus",
          "Maximus of Tyre",
          "Flavius Josephus",
          "Paul of Tarsus",
          "Clemens Romanus",
          "Hermas",
          "GNT rest",
          "Justinus Martyr",
          "Athenagoras",
          "Origenes",
          "Theophilus Antiochenus",
          "Eusebius",
          "Johnannine literature",
          "Epiphanius",
          "Basil",
          "Luke (the evangelist)",
          "Gregorius Nazianzenus",
          "Pseudo-Justinus Martyr",
          "Barnabas",
          "Didache",
          "Athanasius of Alexandria",
          "Hippolytus",
          "Philo Judaeus",
          "Matthew"
         ],
         "textfont": {
          "size": 16
         },
         "textposition": "bottom center",
         "type": "scatter",
         "x": [
          0.5439056265770327,
          0.08905122289249046,
          -0.06506297279114519,
          1,
          0.2747303642452712,
          0.0667803233821039,
          -0.20252457763551157,
          -0.3293751174119399,
          0.20318174340441153,
          -0.2983269704334583,
          -0.40850623120386625,
          -0.0789620386201738,
          0.011238694149120924,
          -0.3001379315027865,
          0.022399163707006335,
          -0.2555872236483853,
          -0.4254130171537033,
          -0.5727528167553011,
          -0.6422564229979142,
          -0.12780002292490084,
          -0.04077842281433075,
          -0.4843664059407718,
          0.44313343998535737,
          0.09840898460097863,
          0.4753716329740933,
          0.3165249405637759,
          0.6871240353525468
         ],
         "y": [
          -0.212361942060958,
          0.4308738429822203,
          -0.13323376032627385,
          -0.44926833133939087,
          -0.4927642055543715,
          -0.17944998758877687,
          0.37815296010153143,
          0.15661641483575978,
          0.222533964722206,
          0.5086039747989297,
          0.2852988391764869,
          0.1421291836106538,
          0.2443092972996581,
          -0.24772957939394175,
          0.04139365894761362,
          -0.01666408471891066,
          0.016089694872387032,
          0.13646518122324372,
          -0.23255135909503916,
          -0.2624373323070885,
          -0.8242381349394519,
          -0.5055043752347752,
          0.48625090736418175,
          -0.4182988715652653,
          0.10975070124573755,
          -0.09858914114011094,
          0.9146224840837451
         ]
        },
        {
         "hoverinfo": "text",
         "marker": {
          "opacity": 0
         },
         "mode": "markers",
         "opacity": 0,
         "text": [
          "1",
          "1",
          "1",
          "1",
          "1",
          "1",
          "2",
          "2",
          "2",
          "1",
          "2",
          "1",
          "1",
          "1",
          "1",
          "1",
          "1",
          "2",
          "1",
          "2",
          "1",
          "3",
          "3",
          "1",
          "3",
          "2",
          "2",
          "1",
          "1",
          "1",
          "1",
          "1",
          "2",
          "4",
          "1",
          "1",
          "1",
          "1",
          "1",
          "1",
          "1",
          "1",
          "1",
          "2",
          "2",
          "1",
          "2",
          "1",
          "3",
          "1",
          "1",
          "1",
          "1",
          "1",
          "3",
          "2",
          "1",
          "1",
          "1",
          "1",
          "1",
          "3",
          "2",
          "1",
          "4",
          "1",
          "1",
          "1",
          "1",
          "1",
          "1",
          "1",
          "1",
          "2",
          "1",
          "1",
          "1",
          "1",
          "1",
          "1",
          "2",
          "1",
          "1",
          "1",
          "1",
          "1",
          "2",
          "1",
          "1",
          "1",
          "1",
          "1",
          "2",
          "1",
          "2",
          "1",
          "1",
          "2",
          "1",
          "1",
          "1",
          "1",
          "1",
          "1",
          "1",
          "1",
          "2",
          "1",
          "1",
          "1",
          "1",
          "1",
          "3",
          "2",
          "1",
          "3",
          "1",
          "2",
          "3",
          "1",
          "3",
          "1",
          "1",
          "1",
          "1",
          "1",
          "1",
          "1",
          "2",
          "1",
          "1",
          "2",
          "1",
          "1",
          "2",
          "1",
          "1",
          "1",
          "1",
          "1",
          "1",
          "1",
          "1",
          "1",
          "1",
          "3",
          "4"
         ],
         "type": "scatter",
         "x": [
          0.31647842473476157,
          0.23942132689294374,
          0.7719528132885163,
          0.40931799541115194,
          0.3053429749795683,
          -0.05673667737151056,
          -0.12016194725972473,
          0.146116483148451,
          -0.10463787377048392,
          0.2660923314389239,
          -0.1597275041556879,
          0.005044592136158328,
          0.050144958520805694,
          0.011994125050672634,
          -0.1681808971306064,
          -0.01937440001620519,
          -0.1337937752133284,
          -0.19721904510154256,
          -0.2747146893659585,
          0.06905938530663316,
          -0.23678460199750573,
          -0.0720125057056595,
          -0.02691213932101213,
          -0.18260045214696585,
          -0.021331904542069426,
          -0.16032509821976526,
          -0.24523799497242424,
          0.016673005904916723,
          -0.35365969789452967,
          -0.3189078947732231,
          0.20515433009147405,
          0.104833695727063,
          0.12573098388631535,
          0.0008586752954793594,
          -0.012703783628757653,
          0.14856476397613877,
          0.18656967442312491,
          0.07346517066018518,
          0.29562765240452354,
          0.17075534381368757,
          -0.06787212712670383,
          -0.131297397014918,
          0.013000950283886578,
          0.13498103339325773,
          -0.1708629539108812,
          -0.0060908576190349464,
          0.03900950876561242,
          -0.1166788040603413,
          0.044589743544555124,
          -0.0944034501331407,
          -0.17931634688579967,
          0.08259465399154127,
          -0.2529862466865986,
          0.2710759781780986,
          0.1916526319729399,
          -0.26594984752372575,
          0.0003285828844499794,
          -0.25042577403448496,
          -0.30551540441968894,
          -0.1407433081278427,
          -0.09564294174319532,
          -0.25133125456914907,
          -0.09006270696425261,
          -0.22905590064194845,
          -0.3139687973946074,
          -0.38763869719540633,
          -0.0630966870037642,
          -0.31385104392269914,
          -0.3689406743079031,
          -0.20416857801605687,
          -0.1590682116314095,
          -0.31475652445736324,
          -0.1534879768524668,
          -0.3773940672828216,
          -0.48581577020492706,
          -0.22858757016842038,
          -0.4510639670836205,
          -0.04757261351452338,
          0.32315759169488445,
          0.062109852392118865,
          0.10721021877676623,
          0.11279045355570894,
          -0.026202740121986895,
          -0.11111563687464587,
          0.15079536400269508,
          0.3392766881892524,
          0.2598533419840937,
          -0.3534166008186623,
          -0.14354413814216868,
          -0.13796390336322598,
          -0.2769570970409218,
          -0.36186999379358076,
          -0.21306349667917956,
          -0.4355398935943797,
          -0.24373413491202003,
          -0.19863376852737266,
          -0.3543220813533264,
          -0.19305353374842996,
          -0.3320467274261258,
          -0.41695962417878474,
          -0.26815312706438355,
          -0.4906295239795837,
          -0.2816642222804728,
          -0.18954998506148016,
          -0.028281437456583732,
          -0.16727463113427957,
          -0.25218752788693855,
          0.19820479717695974,
          0.11878145097180104,
          0.22718606706723915,
          -0.14444961867683279,
          0.01681892892806363,
          -0.1221742647496322,
          -0.20708716150229117,
          0.05482383937504978,
          -0.2807570613030901,
          0.2433051635616071,
          0.1638818173564484,
          -0.13886938389789008,
          -0.2778625775755859,
          -0.36277547432824486,
          -0.10086447345090394,
          -0.4711971772503504,
          -0.21396897721384367,
          -0.43644537412904383,
          0.008193504530494694,
          0.23276630184618186,
          -0.11659402997068949,
          -0.20150692672334847,
          0.06040407415399249,
          -0.3099286296454539,
          -0.05270042960894725,
          -0.2751768265241474,
          0.24888539834054982,
          0.16946205213539112,
          -0.34050012040104427,
          -0.07858911952370334,
          -0.41417002020184324,
          0.030468858457695286,
          -0.45488971154723756,
          -0.4990829169545022,
          -0.014695519161961101,
          0.09436245881943753,
          0.5651287376689521,
          0.37982919027456663,
          0.20746696258237726,
          0.39594828676893457
         ],
         "y": [
          0.10925595046063116,
          -0.1727978511936159,
          -0.33081513670017443,
          -0.3525630738076647,
          -0.19590596482486744,
          0.40451340154187587,
          0.29374512890899007,
          0.32670390385221315,
          0.469738908890575,
          0.45856237517320103,
          0.3580863410793536,
          0.286501513296437,
          0.3375915701409392,
          0.14882004132797322,
          0.22348176892730368,
          0.08421825533756591,
          0.12245959988762879,
          0.011691327254742964,
          -0.31936906778052454,
          0.04465010219796607,
          0.07603253942510653,
          0.004447711642189975,
          0.05553776848669213,
          -0.19048166986010778,
          -0.04592005068933011,
          -0.07494892252259225,
          -0.058572032726943404,
          -0.27576631594576956,
          -0.1828925597106565,
          0.001615710448484936,
          -0.01174152954026815,
          -0.3129989829403227,
          -0.1159114507331924,
          -0.15634187395752536,
          -0.37024689247415665,
          -0.22568527330337895,
          -0.4555315385598184,
          -0.37760076893073,
          -0.29567667334724124,
          -0.33610709657157417,
          0.09935148625637728,
          -0.011416786376508545,
          -0.5018440612641144,
          0.021541988566714562,
          0.05292442579385502,
          -0.018660401989061534,
          0.03242965485544062,
          -0.21358978349135932,
          -0.06902816432058162,
          -0.09805703615384376,
          -0.08168014635819491,
          -0.2988744295770211,
          -0.021492403182766573,
          -0.03484964317151966,
          -0.1390195643644439,
          0.26738468746864563,
          0.3003434624118687,
          0.4433784674502306,
          0.33172589963900917,
          0.2601410718560926,
          0.3112311287005948,
          0.06521169035379484,
          0.20977330952457252,
          0.18074443769131038,
          0.19712132748695924,
          0.25730907066238756,
          0.18957518977898288,
          0.3326101948173448,
          0.22095762700612334,
          0.1493727992232068,
          0.20046285606770894,
          -0.045556582279090985,
          0.0990050368916867,
          0.08635305485407341,
          -0.03796747212963969,
          -0.052910458735664356,
          0.14654079802950176,
          0.36556896976056785,
          0.35439243604319387,
          0.1823315741664299,
          0.23342163101093205,
          0.1319638118349098,
          0.10293494000164767,
          0.11931182979729651,
          -0.09788245342152965,
          0.16614233298397177,
          0.061972411791047524,
          0.3969514069877083,
          0.3764566360492939,
          0.27499881687327166,
          0.24596994504000952,
          0.26234683483565835,
          0.12308332124592061,
          0.3225345780110867,
          0.21371401139357035,
          0.2648040682380725,
          0.01878462989127258,
          0.16334624906205025,
          0.13431737722878812,
          0.15069426702443697,
          0.011430753434699209,
          0.2108820101998653,
          -0.1816875958120607,
          -0.052800197891643974,
          0.09176142127913371,
          0.06273254944587157,
          0.07910943924152042,
          0.12593994242819567,
          0.021770021235271428,
          0.36528010233191993,
          -0.0017101410471418166,
          0.14285147812363586,
          0.11382260629037373,
          0.13019949608602258,
          -0.08699478713280359,
          0.1903872392614509,
          0.17702999927269783,
          0.07286007807977359,
          -0.10316796022316406,
          -0.1321968320564262,
          -0.11581994226077735,
          -0.3330142254796035,
          -0.24014046924449045,
          -0.2550834558505151,
          -0.05563219908534901,
          -0.17315936026702633,
          0.2638222831558977,
          0.01236478711435148,
          0.028741676910000326,
          -0.18845260630882585,
          -0.09557885007371276,
          -0.11052183667973743,
          0.08892942008542867,
          0.07557218009667559,
          -0.02859774109624866,
          -0.0002871949232618135,
          -0.21748147814208799,
          0.05990054825216653,
          -0.0576266129295108,
          -0.24470734018119408,
          0.07627743804781538,
          -0.3403681019361769,
          -0.1805132367235997,
          0.7004366957239634,
          0.1938308831120354,
          -0.2584440063526881,
          0.005580780052813303
         ]
        }
       ],
       "layout": {
        "autosize": false,
        "height": 1200,
        "hovermode": "closest",
        "margin": {
         "b": 10,
         "l": 10,
         "r": 10,
         "t": 10
        },
        "plot_bgcolor": "rgba(0,0,0,0)",
        "showlegend": false,
        "template": {
         "data": {
          "bar": [
           {
            "error_x": {
             "color": "#2a3f5f"
            },
            "error_y": {
             "color": "#2a3f5f"
            },
            "marker": {
             "line": {
              "color": "#E5ECF6",
              "width": 0.5
             }
            },
            "type": "bar"
           }
          ],
          "barpolar": [
           {
            "marker": {
             "line": {
              "color": "#E5ECF6",
              "width": 0.5
             }
            },
            "type": "barpolar"
           }
          ],
          "carpet": [
           {
            "aaxis": {
             "endlinecolor": "#2a3f5f",
             "gridcolor": "white",
             "linecolor": "white",
             "minorgridcolor": "white",
             "startlinecolor": "#2a3f5f"
            },
            "baxis": {
             "endlinecolor": "#2a3f5f",
             "gridcolor": "white",
             "linecolor": "white",
             "minorgridcolor": "white",
             "startlinecolor": "#2a3f5f"
            },
            "type": "carpet"
           }
          ],
          "choropleth": [
           {
            "colorbar": {
             "outlinewidth": 0,
             "ticks": ""
            },
            "type": "choropleth"
           }
          ],
          "contour": [
           {
            "colorbar": {
             "outlinewidth": 0,
             "ticks": ""
            },
            "colorscale": [
             [
              0,
              "#0d0887"
             ],
             [
              0.1111111111111111,
              "#46039f"
             ],
             [
              0.2222222222222222,
              "#7201a8"
             ],
             [
              0.3333333333333333,
              "#9c179e"
             ],
             [
              0.4444444444444444,
              "#bd3786"
             ],
             [
              0.5555555555555556,
              "#d8576b"
             ],
             [
              0.6666666666666666,
              "#ed7953"
             ],
             [
              0.7777777777777778,
              "#fb9f3a"
             ],
             [
              0.8888888888888888,
              "#fdca26"
             ],
             [
              1,
              "#f0f921"
             ]
            ],
            "type": "contour"
           }
          ],
          "contourcarpet": [
           {
            "colorbar": {
             "outlinewidth": 0,
             "ticks": ""
            },
            "type": "contourcarpet"
           }
          ],
          "heatmap": [
           {
            "colorbar": {
             "outlinewidth": 0,
             "ticks": ""
            },
            "colorscale": [
             [
              0,
              "#0d0887"
             ],
             [
              0.1111111111111111,
              "#46039f"
             ],
             [
              0.2222222222222222,
              "#7201a8"
             ],
             [
              0.3333333333333333,
              "#9c179e"
             ],
             [
              0.4444444444444444,
              "#bd3786"
             ],
             [
              0.5555555555555556,
              "#d8576b"
             ],
             [
              0.6666666666666666,
              "#ed7953"
             ],
             [
              0.7777777777777778,
              "#fb9f3a"
             ],
             [
              0.8888888888888888,
              "#fdca26"
             ],
             [
              1,
              "#f0f921"
             ]
            ],
            "type": "heatmap"
           }
          ],
          "heatmapgl": [
           {
            "colorbar": {
             "outlinewidth": 0,
             "ticks": ""
            },
            "colorscale": [
             [
              0,
              "#0d0887"
             ],
             [
              0.1111111111111111,
              "#46039f"
             ],
             [
              0.2222222222222222,
              "#7201a8"
             ],
             [
              0.3333333333333333,
              "#9c179e"
             ],
             [
              0.4444444444444444,
              "#bd3786"
             ],
             [
              0.5555555555555556,
              "#d8576b"
             ],
             [
              0.6666666666666666,
              "#ed7953"
             ],
             [
              0.7777777777777778,
              "#fb9f3a"
             ],
             [
              0.8888888888888888,
              "#fdca26"
             ],
             [
              1,
              "#f0f921"
             ]
            ],
            "type": "heatmapgl"
           }
          ],
          "histogram": [
           {
            "marker": {
             "colorbar": {
              "outlinewidth": 0,
              "ticks": ""
             }
            },
            "type": "histogram"
           }
          ],
          "histogram2d": [
           {
            "colorbar": {
             "outlinewidth": 0,
             "ticks": ""
            },
            "colorscale": [
             [
              0,
              "#0d0887"
             ],
             [
              0.1111111111111111,
              "#46039f"
             ],
             [
              0.2222222222222222,
              "#7201a8"
             ],
             [
              0.3333333333333333,
              "#9c179e"
             ],
             [
              0.4444444444444444,
              "#bd3786"
             ],
             [
              0.5555555555555556,
              "#d8576b"
             ],
             [
              0.6666666666666666,
              "#ed7953"
             ],
             [
              0.7777777777777778,
              "#fb9f3a"
             ],
             [
              0.8888888888888888,
              "#fdca26"
             ],
             [
              1,
              "#f0f921"
             ]
            ],
            "type": "histogram2d"
           }
          ],
          "histogram2dcontour": [
           {
            "colorbar": {
             "outlinewidth": 0,
             "ticks": ""
            },
            "colorscale": [
             [
              0,
              "#0d0887"
             ],
             [
              0.1111111111111111,
              "#46039f"
             ],
             [
              0.2222222222222222,
              "#7201a8"
             ],
             [
              0.3333333333333333,
              "#9c179e"
             ],
             [
              0.4444444444444444,
              "#bd3786"
             ],
             [
              0.5555555555555556,
              "#d8576b"
             ],
             [
              0.6666666666666666,
              "#ed7953"
             ],
             [
              0.7777777777777778,
              "#fb9f3a"
             ],
             [
              0.8888888888888888,
              "#fdca26"
             ],
             [
              1,
              "#f0f921"
             ]
            ],
            "type": "histogram2dcontour"
           }
          ],
          "mesh3d": [
           {
            "colorbar": {
             "outlinewidth": 0,
             "ticks": ""
            },
            "type": "mesh3d"
           }
          ],
          "parcoords": [
           {
            "line": {
             "colorbar": {
              "outlinewidth": 0,
              "ticks": ""
             }
            },
            "type": "parcoords"
           }
          ],
          "pie": [
           {
            "automargin": true,
            "type": "pie"
           }
          ],
          "scatter": [
           {
            "marker": {
             "colorbar": {
              "outlinewidth": 0,
              "ticks": ""
             }
            },
            "type": "scatter"
           }
          ],
          "scatter3d": [
           {
            "line": {
             "colorbar": {
              "outlinewidth": 0,
              "ticks": ""
             }
            },
            "marker": {
             "colorbar": {
              "outlinewidth": 0,
              "ticks": ""
             }
            },
            "type": "scatter3d"
           }
          ],
          "scattercarpet": [
           {
            "marker": {
             "colorbar": {
              "outlinewidth": 0,
              "ticks": ""
             }
            },
            "type": "scattercarpet"
           }
          ],
          "scattergeo": [
           {
            "marker": {
             "colorbar": {
              "outlinewidth": 0,
              "ticks": ""
             }
            },
            "type": "scattergeo"
           }
          ],
          "scattergl": [
           {
            "marker": {
             "colorbar": {
              "outlinewidth": 0,
              "ticks": ""
             }
            },
            "type": "scattergl"
           }
          ],
          "scattermapbox": [
           {
            "marker": {
             "colorbar": {
              "outlinewidth": 0,
              "ticks": ""
             }
            },
            "type": "scattermapbox"
           }
          ],
          "scatterpolar": [
           {
            "marker": {
             "colorbar": {
              "outlinewidth": 0,
              "ticks": ""
             }
            },
            "type": "scatterpolar"
           }
          ],
          "scatterpolargl": [
           {
            "marker": {
             "colorbar": {
              "outlinewidth": 0,
              "ticks": ""
             }
            },
            "type": "scatterpolargl"
           }
          ],
          "scatterternary": [
           {
            "marker": {
             "colorbar": {
              "outlinewidth": 0,
              "ticks": ""
             }
            },
            "type": "scatterternary"
           }
          ],
          "surface": [
           {
            "colorbar": {
             "outlinewidth": 0,
             "ticks": ""
            },
            "colorscale": [
             [
              0,
              "#0d0887"
             ],
             [
              0.1111111111111111,
              "#46039f"
             ],
             [
              0.2222222222222222,
              "#7201a8"
             ],
             [
              0.3333333333333333,
              "#9c179e"
             ],
             [
              0.4444444444444444,
              "#bd3786"
             ],
             [
              0.5555555555555556,
              "#d8576b"
             ],
             [
              0.6666666666666666,
              "#ed7953"
             ],
             [
              0.7777777777777778,
              "#fb9f3a"
             ],
             [
              0.8888888888888888,
              "#fdca26"
             ],
             [
              1,
              "#f0f921"
             ]
            ],
            "type": "surface"
           }
          ],
          "table": [
           {
            "cells": {
             "fill": {
              "color": "#EBF0F8"
             },
             "line": {
              "color": "white"
             }
            },
            "header": {
             "fill": {
              "color": "#C8D4E3"
             },
             "line": {
              "color": "white"
             }
            },
            "type": "table"
           }
          ]
         },
         "layout": {
          "annotationdefaults": {
           "arrowcolor": "#2a3f5f",
           "arrowhead": 0,
           "arrowwidth": 1
          },
          "autotypenumbers": "strict",
          "coloraxis": {
           "colorbar": {
            "outlinewidth": 0,
            "ticks": ""
           }
          },
          "colorscale": {
           "diverging": [
            [
             0,
             "#8e0152"
            ],
            [
             0.1,
             "#c51b7d"
            ],
            [
             0.2,
             "#de77ae"
            ],
            [
             0.3,
             "#f1b6da"
            ],
            [
             0.4,
             "#fde0ef"
            ],
            [
             0.5,
             "#f7f7f7"
            ],
            [
             0.6,
             "#e6f5d0"
            ],
            [
             0.7,
             "#b8e186"
            ],
            [
             0.8,
             "#7fbc41"
            ],
            [
             0.9,
             "#4d9221"
            ],
            [
             1,
             "#276419"
            ]
           ],
           "sequential": [
            [
             0,
             "#0d0887"
            ],
            [
             0.1111111111111111,
             "#46039f"
            ],
            [
             0.2222222222222222,
             "#7201a8"
            ],
            [
             0.3333333333333333,
             "#9c179e"
            ],
            [
             0.4444444444444444,
             "#bd3786"
            ],
            [
             0.5555555555555556,
             "#d8576b"
            ],
            [
             0.6666666666666666,
             "#ed7953"
            ],
            [
             0.7777777777777778,
             "#fb9f3a"
            ],
            [
             0.8888888888888888,
             "#fdca26"
            ],
            [
             1,
             "#f0f921"
            ]
           ],
           "sequentialminus": [
            [
             0,
             "#0d0887"
            ],
            [
             0.1111111111111111,
             "#46039f"
            ],
            [
             0.2222222222222222,
             "#7201a8"
            ],
            [
             0.3333333333333333,
             "#9c179e"
            ],
            [
             0.4444444444444444,
             "#bd3786"
            ],
            [
             0.5555555555555556,
             "#d8576b"
            ],
            [
             0.6666666666666666,
             "#ed7953"
            ],
            [
             0.7777777777777778,
             "#fb9f3a"
            ],
            [
             0.8888888888888888,
             "#fdca26"
            ],
            [
             1,
             "#f0f921"
            ]
           ]
          },
          "colorway": [
           "#636efa",
           "#EF553B",
           "#00cc96",
           "#ab63fa",
           "#FFA15A",
           "#19d3f3",
           "#FF6692",
           "#B6E880",
           "#FF97FF",
           "#FECB52"
          ],
          "font": {
           "color": "#2a3f5f"
          },
          "geo": {
           "bgcolor": "white",
           "lakecolor": "white",
           "landcolor": "#E5ECF6",
           "showlakes": true,
           "showland": true,
           "subunitcolor": "white"
          },
          "hoverlabel": {
           "align": "left"
          },
          "hovermode": "closest",
          "mapbox": {
           "style": "light"
          },
          "paper_bgcolor": "white",
          "plot_bgcolor": "#E5ECF6",
          "polar": {
           "angularaxis": {
            "gridcolor": "white",
            "linecolor": "white",
            "ticks": ""
           },
           "bgcolor": "#E5ECF6",
           "radialaxis": {
            "gridcolor": "white",
            "linecolor": "white",
            "ticks": ""
           }
          },
          "scene": {
           "xaxis": {
            "backgroundcolor": "#E5ECF6",
            "gridcolor": "white",
            "gridwidth": 2,
            "linecolor": "white",
            "showbackground": true,
            "ticks": "",
            "zerolinecolor": "white"
           },
           "yaxis": {
            "backgroundcolor": "#E5ECF6",
            "gridcolor": "white",
            "gridwidth": 2,
            "linecolor": "white",
            "showbackground": true,
            "ticks": "",
            "zerolinecolor": "white"
           },
           "zaxis": {
            "backgroundcolor": "#E5ECF6",
            "gridcolor": "white",
            "gridwidth": 2,
            "linecolor": "white",
            "showbackground": true,
            "ticks": "",
            "zerolinecolor": "white"
           }
          },
          "shapedefaults": {
           "line": {
            "color": "#2a3f5f"
           }
          },
          "ternary": {
           "aaxis": {
            "gridcolor": "white",
            "linecolor": "white",
            "ticks": ""
           },
           "baxis": {
            "gridcolor": "white",
            "linecolor": "white",
            "ticks": ""
           },
           "bgcolor": "#E5ECF6",
           "caxis": {
            "gridcolor": "white",
            "linecolor": "white",
            "ticks": ""
           }
          },
          "title": {
           "x": 0.05
          },
          "xaxis": {
           "automargin": true,
           "gridcolor": "white",
           "linecolor": "white",
           "ticks": "",
           "title": {
            "standoff": 15
           },
           "zerolinecolor": "white",
           "zerolinewidth": 2
          },
          "yaxis": {
           "automargin": true,
           "gridcolor": "white",
           "linecolor": "white",
           "ticks": "",
           "title": {
            "standoff": 15
           },
           "zerolinecolor": "white",
           "zerolinewidth": 2
          }
         }
        },
        "title": {
         "font": {
          "size": 16
         }
        },
        "width": 1800,
        "xaxis": {
         "range": [
          -1.15,
          1.05
         ],
         "showgrid": false,
         "showticklabels": false,
         "zeroline": false
        },
        "yaxis": {
         "range": [
          -1.15,
          1.05
         ],
         "showgrid": false,
         "showticklabels": false,
         "zeroline": false
        }
       }
      },
      "text/html": [
       "<div>                            <div id=\"0e03a1f0-8a47-44f4-aca1-8475644fcac5\" class=\"plotly-graph-div\" style=\"height:1200px; width:1800px;\"></div>            <script type=\"text/javascript\">                require([\"plotly\"], function(Plotly) {                    window.PLOTLYENV=window.PLOTLYENV || {};                                    if (document.getElementById(\"0e03a1f0-8a47-44f4-aca1-8475644fcac5\")) {                    Plotly.newPlot(                        \"0e03a1f0-8a47-44f4-aca1-8475644fcac5\",                        [{\"line\": {\"color\": \"#000000\", \"width\": 4}, \"mode\": \"lines\", \"type\": \"scatter\", \"x\": [-0.06506297279114519, -0.0789620386201738, null, -0.06506297279114519, 0.011238694149120924, null, -0.06506297279114519, 0.022399163707006335, null, -0.06506297279114519, 0.0667803233821039, null, 0.0667803233821039, 0.022399163707006335, null, 0.0667803233821039, 0.3165249405637759, null, -0.20252457763551157, -0.3001379315027865, null, -0.20252457763551157, -0.4254130171537033, null, 0.011238694149120924, -0.2555872236483853, null, 0.011238694149120924, -0.5727528167553011, null, -0.3001379315027865, 0.022399163707006335, null, -0.3001379315027865, -0.4254130171537033, null, 0.09840898460097863, 0.3165249405637759, null, 0.4753716329740933, 0.3165249405637759, null], \"y\": [-0.13323376032627385, 0.1421291836106538, null, -0.13323376032627385, 0.2443092972996581, null, -0.13323376032627385, 0.04139365894761362, null, -0.13323376032627385, -0.17944998758877687, null, -0.17944998758877687, 0.04139365894761362, null, -0.17944998758877687, -0.09858914114011094, null, 0.37815296010153143, -0.24772957939394175, null, 0.37815296010153143, 0.016089694872387032, null, 0.2443092972996581, -0.01666408471891066, null, 0.2443092972996581, 0.13646518122324372, null, -0.24772957939394175, 0.04139365894761362, null, -0.24772957939394175, 0.016089694872387032, null, -0.4182988715652653, -0.09858914114011094, null, 0.10975070124573755, -0.09858914114011094, null]}, {\"line\": {\"color\": \"#404040\", \"width\": 2}, \"mode\": \"lines\", \"type\": \"scatter\", \"x\": [0.08905122289249046, -0.3293751174119399, null, 0.08905122289249046, 0.20318174340441153, null, 0.08905122289249046, -0.2983269704334583, null, 0.08905122289249046, -0.40850623120386625, null, -0.06506297279114519, -0.3293751174119399, null, -0.06506297279114519, 0.20318174340441153, null, -0.06506297279114519, -0.2555872236483853, null, -0.06506297279114519, -0.4254130171537033, null, -0.06506297279114519, 0.3165249405637759, null, 0.0667803233821039, 0.20318174340441153, null, 0.0667803233821039, -0.40850623120386625, null, 0.0667803233821039, 0.011238694149120924, null, -0.20252457763551157, -0.3293751174119399, null, -0.20252457763551157, 0.022399163707006335, null, -0.3293751174119399, -0.4254130171537033, null, 0.20318174340441153, 0.011238694149120924, null, 0.20318174340441153, 0.3165249405637759, null, -0.2983269704334583, -0.12780002292490084, null, -0.40850623120386625, -0.0789620386201738, null, -0.40850623120386625, 0.022399163707006335, null, -0.0789620386201738, -0.4254130171537033, null, 0.011238694149120924, -0.4254130171537033, null, 0.011238694149120924, 0.3165249405637759, null, 0.022399163707006335, -0.4254130171537033, null, 0.022399163707006335, -0.12780002292490084, null, 0.022399163707006335, 0.3165249405637759, null], \"y\": [0.4308738429822203, 0.15661641483575978, null, 0.4308738429822203, 0.222533964722206, null, 0.4308738429822203, 0.5086039747989297, null, 0.4308738429822203, 0.2852988391764869, null, -0.13323376032627385, 0.15661641483575978, null, -0.13323376032627385, 0.222533964722206, null, -0.13323376032627385, -0.01666408471891066, null, -0.13323376032627385, 0.016089694872387032, null, -0.13323376032627385, -0.09858914114011094, null, -0.17944998758877687, 0.222533964722206, null, -0.17944998758877687, 0.2852988391764869, null, -0.17944998758877687, 0.2443092972996581, null, 0.37815296010153143, 0.15661641483575978, null, 0.37815296010153143, 0.04139365894761362, null, 0.15661641483575978, 0.016089694872387032, null, 0.222533964722206, 0.2443092972996581, null, 0.222533964722206, -0.09858914114011094, null, 0.5086039747989297, -0.2624373323070885, null, 0.2852988391764869, 0.1421291836106538, null, 0.2852988391764869, 0.04139365894761362, null, 0.1421291836106538, 0.016089694872387032, null, 0.2443092972996581, 0.016089694872387032, null, 0.2443092972996581, -0.09858914114011094, null, 0.04139365894761362, 0.016089694872387032, null, 0.04139365894761362, -0.2624373323070885, null, 0.04139365894761362, -0.09858914114011094, null]}, {\"line\": {\"color\": \"#C0C0C0\", \"width\": 1}, \"mode\": \"lines\", \"type\": \"scatter\", \"x\": [0.5439056265770327, 0.08905122289249046, null, 0.5439056265770327, -0.06506297279114519, null, 0.5439056265770327, 1.0, null, 0.5439056265770327, 0.2747303642452712, null, 0.5439056265770327, 0.0667803233821039, null, 0.08905122289249046, -0.20252457763551157, null, 0.08905122289249046, 0.44313343998535737, null, 0.08905122289249046, -0.0789620386201738, null, 0.08905122289249046, 0.011238694149120924, null, 0.08905122289249046, -0.06506297279114519, null, 0.08905122289249046, -0.4254130171537033, null, 0.08905122289249046, -0.12780002292490084, null, -0.06506297279114519, -0.20252457763551157, null, -0.06506297279114519, -0.4843664059407718, null, -0.06506297279114519, -0.40850623120386625, null, -0.06506297279114519, -0.3001379315027865, null, -0.06506297279114519, 0.09840898460097863, null, -0.06506297279114519, -0.6422564229979142, null, -0.06506297279114519, -0.5727528167553011, null, -0.06506297279114519, 0.4753716329740933, null, -0.06506297279114519, 0.2747303642452712, null, 0.2747303642452712, -0.3001379315027865, null, 0.2747303642452712, 0.022399163707006335, null, 0.2747303642452712, 0.09840898460097863, null, 0.2747303642452712, -0.12780002292490084, null, 0.2747303642452712, 0.3165249405637759, null, 0.2747303642452712, 0.0667803233821039, null, 0.0667803233821039, -0.20252457763551157, null, 0.0667803233821039, -0.3293751174119399, null, 0.0667803233821039, -0.04077842281433075, null, 0.0667803233821039, -0.0789620386201738, null, 0.0667803233821039, -0.3001379315027865, null, 0.0667803233821039, -0.2555872236483853, null, 0.0667803233821039, -0.4254130171537033, null, 0.0667803233821039, 0.09840898460097863, null, 0.0667803233821039, -0.5727528167553011, null, 0.0667803233821039, 0.4753716329740933, null, -0.20252457763551157, 0.20318174340441153, null, -0.20252457763551157, -0.2983269704334583, null, -0.20252457763551157, -0.40850623120386625, null, -0.20252457763551157, -0.0789620386201738, null, -0.20252457763551157, 0.011238694149120924, null, -0.20252457763551157, -0.2555872236483853, null, -0.20252457763551157, -0.5727528167553011, null, -0.3293751174119399, 0.20318174340441153, null, -0.3293751174119399, -0.2983269704334583, null, -0.3293751174119399, -0.40850623120386625, null, -0.3293751174119399, -0.0789620386201738, null, -0.3293751174119399, 0.011238694149120924, null, -0.3293751174119399, -0.3001379315027865, null, -0.3293751174119399, 0.022399163707006335, null, -0.3293751174119399, -0.6422564229979142, null, -0.3293751174119399, -0.12780002292490084, null, -0.3293751174119399, -0.5727528167553011, null, 0.20318174340441153, -0.2983269704334583, null, 0.20318174340441153, 0.44313343998535737, null, 0.20318174340441153, -0.0789620386201738, null, 0.20318174340441153, 0.022399163707006335, null, 0.20318174340441153, -0.2555872236483853, null, 0.20318174340441153, -0.4254130171537033, null, 0.20318174340441153, 0.09840898460097863, null, 0.20318174340441153, 0.4753716329740933, null, -0.2983269704334583, -0.40850623120386625, null, -0.2983269704334583, 0.011238694149120924, null, -0.2983269704334583, 0.022399163707006335, null, -0.2983269704334583, -0.2555872236483853, null, -0.2983269704334583, -0.4254130171537033, null, -0.2983269704334583, -0.5727528167553011, null, -0.40850623120386625, 0.011238694149120924, null, -0.40850623120386625, -0.3001379315027865, null, -0.40850623120386625, -0.2555872236483853, null, -0.40850623120386625, -0.4254130171537033, null, -0.40850623120386625, -0.12780002292490084, null, -0.40850623120386625, -0.5727528167553011, null, -0.0789620386201738, -0.4843664059407718, null, -0.0789620386201738, -0.3001379315027865, null, -0.0789620386201738, 0.022399163707006335, null, -0.0789620386201738, -0.2555872236483853, null, -0.0789620386201738, 0.4753716329740933, null, -0.0789620386201738, 0.3165249405637759, null, 0.011238694149120924, 0.44313343998535737, null, 0.011238694149120924, -0.3001379315027865, null, 0.011238694149120924, 0.022399163707006335, null, 0.011238694149120924, 0.09840898460097863, null, 0.011238694149120924, 0.4753716329740933, null, -0.3001379315027865, -0.2555872236483853, null, -0.3001379315027865, 0.09840898460097863, null, -0.3001379315027865, -0.6422564229979142, null, -0.3001379315027865, -0.12780002292490084, null, -0.3001379315027865, -0.5727528167553011, null, -0.3001379315027865, 0.3165249405637759, null, 0.022399163707006335, 0.44313343998535737, null, 0.022399163707006335, -0.2555872236483853, null, 0.022399163707006335, 0.09840898460097863, null, 0.022399163707006335, -0.6422564229979142, null, 0.022399163707006335, -0.5727528167553011, null, 0.022399163707006335, 0.4753716329740933, null, -0.2555872236483853, -0.4254130171537033, null, -0.2555872236483853, 0.09840898460097863, null, -0.2555872236483853, -0.5727528167553011, null, -0.2555872236483853, 0.3165249405637759, null, -0.4254130171537033, -0.4843664059407718, null, -0.4254130171537033, -0.5727528167553011, null, -0.12780002292490084, 0.09840898460097863, null, -0.12780002292490084, 0.3165249405637759, null, 0.44313343998535737, 0.6871240353525468, null, 0.44313343998535737, 0.3165249405637759, null], \"y\": [-0.212361942060958, 0.4308738429822203, null, -0.212361942060958, -0.13323376032627385, null, -0.212361942060958, -0.44926833133939087, null, -0.212361942060958, -0.4927642055543715, null, -0.212361942060958, -0.17944998758877687, null, 0.4308738429822203, 0.37815296010153143, null, 0.4308738429822203, 0.48625090736418175, null, 0.4308738429822203, 0.1421291836106538, null, 0.4308738429822203, 0.2443092972996581, null, 0.4308738429822203, -0.13323376032627385, null, 0.4308738429822203, 0.016089694872387032, null, 0.4308738429822203, -0.2624373323070885, null, -0.13323376032627385, 0.37815296010153143, null, -0.13323376032627385, -0.5055043752347752, null, -0.13323376032627385, 0.2852988391764869, null, -0.13323376032627385, -0.24772957939394175, null, -0.13323376032627385, -0.4182988715652653, null, -0.13323376032627385, -0.23255135909503916, null, -0.13323376032627385, 0.13646518122324372, null, -0.13323376032627385, 0.10975070124573755, null, -0.13323376032627385, -0.4927642055543715, null, -0.4927642055543715, -0.24772957939394175, null, -0.4927642055543715, 0.04139365894761362, null, -0.4927642055543715, -0.4182988715652653, null, -0.4927642055543715, -0.2624373323070885, null, -0.4927642055543715, -0.09858914114011094, null, -0.4927642055543715, -0.17944998758877687, null, -0.17944998758877687, 0.37815296010153143, null, -0.17944998758877687, 0.15661641483575978, null, -0.17944998758877687, -0.8242381349394519, null, -0.17944998758877687, 0.1421291836106538, null, -0.17944998758877687, -0.24772957939394175, null, -0.17944998758877687, -0.01666408471891066, null, -0.17944998758877687, 0.016089694872387032, null, -0.17944998758877687, -0.4182988715652653, null, -0.17944998758877687, 0.13646518122324372, null, -0.17944998758877687, 0.10975070124573755, null, 0.37815296010153143, 0.222533964722206, null, 0.37815296010153143, 0.5086039747989297, null, 0.37815296010153143, 0.2852988391764869, null, 0.37815296010153143, 0.1421291836106538, null, 0.37815296010153143, 0.2443092972996581, null, 0.37815296010153143, -0.01666408471891066, null, 0.37815296010153143, 0.13646518122324372, null, 0.15661641483575978, 0.222533964722206, null, 0.15661641483575978, 0.5086039747989297, null, 0.15661641483575978, 0.2852988391764869, null, 0.15661641483575978, 0.1421291836106538, null, 0.15661641483575978, 0.2443092972996581, null, 0.15661641483575978, -0.24772957939394175, null, 0.15661641483575978, 0.04139365894761362, null, 0.15661641483575978, -0.23255135909503916, null, 0.15661641483575978, -0.2624373323070885, null, 0.15661641483575978, 0.13646518122324372, null, 0.222533964722206, 0.5086039747989297, null, 0.222533964722206, 0.48625090736418175, null, 0.222533964722206, 0.1421291836106538, null, 0.222533964722206, 0.04139365894761362, null, 0.222533964722206, -0.01666408471891066, null, 0.222533964722206, 0.016089694872387032, null, 0.222533964722206, -0.4182988715652653, null, 0.222533964722206, 0.10975070124573755, null, 0.5086039747989297, 0.2852988391764869, null, 0.5086039747989297, 0.2443092972996581, null, 0.5086039747989297, 0.04139365894761362, null, 0.5086039747989297, -0.01666408471891066, null, 0.5086039747989297, 0.016089694872387032, null, 0.5086039747989297, 0.13646518122324372, null, 0.2852988391764869, 0.2443092972996581, null, 0.2852988391764869, -0.24772957939394175, null, 0.2852988391764869, -0.01666408471891066, null, 0.2852988391764869, 0.016089694872387032, null, 0.2852988391764869, -0.2624373323070885, null, 0.2852988391764869, 0.13646518122324372, null, 0.1421291836106538, -0.5055043752347752, null, 0.1421291836106538, -0.24772957939394175, null, 0.1421291836106538, 0.04139365894761362, null, 0.1421291836106538, -0.01666408471891066, null, 0.1421291836106538, 0.10975070124573755, null, 0.1421291836106538, -0.09858914114011094, null, 0.2443092972996581, 0.48625090736418175, null, 0.2443092972996581, -0.24772957939394175, null, 0.2443092972996581, 0.04139365894761362, null, 0.2443092972996581, -0.4182988715652653, null, 0.2443092972996581, 0.10975070124573755, null, -0.24772957939394175, -0.01666408471891066, null, -0.24772957939394175, -0.4182988715652653, null, -0.24772957939394175, -0.23255135909503916, null, -0.24772957939394175, -0.2624373323070885, null, -0.24772957939394175, 0.13646518122324372, null, -0.24772957939394175, -0.09858914114011094, null, 0.04139365894761362, 0.48625090736418175, null, 0.04139365894761362, -0.01666408471891066, null, 0.04139365894761362, -0.4182988715652653, null, 0.04139365894761362, -0.23255135909503916, null, 0.04139365894761362, 0.13646518122324372, null, 0.04139365894761362, 0.10975070124573755, null, -0.01666408471891066, 0.016089694872387032, null, -0.01666408471891066, -0.4182988715652653, null, -0.01666408471891066, 0.13646518122324372, null, -0.01666408471891066, -0.09858914114011094, null, 0.016089694872387032, -0.5055043752347752, null, 0.016089694872387032, 0.13646518122324372, null, -0.2624373323070885, -0.4182988715652653, null, -0.2624373323070885, -0.09858914114011094, null, 0.48625090736418175, 0.9146224840837451, null, 0.48625090736418175, -0.09858914114011094, null]}, {\"hoverinfo\": \"text\", \"hovertext\": [\"5\", \"12\", \"20\", \"1\", \"8\", \"18\", \"14\", \"15\", \"15\", \"11\", \"14\", \"14\", \"17\", \"16\", \"20\", \"14\", \"15\", \"11\", \"4\", \"9\", \"1\", \"3\", \"6\", \"10\", \"7\", \"13\", \"1\"], \"marker\": {\"color\": [103, 165, 281, 20, 125, 235, 154, 161, 136, 103, 129, 110, 137, 153, 149, 77, 25, 5, 21, 60, 22, 8, 29, 38, 24, 13, 7], \"colorbar\": {\"thickness\": 30, \"title\": {\"side\": \"right\", \"text\": \"degree\"}, \"xanchor\": \"left\"}, \"colorscale\": [[0.0, \"rgb(255,255,255)\"], [0.125, \"rgb(240,240,240)\"], [0.25, \"rgb(217,217,217)\"], [0.375, \"rgb(189,189,189)\"], [0.5, \"rgb(150,150,150)\"], [0.625, \"rgb(115,115,115)\"], [0.75, \"rgb(82,82,82)\"], [0.875, \"rgb(37,37,37)\"], [1.0, \"rgb(0,0,0)\"]], \"line\": {\"width\": 1.5}, \"showscale\": false, \"size\": 15}, \"mode\": \"markers+text\", \"text\": [\"Polycarp\", \"Pauline literature\", \"Clement of Alexandria\", \"Ignatius Antiochenus\", \"Maximus of Tyre\", \"Flavius Josephus\", \"Paul of Tarsus\", \"Clemens Romanus\", \"Hermas\", \"GNT rest\", \"Justinus Martyr\", \"Athenagoras\", \"Origenes\", \"Theophilus Antiochenus\", \"Eusebius\", \"Johnannine literature\", \"Epiphanius\", \"Basil\", \"Luke (the evangelist)\", \"Gregorius Nazianzenus\", \"Pseudo-Justinus Martyr\", \"Barnabas\", \"Didache\", \"Athanasius of Alexandria\", \"Hippolytus\", \"Philo Judaeus\", \"Matthew\"], \"textfont\": {\"size\": 16}, \"textposition\": \"bottom center\", \"type\": \"scatter\", \"x\": [0.5439056265770327, 0.08905122289249046, -0.06506297279114519, 1.0, 0.2747303642452712, 0.0667803233821039, -0.20252457763551157, -0.3293751174119399, 0.20318174340441153, -0.2983269704334583, -0.40850623120386625, -0.0789620386201738, 0.011238694149120924, -0.3001379315027865, 0.022399163707006335, -0.2555872236483853, -0.4254130171537033, -0.5727528167553011, -0.6422564229979142, -0.12780002292490084, -0.04077842281433075, -0.4843664059407718, 0.44313343998535737, 0.09840898460097863, 0.4753716329740933, 0.3165249405637759, 0.6871240353525468], \"y\": [-0.212361942060958, 0.4308738429822203, -0.13323376032627385, -0.44926833133939087, -0.4927642055543715, -0.17944998758877687, 0.37815296010153143, 0.15661641483575978, 0.222533964722206, 0.5086039747989297, 0.2852988391764869, 0.1421291836106538, 0.2443092972996581, -0.24772957939394175, 0.04139365894761362, -0.01666408471891066, 0.016089694872387032, 0.13646518122324372, -0.23255135909503916, -0.2624373323070885, -0.8242381349394519, -0.5055043752347752, 0.48625090736418175, -0.4182988715652653, 0.10975070124573755, -0.09858914114011094, 0.9146224840837451]}, {\"hoverinfo\": \"text\", \"marker\": {\"opacity\": 0}, \"mode\": \"markers\", \"opacity\": 0, \"text\": [\"1\", \"1\", \"1\", \"1\", \"1\", \"1\", \"2\", \"2\", \"2\", \"1\", \"2\", \"1\", \"1\", \"1\", \"1\", \"1\", \"1\", \"2\", \"1\", \"2\", \"1\", \"3\", \"3\", \"1\", \"3\", \"2\", \"2\", \"1\", \"1\", \"1\", \"1\", \"1\", \"2\", \"4\", \"1\", \"1\", \"1\", \"1\", \"1\", \"1\", \"1\", \"1\", \"1\", \"2\", \"2\", \"1\", \"2\", \"1\", \"3\", \"1\", \"1\", \"1\", \"1\", \"1\", \"3\", \"2\", \"1\", \"1\", \"1\", \"1\", \"1\", \"3\", \"2\", \"1\", \"4\", \"1\", \"1\", \"1\", \"1\", \"1\", \"1\", \"1\", \"1\", \"2\", \"1\", \"1\", \"1\", \"1\", \"1\", \"1\", \"2\", \"1\", \"1\", \"1\", \"1\", \"1\", \"2\", \"1\", \"1\", \"1\", \"1\", \"1\", \"2\", \"1\", \"2\", \"1\", \"1\", \"2\", \"1\", \"1\", \"1\", \"1\", \"1\", \"1\", \"1\", \"1\", \"2\", \"1\", \"1\", \"1\", \"1\", \"1\", \"3\", \"2\", \"1\", \"3\", \"1\", \"2\", \"3\", \"1\", \"3\", \"1\", \"1\", \"1\", \"1\", \"1\", \"1\", \"1\", \"2\", \"1\", \"1\", \"2\", \"1\", \"1\", \"2\", \"1\", \"1\", \"1\", \"1\", \"1\", \"1\", \"1\", \"1\", \"1\", \"1\", \"3\", \"4\"], \"type\": \"scatter\", \"x\": [0.31647842473476157, 0.23942132689294374, 0.7719528132885163, 0.40931799541115194, 0.3053429749795683, -0.05673667737151056, -0.12016194725972473, 0.146116483148451, -0.10463787377048392, 0.2660923314389239, -0.1597275041556879, 0.005044592136158328, 0.050144958520805694, 0.011994125050672634, -0.1681808971306064, -0.01937440001620519, -0.1337937752133284, -0.19721904510154256, -0.2747146893659585, 0.06905938530663316, -0.23678460199750573, -0.0720125057056595, -0.02691213932101213, -0.18260045214696585, -0.021331904542069426, -0.16032509821976526, -0.24523799497242424, 0.016673005904916723, -0.35365969789452967, -0.3189078947732231, 0.20515433009147405, 0.104833695727063, 0.12573098388631535, 0.0008586752954793594, -0.012703783628757653, 0.14856476397613877, 0.18656967442312491, 0.07346517066018518, 0.29562765240452354, 0.17075534381368757, -0.06787212712670383, -0.131297397014918, 0.013000950283886578, 0.13498103339325773, -0.1708629539108812, -0.0060908576190349464, 0.03900950876561242, -0.1166788040603413, 0.044589743544555124, -0.0944034501331407, -0.17931634688579967, 0.08259465399154127, -0.2529862466865986, 0.2710759781780986, 0.1916526319729399, -0.26594984752372575, 0.0003285828844499794, -0.25042577403448496, -0.30551540441968894, -0.1407433081278427, -0.09564294174319532, -0.25133125456914907, -0.09006270696425261, -0.22905590064194845, -0.3139687973946074, -0.38763869719540633, -0.0630966870037642, -0.31385104392269914, -0.3689406743079031, -0.20416857801605687, -0.1590682116314095, -0.31475652445736324, -0.1534879768524668, -0.3773940672828216, -0.48581577020492706, -0.22858757016842038, -0.4510639670836205, -0.04757261351452338, 0.32315759169488445, 0.062109852392118865, 0.10721021877676623, 0.11279045355570894, -0.026202740121986895, -0.11111563687464587, 0.15079536400269508, 0.3392766881892524, 0.2598533419840937, -0.3534166008186623, -0.14354413814216868, -0.13796390336322598, -0.2769570970409218, -0.36186999379358076, -0.21306349667917956, -0.4355398935943797, -0.24373413491202003, -0.19863376852737266, -0.3543220813533264, -0.19305353374842996, -0.3320467274261258, -0.41695962417878474, -0.26815312706438355, -0.4906295239795837, -0.2816642222804728, -0.18954998506148016, -0.028281437456583732, -0.16727463113427957, -0.25218752788693855, 0.19820479717695974, 0.11878145097180104, 0.22718606706723915, -0.14444961867683279, 0.01681892892806363, -0.1221742647496322, -0.20708716150229117, 0.05482383937504978, -0.2807570613030901, 0.2433051635616071, 0.1638818173564484, -0.13886938389789008, -0.2778625775755859, -0.36277547432824486, -0.10086447345090394, -0.4711971772503504, -0.21396897721384367, -0.43644537412904383, 0.008193504530494694, 0.23276630184618186, -0.11659402997068949, -0.20150692672334847, 0.06040407415399249, -0.3099286296454539, -0.05270042960894725, -0.2751768265241474, 0.24888539834054982, 0.16946205213539112, -0.34050012040104427, -0.07858911952370334, -0.41417002020184324, 0.030468858457695286, -0.45488971154723756, -0.4990829169545022, -0.014695519161961101, 0.09436245881943753, 0.5651287376689521, 0.37982919027456663, 0.20746696258237726, 0.39594828676893457], \"y\": [0.10925595046063116, -0.1727978511936159, -0.33081513670017443, -0.3525630738076647, -0.19590596482486744, 0.40451340154187587, 0.29374512890899007, 0.32670390385221315, 0.469738908890575, 0.45856237517320103, 0.3580863410793536, 0.286501513296437, 0.3375915701409392, 0.14882004132797322, 0.22348176892730368, 0.08421825533756591, 0.12245959988762879, 0.011691327254742964, -0.31936906778052454, 0.04465010219796607, 0.07603253942510653, 0.004447711642189975, 0.05553776848669213, -0.19048166986010778, -0.04592005068933011, -0.07494892252259225, -0.058572032726943404, -0.27576631594576956, -0.1828925597106565, 0.001615710448484936, -0.01174152954026815, -0.3129989829403227, -0.1159114507331924, -0.15634187395752536, -0.37024689247415665, -0.22568527330337895, -0.4555315385598184, -0.37760076893073, -0.29567667334724124, -0.33610709657157417, 0.09935148625637728, -0.011416786376508545, -0.5018440612641144, 0.021541988566714562, 0.05292442579385502, -0.018660401989061534, 0.03242965485544062, -0.21358978349135932, -0.06902816432058162, -0.09805703615384376, -0.08168014635819491, -0.2988744295770211, -0.021492403182766573, -0.03484964317151966, -0.1390195643644439, 0.26738468746864563, 0.3003434624118687, 0.4433784674502306, 0.33172589963900917, 0.2601410718560926, 0.3112311287005948, 0.06521169035379484, 0.20977330952457252, 0.18074443769131038, 0.19712132748695924, 0.25730907066238756, 0.18957518977898288, 0.3326101948173448, 0.22095762700612334, 0.1493727992232068, 0.20046285606770894, -0.045556582279090985, 0.0990050368916867, 0.08635305485407341, -0.03796747212963969, -0.052910458735664356, 0.14654079802950176, 0.36556896976056785, 0.35439243604319387, 0.1823315741664299, 0.23342163101093205, 0.1319638118349098, 0.10293494000164767, 0.11931182979729651, -0.09788245342152965, 0.16614233298397177, 0.061972411791047524, 0.3969514069877083, 0.3764566360492939, 0.27499881687327166, 0.24596994504000952, 0.26234683483565835, 0.12308332124592061, 0.3225345780110867, 0.21371401139357035, 0.2648040682380725, 0.01878462989127258, 0.16334624906205025, 0.13431737722878812, 0.15069426702443697, 0.011430753434699209, 0.2108820101998653, -0.1816875958120607, -0.052800197891643974, 0.09176142127913371, 0.06273254944587157, 0.07910943924152042, 0.12593994242819567, 0.021770021235271428, 0.36528010233191993, -0.0017101410471418166, 0.14285147812363586, 0.11382260629037373, 0.13019949608602258, -0.08699478713280359, 0.1903872392614509, 0.17702999927269783, 0.07286007807977359, -0.10316796022316406, -0.1321968320564262, -0.11581994226077735, -0.3330142254796035, -0.24014046924449045, -0.2550834558505151, -0.05563219908534901, -0.17315936026702633, 0.2638222831558977, 0.01236478711435148, 0.028741676910000326, -0.18845260630882585, -0.09557885007371276, -0.11052183667973743, 0.08892942008542867, 0.07557218009667559, -0.02859774109624866, -0.0002871949232618135, -0.21748147814208799, 0.05990054825216653, -0.0576266129295108, -0.24470734018119408, 0.07627743804781538, -0.3403681019361769, -0.1805132367235997, 0.7004366957239634, 0.1938308831120354, -0.2584440063526881, 0.005580780052813303]}],                        {\"autosize\": false, \"height\": 1200, \"hovermode\": \"closest\", \"margin\": {\"b\": 10, \"l\": 10, \"r\": 10, \"t\": 10}, \"plot_bgcolor\": \"rgba(0,0,0,0)\", \"showlegend\": false, \"template\": {\"data\": {\"bar\": [{\"error_x\": {\"color\": \"#2a3f5f\"}, \"error_y\": {\"color\": \"#2a3f5f\"}, \"marker\": {\"line\": {\"color\": \"#E5ECF6\", \"width\": 0.5}}, \"type\": \"bar\"}], \"barpolar\": [{\"marker\": {\"line\": {\"color\": \"#E5ECF6\", \"width\": 0.5}}, \"type\": \"barpolar\"}], \"carpet\": [{\"aaxis\": {\"endlinecolor\": \"#2a3f5f\", \"gridcolor\": \"white\", \"linecolor\": \"white\", \"minorgridcolor\": \"white\", \"startlinecolor\": \"#2a3f5f\"}, \"baxis\": {\"endlinecolor\": \"#2a3f5f\", \"gridcolor\": \"white\", \"linecolor\": \"white\", \"minorgridcolor\": \"white\", \"startlinecolor\": \"#2a3f5f\"}, \"type\": \"carpet\"}], \"choropleth\": [{\"colorbar\": {\"outlinewidth\": 0, \"ticks\": \"\"}, \"type\": \"choropleth\"}], \"contour\": [{\"colorbar\": {\"outlinewidth\": 0, \"ticks\": \"\"}, \"colorscale\": [[0.0, \"#0d0887\"], [0.1111111111111111, \"#46039f\"], [0.2222222222222222, \"#7201a8\"], [0.3333333333333333, \"#9c179e\"], [0.4444444444444444, \"#bd3786\"], [0.5555555555555556, \"#d8576b\"], [0.6666666666666666, \"#ed7953\"], [0.7777777777777778, \"#fb9f3a\"], [0.8888888888888888, \"#fdca26\"], [1.0, \"#f0f921\"]], \"type\": \"contour\"}], \"contourcarpet\": [{\"colorbar\": {\"outlinewidth\": 0, \"ticks\": \"\"}, \"type\": \"contourcarpet\"}], \"heatmap\": [{\"colorbar\": {\"outlinewidth\": 0, \"ticks\": \"\"}, \"colorscale\": [[0.0, \"#0d0887\"], [0.1111111111111111, \"#46039f\"], [0.2222222222222222, \"#7201a8\"], [0.3333333333333333, \"#9c179e\"], [0.4444444444444444, \"#bd3786\"], [0.5555555555555556, \"#d8576b\"], [0.6666666666666666, \"#ed7953\"], [0.7777777777777778, \"#fb9f3a\"], [0.8888888888888888, \"#fdca26\"], [1.0, \"#f0f921\"]], \"type\": \"heatmap\"}], \"heatmapgl\": [{\"colorbar\": {\"outlinewidth\": 0, \"ticks\": \"\"}, \"colorscale\": [[0.0, \"#0d0887\"], [0.1111111111111111, \"#46039f\"], [0.2222222222222222, \"#7201a8\"], [0.3333333333333333, \"#9c179e\"], [0.4444444444444444, \"#bd3786\"], [0.5555555555555556, \"#d8576b\"], [0.6666666666666666, \"#ed7953\"], [0.7777777777777778, \"#fb9f3a\"], [0.8888888888888888, \"#fdca26\"], [1.0, \"#f0f921\"]], \"type\": \"heatmapgl\"}], \"histogram\": [{\"marker\": {\"colorbar\": {\"outlinewidth\": 0, \"ticks\": \"\"}}, \"type\": \"histogram\"}], \"histogram2d\": [{\"colorbar\": {\"outlinewidth\": 0, \"ticks\": \"\"}, \"colorscale\": [[0.0, \"#0d0887\"], [0.1111111111111111, \"#46039f\"], [0.2222222222222222, \"#7201a8\"], [0.3333333333333333, \"#9c179e\"], [0.4444444444444444, \"#bd3786\"], [0.5555555555555556, \"#d8576b\"], [0.6666666666666666, \"#ed7953\"], [0.7777777777777778, \"#fb9f3a\"], [0.8888888888888888, \"#fdca26\"], [1.0, \"#f0f921\"]], \"type\": \"histogram2d\"}], \"histogram2dcontour\": [{\"colorbar\": {\"outlinewidth\": 0, \"ticks\": \"\"}, \"colorscale\": [[0.0, \"#0d0887\"], [0.1111111111111111, \"#46039f\"], [0.2222222222222222, \"#7201a8\"], [0.3333333333333333, \"#9c179e\"], [0.4444444444444444, \"#bd3786\"], [0.5555555555555556, \"#d8576b\"], [0.6666666666666666, \"#ed7953\"], [0.7777777777777778, \"#fb9f3a\"], [0.8888888888888888, \"#fdca26\"], [1.0, \"#f0f921\"]], \"type\": \"histogram2dcontour\"}], \"mesh3d\": [{\"colorbar\": {\"outlinewidth\": 0, \"ticks\": \"\"}, \"type\": \"mesh3d\"}], \"parcoords\": [{\"line\": {\"colorbar\": {\"outlinewidth\": 0, \"ticks\": \"\"}}, \"type\": \"parcoords\"}], \"pie\": [{\"automargin\": true, \"type\": \"pie\"}], \"scatter\": [{\"marker\": {\"colorbar\": {\"outlinewidth\": 0, \"ticks\": \"\"}}, \"type\": \"scatter\"}], \"scatter3d\": [{\"line\": {\"colorbar\": {\"outlinewidth\": 0, \"ticks\": \"\"}}, \"marker\": {\"colorbar\": {\"outlinewidth\": 0, \"ticks\": \"\"}}, \"type\": \"scatter3d\"}], \"scattercarpet\": [{\"marker\": {\"colorbar\": {\"outlinewidth\": 0, \"ticks\": \"\"}}, \"type\": \"scattercarpet\"}], \"scattergeo\": [{\"marker\": {\"colorbar\": {\"outlinewidth\": 0, \"ticks\": \"\"}}, \"type\": \"scattergeo\"}], \"scattergl\": [{\"marker\": {\"colorbar\": {\"outlinewidth\": 0, \"ticks\": \"\"}}, \"type\": \"scattergl\"}], \"scattermapbox\": [{\"marker\": {\"colorbar\": {\"outlinewidth\": 0, \"ticks\": \"\"}}, \"type\": \"scattermapbox\"}], \"scatterpolar\": [{\"marker\": {\"colorbar\": {\"outlinewidth\": 0, \"ticks\": \"\"}}, \"type\": \"scatterpolar\"}], \"scatterpolargl\": [{\"marker\": {\"colorbar\": {\"outlinewidth\": 0, \"ticks\": \"\"}}, \"type\": \"scatterpolargl\"}], \"scatterternary\": [{\"marker\": {\"colorbar\": {\"outlinewidth\": 0, \"ticks\": \"\"}}, \"type\": \"scatterternary\"}], \"surface\": [{\"colorbar\": {\"outlinewidth\": 0, \"ticks\": \"\"}, \"colorscale\": [[0.0, \"#0d0887\"], [0.1111111111111111, \"#46039f\"], [0.2222222222222222, \"#7201a8\"], [0.3333333333333333, \"#9c179e\"], [0.4444444444444444, \"#bd3786\"], [0.5555555555555556, \"#d8576b\"], [0.6666666666666666, \"#ed7953\"], [0.7777777777777778, \"#fb9f3a\"], [0.8888888888888888, \"#fdca26\"], [1.0, \"#f0f921\"]], \"type\": \"surface\"}], \"table\": [{\"cells\": {\"fill\": {\"color\": \"#EBF0F8\"}, \"line\": {\"color\": \"white\"}}, \"header\": {\"fill\": {\"color\": \"#C8D4E3\"}, \"line\": {\"color\": \"white\"}}, \"type\": \"table\"}]}, \"layout\": {\"annotationdefaults\": {\"arrowcolor\": \"#2a3f5f\", \"arrowhead\": 0, \"arrowwidth\": 1}, \"autotypenumbers\": \"strict\", \"coloraxis\": {\"colorbar\": {\"outlinewidth\": 0, \"ticks\": \"\"}}, \"colorscale\": {\"diverging\": [[0, \"#8e0152\"], [0.1, \"#c51b7d\"], [0.2, \"#de77ae\"], [0.3, \"#f1b6da\"], [0.4, \"#fde0ef\"], [0.5, \"#f7f7f7\"], [0.6, \"#e6f5d0\"], [0.7, \"#b8e186\"], [0.8, \"#7fbc41\"], [0.9, \"#4d9221\"], [1, \"#276419\"]], \"sequential\": [[0.0, \"#0d0887\"], [0.1111111111111111, \"#46039f\"], [0.2222222222222222, \"#7201a8\"], [0.3333333333333333, \"#9c179e\"], [0.4444444444444444, \"#bd3786\"], [0.5555555555555556, \"#d8576b\"], [0.6666666666666666, \"#ed7953\"], [0.7777777777777778, \"#fb9f3a\"], [0.8888888888888888, \"#fdca26\"], [1.0, \"#f0f921\"]], \"sequentialminus\": [[0.0, \"#0d0887\"], [0.1111111111111111, \"#46039f\"], [0.2222222222222222, \"#7201a8\"], [0.3333333333333333, \"#9c179e\"], [0.4444444444444444, \"#bd3786\"], [0.5555555555555556, \"#d8576b\"], [0.6666666666666666, \"#ed7953\"], [0.7777777777777778, \"#fb9f3a\"], [0.8888888888888888, \"#fdca26\"], [1.0, \"#f0f921\"]]}, \"colorway\": [\"#636efa\", \"#EF553B\", \"#00cc96\", \"#ab63fa\", \"#FFA15A\", \"#19d3f3\", \"#FF6692\", \"#B6E880\", \"#FF97FF\", \"#FECB52\"], \"font\": {\"color\": \"#2a3f5f\"}, \"geo\": {\"bgcolor\": \"white\", \"lakecolor\": \"white\", \"landcolor\": \"#E5ECF6\", \"showlakes\": true, \"showland\": true, \"subunitcolor\": \"white\"}, \"hoverlabel\": {\"align\": \"left\"}, \"hovermode\": \"closest\", \"mapbox\": {\"style\": \"light\"}, \"paper_bgcolor\": \"white\", \"plot_bgcolor\": \"#E5ECF6\", \"polar\": {\"angularaxis\": {\"gridcolor\": \"white\", \"linecolor\": \"white\", \"ticks\": \"\"}, \"bgcolor\": \"#E5ECF6\", \"radialaxis\": {\"gridcolor\": \"white\", \"linecolor\": \"white\", \"ticks\": \"\"}}, \"scene\": {\"xaxis\": {\"backgroundcolor\": \"#E5ECF6\", \"gridcolor\": \"white\", \"gridwidth\": 2, \"linecolor\": \"white\", \"showbackground\": true, \"ticks\": \"\", \"zerolinecolor\": \"white\"}, \"yaxis\": {\"backgroundcolor\": \"#E5ECF6\", \"gridcolor\": \"white\", \"gridwidth\": 2, \"linecolor\": \"white\", \"showbackground\": true, \"ticks\": \"\", \"zerolinecolor\": \"white\"}, \"zaxis\": {\"backgroundcolor\": \"#E5ECF6\", \"gridcolor\": \"white\", \"gridwidth\": 2, \"linecolor\": \"white\", \"showbackground\": true, \"ticks\": \"\", \"zerolinecolor\": \"white\"}}, \"shapedefaults\": {\"line\": {\"color\": \"#2a3f5f\"}}, \"ternary\": {\"aaxis\": {\"gridcolor\": \"white\", \"linecolor\": \"white\", \"ticks\": \"\"}, \"baxis\": {\"gridcolor\": \"white\", \"linecolor\": \"white\", \"ticks\": \"\"}, \"bgcolor\": \"#E5ECF6\", \"caxis\": {\"gridcolor\": \"white\", \"linecolor\": \"white\", \"ticks\": \"\"}}, \"title\": {\"x\": 0.05}, \"xaxis\": {\"automargin\": true, \"gridcolor\": \"white\", \"linecolor\": \"white\", \"ticks\": \"\", \"title\": {\"standoff\": 15}, \"zerolinecolor\": \"white\", \"zerolinewidth\": 2}, \"yaxis\": {\"automargin\": true, \"gridcolor\": \"white\", \"linecolor\": \"white\", \"ticks\": \"\", \"title\": {\"standoff\": 15}, \"zerolinecolor\": \"white\", \"zerolinewidth\": 2}}}, \"title\": {\"font\": {\"size\": 16}}, \"width\": 1800, \"xaxis\": {\"range\": [-1.15, 1.05], \"showgrid\": false, \"showticklabels\": false, \"zeroline\": false}, \"yaxis\": {\"range\": [-1.15, 1.05], \"showgrid\": false, \"showticklabels\": false, \"zeroline\": false}},                        {\"responsive\": true}                    ).then(function(){\n",
       "                            \n",
       "var gd = document.getElementById('0e03a1f0-8a47-44f4-aca1-8475644fcac5');\n",
       "var x = new MutationObserver(function (mutations, observer) {{\n",
       "        var display = window.getComputedStyle(gd).display;\n",
       "        if (!display || display === 'none') {{\n",
       "            console.log([gd, 'removed!']);\n",
       "            Plotly.purge(gd);\n",
       "            observer.disconnect();\n",
       "        }}\n",
       "}});\n",
       "\n",
       "// Listen for the removal of the full notebook cells\n",
       "var notebookContainer = gd.closest('#notebook-container');\n",
       "if (notebookContainer) {{\n",
       "    x.observe(notebookContainer, {childList: true});\n",
       "}}\n",
       "\n",
       "// Listen for the clearing of the current output cell\n",
       "var outputEl = gd.closest('.output');\n",
       "if (outputEl) {{\n",
       "    x.observe(outputEl, {childList: true});\n",
       "}}\n",
       "\n",
       "                        })                };                });            </script>        </div>"
      ]
     },
     "metadata": {},
     "output_type": "display_data"
    }
   ],
   "source": [
    "fig.show()"
   ]
  },
  {
   "cell_type": "code",
   "execution_count": 163,
   "metadata": {},
   "outputs": [
    {
     "name": "stdout",
     "output_type": "stream",
     "text": [
      "A file with the same name (\"authors_network_10tfidf.png\") already exists in this location.\n",
      "Press Enter to overwrite it or choose different path and filename: \n",
      "Your <class 'plotly.graph_objs._figure.Figure'> object has been succefully written as \"https://sciencedata.dk/files/SDAM_root/SDAM_data/ECCE_public/authors_network_10tfidf.png\"\n"
     ]
    }
   ],
   "source": [
    "# s.write_file(\"authors_network_10tfidf.png\", fig)"
   ]
  },
  {
   "cell_type": "code",
   "execution_count": 164,
   "metadata": {},
   "outputs": [],
   "source": [
    "G_paul = textnet.construct_ego_network(G, \"Paul of Tarsus\", 10, reduced=True)"
   ]
  },
  {
   "cell_type": "code",
   "execution_count": 165,
   "metadata": {},
   "outputs": [
    {
     "data": {
      "application/vnd.plotly.v1+json": {
       "config": {
        "plotlyServerURL": "https://plot.ly"
       },
       "data": [
        {
         "line": {
          "color": "#000000",
          "width": 4
         },
         "mode": "lines",
         "type": "scatter",
         "x": [
          0.08073427271841466,
          -0.2943941304508206,
          null
         ],
         "y": [
          0.10523148645227375,
          -0.38371791326816773,
          null
         ]
        },
        {
         "line": {
          "color": "#404040",
          "width": 2
         },
         "mode": "lines",
         "type": "scatter",
         "x": [
          0.767192809872839,
          0.440054053848171,
          null,
          0.08073427271841466,
          0.46125964629155325,
          null
         ],
         "y": [
          1,
          0.5735916045422383,
          null,
          0.10523148645227375,
          -0.3143235098558966,
          null
         ]
        },
        {
         "line": {
          "color": "#C0C0C0",
          "width": 1
         },
         "mode": "lines",
         "type": "scatter",
         "x": [
          0.648943651304805,
          0.08073427271841466,
          null,
          -0.05641866054563113,
          -0.2943941304508206,
          null,
          0.08073427271841466,
          -0.12047224993214377,
          null,
          0.08073427271841466,
          -0.4230522327199721,
          null,
          0.08073427271841466,
          0.440054053848171,
          null,
          -0.8752650344215132,
          -0.2943941304508206,
          null,
          -0.6285821259657025,
          -0.2943941304508206,
          null
         ],
         "y": [
          0.04927701269005958,
          0.10523148645227375,
          null,
          -0.9212933301500659,
          -0.38371791326816773,
          null,
          0.10523148645227375,
          0.6395658725319603,
          null,
          0.10523148645227375,
          0.3641177043109306,
          null,
          0.10523148645227375,
          0.5735916045422383,
          null,
          -0.2931107668446407,
          -0.38371791326816773,
          null,
          -0.8193381604086916,
          -0.38371791326816773,
          null
         ]
        },
        {
         "hoverinfo": "text",
         "hovertext": [
          "1",
          "1",
          "1",
          "6",
          "1",
          "1",
          "1",
          "1",
          "1",
          "2",
          "4"
         ],
         "marker": {
          "color": [
           33,
           32,
           25,
           80,
           15,
           6,
           22,
           19,
           22,
           8,
           10
          ],
          "colorbar": {
           "thickness": 30,
           "title": {
            "side": "right",
            "text": "degree"
           },
           "xanchor": "left"
          },
          "colorscale": [
           [
            0,
            "rgb(255,255,255)"
           ],
           [
            0.125,
            "rgb(240,240,240)"
           ],
           [
            0.25,
            "rgb(217,217,217)"
           ],
           [
            0.375,
            "rgb(189,189,189)"
           ],
           [
            0.5,
            "rgb(150,150,150)"
           ],
           [
            0.625,
            "rgb(115,115,115)"
           ],
           [
            0.75,
            "rgb(82,82,82)"
           ],
           [
            0.875,
            "rgb(37,37,37)"
           ],
           [
            1,
            "rgb(0,0,0)"
           ]
          ],
          "line": {
           "width": 1.5
          },
          "showscale": false,
          "size": 15
         },
         "mode": "markers+text",
         "text": [
          "Pauline literature",
          "Clement of Alexandria",
          "Flavius Josephus",
          "Paul of Tarsus",
          "Clemens Romanus",
          "Hermas",
          "Athenagoras",
          "Origenes",
          "Theophilus Antiochenus",
          "Eusebius",
          "Epiphanius"
         ],
         "textfont": {
          "size": 32
         },
         "textposition": "bottom center",
         "type": "scatter",
         "x": [
          0.648943651304805,
          -0.05641866054563113,
          0.767192809872839,
          0.08073427271841466,
          -0.12047224993214377,
          -0.4230522327199721,
          -0.8752650344215132,
          -0.6285821259657025,
          0.46125964629155325,
          0.440054053848171,
          -0.2943941304508206
         ],
         "y": [
          0.04927701269005958,
          -0.9212933301500659,
          1,
          0.10523148645227375,
          0.6395658725319603,
          0.3641177043109306,
          -0.2931107668446407,
          -0.8193381604086916,
          -0.3143235098558966,
          0.5735916045422383,
          -0.38371791326816773
         ]
        },
        {
         "hoverinfo": "text",
         "marker": {
          "opacity": 0
         },
         "mode": "markers",
         "opacity": 0,
         "text": [
          "1",
          "2",
          "3",
          "2",
          "1",
          "3",
          "2",
          "4",
          "2",
          "2"
         ],
         "type": "scatter",
         "x": [
          0.3648389620116098,
          -0.17540639549822584,
          0.6036234318605049,
          -0.019868988606864556,
          -0.17115898000077873,
          0.2709969595049839,
          0.2603941632832928,
          -0.10682992886620296,
          -0.5848295824361669,
          -0.46148812820826157
         ],
         "y": [
          0.07725424957116667,
          -0.6525056217091167,
          0.7867958022711192,
          0.372398679492117,
          0.23467459538160218,
          -0.10454601170181141,
          0.33941154549725605,
          -0.139243213407947,
          -0.33841434005640425,
          -0.6015280368384297
         ]
        }
       ],
       "layout": {
        "autosize": false,
        "height": 1200,
        "hovermode": "closest",
        "margin": {
         "b": 10,
         "l": 10,
         "r": 10,
         "t": 10
        },
        "plot_bgcolor": "rgba(0,0,0,0)",
        "showlegend": false,
        "template": {
         "data": {
          "bar": [
           {
            "error_x": {
             "color": "#2a3f5f"
            },
            "error_y": {
             "color": "#2a3f5f"
            },
            "marker": {
             "line": {
              "color": "#E5ECF6",
              "width": 0.5
             }
            },
            "type": "bar"
           }
          ],
          "barpolar": [
           {
            "marker": {
             "line": {
              "color": "#E5ECF6",
              "width": 0.5
             }
            },
            "type": "barpolar"
           }
          ],
          "carpet": [
           {
            "aaxis": {
             "endlinecolor": "#2a3f5f",
             "gridcolor": "white",
             "linecolor": "white",
             "minorgridcolor": "white",
             "startlinecolor": "#2a3f5f"
            },
            "baxis": {
             "endlinecolor": "#2a3f5f",
             "gridcolor": "white",
             "linecolor": "white",
             "minorgridcolor": "white",
             "startlinecolor": "#2a3f5f"
            },
            "type": "carpet"
           }
          ],
          "choropleth": [
           {
            "colorbar": {
             "outlinewidth": 0,
             "ticks": ""
            },
            "type": "choropleth"
           }
          ],
          "contour": [
           {
            "colorbar": {
             "outlinewidth": 0,
             "ticks": ""
            },
            "colorscale": [
             [
              0,
              "#0d0887"
             ],
             [
              0.1111111111111111,
              "#46039f"
             ],
             [
              0.2222222222222222,
              "#7201a8"
             ],
             [
              0.3333333333333333,
              "#9c179e"
             ],
             [
              0.4444444444444444,
              "#bd3786"
             ],
             [
              0.5555555555555556,
              "#d8576b"
             ],
             [
              0.6666666666666666,
              "#ed7953"
             ],
             [
              0.7777777777777778,
              "#fb9f3a"
             ],
             [
              0.8888888888888888,
              "#fdca26"
             ],
             [
              1,
              "#f0f921"
             ]
            ],
            "type": "contour"
           }
          ],
          "contourcarpet": [
           {
            "colorbar": {
             "outlinewidth": 0,
             "ticks": ""
            },
            "type": "contourcarpet"
           }
          ],
          "heatmap": [
           {
            "colorbar": {
             "outlinewidth": 0,
             "ticks": ""
            },
            "colorscale": [
             [
              0,
              "#0d0887"
             ],
             [
              0.1111111111111111,
              "#46039f"
             ],
             [
              0.2222222222222222,
              "#7201a8"
             ],
             [
              0.3333333333333333,
              "#9c179e"
             ],
             [
              0.4444444444444444,
              "#bd3786"
             ],
             [
              0.5555555555555556,
              "#d8576b"
             ],
             [
              0.6666666666666666,
              "#ed7953"
             ],
             [
              0.7777777777777778,
              "#fb9f3a"
             ],
             [
              0.8888888888888888,
              "#fdca26"
             ],
             [
              1,
              "#f0f921"
             ]
            ],
            "type": "heatmap"
           }
          ],
          "heatmapgl": [
           {
            "colorbar": {
             "outlinewidth": 0,
             "ticks": ""
            },
            "colorscale": [
             [
              0,
              "#0d0887"
             ],
             [
              0.1111111111111111,
              "#46039f"
             ],
             [
              0.2222222222222222,
              "#7201a8"
             ],
             [
              0.3333333333333333,
              "#9c179e"
             ],
             [
              0.4444444444444444,
              "#bd3786"
             ],
             [
              0.5555555555555556,
              "#d8576b"
             ],
             [
              0.6666666666666666,
              "#ed7953"
             ],
             [
              0.7777777777777778,
              "#fb9f3a"
             ],
             [
              0.8888888888888888,
              "#fdca26"
             ],
             [
              1,
              "#f0f921"
             ]
            ],
            "type": "heatmapgl"
           }
          ],
          "histogram": [
           {
            "marker": {
             "colorbar": {
              "outlinewidth": 0,
              "ticks": ""
             }
            },
            "type": "histogram"
           }
          ],
          "histogram2d": [
           {
            "colorbar": {
             "outlinewidth": 0,
             "ticks": ""
            },
            "colorscale": [
             [
              0,
              "#0d0887"
             ],
             [
              0.1111111111111111,
              "#46039f"
             ],
             [
              0.2222222222222222,
              "#7201a8"
             ],
             [
              0.3333333333333333,
              "#9c179e"
             ],
             [
              0.4444444444444444,
              "#bd3786"
             ],
             [
              0.5555555555555556,
              "#d8576b"
             ],
             [
              0.6666666666666666,
              "#ed7953"
             ],
             [
              0.7777777777777778,
              "#fb9f3a"
             ],
             [
              0.8888888888888888,
              "#fdca26"
             ],
             [
              1,
              "#f0f921"
             ]
            ],
            "type": "histogram2d"
           }
          ],
          "histogram2dcontour": [
           {
            "colorbar": {
             "outlinewidth": 0,
             "ticks": ""
            },
            "colorscale": [
             [
              0,
              "#0d0887"
             ],
             [
              0.1111111111111111,
              "#46039f"
             ],
             [
              0.2222222222222222,
              "#7201a8"
             ],
             [
              0.3333333333333333,
              "#9c179e"
             ],
             [
              0.4444444444444444,
              "#bd3786"
             ],
             [
              0.5555555555555556,
              "#d8576b"
             ],
             [
              0.6666666666666666,
              "#ed7953"
             ],
             [
              0.7777777777777778,
              "#fb9f3a"
             ],
             [
              0.8888888888888888,
              "#fdca26"
             ],
             [
              1,
              "#f0f921"
             ]
            ],
            "type": "histogram2dcontour"
           }
          ],
          "mesh3d": [
           {
            "colorbar": {
             "outlinewidth": 0,
             "ticks": ""
            },
            "type": "mesh3d"
           }
          ],
          "parcoords": [
           {
            "line": {
             "colorbar": {
              "outlinewidth": 0,
              "ticks": ""
             }
            },
            "type": "parcoords"
           }
          ],
          "pie": [
           {
            "automargin": true,
            "type": "pie"
           }
          ],
          "scatter": [
           {
            "marker": {
             "colorbar": {
              "outlinewidth": 0,
              "ticks": ""
             }
            },
            "type": "scatter"
           }
          ],
          "scatter3d": [
           {
            "line": {
             "colorbar": {
              "outlinewidth": 0,
              "ticks": ""
             }
            },
            "marker": {
             "colorbar": {
              "outlinewidth": 0,
              "ticks": ""
             }
            },
            "type": "scatter3d"
           }
          ],
          "scattercarpet": [
           {
            "marker": {
             "colorbar": {
              "outlinewidth": 0,
              "ticks": ""
             }
            },
            "type": "scattercarpet"
           }
          ],
          "scattergeo": [
           {
            "marker": {
             "colorbar": {
              "outlinewidth": 0,
              "ticks": ""
             }
            },
            "type": "scattergeo"
           }
          ],
          "scattergl": [
           {
            "marker": {
             "colorbar": {
              "outlinewidth": 0,
              "ticks": ""
             }
            },
            "type": "scattergl"
           }
          ],
          "scattermapbox": [
           {
            "marker": {
             "colorbar": {
              "outlinewidth": 0,
              "ticks": ""
             }
            },
            "type": "scattermapbox"
           }
          ],
          "scatterpolar": [
           {
            "marker": {
             "colorbar": {
              "outlinewidth": 0,
              "ticks": ""
             }
            },
            "type": "scatterpolar"
           }
          ],
          "scatterpolargl": [
           {
            "marker": {
             "colorbar": {
              "outlinewidth": 0,
              "ticks": ""
             }
            },
            "type": "scatterpolargl"
           }
          ],
          "scatterternary": [
           {
            "marker": {
             "colorbar": {
              "outlinewidth": 0,
              "ticks": ""
             }
            },
            "type": "scatterternary"
           }
          ],
          "surface": [
           {
            "colorbar": {
             "outlinewidth": 0,
             "ticks": ""
            },
            "colorscale": [
             [
              0,
              "#0d0887"
             ],
             [
              0.1111111111111111,
              "#46039f"
             ],
             [
              0.2222222222222222,
              "#7201a8"
             ],
             [
              0.3333333333333333,
              "#9c179e"
             ],
             [
              0.4444444444444444,
              "#bd3786"
             ],
             [
              0.5555555555555556,
              "#d8576b"
             ],
             [
              0.6666666666666666,
              "#ed7953"
             ],
             [
              0.7777777777777778,
              "#fb9f3a"
             ],
             [
              0.8888888888888888,
              "#fdca26"
             ],
             [
              1,
              "#f0f921"
             ]
            ],
            "type": "surface"
           }
          ],
          "table": [
           {
            "cells": {
             "fill": {
              "color": "#EBF0F8"
             },
             "line": {
              "color": "white"
             }
            },
            "header": {
             "fill": {
              "color": "#C8D4E3"
             },
             "line": {
              "color": "white"
             }
            },
            "type": "table"
           }
          ]
         },
         "layout": {
          "annotationdefaults": {
           "arrowcolor": "#2a3f5f",
           "arrowhead": 0,
           "arrowwidth": 1
          },
          "autotypenumbers": "strict",
          "coloraxis": {
           "colorbar": {
            "outlinewidth": 0,
            "ticks": ""
           }
          },
          "colorscale": {
           "diverging": [
            [
             0,
             "#8e0152"
            ],
            [
             0.1,
             "#c51b7d"
            ],
            [
             0.2,
             "#de77ae"
            ],
            [
             0.3,
             "#f1b6da"
            ],
            [
             0.4,
             "#fde0ef"
            ],
            [
             0.5,
             "#f7f7f7"
            ],
            [
             0.6,
             "#e6f5d0"
            ],
            [
             0.7,
             "#b8e186"
            ],
            [
             0.8,
             "#7fbc41"
            ],
            [
             0.9,
             "#4d9221"
            ],
            [
             1,
             "#276419"
            ]
           ],
           "sequential": [
            [
             0,
             "#0d0887"
            ],
            [
             0.1111111111111111,
             "#46039f"
            ],
            [
             0.2222222222222222,
             "#7201a8"
            ],
            [
             0.3333333333333333,
             "#9c179e"
            ],
            [
             0.4444444444444444,
             "#bd3786"
            ],
            [
             0.5555555555555556,
             "#d8576b"
            ],
            [
             0.6666666666666666,
             "#ed7953"
            ],
            [
             0.7777777777777778,
             "#fb9f3a"
            ],
            [
             0.8888888888888888,
             "#fdca26"
            ],
            [
             1,
             "#f0f921"
            ]
           ],
           "sequentialminus": [
            [
             0,
             "#0d0887"
            ],
            [
             0.1111111111111111,
             "#46039f"
            ],
            [
             0.2222222222222222,
             "#7201a8"
            ],
            [
             0.3333333333333333,
             "#9c179e"
            ],
            [
             0.4444444444444444,
             "#bd3786"
            ],
            [
             0.5555555555555556,
             "#d8576b"
            ],
            [
             0.6666666666666666,
             "#ed7953"
            ],
            [
             0.7777777777777778,
             "#fb9f3a"
            ],
            [
             0.8888888888888888,
             "#fdca26"
            ],
            [
             1,
             "#f0f921"
            ]
           ]
          },
          "colorway": [
           "#636efa",
           "#EF553B",
           "#00cc96",
           "#ab63fa",
           "#FFA15A",
           "#19d3f3",
           "#FF6692",
           "#B6E880",
           "#FF97FF",
           "#FECB52"
          ],
          "font": {
           "color": "#2a3f5f"
          },
          "geo": {
           "bgcolor": "white",
           "lakecolor": "white",
           "landcolor": "#E5ECF6",
           "showlakes": true,
           "showland": true,
           "subunitcolor": "white"
          },
          "hoverlabel": {
           "align": "left"
          },
          "hovermode": "closest",
          "mapbox": {
           "style": "light"
          },
          "paper_bgcolor": "white",
          "plot_bgcolor": "#E5ECF6",
          "polar": {
           "angularaxis": {
            "gridcolor": "white",
            "linecolor": "white",
            "ticks": ""
           },
           "bgcolor": "#E5ECF6",
           "radialaxis": {
            "gridcolor": "white",
            "linecolor": "white",
            "ticks": ""
           }
          },
          "scene": {
           "xaxis": {
            "backgroundcolor": "#E5ECF6",
            "gridcolor": "white",
            "gridwidth": 2,
            "linecolor": "white",
            "showbackground": true,
            "ticks": "",
            "zerolinecolor": "white"
           },
           "yaxis": {
            "backgroundcolor": "#E5ECF6",
            "gridcolor": "white",
            "gridwidth": 2,
            "linecolor": "white",
            "showbackground": true,
            "ticks": "",
            "zerolinecolor": "white"
           },
           "zaxis": {
            "backgroundcolor": "#E5ECF6",
            "gridcolor": "white",
            "gridwidth": 2,
            "linecolor": "white",
            "showbackground": true,
            "ticks": "",
            "zerolinecolor": "white"
           }
          },
          "shapedefaults": {
           "line": {
            "color": "#2a3f5f"
           }
          },
          "ternary": {
           "aaxis": {
            "gridcolor": "white",
            "linecolor": "white",
            "ticks": ""
           },
           "baxis": {
            "gridcolor": "white",
            "linecolor": "white",
            "ticks": ""
           },
           "bgcolor": "#E5ECF6",
           "caxis": {
            "gridcolor": "white",
            "linecolor": "white",
            "ticks": ""
           }
          },
          "title": {
           "x": 0.05
          },
          "xaxis": {
           "automargin": true,
           "gridcolor": "white",
           "linecolor": "white",
           "ticks": "",
           "title": {
            "standoff": 15
           },
           "zerolinecolor": "white",
           "zerolinewidth": 2
          },
          "yaxis": {
           "automargin": true,
           "gridcolor": "white",
           "linecolor": "white",
           "ticks": "",
           "title": {
            "standoff": 15
           },
           "zerolinecolor": "white",
           "zerolinewidth": 2
          }
         }
        },
        "title": {
         "font": {
          "size": 16
         }
        },
        "width": 1800,
        "xaxis": {
         "range": [
          -1.15,
          1.05
         ],
         "showgrid": false,
         "showticklabels": false,
         "zeroline": false
        },
        "yaxis": {
         "range": [
          -1.15,
          1.05
         ],
         "showgrid": false,
         "showticklabels": false,
         "zeroline": false
        }
       }
      },
      "text/html": [
       "<div>                            <div id=\"cfa82adc-b96c-48e6-bdb1-f801c682a0a3\" class=\"plotly-graph-div\" style=\"height:1200px; width:1800px;\"></div>            <script type=\"text/javascript\">                require([\"plotly\"], function(Plotly) {                    window.PLOTLYENV=window.PLOTLYENV || {};                                    if (document.getElementById(\"cfa82adc-b96c-48e6-bdb1-f801c682a0a3\")) {                    Plotly.newPlot(                        \"cfa82adc-b96c-48e6-bdb1-f801c682a0a3\",                        [{\"line\": {\"color\": \"#000000\", \"width\": 4}, \"mode\": \"lines\", \"type\": \"scatter\", \"x\": [0.08073427271841466, -0.2943941304508206, null], \"y\": [0.10523148645227375, -0.38371791326816773, null]}, {\"line\": {\"color\": \"#404040\", \"width\": 2}, \"mode\": \"lines\", \"type\": \"scatter\", \"x\": [0.767192809872839, 0.440054053848171, null, 0.08073427271841466, 0.46125964629155325, null], \"y\": [1.0, 0.5735916045422383, null, 0.10523148645227375, -0.3143235098558966, null]}, {\"line\": {\"color\": \"#C0C0C0\", \"width\": 1}, \"mode\": \"lines\", \"type\": \"scatter\", \"x\": [0.648943651304805, 0.08073427271841466, null, -0.05641866054563113, -0.2943941304508206, null, 0.08073427271841466, -0.12047224993214377, null, 0.08073427271841466, -0.4230522327199721, null, 0.08073427271841466, 0.440054053848171, null, -0.8752650344215132, -0.2943941304508206, null, -0.6285821259657025, -0.2943941304508206, null], \"y\": [0.04927701269005958, 0.10523148645227375, null, -0.9212933301500659, -0.38371791326816773, null, 0.10523148645227375, 0.6395658725319603, null, 0.10523148645227375, 0.3641177043109306, null, 0.10523148645227375, 0.5735916045422383, null, -0.2931107668446407, -0.38371791326816773, null, -0.8193381604086916, -0.38371791326816773, null]}, {\"hoverinfo\": \"text\", \"hovertext\": [\"1\", \"1\", \"1\", \"6\", \"1\", \"1\", \"1\", \"1\", \"1\", \"2\", \"4\"], \"marker\": {\"color\": [33, 32, 25, 80, 15, 6, 22, 19, 22, 8, 10], \"colorbar\": {\"thickness\": 30, \"title\": {\"side\": \"right\", \"text\": \"degree\"}, \"xanchor\": \"left\"}, \"colorscale\": [[0.0, \"rgb(255,255,255)\"], [0.125, \"rgb(240,240,240)\"], [0.25, \"rgb(217,217,217)\"], [0.375, \"rgb(189,189,189)\"], [0.5, \"rgb(150,150,150)\"], [0.625, \"rgb(115,115,115)\"], [0.75, \"rgb(82,82,82)\"], [0.875, \"rgb(37,37,37)\"], [1.0, \"rgb(0,0,0)\"]], \"line\": {\"width\": 1.5}, \"showscale\": false, \"size\": 15}, \"mode\": \"markers+text\", \"text\": [\"Pauline literature\", \"Clement of Alexandria\", \"Flavius Josephus\", \"Paul of Tarsus\", \"Clemens Romanus\", \"Hermas\", \"Athenagoras\", \"Origenes\", \"Theophilus Antiochenus\", \"Eusebius\", \"Epiphanius\"], \"textfont\": {\"size\": 32}, \"textposition\": \"bottom center\", \"type\": \"scatter\", \"x\": [0.648943651304805, -0.05641866054563113, 0.767192809872839, 0.08073427271841466, -0.12047224993214377, -0.4230522327199721, -0.8752650344215132, -0.6285821259657025, 0.46125964629155325, 0.440054053848171, -0.2943941304508206], \"y\": [0.04927701269005958, -0.9212933301500659, 1.0, 0.10523148645227375, 0.6395658725319603, 0.3641177043109306, -0.2931107668446407, -0.8193381604086916, -0.3143235098558966, 0.5735916045422383, -0.38371791326816773]}, {\"hoverinfo\": \"text\", \"marker\": {\"opacity\": 0}, \"mode\": \"markers\", \"opacity\": 0, \"text\": [\"1\", \"2\", \"3\", \"2\", \"1\", \"3\", \"2\", \"4\", \"2\", \"2\"], \"type\": \"scatter\", \"x\": [0.3648389620116098, -0.17540639549822584, 0.6036234318605049, -0.019868988606864556, -0.17115898000077873, 0.2709969595049839, 0.2603941632832928, -0.10682992886620296, -0.5848295824361669, -0.46148812820826157], \"y\": [0.07725424957116667, -0.6525056217091167, 0.7867958022711192, 0.372398679492117, 0.23467459538160218, -0.10454601170181141, 0.33941154549725605, -0.139243213407947, -0.33841434005640425, -0.6015280368384297]}],                        {\"autosize\": false, \"height\": 1200, \"hovermode\": \"closest\", \"margin\": {\"b\": 10, \"l\": 10, \"r\": 10, \"t\": 10}, \"plot_bgcolor\": \"rgba(0,0,0,0)\", \"showlegend\": false, \"template\": {\"data\": {\"bar\": [{\"error_x\": {\"color\": \"#2a3f5f\"}, \"error_y\": {\"color\": \"#2a3f5f\"}, \"marker\": {\"line\": {\"color\": \"#E5ECF6\", \"width\": 0.5}}, \"type\": \"bar\"}], \"barpolar\": [{\"marker\": {\"line\": {\"color\": \"#E5ECF6\", \"width\": 0.5}}, \"type\": \"barpolar\"}], \"carpet\": [{\"aaxis\": {\"endlinecolor\": \"#2a3f5f\", \"gridcolor\": \"white\", \"linecolor\": \"white\", \"minorgridcolor\": \"white\", \"startlinecolor\": \"#2a3f5f\"}, \"baxis\": {\"endlinecolor\": \"#2a3f5f\", \"gridcolor\": \"white\", \"linecolor\": \"white\", \"minorgridcolor\": \"white\", \"startlinecolor\": \"#2a3f5f\"}, \"type\": \"carpet\"}], \"choropleth\": [{\"colorbar\": {\"outlinewidth\": 0, \"ticks\": \"\"}, \"type\": \"choropleth\"}], \"contour\": [{\"colorbar\": {\"outlinewidth\": 0, \"ticks\": \"\"}, \"colorscale\": [[0.0, \"#0d0887\"], [0.1111111111111111, \"#46039f\"], [0.2222222222222222, \"#7201a8\"], [0.3333333333333333, \"#9c179e\"], [0.4444444444444444, \"#bd3786\"], [0.5555555555555556, \"#d8576b\"], [0.6666666666666666, \"#ed7953\"], [0.7777777777777778, \"#fb9f3a\"], [0.8888888888888888, \"#fdca26\"], [1.0, \"#f0f921\"]], \"type\": \"contour\"}], \"contourcarpet\": [{\"colorbar\": {\"outlinewidth\": 0, \"ticks\": \"\"}, \"type\": \"contourcarpet\"}], \"heatmap\": [{\"colorbar\": {\"outlinewidth\": 0, \"ticks\": \"\"}, \"colorscale\": [[0.0, \"#0d0887\"], [0.1111111111111111, \"#46039f\"], [0.2222222222222222, \"#7201a8\"], [0.3333333333333333, \"#9c179e\"], [0.4444444444444444, \"#bd3786\"], [0.5555555555555556, \"#d8576b\"], [0.6666666666666666, \"#ed7953\"], [0.7777777777777778, \"#fb9f3a\"], [0.8888888888888888, \"#fdca26\"], [1.0, \"#f0f921\"]], \"type\": \"heatmap\"}], \"heatmapgl\": [{\"colorbar\": {\"outlinewidth\": 0, \"ticks\": \"\"}, \"colorscale\": [[0.0, \"#0d0887\"], [0.1111111111111111, \"#46039f\"], [0.2222222222222222, \"#7201a8\"], [0.3333333333333333, \"#9c179e\"], [0.4444444444444444, \"#bd3786\"], [0.5555555555555556, \"#d8576b\"], [0.6666666666666666, \"#ed7953\"], [0.7777777777777778, \"#fb9f3a\"], [0.8888888888888888, \"#fdca26\"], [1.0, \"#f0f921\"]], \"type\": \"heatmapgl\"}], \"histogram\": [{\"marker\": {\"colorbar\": {\"outlinewidth\": 0, \"ticks\": \"\"}}, \"type\": \"histogram\"}], \"histogram2d\": [{\"colorbar\": {\"outlinewidth\": 0, \"ticks\": \"\"}, \"colorscale\": [[0.0, \"#0d0887\"], [0.1111111111111111, \"#46039f\"], [0.2222222222222222, \"#7201a8\"], [0.3333333333333333, \"#9c179e\"], [0.4444444444444444, \"#bd3786\"], [0.5555555555555556, \"#d8576b\"], [0.6666666666666666, \"#ed7953\"], [0.7777777777777778, \"#fb9f3a\"], [0.8888888888888888, \"#fdca26\"], [1.0, \"#f0f921\"]], \"type\": \"histogram2d\"}], \"histogram2dcontour\": [{\"colorbar\": {\"outlinewidth\": 0, \"ticks\": \"\"}, \"colorscale\": [[0.0, \"#0d0887\"], [0.1111111111111111, \"#46039f\"], [0.2222222222222222, \"#7201a8\"], [0.3333333333333333, \"#9c179e\"], [0.4444444444444444, \"#bd3786\"], [0.5555555555555556, \"#d8576b\"], [0.6666666666666666, \"#ed7953\"], [0.7777777777777778, \"#fb9f3a\"], [0.8888888888888888, \"#fdca26\"], [1.0, \"#f0f921\"]], \"type\": \"histogram2dcontour\"}], \"mesh3d\": [{\"colorbar\": {\"outlinewidth\": 0, \"ticks\": \"\"}, \"type\": \"mesh3d\"}], \"parcoords\": [{\"line\": {\"colorbar\": {\"outlinewidth\": 0, \"ticks\": \"\"}}, \"type\": \"parcoords\"}], \"pie\": [{\"automargin\": true, \"type\": \"pie\"}], \"scatter\": [{\"marker\": {\"colorbar\": {\"outlinewidth\": 0, \"ticks\": \"\"}}, \"type\": \"scatter\"}], \"scatter3d\": [{\"line\": {\"colorbar\": {\"outlinewidth\": 0, \"ticks\": \"\"}}, \"marker\": {\"colorbar\": {\"outlinewidth\": 0, \"ticks\": \"\"}}, \"type\": \"scatter3d\"}], \"scattercarpet\": [{\"marker\": {\"colorbar\": {\"outlinewidth\": 0, \"ticks\": \"\"}}, \"type\": \"scattercarpet\"}], \"scattergeo\": [{\"marker\": {\"colorbar\": {\"outlinewidth\": 0, \"ticks\": \"\"}}, \"type\": \"scattergeo\"}], \"scattergl\": [{\"marker\": {\"colorbar\": {\"outlinewidth\": 0, \"ticks\": \"\"}}, \"type\": \"scattergl\"}], \"scattermapbox\": [{\"marker\": {\"colorbar\": {\"outlinewidth\": 0, \"ticks\": \"\"}}, \"type\": \"scattermapbox\"}], \"scatterpolar\": [{\"marker\": {\"colorbar\": {\"outlinewidth\": 0, \"ticks\": \"\"}}, \"type\": \"scatterpolar\"}], \"scatterpolargl\": [{\"marker\": {\"colorbar\": {\"outlinewidth\": 0, \"ticks\": \"\"}}, \"type\": \"scatterpolargl\"}], \"scatterternary\": [{\"marker\": {\"colorbar\": {\"outlinewidth\": 0, \"ticks\": \"\"}}, \"type\": \"scatterternary\"}], \"surface\": [{\"colorbar\": {\"outlinewidth\": 0, \"ticks\": \"\"}, \"colorscale\": [[0.0, \"#0d0887\"], [0.1111111111111111, \"#46039f\"], [0.2222222222222222, \"#7201a8\"], [0.3333333333333333, \"#9c179e\"], [0.4444444444444444, \"#bd3786\"], [0.5555555555555556, \"#d8576b\"], [0.6666666666666666, \"#ed7953\"], [0.7777777777777778, \"#fb9f3a\"], [0.8888888888888888, \"#fdca26\"], [1.0, \"#f0f921\"]], \"type\": \"surface\"}], \"table\": [{\"cells\": {\"fill\": {\"color\": \"#EBF0F8\"}, \"line\": {\"color\": \"white\"}}, \"header\": {\"fill\": {\"color\": \"#C8D4E3\"}, \"line\": {\"color\": \"white\"}}, \"type\": \"table\"}]}, \"layout\": {\"annotationdefaults\": {\"arrowcolor\": \"#2a3f5f\", \"arrowhead\": 0, \"arrowwidth\": 1}, \"autotypenumbers\": \"strict\", \"coloraxis\": {\"colorbar\": {\"outlinewidth\": 0, \"ticks\": \"\"}}, \"colorscale\": {\"diverging\": [[0, \"#8e0152\"], [0.1, \"#c51b7d\"], [0.2, \"#de77ae\"], [0.3, \"#f1b6da\"], [0.4, \"#fde0ef\"], [0.5, \"#f7f7f7\"], [0.6, \"#e6f5d0\"], [0.7, \"#b8e186\"], [0.8, \"#7fbc41\"], [0.9, \"#4d9221\"], [1, \"#276419\"]], \"sequential\": [[0.0, \"#0d0887\"], [0.1111111111111111, \"#46039f\"], [0.2222222222222222, \"#7201a8\"], [0.3333333333333333, \"#9c179e\"], [0.4444444444444444, \"#bd3786\"], [0.5555555555555556, \"#d8576b\"], [0.6666666666666666, \"#ed7953\"], [0.7777777777777778, \"#fb9f3a\"], [0.8888888888888888, \"#fdca26\"], [1.0, \"#f0f921\"]], \"sequentialminus\": [[0.0, \"#0d0887\"], [0.1111111111111111, \"#46039f\"], [0.2222222222222222, \"#7201a8\"], [0.3333333333333333, \"#9c179e\"], [0.4444444444444444, \"#bd3786\"], [0.5555555555555556, \"#d8576b\"], [0.6666666666666666, \"#ed7953\"], [0.7777777777777778, \"#fb9f3a\"], [0.8888888888888888, \"#fdca26\"], [1.0, \"#f0f921\"]]}, \"colorway\": [\"#636efa\", \"#EF553B\", \"#00cc96\", \"#ab63fa\", \"#FFA15A\", \"#19d3f3\", \"#FF6692\", \"#B6E880\", \"#FF97FF\", \"#FECB52\"], \"font\": {\"color\": \"#2a3f5f\"}, \"geo\": {\"bgcolor\": \"white\", \"lakecolor\": \"white\", \"landcolor\": \"#E5ECF6\", \"showlakes\": true, \"showland\": true, \"subunitcolor\": \"white\"}, \"hoverlabel\": {\"align\": \"left\"}, \"hovermode\": \"closest\", \"mapbox\": {\"style\": \"light\"}, \"paper_bgcolor\": \"white\", \"plot_bgcolor\": \"#E5ECF6\", \"polar\": {\"angularaxis\": {\"gridcolor\": \"white\", \"linecolor\": \"white\", \"ticks\": \"\"}, \"bgcolor\": \"#E5ECF6\", \"radialaxis\": {\"gridcolor\": \"white\", \"linecolor\": \"white\", \"ticks\": \"\"}}, \"scene\": {\"xaxis\": {\"backgroundcolor\": \"#E5ECF6\", \"gridcolor\": \"white\", \"gridwidth\": 2, \"linecolor\": \"white\", \"showbackground\": true, \"ticks\": \"\", \"zerolinecolor\": \"white\"}, \"yaxis\": {\"backgroundcolor\": \"#E5ECF6\", \"gridcolor\": \"white\", \"gridwidth\": 2, \"linecolor\": \"white\", \"showbackground\": true, \"ticks\": \"\", \"zerolinecolor\": \"white\"}, \"zaxis\": {\"backgroundcolor\": \"#E5ECF6\", \"gridcolor\": \"white\", \"gridwidth\": 2, \"linecolor\": \"white\", \"showbackground\": true, \"ticks\": \"\", \"zerolinecolor\": \"white\"}}, \"shapedefaults\": {\"line\": {\"color\": \"#2a3f5f\"}}, \"ternary\": {\"aaxis\": {\"gridcolor\": \"white\", \"linecolor\": \"white\", \"ticks\": \"\"}, \"baxis\": {\"gridcolor\": \"white\", \"linecolor\": \"white\", \"ticks\": \"\"}, \"bgcolor\": \"#E5ECF6\", \"caxis\": {\"gridcolor\": \"white\", \"linecolor\": \"white\", \"ticks\": \"\"}}, \"title\": {\"x\": 0.05}, \"xaxis\": {\"automargin\": true, \"gridcolor\": \"white\", \"linecolor\": \"white\", \"ticks\": \"\", \"title\": {\"standoff\": 15}, \"zerolinecolor\": \"white\", \"zerolinewidth\": 2}, \"yaxis\": {\"automargin\": true, \"gridcolor\": \"white\", \"linecolor\": \"white\", \"ticks\": \"\", \"title\": {\"standoff\": 15}, \"zerolinecolor\": \"white\", \"zerolinewidth\": 2}}}, \"title\": {\"font\": {\"size\": 16}}, \"width\": 1800, \"xaxis\": {\"range\": [-1.15, 1.05], \"showgrid\": false, \"showticklabels\": false, \"zeroline\": false}, \"yaxis\": {\"range\": [-1.15, 1.05], \"showgrid\": false, \"showticklabels\": false, \"zeroline\": false}},                        {\"responsive\": true}                    ).then(function(){\n",
       "                            \n",
       "var gd = document.getElementById('cfa82adc-b96c-48e6-bdb1-f801c682a0a3');\n",
       "var x = new MutationObserver(function (mutations, observer) {{\n",
       "        var display = window.getComputedStyle(gd).display;\n",
       "        if (!display || display === 'none') {{\n",
       "            console.log([gd, 'removed!']);\n",
       "            Plotly.purge(gd);\n",
       "            observer.disconnect();\n",
       "        }}\n",
       "}});\n",
       "\n",
       "// Listen for the removal of the full notebook cells\n",
       "var notebookContainer = gd.closest('#notebook-container');\n",
       "if (notebookContainer) {{\n",
       "    x.observe(notebookContainer, {childList: true});\n",
       "}}\n",
       "\n",
       "// Listen for the clearing of the current output cell\n",
       "var outputEl = gd.closest('.output');\n",
       "if (outputEl) {{\n",
       "    x.observe(outputEl, {childList: true});\n",
       "}}\n",
       "\n",
       "                        })                };                });            </script>        </div>"
      ]
     },
     "metadata": {},
     "output_type": "display_data"
    }
   ],
   "source": [
    "fig = textnet.draw_2d_network(G_paul, 1800, 1200, 32)\n",
    "fig.show()"
   ]
  },
  {
   "cell_type": "code",
   "execution_count": 166,
   "metadata": {},
   "outputs": [
    {
     "name": "stdout",
     "output_type": "stream",
     "text": [
      "Your <class 'plotly.graph_objs._figure.Figure'> object has been succefully written as \"https://sciencedata.dk/files/SDAM_root/SDAM_data/ECCE_public/paul_egonet_10tfidf.png\"\n"
     ]
    }
   ],
   "source": [
    "fig.write_image(\"../figures/paul_egonet_10tfidf.png\")\n",
    "#s.write_file(\"paul_egonet_10tfidf.png\", fig)"
   ]
  },
  {
   "cell_type": "markdown",
   "metadata": {},
   "source": [
    "#  vectorization based on tfidf values"
   ]
  },
  {
   "cell_type": "code",
   "execution_count": 167,
   "metadata": {},
   "outputs": [
    {
     "data": {
      "text/html": [
       "<div>\n",
       "<style scoped>\n",
       "    .dataframe tbody tr th:only-of-type {\n",
       "        vertical-align: middle;\n",
       "    }\n",
       "\n",
       "    .dataframe tbody tr th {\n",
       "        vertical-align: top;\n",
       "    }\n",
       "\n",
       "    .dataframe thead th {\n",
       "        text-align: right;\n",
       "    }\n",
       "</style>\n",
       "<table border=\"1\" class=\"dataframe\">\n",
       "  <thead>\n",
       "    <tr style=\"text-align: right;\">\n",
       "      <th></th>\n",
       "      <th>οὗτος</th>\n",
       "      <th>ἐντολή</th>\n",
       "      <th>πτωχός</th>\n",
       "      <th>διώκω</th>\n",
       "      <th>θεάομαι</th>\n",
       "      <th>ἀδελφός</th>\n",
       "      <th>ἐπιτρέπω</th>\n",
       "      <th>προεπεκαλέσασθέ</th>\n",
       "      <th>τὶς</th>\n",
       "      <th>πληρόω</th>\n",
       "      <th>...</th>\n",
       "      <th>ἀντιδίδωμι</th>\n",
       "      <th>ἐπικουρέειν</th>\n",
       "      <th>περιπέμπω</th>\n",
       "      <th>ἔκβασις</th>\n",
       "      <th>ʽτὸν</th>\n",
       "      <th>πάκορον</th>\n",
       "      <th>Σύριος</th>\n",
       "      <th>οὐεντίδιος</th>\n",
       "      <th>γιγνόμενα</th>\n",
       "      <th>τασϲόμενον</th>\n",
       "    </tr>\n",
       "  </thead>\n",
       "  <tbody>\n",
       "    <tr>\n",
       "      <th>0</th>\n",
       "      <td>0.19805</td>\n",
       "      <td>0.18466</td>\n",
       "      <td>0.12457</td>\n",
       "      <td>0.12457</td>\n",
       "      <td>0.12457</td>\n",
       "      <td>0.12457</td>\n",
       "      <td>0.12457</td>\n",
       "      <td>0.12457</td>\n",
       "      <td>0.12457</td>\n",
       "      <td>0.12457</td>\n",
       "      <td>...</td>\n",
       "      <td>NaN</td>\n",
       "      <td>NaN</td>\n",
       "      <td>NaN</td>\n",
       "      <td>NaN</td>\n",
       "      <td>NaN</td>\n",
       "      <td>NaN</td>\n",
       "      <td>NaN</td>\n",
       "      <td>NaN</td>\n",
       "      <td>NaN</td>\n",
       "      <td>NaN</td>\n",
       "    </tr>\n",
       "    <tr>\n",
       "      <th>1</th>\n",
       "      <td>0.00701</td>\n",
       "      <td>NaN</td>\n",
       "      <td>NaN</td>\n",
       "      <td>0.03512</td>\n",
       "      <td>0.01021</td>\n",
       "      <td>NaN</td>\n",
       "      <td>NaN</td>\n",
       "      <td>NaN</td>\n",
       "      <td>NaN</td>\n",
       "      <td>0.01276</td>\n",
       "      <td>...</td>\n",
       "      <td>NaN</td>\n",
       "      <td>NaN</td>\n",
       "      <td>NaN</td>\n",
       "      <td>NaN</td>\n",
       "      <td>NaN</td>\n",
       "      <td>NaN</td>\n",
       "      <td>NaN</td>\n",
       "      <td>NaN</td>\n",
       "      <td>NaN</td>\n",
       "      <td>NaN</td>\n",
       "    </tr>\n",
       "    <tr>\n",
       "      <th>2</th>\n",
       "      <td>0.03087</td>\n",
       "      <td>NaN</td>\n",
       "      <td>NaN</td>\n",
       "      <td>0.02612</td>\n",
       "      <td>0.02143</td>\n",
       "      <td>NaN</td>\n",
       "      <td>NaN</td>\n",
       "      <td>NaN</td>\n",
       "      <td>NaN</td>\n",
       "      <td>NaN</td>\n",
       "      <td>...</td>\n",
       "      <td>NaN</td>\n",
       "      <td>NaN</td>\n",
       "      <td>NaN</td>\n",
       "      <td>NaN</td>\n",
       "      <td>NaN</td>\n",
       "      <td>NaN</td>\n",
       "      <td>NaN</td>\n",
       "      <td>NaN</td>\n",
       "      <td>NaN</td>\n",
       "      <td>NaN</td>\n",
       "    </tr>\n",
       "    <tr>\n",
       "      <th>3</th>\n",
       "      <td>NaN</td>\n",
       "      <td>NaN</td>\n",
       "      <td>NaN</td>\n",
       "      <td>NaN</td>\n",
       "      <td>NaN</td>\n",
       "      <td>NaN</td>\n",
       "      <td>NaN</td>\n",
       "      <td>NaN</td>\n",
       "      <td>NaN</td>\n",
       "      <td>NaN</td>\n",
       "      <td>...</td>\n",
       "      <td>NaN</td>\n",
       "      <td>NaN</td>\n",
       "      <td>NaN</td>\n",
       "      <td>NaN</td>\n",
       "      <td>NaN</td>\n",
       "      <td>NaN</td>\n",
       "      <td>NaN</td>\n",
       "      <td>NaN</td>\n",
       "      <td>NaN</td>\n",
       "      <td>NaN</td>\n",
       "    </tr>\n",
       "    <tr>\n",
       "      <th>4</th>\n",
       "      <td>0.04667</td>\n",
       "      <td>NaN</td>\n",
       "      <td>NaN</td>\n",
       "      <td>NaN</td>\n",
       "      <td>NaN</td>\n",
       "      <td>NaN</td>\n",
       "      <td>NaN</td>\n",
       "      <td>NaN</td>\n",
       "      <td>NaN</td>\n",
       "      <td>NaN</td>\n",
       "      <td>...</td>\n",
       "      <td>NaN</td>\n",
       "      <td>NaN</td>\n",
       "      <td>NaN</td>\n",
       "      <td>NaN</td>\n",
       "      <td>NaN</td>\n",
       "      <td>NaN</td>\n",
       "      <td>NaN</td>\n",
       "      <td>NaN</td>\n",
       "      <td>NaN</td>\n",
       "      <td>NaN</td>\n",
       "    </tr>\n",
       "    <tr>\n",
       "      <th>...</th>\n",
       "      <td>...</td>\n",
       "      <td>...</td>\n",
       "      <td>...</td>\n",
       "      <td>...</td>\n",
       "      <td>...</td>\n",
       "      <td>...</td>\n",
       "      <td>...</td>\n",
       "      <td>...</td>\n",
       "      <td>...</td>\n",
       "      <td>...</td>\n",
       "      <td>...</td>\n",
       "      <td>...</td>\n",
       "      <td>...</td>\n",
       "      <td>...</td>\n",
       "      <td>...</td>\n",
       "      <td>...</td>\n",
       "      <td>...</td>\n",
       "      <td>...</td>\n",
       "      <td>...</td>\n",
       "      <td>...</td>\n",
       "      <td>...</td>\n",
       "    </tr>\n",
       "    <tr>\n",
       "      <th>264</th>\n",
       "      <td>NaN</td>\n",
       "      <td>NaN</td>\n",
       "      <td>NaN</td>\n",
       "      <td>NaN</td>\n",
       "      <td>NaN</td>\n",
       "      <td>NaN</td>\n",
       "      <td>NaN</td>\n",
       "      <td>NaN</td>\n",
       "      <td>NaN</td>\n",
       "      <td>NaN</td>\n",
       "      <td>...</td>\n",
       "      <td>NaN</td>\n",
       "      <td>NaN</td>\n",
       "      <td>NaN</td>\n",
       "      <td>NaN</td>\n",
       "      <td>NaN</td>\n",
       "      <td>NaN</td>\n",
       "      <td>NaN</td>\n",
       "      <td>NaN</td>\n",
       "      <td>NaN</td>\n",
       "      <td>NaN</td>\n",
       "    </tr>\n",
       "    <tr>\n",
       "      <th>265</th>\n",
       "      <td>NaN</td>\n",
       "      <td>NaN</td>\n",
       "      <td>NaN</td>\n",
       "      <td>NaN</td>\n",
       "      <td>NaN</td>\n",
       "      <td>NaN</td>\n",
       "      <td>NaN</td>\n",
       "      <td>NaN</td>\n",
       "      <td>NaN</td>\n",
       "      <td>NaN</td>\n",
       "      <td>...</td>\n",
       "      <td>NaN</td>\n",
       "      <td>NaN</td>\n",
       "      <td>NaN</td>\n",
       "      <td>NaN</td>\n",
       "      <td>NaN</td>\n",
       "      <td>NaN</td>\n",
       "      <td>NaN</td>\n",
       "      <td>NaN</td>\n",
       "      <td>NaN</td>\n",
       "      <td>NaN</td>\n",
       "    </tr>\n",
       "    <tr>\n",
       "      <th>266</th>\n",
       "      <td>NaN</td>\n",
       "      <td>NaN</td>\n",
       "      <td>NaN</td>\n",
       "      <td>NaN</td>\n",
       "      <td>NaN</td>\n",
       "      <td>NaN</td>\n",
       "      <td>NaN</td>\n",
       "      <td>NaN</td>\n",
       "      <td>NaN</td>\n",
       "      <td>NaN</td>\n",
       "      <td>...</td>\n",
       "      <td>NaN</td>\n",
       "      <td>NaN</td>\n",
       "      <td>NaN</td>\n",
       "      <td>NaN</td>\n",
       "      <td>NaN</td>\n",
       "      <td>NaN</td>\n",
       "      <td>NaN</td>\n",
       "      <td>NaN</td>\n",
       "      <td>NaN</td>\n",
       "      <td>NaN</td>\n",
       "    </tr>\n",
       "    <tr>\n",
       "      <th>267</th>\n",
       "      <td>NaN</td>\n",
       "      <td>NaN</td>\n",
       "      <td>NaN</td>\n",
       "      <td>NaN</td>\n",
       "      <td>NaN</td>\n",
       "      <td>NaN</td>\n",
       "      <td>NaN</td>\n",
       "      <td>NaN</td>\n",
       "      <td>NaN</td>\n",
       "      <td>NaN</td>\n",
       "      <td>...</td>\n",
       "      <td>NaN</td>\n",
       "      <td>NaN</td>\n",
       "      <td>NaN</td>\n",
       "      <td>NaN</td>\n",
       "      <td>NaN</td>\n",
       "      <td>NaN</td>\n",
       "      <td>NaN</td>\n",
       "      <td>NaN</td>\n",
       "      <td>NaN</td>\n",
       "      <td>NaN</td>\n",
       "    </tr>\n",
       "    <tr>\n",
       "      <th>268</th>\n",
       "      <td>NaN</td>\n",
       "      <td>NaN</td>\n",
       "      <td>NaN</td>\n",
       "      <td>NaN</td>\n",
       "      <td>NaN</td>\n",
       "      <td>NaN</td>\n",
       "      <td>NaN</td>\n",
       "      <td>NaN</td>\n",
       "      <td>NaN</td>\n",
       "      <td>NaN</td>\n",
       "      <td>...</td>\n",
       "      <td>NaN</td>\n",
       "      <td>NaN</td>\n",
       "      <td>NaN</td>\n",
       "      <td>NaN</td>\n",
       "      <td>NaN</td>\n",
       "      <td>NaN</td>\n",
       "      <td>NaN</td>\n",
       "      <td>NaN</td>\n",
       "      <td>NaN</td>\n",
       "      <td>NaN</td>\n",
       "    </tr>\n",
       "  </tbody>\n",
       "</table>\n",
       "<p>269 rows × 8624 columns</p>\n",
       "</div>"
      ],
      "text/plain": [
       "       οὗτος   ἐντολή   πτωχός    διώκω  θεάομαι  ἀδελφός  ἐπιτρέπω  \\\n",
       "0    0.19805  0.18466  0.12457  0.12457  0.12457  0.12457   0.12457   \n",
       "1    0.00701      NaN      NaN  0.03512  0.01021      NaN       NaN   \n",
       "2    0.03087      NaN      NaN  0.02612  0.02143      NaN       NaN   \n",
       "3        NaN      NaN      NaN      NaN      NaN      NaN       NaN   \n",
       "4    0.04667      NaN      NaN      NaN      NaN      NaN       NaN   \n",
       "..       ...      ...      ...      ...      ...      ...       ...   \n",
       "264      NaN      NaN      NaN      NaN      NaN      NaN       NaN   \n",
       "265      NaN      NaN      NaN      NaN      NaN      NaN       NaN   \n",
       "266      NaN      NaN      NaN      NaN      NaN      NaN       NaN   \n",
       "267      NaN      NaN      NaN      NaN      NaN      NaN       NaN   \n",
       "268      NaN      NaN      NaN      NaN      NaN      NaN       NaN   \n",
       "\n",
       "     προεπεκαλέσασθέ      τὶς   πληρόω  ...  ἀντιδίδωμι  ἐπικουρέειν  \\\n",
       "0            0.12457  0.12457  0.12457  ...         NaN          NaN   \n",
       "1                NaN      NaN  0.01276  ...         NaN          NaN   \n",
       "2                NaN      NaN      NaN  ...         NaN          NaN   \n",
       "3                NaN      NaN      NaN  ...         NaN          NaN   \n",
       "4                NaN      NaN      NaN  ...         NaN          NaN   \n",
       "..               ...      ...      ...  ...         ...          ...   \n",
       "264              NaN      NaN      NaN  ...         NaN          NaN   \n",
       "265              NaN      NaN      NaN  ...         NaN          NaN   \n",
       "266              NaN      NaN      NaN  ...         NaN          NaN   \n",
       "267              NaN      NaN      NaN  ...         NaN          NaN   \n",
       "268              NaN      NaN      NaN  ...         NaN          NaN   \n",
       "\n",
       "     περιπέμπω  ἔκβασις  ʽτὸν  πάκορον  Σύριος  οὐεντίδιος  γιγνόμενα  \\\n",
       "0          NaN      NaN   NaN      NaN     NaN         NaN        NaN   \n",
       "1          NaN      NaN   NaN      NaN     NaN         NaN        NaN   \n",
       "2          NaN      NaN   NaN      NaN     NaN         NaN        NaN   \n",
       "3          NaN      NaN   NaN      NaN     NaN         NaN        NaN   \n",
       "4          NaN      NaN   NaN      NaN     NaN         NaN        NaN   \n",
       "..         ...      ...   ...      ...     ...         ...        ...   \n",
       "264        NaN      NaN   NaN      NaN     NaN         NaN        NaN   \n",
       "265        NaN      NaN   NaN      NaN     NaN         NaN        NaN   \n",
       "266        NaN      NaN   NaN      NaN     NaN         NaN        NaN   \n",
       "267        NaN      NaN   NaN      NaN     NaN         NaN        NaN   \n",
       "268        NaN      NaN   NaN      NaN     NaN         NaN        NaN   \n",
       "\n",
       "     τασϲόμενον  \n",
       "0           NaN  \n",
       "1           NaN  \n",
       "2           NaN  \n",
       "3           NaN  \n",
       "4           NaN  \n",
       "..          ...  \n",
       "264         NaN  \n",
       "265         NaN  \n",
       "266         NaN  \n",
       "267         NaN  \n",
       "268         NaN  \n",
       "\n",
       "[269 rows x 8624 columns]"
      ]
     },
     "execution_count": 167,
     "metadata": {},
     "output_type": "execute_result"
    }
   ],
   "source": [
    "#tup_to_dict \n",
    "tfidfs_df_raw = pd.DataFrame([dict(tfidfs) for tfidfs in authors_df[\"dik_sents_TFIDF\"].tolist()])\n",
    "tfidfs_df_raw"
   ]
  },
  {
   "cell_type": "code",
   "execution_count": 168,
   "metadata": {},
   "outputs": [
    {
     "data": {
      "text/plain": [
       "2765"
      ]
     },
     "execution_count": 168,
     "metadata": {},
     "output_type": "execute_result"
    }
   ],
   "source": [
    "selected_columns = []\n",
    "for column in tfidfs_df_raw.columns:\n",
    "    if len(tfidfs_df_raw[tfidfs_df_raw[column].notnull()]) > 1:\n",
    "        selected_columns.append(column)\n",
    "len(selected_columns)"
   ]
  },
  {
   "cell_type": "code",
   "execution_count": 169,
   "metadata": {},
   "outputs": [],
   "source": [
    "tfidfs_df_filtered = tfidfs_df_raw[selected_columns]\n",
    "tfidfs_df_filtered.fillna(0, inplace=True)"
   ]
  },
  {
   "cell_type": "code",
   "execution_count": 170,
   "metadata": {},
   "outputs": [
    {
     "data": {
      "text/html": [
       "<div>\n",
       "<style scoped>\n",
       "    .dataframe tbody tr th:only-of-type {\n",
       "        vertical-align: middle;\n",
       "    }\n",
       "\n",
       "    .dataframe tbody tr th {\n",
       "        vertical-align: top;\n",
       "    }\n",
       "\n",
       "    .dataframe thead th {\n",
       "        text-align: right;\n",
       "    }\n",
       "</style>\n",
       "<table border=\"1\" class=\"dataframe\">\n",
       "  <thead>\n",
       "    <tr style=\"text-align: right;\">\n",
       "      <th></th>\n",
       "      <th>οὗτος</th>\n",
       "      <th>ἐντολή</th>\n",
       "      <th>πτωχός</th>\n",
       "      <th>διώκω</th>\n",
       "      <th>θεάομαι</th>\n",
       "      <th>ἀδελφός</th>\n",
       "      <th>ἐπιτρέπω</th>\n",
       "      <th>τὶς</th>\n",
       "      <th>πληρόω</th>\n",
       "      <th>ἐκφέρω</th>\n",
       "      <th>...</th>\n",
       "      <th>μεταφέρω</th>\n",
       "      <th>σταθμός</th>\n",
       "      <th>ἐξευρίσκω</th>\n",
       "      <th>ὁπόσος</th>\n",
       "      <th>Μιλήσιος</th>\n",
       "      <th>δικαιόσυνος</th>\n",
       "      <th>σφοδρός</th>\n",
       "      <th>ἔχθρα</th>\n",
       "      <th>ἐπίτροπος</th>\n",
       "      <th>ἥμισυς</th>\n",
       "    </tr>\n",
       "  </thead>\n",
       "  <tbody>\n",
       "    <tr>\n",
       "      <th>0</th>\n",
       "      <td>0.19805</td>\n",
       "      <td>0.18466</td>\n",
       "      <td>0.12457</td>\n",
       "      <td>0.12457</td>\n",
       "      <td>0.12457</td>\n",
       "      <td>0.12457</td>\n",
       "      <td>0.12457</td>\n",
       "      <td>0.12457</td>\n",
       "      <td>0.12457</td>\n",
       "      <td>0.12457</td>\n",
       "      <td>...</td>\n",
       "      <td>0.0</td>\n",
       "      <td>0.0</td>\n",
       "      <td>0.0</td>\n",
       "      <td>0.0</td>\n",
       "      <td>0.0</td>\n",
       "      <td>0.0</td>\n",
       "      <td>0.0</td>\n",
       "      <td>0.0</td>\n",
       "      <td>0.0</td>\n",
       "      <td>0.0</td>\n",
       "    </tr>\n",
       "    <tr>\n",
       "      <th>1</th>\n",
       "      <td>0.00701</td>\n",
       "      <td>0.00000</td>\n",
       "      <td>0.00000</td>\n",
       "      <td>0.03512</td>\n",
       "      <td>0.01021</td>\n",
       "      <td>0.00000</td>\n",
       "      <td>0.00000</td>\n",
       "      <td>0.00000</td>\n",
       "      <td>0.01276</td>\n",
       "      <td>0.00000</td>\n",
       "      <td>...</td>\n",
       "      <td>0.0</td>\n",
       "      <td>0.0</td>\n",
       "      <td>0.0</td>\n",
       "      <td>0.0</td>\n",
       "      <td>0.0</td>\n",
       "      <td>0.0</td>\n",
       "      <td>0.0</td>\n",
       "      <td>0.0</td>\n",
       "      <td>0.0</td>\n",
       "      <td>0.0</td>\n",
       "    </tr>\n",
       "    <tr>\n",
       "      <th>2</th>\n",
       "      <td>0.03087</td>\n",
       "      <td>0.00000</td>\n",
       "      <td>0.00000</td>\n",
       "      <td>0.02612</td>\n",
       "      <td>0.02143</td>\n",
       "      <td>0.00000</td>\n",
       "      <td>0.00000</td>\n",
       "      <td>0.00000</td>\n",
       "      <td>0.00000</td>\n",
       "      <td>0.00000</td>\n",
       "      <td>...</td>\n",
       "      <td>0.0</td>\n",
       "      <td>0.0</td>\n",
       "      <td>0.0</td>\n",
       "      <td>0.0</td>\n",
       "      <td>0.0</td>\n",
       "      <td>0.0</td>\n",
       "      <td>0.0</td>\n",
       "      <td>0.0</td>\n",
       "      <td>0.0</td>\n",
       "      <td>0.0</td>\n",
       "    </tr>\n",
       "    <tr>\n",
       "      <th>3</th>\n",
       "      <td>0.00000</td>\n",
       "      <td>0.00000</td>\n",
       "      <td>0.00000</td>\n",
       "      <td>0.00000</td>\n",
       "      <td>0.00000</td>\n",
       "      <td>0.00000</td>\n",
       "      <td>0.00000</td>\n",
       "      <td>0.00000</td>\n",
       "      <td>0.00000</td>\n",
       "      <td>0.00000</td>\n",
       "      <td>...</td>\n",
       "      <td>0.0</td>\n",
       "      <td>0.0</td>\n",
       "      <td>0.0</td>\n",
       "      <td>0.0</td>\n",
       "      <td>0.0</td>\n",
       "      <td>0.0</td>\n",
       "      <td>0.0</td>\n",
       "      <td>0.0</td>\n",
       "      <td>0.0</td>\n",
       "      <td>0.0</td>\n",
       "    </tr>\n",
       "    <tr>\n",
       "      <th>4</th>\n",
       "      <td>0.04667</td>\n",
       "      <td>0.00000</td>\n",
       "      <td>0.00000</td>\n",
       "      <td>0.00000</td>\n",
       "      <td>0.00000</td>\n",
       "      <td>0.00000</td>\n",
       "      <td>0.00000</td>\n",
       "      <td>0.00000</td>\n",
       "      <td>0.00000</td>\n",
       "      <td>0.00000</td>\n",
       "      <td>...</td>\n",
       "      <td>0.0</td>\n",
       "      <td>0.0</td>\n",
       "      <td>0.0</td>\n",
       "      <td>0.0</td>\n",
       "      <td>0.0</td>\n",
       "      <td>0.0</td>\n",
       "      <td>0.0</td>\n",
       "      <td>0.0</td>\n",
       "      <td>0.0</td>\n",
       "      <td>0.0</td>\n",
       "    </tr>\n",
       "    <tr>\n",
       "      <th>...</th>\n",
       "      <td>...</td>\n",
       "      <td>...</td>\n",
       "      <td>...</td>\n",
       "      <td>...</td>\n",
       "      <td>...</td>\n",
       "      <td>...</td>\n",
       "      <td>...</td>\n",
       "      <td>...</td>\n",
       "      <td>...</td>\n",
       "      <td>...</td>\n",
       "      <td>...</td>\n",
       "      <td>...</td>\n",
       "      <td>...</td>\n",
       "      <td>...</td>\n",
       "      <td>...</td>\n",
       "      <td>...</td>\n",
       "      <td>...</td>\n",
       "      <td>...</td>\n",
       "      <td>...</td>\n",
       "      <td>...</td>\n",
       "      <td>...</td>\n",
       "    </tr>\n",
       "    <tr>\n",
       "      <th>264</th>\n",
       "      <td>0.00000</td>\n",
       "      <td>0.00000</td>\n",
       "      <td>0.00000</td>\n",
       "      <td>0.00000</td>\n",
       "      <td>0.00000</td>\n",
       "      <td>0.00000</td>\n",
       "      <td>0.00000</td>\n",
       "      <td>0.00000</td>\n",
       "      <td>0.00000</td>\n",
       "      <td>0.00000</td>\n",
       "      <td>...</td>\n",
       "      <td>0.0</td>\n",
       "      <td>0.0</td>\n",
       "      <td>0.0</td>\n",
       "      <td>0.0</td>\n",
       "      <td>0.0</td>\n",
       "      <td>0.0</td>\n",
       "      <td>0.0</td>\n",
       "      <td>0.0</td>\n",
       "      <td>0.0</td>\n",
       "      <td>0.0</td>\n",
       "    </tr>\n",
       "    <tr>\n",
       "      <th>265</th>\n",
       "      <td>0.00000</td>\n",
       "      <td>0.00000</td>\n",
       "      <td>0.00000</td>\n",
       "      <td>0.00000</td>\n",
       "      <td>0.00000</td>\n",
       "      <td>0.00000</td>\n",
       "      <td>0.00000</td>\n",
       "      <td>0.00000</td>\n",
       "      <td>0.00000</td>\n",
       "      <td>0.00000</td>\n",
       "      <td>...</td>\n",
       "      <td>0.0</td>\n",
       "      <td>0.0</td>\n",
       "      <td>0.0</td>\n",
       "      <td>0.0</td>\n",
       "      <td>0.0</td>\n",
       "      <td>0.0</td>\n",
       "      <td>0.0</td>\n",
       "      <td>0.0</td>\n",
       "      <td>0.0</td>\n",
       "      <td>0.0</td>\n",
       "    </tr>\n",
       "    <tr>\n",
       "      <th>266</th>\n",
       "      <td>0.00000</td>\n",
       "      <td>0.00000</td>\n",
       "      <td>0.00000</td>\n",
       "      <td>0.00000</td>\n",
       "      <td>0.00000</td>\n",
       "      <td>0.00000</td>\n",
       "      <td>0.00000</td>\n",
       "      <td>0.00000</td>\n",
       "      <td>0.00000</td>\n",
       "      <td>0.00000</td>\n",
       "      <td>...</td>\n",
       "      <td>0.0</td>\n",
       "      <td>0.0</td>\n",
       "      <td>0.0</td>\n",
       "      <td>0.0</td>\n",
       "      <td>0.0</td>\n",
       "      <td>0.0</td>\n",
       "      <td>0.0</td>\n",
       "      <td>0.0</td>\n",
       "      <td>0.0</td>\n",
       "      <td>0.0</td>\n",
       "    </tr>\n",
       "    <tr>\n",
       "      <th>267</th>\n",
       "      <td>0.00000</td>\n",
       "      <td>0.00000</td>\n",
       "      <td>0.00000</td>\n",
       "      <td>0.00000</td>\n",
       "      <td>0.00000</td>\n",
       "      <td>0.00000</td>\n",
       "      <td>0.00000</td>\n",
       "      <td>0.00000</td>\n",
       "      <td>0.00000</td>\n",
       "      <td>0.00000</td>\n",
       "      <td>...</td>\n",
       "      <td>0.0</td>\n",
       "      <td>0.0</td>\n",
       "      <td>0.0</td>\n",
       "      <td>0.0</td>\n",
       "      <td>0.0</td>\n",
       "      <td>0.0</td>\n",
       "      <td>0.0</td>\n",
       "      <td>0.0</td>\n",
       "      <td>0.0</td>\n",
       "      <td>0.0</td>\n",
       "    </tr>\n",
       "    <tr>\n",
       "      <th>268</th>\n",
       "      <td>0.00000</td>\n",
       "      <td>0.00000</td>\n",
       "      <td>0.00000</td>\n",
       "      <td>0.00000</td>\n",
       "      <td>0.00000</td>\n",
       "      <td>0.00000</td>\n",
       "      <td>0.00000</td>\n",
       "      <td>0.00000</td>\n",
       "      <td>0.00000</td>\n",
       "      <td>0.00000</td>\n",
       "      <td>...</td>\n",
       "      <td>0.0</td>\n",
       "      <td>0.0</td>\n",
       "      <td>0.0</td>\n",
       "      <td>0.0</td>\n",
       "      <td>0.0</td>\n",
       "      <td>0.0</td>\n",
       "      <td>0.0</td>\n",
       "      <td>0.0</td>\n",
       "      <td>0.0</td>\n",
       "      <td>0.0</td>\n",
       "    </tr>\n",
       "  </tbody>\n",
       "</table>\n",
       "<p>269 rows × 2765 columns</p>\n",
       "</div>"
      ],
      "text/plain": [
       "       οὗτος   ἐντολή   πτωχός    διώκω  θεάομαι  ἀδελφός  ἐπιτρέπω      τὶς  \\\n",
       "0    0.19805  0.18466  0.12457  0.12457  0.12457  0.12457   0.12457  0.12457   \n",
       "1    0.00701  0.00000  0.00000  0.03512  0.01021  0.00000   0.00000  0.00000   \n",
       "2    0.03087  0.00000  0.00000  0.02612  0.02143  0.00000   0.00000  0.00000   \n",
       "3    0.00000  0.00000  0.00000  0.00000  0.00000  0.00000   0.00000  0.00000   \n",
       "4    0.04667  0.00000  0.00000  0.00000  0.00000  0.00000   0.00000  0.00000   \n",
       "..       ...      ...      ...      ...      ...      ...       ...      ...   \n",
       "264  0.00000  0.00000  0.00000  0.00000  0.00000  0.00000   0.00000  0.00000   \n",
       "265  0.00000  0.00000  0.00000  0.00000  0.00000  0.00000   0.00000  0.00000   \n",
       "266  0.00000  0.00000  0.00000  0.00000  0.00000  0.00000   0.00000  0.00000   \n",
       "267  0.00000  0.00000  0.00000  0.00000  0.00000  0.00000   0.00000  0.00000   \n",
       "268  0.00000  0.00000  0.00000  0.00000  0.00000  0.00000   0.00000  0.00000   \n",
       "\n",
       "      πληρόω   ἐκφέρω  ...  μεταφέρω  σταθμός  ἐξευρίσκω  ὁπόσος  Μιλήσιος  \\\n",
       "0    0.12457  0.12457  ...       0.0      0.0        0.0     0.0       0.0   \n",
       "1    0.01276  0.00000  ...       0.0      0.0        0.0     0.0       0.0   \n",
       "2    0.00000  0.00000  ...       0.0      0.0        0.0     0.0       0.0   \n",
       "3    0.00000  0.00000  ...       0.0      0.0        0.0     0.0       0.0   \n",
       "4    0.00000  0.00000  ...       0.0      0.0        0.0     0.0       0.0   \n",
       "..       ...      ...  ...       ...      ...        ...     ...       ...   \n",
       "264  0.00000  0.00000  ...       0.0      0.0        0.0     0.0       0.0   \n",
       "265  0.00000  0.00000  ...       0.0      0.0        0.0     0.0       0.0   \n",
       "266  0.00000  0.00000  ...       0.0      0.0        0.0     0.0       0.0   \n",
       "267  0.00000  0.00000  ...       0.0      0.0        0.0     0.0       0.0   \n",
       "268  0.00000  0.00000  ...       0.0      0.0        0.0     0.0       0.0   \n",
       "\n",
       "     δικαιόσυνος  σφοδρός  ἔχθρα  ἐπίτροπος  ἥμισυς  \n",
       "0            0.0      0.0    0.0        0.0     0.0  \n",
       "1            0.0      0.0    0.0        0.0     0.0  \n",
       "2            0.0      0.0    0.0        0.0     0.0  \n",
       "3            0.0      0.0    0.0        0.0     0.0  \n",
       "4            0.0      0.0    0.0        0.0     0.0  \n",
       "..           ...      ...    ...        ...     ...  \n",
       "264          0.0      0.0    0.0        0.0     0.0  \n",
       "265          0.0      0.0    0.0        0.0     0.0  \n",
       "266          0.0      0.0    0.0        0.0     0.0  \n",
       "267          0.0      0.0    0.0        0.0     0.0  \n",
       "268          0.0      0.0    0.0        0.0     0.0  \n",
       "\n",
       "[269 rows x 2765 columns]"
      ]
     },
     "execution_count": 170,
     "metadata": {},
     "output_type": "execute_result"
    }
   ],
   "source": [
    "tfidfs_df_filtered"
   ]
  },
  {
   "cell_type": "markdown",
   "metadata": {},
   "source": [
    "# Tfidfs with cosine similarity"
   ]
  },
  {
   "cell_type": "code",
   "execution_count": 173,
   "metadata": {},
   "outputs": [],
   "source": [
    "tfidfs_sim_mat = cosine_similarity(tfidfs_df_filtered.to_numpy()).round(5)\n",
    "tfidfs_dist_mat = 1 - cosine_similarity(tfidfs_df_filtered.to_numpy())\n",
    "tfidfs_dist_mat = tfidfs_dist_mat.round(5)"
   ]
  },
  {
   "cell_type": "code",
   "execution_count": 174,
   "metadata": {},
   "outputs": [],
   "source": [
    "authors = authors_df[\"author\"].tolist()"
   ]
  },
  {
   "cell_type": "code",
   "execution_count": 175,
   "metadata": {},
   "outputs": [
    {
     "data": {
      "text/html": [
       "<div>\n",
       "<style scoped>\n",
       "    .dataframe tbody tr th:only-of-type {\n",
       "        vertical-align: middle;\n",
       "    }\n",
       "\n",
       "    .dataframe tbody tr th {\n",
       "        vertical-align: top;\n",
       "    }\n",
       "\n",
       "    .dataframe thead th {\n",
       "        text-align: right;\n",
       "    }\n",
       "</style>\n",
       "<table border=\"1\" class=\"dataframe\">\n",
       "  <thead>\n",
       "    <tr style=\"text-align: right;\">\n",
       "      <th></th>\n",
       "      <th>Polycarp</th>\n",
       "      <th>Paul of Tarsus</th>\n",
       "      <th>Clemens Romanus</th>\n",
       "      <th>Pseudo-Justinus Martyr</th>\n",
       "      <th>Barnabas</th>\n",
       "      <th>Hermas</th>\n",
       "      <th>Testamentum Abrahamae</th>\n",
       "      <th>Pauline literature</th>\n",
       "      <th>Menander</th>\n",
       "      <th>GNT rest</th>\n",
       "      <th>...</th>\n",
       "      <th>Antisthenes</th>\n",
       "      <th>Gorgias of Leontini</th>\n",
       "      <th>Rufus Soph.</th>\n",
       "      <th>Tryphon I Grammaticus</th>\n",
       "      <th>Alcidamas</th>\n",
       "      <th>Babrius</th>\n",
       "      <th>Alciphron</th>\n",
       "      <th>Xenophon of Ephesus</th>\n",
       "      <th>Hermannus Diels</th>\n",
       "      <th>Philostratus Minor</th>\n",
       "    </tr>\n",
       "  </thead>\n",
       "  <tbody>\n",
       "    <tr>\n",
       "      <th>Polycarp</th>\n",
       "      <td>1.00000</td>\n",
       "      <td>0.20562</td>\n",
       "      <td>0.21473</td>\n",
       "      <td>0.00675</td>\n",
       "      <td>0.07494</td>\n",
       "      <td>0.21202</td>\n",
       "      <td>0.08439</td>\n",
       "      <td>0.10462</td>\n",
       "      <td>0.05604</td>\n",
       "      <td>0.15242</td>\n",
       "      <td>...</td>\n",
       "      <td>0.0</td>\n",
       "      <td>0.0</td>\n",
       "      <td>0.0</td>\n",
       "      <td>0.0</td>\n",
       "      <td>0.0</td>\n",
       "      <td>0.0</td>\n",
       "      <td>0.0</td>\n",
       "      <td>0.0</td>\n",
       "      <td>0.0</td>\n",
       "      <td>0.0</td>\n",
       "    </tr>\n",
       "    <tr>\n",
       "      <th>Paul of Tarsus</th>\n",
       "      <td>0.20562</td>\n",
       "      <td>1.00000</td>\n",
       "      <td>0.33376</td>\n",
       "      <td>0.19126</td>\n",
       "      <td>0.17925</td>\n",
       "      <td>0.24179</td>\n",
       "      <td>0.25314</td>\n",
       "      <td>0.19243</td>\n",
       "      <td>0.06339</td>\n",
       "      <td>0.31477</td>\n",
       "      <td>...</td>\n",
       "      <td>0.0</td>\n",
       "      <td>0.0</td>\n",
       "      <td>0.0</td>\n",
       "      <td>0.0</td>\n",
       "      <td>0.0</td>\n",
       "      <td>0.0</td>\n",
       "      <td>0.0</td>\n",
       "      <td>0.0</td>\n",
       "      <td>0.0</td>\n",
       "      <td>0.0</td>\n",
       "    </tr>\n",
       "    <tr>\n",
       "      <th>Clemens Romanus</th>\n",
       "      <td>0.21473</td>\n",
       "      <td>0.33376</td>\n",
       "      <td>1.00000</td>\n",
       "      <td>0.07890</td>\n",
       "      <td>0.19072</td>\n",
       "      <td>0.28123</td>\n",
       "      <td>0.13309</td>\n",
       "      <td>0.26221</td>\n",
       "      <td>0.09193</td>\n",
       "      <td>0.25111</td>\n",
       "      <td>...</td>\n",
       "      <td>0.0</td>\n",
       "      <td>0.0</td>\n",
       "      <td>0.0</td>\n",
       "      <td>0.0</td>\n",
       "      <td>0.0</td>\n",
       "      <td>0.0</td>\n",
       "      <td>0.0</td>\n",
       "      <td>0.0</td>\n",
       "      <td>0.0</td>\n",
       "      <td>0.0</td>\n",
       "    </tr>\n",
       "    <tr>\n",
       "      <th>Pseudo-Justinus Martyr</th>\n",
       "      <td>0.00675</td>\n",
       "      <td>0.19126</td>\n",
       "      <td>0.07890</td>\n",
       "      <td>1.00000</td>\n",
       "      <td>0.05795</td>\n",
       "      <td>0.12931</td>\n",
       "      <td>0.17878</td>\n",
       "      <td>0.10772</td>\n",
       "      <td>0.04258</td>\n",
       "      <td>0.15290</td>\n",
       "      <td>...</td>\n",
       "      <td>0.0</td>\n",
       "      <td>0.0</td>\n",
       "      <td>0.0</td>\n",
       "      <td>0.0</td>\n",
       "      <td>0.0</td>\n",
       "      <td>0.0</td>\n",
       "      <td>0.0</td>\n",
       "      <td>0.0</td>\n",
       "      <td>0.0</td>\n",
       "      <td>0.0</td>\n",
       "    </tr>\n",
       "    <tr>\n",
       "      <th>Barnabas</th>\n",
       "      <td>0.07494</td>\n",
       "      <td>0.17925</td>\n",
       "      <td>0.19072</td>\n",
       "      <td>0.05795</td>\n",
       "      <td>1.00000</td>\n",
       "      <td>0.19311</td>\n",
       "      <td>0.08546</td>\n",
       "      <td>0.14578</td>\n",
       "      <td>0.07030</td>\n",
       "      <td>0.16445</td>\n",
       "      <td>...</td>\n",
       "      <td>0.0</td>\n",
       "      <td>0.0</td>\n",
       "      <td>0.0</td>\n",
       "      <td>0.0</td>\n",
       "      <td>0.0</td>\n",
       "      <td>0.0</td>\n",
       "      <td>0.0</td>\n",
       "      <td>0.0</td>\n",
       "      <td>0.0</td>\n",
       "      <td>0.0</td>\n",
       "    </tr>\n",
       "    <tr>\n",
       "      <th>...</th>\n",
       "      <td>...</td>\n",
       "      <td>...</td>\n",
       "      <td>...</td>\n",
       "      <td>...</td>\n",
       "      <td>...</td>\n",
       "      <td>...</td>\n",
       "      <td>...</td>\n",
       "      <td>...</td>\n",
       "      <td>...</td>\n",
       "      <td>...</td>\n",
       "      <td>...</td>\n",
       "      <td>...</td>\n",
       "      <td>...</td>\n",
       "      <td>...</td>\n",
       "      <td>...</td>\n",
       "      <td>...</td>\n",
       "      <td>...</td>\n",
       "      <td>...</td>\n",
       "      <td>...</td>\n",
       "      <td>...</td>\n",
       "      <td>...</td>\n",
       "    </tr>\n",
       "    <tr>\n",
       "      <th>Babrius</th>\n",
       "      <td>0.00000</td>\n",
       "      <td>0.00000</td>\n",
       "      <td>0.00000</td>\n",
       "      <td>0.00000</td>\n",
       "      <td>0.00000</td>\n",
       "      <td>0.00000</td>\n",
       "      <td>0.00000</td>\n",
       "      <td>0.00000</td>\n",
       "      <td>0.00000</td>\n",
       "      <td>0.00000</td>\n",
       "      <td>...</td>\n",
       "      <td>0.0</td>\n",
       "      <td>0.0</td>\n",
       "      <td>0.0</td>\n",
       "      <td>0.0</td>\n",
       "      <td>0.0</td>\n",
       "      <td>0.0</td>\n",
       "      <td>0.0</td>\n",
       "      <td>0.0</td>\n",
       "      <td>0.0</td>\n",
       "      <td>0.0</td>\n",
       "    </tr>\n",
       "    <tr>\n",
       "      <th>Alciphron</th>\n",
       "      <td>0.00000</td>\n",
       "      <td>0.00000</td>\n",
       "      <td>0.00000</td>\n",
       "      <td>0.00000</td>\n",
       "      <td>0.00000</td>\n",
       "      <td>0.00000</td>\n",
       "      <td>0.00000</td>\n",
       "      <td>0.00000</td>\n",
       "      <td>0.00000</td>\n",
       "      <td>0.00000</td>\n",
       "      <td>...</td>\n",
       "      <td>0.0</td>\n",
       "      <td>0.0</td>\n",
       "      <td>0.0</td>\n",
       "      <td>0.0</td>\n",
       "      <td>0.0</td>\n",
       "      <td>0.0</td>\n",
       "      <td>0.0</td>\n",
       "      <td>0.0</td>\n",
       "      <td>0.0</td>\n",
       "      <td>0.0</td>\n",
       "    </tr>\n",
       "    <tr>\n",
       "      <th>Xenophon of Ephesus</th>\n",
       "      <td>0.00000</td>\n",
       "      <td>0.00000</td>\n",
       "      <td>0.00000</td>\n",
       "      <td>0.00000</td>\n",
       "      <td>0.00000</td>\n",
       "      <td>0.00000</td>\n",
       "      <td>0.00000</td>\n",
       "      <td>0.00000</td>\n",
       "      <td>0.00000</td>\n",
       "      <td>0.00000</td>\n",
       "      <td>...</td>\n",
       "      <td>0.0</td>\n",
       "      <td>0.0</td>\n",
       "      <td>0.0</td>\n",
       "      <td>0.0</td>\n",
       "      <td>0.0</td>\n",
       "      <td>0.0</td>\n",
       "      <td>0.0</td>\n",
       "      <td>0.0</td>\n",
       "      <td>0.0</td>\n",
       "      <td>0.0</td>\n",
       "    </tr>\n",
       "    <tr>\n",
       "      <th>Hermannus Diels</th>\n",
       "      <td>0.00000</td>\n",
       "      <td>0.00000</td>\n",
       "      <td>0.00000</td>\n",
       "      <td>0.00000</td>\n",
       "      <td>0.00000</td>\n",
       "      <td>0.00000</td>\n",
       "      <td>0.00000</td>\n",
       "      <td>0.00000</td>\n",
       "      <td>0.00000</td>\n",
       "      <td>0.00000</td>\n",
       "      <td>...</td>\n",
       "      <td>0.0</td>\n",
       "      <td>0.0</td>\n",
       "      <td>0.0</td>\n",
       "      <td>0.0</td>\n",
       "      <td>0.0</td>\n",
       "      <td>0.0</td>\n",
       "      <td>0.0</td>\n",
       "      <td>0.0</td>\n",
       "      <td>0.0</td>\n",
       "      <td>0.0</td>\n",
       "    </tr>\n",
       "    <tr>\n",
       "      <th>Philostratus Minor</th>\n",
       "      <td>0.00000</td>\n",
       "      <td>0.00000</td>\n",
       "      <td>0.00000</td>\n",
       "      <td>0.00000</td>\n",
       "      <td>0.00000</td>\n",
       "      <td>0.00000</td>\n",
       "      <td>0.00000</td>\n",
       "      <td>0.00000</td>\n",
       "      <td>0.00000</td>\n",
       "      <td>0.00000</td>\n",
       "      <td>...</td>\n",
       "      <td>0.0</td>\n",
       "      <td>0.0</td>\n",
       "      <td>0.0</td>\n",
       "      <td>0.0</td>\n",
       "      <td>0.0</td>\n",
       "      <td>0.0</td>\n",
       "      <td>0.0</td>\n",
       "      <td>0.0</td>\n",
       "      <td>0.0</td>\n",
       "      <td>0.0</td>\n",
       "    </tr>\n",
       "  </tbody>\n",
       "</table>\n",
       "<p>269 rows × 269 columns</p>\n",
       "</div>"
      ],
      "text/plain": [
       "                        Polycarp  Paul of Tarsus  Clemens Romanus  \\\n",
       "Polycarp                 1.00000         0.20562          0.21473   \n",
       "Paul of Tarsus           0.20562         1.00000          0.33376   \n",
       "Clemens Romanus          0.21473         0.33376          1.00000   \n",
       "Pseudo-Justinus Martyr   0.00675         0.19126          0.07890   \n",
       "Barnabas                 0.07494         0.17925          0.19072   \n",
       "...                          ...             ...              ...   \n",
       "Babrius                  0.00000         0.00000          0.00000   \n",
       "Alciphron                0.00000         0.00000          0.00000   \n",
       "Xenophon of Ephesus      0.00000         0.00000          0.00000   \n",
       "Hermannus Diels          0.00000         0.00000          0.00000   \n",
       "Philostratus Minor       0.00000         0.00000          0.00000   \n",
       "\n",
       "                        Pseudo-Justinus Martyr  Barnabas   Hermas  \\\n",
       "Polycarp                               0.00675   0.07494  0.21202   \n",
       "Paul of Tarsus                         0.19126   0.17925  0.24179   \n",
       "Clemens Romanus                        0.07890   0.19072  0.28123   \n",
       "Pseudo-Justinus Martyr                 1.00000   0.05795  0.12931   \n",
       "Barnabas                               0.05795   1.00000  0.19311   \n",
       "...                                        ...       ...      ...   \n",
       "Babrius                                0.00000   0.00000  0.00000   \n",
       "Alciphron                              0.00000   0.00000  0.00000   \n",
       "Xenophon of Ephesus                    0.00000   0.00000  0.00000   \n",
       "Hermannus Diels                        0.00000   0.00000  0.00000   \n",
       "Philostratus Minor                     0.00000   0.00000  0.00000   \n",
       "\n",
       "                        Testamentum Abrahamae  Pauline literature  Menander  \\\n",
       "Polycarp                              0.08439             0.10462   0.05604   \n",
       "Paul of Tarsus                        0.25314             0.19243   0.06339   \n",
       "Clemens Romanus                       0.13309             0.26221   0.09193   \n",
       "Pseudo-Justinus Martyr                0.17878             0.10772   0.04258   \n",
       "Barnabas                              0.08546             0.14578   0.07030   \n",
       "...                                       ...                 ...       ...   \n",
       "Babrius                               0.00000             0.00000   0.00000   \n",
       "Alciphron                             0.00000             0.00000   0.00000   \n",
       "Xenophon of Ephesus                   0.00000             0.00000   0.00000   \n",
       "Hermannus Diels                       0.00000             0.00000   0.00000   \n",
       "Philostratus Minor                    0.00000             0.00000   0.00000   \n",
       "\n",
       "                        GNT rest  ...  Antisthenes  Gorgias of Leontini  \\\n",
       "Polycarp                 0.15242  ...          0.0                  0.0   \n",
       "Paul of Tarsus           0.31477  ...          0.0                  0.0   \n",
       "Clemens Romanus          0.25111  ...          0.0                  0.0   \n",
       "Pseudo-Justinus Martyr   0.15290  ...          0.0                  0.0   \n",
       "Barnabas                 0.16445  ...          0.0                  0.0   \n",
       "...                          ...  ...          ...                  ...   \n",
       "Babrius                  0.00000  ...          0.0                  0.0   \n",
       "Alciphron                0.00000  ...          0.0                  0.0   \n",
       "Xenophon of Ephesus      0.00000  ...          0.0                  0.0   \n",
       "Hermannus Diels          0.00000  ...          0.0                  0.0   \n",
       "Philostratus Minor       0.00000  ...          0.0                  0.0   \n",
       "\n",
       "                        Rufus Soph.  Tryphon I Grammaticus  Alcidamas  \\\n",
       "Polycarp                        0.0                    0.0        0.0   \n",
       "Paul of Tarsus                  0.0                    0.0        0.0   \n",
       "Clemens Romanus                 0.0                    0.0        0.0   \n",
       "Pseudo-Justinus Martyr          0.0                    0.0        0.0   \n",
       "Barnabas                        0.0                    0.0        0.0   \n",
       "...                             ...                    ...        ...   \n",
       "Babrius                         0.0                    0.0        0.0   \n",
       "Alciphron                       0.0                    0.0        0.0   \n",
       "Xenophon of Ephesus             0.0                    0.0        0.0   \n",
       "Hermannus Diels                 0.0                    0.0        0.0   \n",
       "Philostratus Minor              0.0                    0.0        0.0   \n",
       "\n",
       "                        Babrius  Alciphron  Xenophon of Ephesus  \\\n",
       "Polycarp                    0.0        0.0                  0.0   \n",
       "Paul of Tarsus              0.0        0.0                  0.0   \n",
       "Clemens Romanus             0.0        0.0                  0.0   \n",
       "Pseudo-Justinus Martyr      0.0        0.0                  0.0   \n",
       "Barnabas                    0.0        0.0                  0.0   \n",
       "...                         ...        ...                  ...   \n",
       "Babrius                     0.0        0.0                  0.0   \n",
       "Alciphron                   0.0        0.0                  0.0   \n",
       "Xenophon of Ephesus         0.0        0.0                  0.0   \n",
       "Hermannus Diels             0.0        0.0                  0.0   \n",
       "Philostratus Minor          0.0        0.0                  0.0   \n",
       "\n",
       "                        Hermannus Diels  Philostratus Minor  \n",
       "Polycarp                            0.0                 0.0  \n",
       "Paul of Tarsus                      0.0                 0.0  \n",
       "Clemens Romanus                     0.0                 0.0  \n",
       "Pseudo-Justinus Martyr              0.0                 0.0  \n",
       "Barnabas                            0.0                 0.0  \n",
       "...                                 ...                 ...  \n",
       "Babrius                             0.0                 0.0  \n",
       "Alciphron                           0.0                 0.0  \n",
       "Xenophon of Ephesus                 0.0                 0.0  \n",
       "Hermannus Diels                     0.0                 0.0  \n",
       "Philostratus Minor                  0.0                 0.0  \n",
       "\n",
       "[269 rows x 269 columns]"
      ]
     },
     "execution_count": 175,
     "metadata": {},
     "output_type": "execute_result"
    }
   ],
   "source": [
    "tfidfs_sim_mat_df = pd.DataFrame(tfidfs_sim_mat, columns=authors, index=authors)\n",
    "tfidfs_sim_mat_df"
   ]
  },
  {
   "cell_type": "code",
   "execution_count": 176,
   "metadata": {},
   "outputs": [
    {
     "data": {
      "text/html": [
       "<div>\n",
       "<style scoped>\n",
       "    .dataframe tbody tr th:only-of-type {\n",
       "        vertical-align: middle;\n",
       "    }\n",
       "\n",
       "    .dataframe tbody tr th {\n",
       "        vertical-align: top;\n",
       "    }\n",
       "\n",
       "    .dataframe thead th {\n",
       "        text-align: right;\n",
       "    }\n",
       "</style>\n",
       "<table border=\"1\" class=\"dataframe\">\n",
       "  <thead>\n",
       "    <tr style=\"text-align: right;\">\n",
       "      <th></th>\n",
       "      <th>Isocrates</th>\n",
       "      <th>Aristotle</th>\n",
       "      <th>Septuaginta</th>\n",
       "      <th>Flavius Josephus</th>\n",
       "      <th>Philo Judaeus</th>\n",
       "      <th>Paul of Tarsus</th>\n",
       "    </tr>\n",
       "  </thead>\n",
       "  <tbody>\n",
       "    <tr>\n",
       "      <th>Isocrates</th>\n",
       "      <td>1.00000</td>\n",
       "      <td>0.50845</td>\n",
       "      <td>0.25758</td>\n",
       "      <td>0.49441</td>\n",
       "      <td>0.57362</td>\n",
       "      <td>0.15754</td>\n",
       "    </tr>\n",
       "    <tr>\n",
       "      <th>Aristotle</th>\n",
       "      <td>0.50845</td>\n",
       "      <td>1.00000</td>\n",
       "      <td>0.26054</td>\n",
       "      <td>0.36762</td>\n",
       "      <td>0.63929</td>\n",
       "      <td>0.15322</td>\n",
       "    </tr>\n",
       "    <tr>\n",
       "      <th>Septuaginta</th>\n",
       "      <td>0.25758</td>\n",
       "      <td>0.26054</td>\n",
       "      <td>1.00000</td>\n",
       "      <td>0.32254</td>\n",
       "      <td>0.30049</td>\n",
       "      <td>0.32178</td>\n",
       "    </tr>\n",
       "    <tr>\n",
       "      <th>Flavius Josephus</th>\n",
       "      <td>0.49441</td>\n",
       "      <td>0.36762</td>\n",
       "      <td>0.32254</td>\n",
       "      <td>1.00000</td>\n",
       "      <td>0.43474</td>\n",
       "      <td>0.23478</td>\n",
       "    </tr>\n",
       "    <tr>\n",
       "      <th>Philo Judaeus</th>\n",
       "      <td>0.57362</td>\n",
       "      <td>0.63929</td>\n",
       "      <td>0.30049</td>\n",
       "      <td>0.43474</td>\n",
       "      <td>1.00000</td>\n",
       "      <td>0.17135</td>\n",
       "    </tr>\n",
       "    <tr>\n",
       "      <th>Paul of Tarsus</th>\n",
       "      <td>0.15754</td>\n",
       "      <td>0.15322</td>\n",
       "      <td>0.32178</td>\n",
       "      <td>0.23478</td>\n",
       "      <td>0.17135</td>\n",
       "      <td>1.00000</td>\n",
       "    </tr>\n",
       "  </tbody>\n",
       "</table>\n",
       "</div>"
      ],
      "text/plain": [
       "                  Isocrates  Aristotle  Septuaginta  Flavius Josephus  \\\n",
       "Isocrates           1.00000    0.50845      0.25758           0.49441   \n",
       "Aristotle           0.50845    1.00000      0.26054           0.36762   \n",
       "Septuaginta         0.25758    0.26054      1.00000           0.32254   \n",
       "Flavius Josephus    0.49441    0.36762      0.32254           1.00000   \n",
       "Philo Judaeus       0.57362    0.63929      0.30049           0.43474   \n",
       "Paul of Tarsus      0.15754    0.15322      0.32178           0.23478   \n",
       "\n",
       "                  Philo Judaeus  Paul of Tarsus  \n",
       "Isocrates               0.57362         0.15754  \n",
       "Aristotle               0.63929         0.15322  \n",
       "Septuaginta             0.30049         0.32178  \n",
       "Flavius Josephus        0.43474         0.23478  \n",
       "Philo Judaeus           1.00000         0.17135  \n",
       "Paul of Tarsus          0.17135         1.00000  "
      ]
     },
     "execution_count": 176,
     "metadata": {},
     "output_type": "execute_result"
    }
   ],
   "source": [
    "prechristian = [\"Isocrates\", \"Aristotle\", \"Septuaginta\", \"Flavius Josephus\", \"Philo Judaeus\", \"Paul of Tarsus\"]\n",
    "tfidfs_prechristian = tfidfs_sim_mat_df[prechristian].loc[prechristian]\n",
    "tfidfs_prechristian"
   ]
  },
  {
   "cell_type": "code",
   "execution_count": 178,
   "metadata": {},
   "outputs": [],
   "source": [
    "tfidfs_prechristian.to_csv(\"../data/tfidfs_prechristian.csv\")\n",
    "# to google sheets: set_with_dataframe(ECCE_AGT_overview.add_worksheet(\"tfidfs_sim_prechristian\", 1, 1), tfidfs_prechristian, include_index=True)"
   ]
  },
  {
   "cell_type": "code",
   "execution_count": 179,
   "metadata": {},
   "outputs": [
    {
     "data": {
      "text/html": [
       "<div>\n",
       "<style scoped>\n",
       "    .dataframe tbody tr th:only-of-type {\n",
       "        vertical-align: middle;\n",
       "    }\n",
       "\n",
       "    .dataframe tbody tr th {\n",
       "        vertical-align: top;\n",
       "    }\n",
       "\n",
       "    .dataframe thead th {\n",
       "        text-align: right;\n",
       "    }\n",
       "</style>\n",
       "<table border=\"1\" class=\"dataframe\">\n",
       "  <thead>\n",
       "    <tr style=\"text-align: right;\">\n",
       "      <th></th>\n",
       "      <th>Isocrates</th>\n",
       "      <th>Aristotle</th>\n",
       "      <th>Septuaginta</th>\n",
       "      <th>Flavius Josephus</th>\n",
       "      <th>Philo Judaeus</th>\n",
       "      <th>Paul of Tarsus</th>\n",
       "    </tr>\n",
       "  </thead>\n",
       "  <tbody>\n",
       "    <tr>\n",
       "      <th>Paul of Tarsus</th>\n",
       "      <td>0.15754</td>\n",
       "      <td>0.15322</td>\n",
       "      <td>0.32178</td>\n",
       "      <td>0.23478</td>\n",
       "      <td>0.17135</td>\n",
       "      <td>1.00000</td>\n",
       "    </tr>\n",
       "    <tr>\n",
       "      <th>Catenae (Novum Testamentum)</th>\n",
       "      <td>0.36156</td>\n",
       "      <td>0.35676</td>\n",
       "      <td>0.54121</td>\n",
       "      <td>0.43365</td>\n",
       "      <td>0.38973</td>\n",
       "      <td>0.57725</td>\n",
       "    </tr>\n",
       "    <tr>\n",
       "      <th>Epiphanius</th>\n",
       "      <td>0.30683</td>\n",
       "      <td>0.32864</td>\n",
       "      <td>0.34203</td>\n",
       "      <td>0.32726</td>\n",
       "      <td>0.33874</td>\n",
       "      <td>0.48311</td>\n",
       "    </tr>\n",
       "    <tr>\n",
       "      <th>Origenes</th>\n",
       "      <td>0.45813</td>\n",
       "      <td>0.46541</td>\n",
       "      <td>0.64137</td>\n",
       "      <td>0.43765</td>\n",
       "      <td>0.49226</td>\n",
       "      <td>0.44051</td>\n",
       "    </tr>\n",
       "    <tr>\n",
       "      <th>Eusebius</th>\n",
       "      <td>0.46744</td>\n",
       "      <td>0.42852</td>\n",
       "      <td>0.63168</td>\n",
       "      <td>0.52857</td>\n",
       "      <td>0.51721</td>\n",
       "      <td>0.36996</td>\n",
       "    </tr>\n",
       "    <tr>\n",
       "      <th>Chronicon Paschale</th>\n",
       "      <td>0.19643</td>\n",
       "      <td>0.15354</td>\n",
       "      <td>0.36495</td>\n",
       "      <td>0.24479</td>\n",
       "      <td>0.18640</td>\n",
       "      <td>0.36756</td>\n",
       "    </tr>\n",
       "    <tr>\n",
       "      <th>Clement of Alexandria</th>\n",
       "      <td>0.38516</td>\n",
       "      <td>0.43333</td>\n",
       "      <td>0.50025</td>\n",
       "      <td>0.39746</td>\n",
       "      <td>0.46209</td>\n",
       "      <td>0.33977</td>\n",
       "    </tr>\n",
       "    <tr>\n",
       "      <th>Clemens Romanus</th>\n",
       "      <td>0.19808</td>\n",
       "      <td>0.12724</td>\n",
       "      <td>0.35355</td>\n",
       "      <td>0.18709</td>\n",
       "      <td>0.22253</td>\n",
       "      <td>0.33376</td>\n",
       "    </tr>\n",
       "    <tr>\n",
       "      <th>Septuaginta</th>\n",
       "      <td>0.25758</td>\n",
       "      <td>0.26054</td>\n",
       "      <td>1.00000</td>\n",
       "      <td>0.32254</td>\n",
       "      <td>0.30049</td>\n",
       "      <td>0.32178</td>\n",
       "    </tr>\n",
       "    <tr>\n",
       "      <th>GNT rest</th>\n",
       "      <td>0.12176</td>\n",
       "      <td>0.14479</td>\n",
       "      <td>0.32968</td>\n",
       "      <td>0.17334</td>\n",
       "      <td>0.15549</td>\n",
       "      <td>0.31477</td>\n",
       "    </tr>\n",
       "    <tr>\n",
       "      <th>Theophilus Antiochenus</th>\n",
       "      <td>0.22476</td>\n",
       "      <td>0.19861</td>\n",
       "      <td>0.32059</td>\n",
       "      <td>0.23779</td>\n",
       "      <td>0.20485</td>\n",
       "      <td>0.30162</td>\n",
       "    </tr>\n",
       "    <tr>\n",
       "      <th>Testamentum Abrahamae</th>\n",
       "      <td>0.12792</td>\n",
       "      <td>0.13900</td>\n",
       "      <td>0.19872</td>\n",
       "      <td>0.13295</td>\n",
       "      <td>0.11795</td>\n",
       "      <td>0.25314</td>\n",
       "    </tr>\n",
       "    <tr>\n",
       "      <th>Justinus Martyr</th>\n",
       "      <td>0.25421</td>\n",
       "      <td>0.23466</td>\n",
       "      <td>0.53805</td>\n",
       "      <td>0.34537</td>\n",
       "      <td>0.30141</td>\n",
       "      <td>0.25246</td>\n",
       "    </tr>\n",
       "    <tr>\n",
       "      <th>John</th>\n",
       "      <td>0.28278</td>\n",
       "      <td>0.30197</td>\n",
       "      <td>0.41738</td>\n",
       "      <td>0.25296</td>\n",
       "      <td>0.42875</td>\n",
       "      <td>0.25163</td>\n",
       "    </tr>\n",
       "    <tr>\n",
       "      <th>Joannes Zonaras</th>\n",
       "      <td>0.25408</td>\n",
       "      <td>0.20759</td>\n",
       "      <td>0.31274</td>\n",
       "      <td>0.39870</td>\n",
       "      <td>0.23154</td>\n",
       "      <td>0.24652</td>\n",
       "    </tr>\n",
       "    <tr>\n",
       "      <th>Hermas</th>\n",
       "      <td>0.29193</td>\n",
       "      <td>0.27296</td>\n",
       "      <td>0.34190</td>\n",
       "      <td>0.27689</td>\n",
       "      <td>0.29074</td>\n",
       "      <td>0.24179</td>\n",
       "    </tr>\n",
       "    <tr>\n",
       "      <th>Suda</th>\n",
       "      <td>0.41992</td>\n",
       "      <td>0.55186</td>\n",
       "      <td>0.28757</td>\n",
       "      <td>0.32683</td>\n",
       "      <td>0.55741</td>\n",
       "      <td>0.23584</td>\n",
       "    </tr>\n",
       "    <tr>\n",
       "      <th>Flavius Josephus</th>\n",
       "      <td>0.49441</td>\n",
       "      <td>0.36762</td>\n",
       "      <td>0.32254</td>\n",
       "      <td>1.00000</td>\n",
       "      <td>0.43474</td>\n",
       "      <td>0.23478</td>\n",
       "    </tr>\n",
       "    <tr>\n",
       "      <th>Plutarch</th>\n",
       "      <td>0.58892</td>\n",
       "      <td>0.62808</td>\n",
       "      <td>0.29879</td>\n",
       "      <td>0.45495</td>\n",
       "      <td>0.70783</td>\n",
       "      <td>0.21212</td>\n",
       "    </tr>\n",
       "    <tr>\n",
       "      <th>Polycarp</th>\n",
       "      <td>0.16649</td>\n",
       "      <td>0.12593</td>\n",
       "      <td>0.16227</td>\n",
       "      <td>0.18786</td>\n",
       "      <td>0.14817</td>\n",
       "      <td>0.20562</td>\n",
       "    </tr>\n",
       "  </tbody>\n",
       "</table>\n",
       "</div>"
      ],
      "text/plain": [
       "                             Isocrates  Aristotle  Septuaginta  \\\n",
       "Paul of Tarsus                 0.15754    0.15322      0.32178   \n",
       "Catenae (Novum Testamentum)    0.36156    0.35676      0.54121   \n",
       "Epiphanius                     0.30683    0.32864      0.34203   \n",
       "Origenes                       0.45813    0.46541      0.64137   \n",
       "Eusebius                       0.46744    0.42852      0.63168   \n",
       "Chronicon Paschale             0.19643    0.15354      0.36495   \n",
       "Clement of Alexandria          0.38516    0.43333      0.50025   \n",
       "Clemens Romanus                0.19808    0.12724      0.35355   \n",
       "Septuaginta                    0.25758    0.26054      1.00000   \n",
       "GNT rest                       0.12176    0.14479      0.32968   \n",
       "Theophilus Antiochenus         0.22476    0.19861      0.32059   \n",
       "Testamentum Abrahamae          0.12792    0.13900      0.19872   \n",
       "Justinus Martyr                0.25421    0.23466      0.53805   \n",
       "John                           0.28278    0.30197      0.41738   \n",
       "Joannes Zonaras                0.25408    0.20759      0.31274   \n",
       "Hermas                         0.29193    0.27296      0.34190   \n",
       "Suda                           0.41992    0.55186      0.28757   \n",
       "Flavius Josephus               0.49441    0.36762      0.32254   \n",
       "Plutarch                       0.58892    0.62808      0.29879   \n",
       "Polycarp                       0.16649    0.12593      0.16227   \n",
       "\n",
       "                             Flavius Josephus  Philo Judaeus  Paul of Tarsus  \n",
       "Paul of Tarsus                        0.23478        0.17135         1.00000  \n",
       "Catenae (Novum Testamentum)           0.43365        0.38973         0.57725  \n",
       "Epiphanius                            0.32726        0.33874         0.48311  \n",
       "Origenes                              0.43765        0.49226         0.44051  \n",
       "Eusebius                              0.52857        0.51721         0.36996  \n",
       "Chronicon Paschale                    0.24479        0.18640         0.36756  \n",
       "Clement of Alexandria                 0.39746        0.46209         0.33977  \n",
       "Clemens Romanus                       0.18709        0.22253         0.33376  \n",
       "Septuaginta                           0.32254        0.30049         0.32178  \n",
       "GNT rest                              0.17334        0.15549         0.31477  \n",
       "Theophilus Antiochenus                0.23779        0.20485         0.30162  \n",
       "Testamentum Abrahamae                 0.13295        0.11795         0.25314  \n",
       "Justinus Martyr                       0.34537        0.30141         0.25246  \n",
       "John                                  0.25296        0.42875         0.25163  \n",
       "Joannes Zonaras                       0.39870        0.23154         0.24652  \n",
       "Hermas                                0.27689        0.29074         0.24179  \n",
       "Suda                                  0.32683        0.55741         0.23584  \n",
       "Flavius Josephus                      1.00000        0.43474         0.23478  \n",
       "Plutarch                              0.45495        0.70783         0.21212  \n",
       "Polycarp                              0.18786        0.14817         0.20562  "
      ]
     },
     "execution_count": 179,
     "metadata": {},
     "output_type": "execute_result"
    }
   ],
   "source": [
    "tfidfs_sim_mat_df[prechristian].sort_values(\"Paul of Tarsus\", ascending=False).head(20)"
   ]
  },
  {
   "cell_type": "code",
   "execution_count": 181,
   "metadata": {},
   "outputs": [],
   "source": [
    "authors_df_c = authors_df[(authors_df[\"provenience\"] == \"christian\") & (authors_df[\"date_avr\"] < 4) & (authors_df[\"dikaiosyne_N\"] > 0)]"
   ]
  },
  {
   "cell_type": "code",
   "execution_count": 182,
   "metadata": {},
   "outputs": [
    {
     "data": {
      "text/html": [
       "<div>\n",
       "<style scoped>\n",
       "    .dataframe tbody tr th:only-of-type {\n",
       "        vertical-align: middle;\n",
       "    }\n",
       "\n",
       "    .dataframe tbody tr th {\n",
       "        vertical-align: top;\n",
       "    }\n",
       "\n",
       "    .dataframe thead th {\n",
       "        text-align: right;\n",
       "    }\n",
       "</style>\n",
       "<table border=\"1\" class=\"dataframe\">\n",
       "  <thead>\n",
       "    <tr style=\"text-align: right;\">\n",
       "      <th></th>\n",
       "      <th>author_id</th>\n",
       "      <th>author</th>\n",
       "      <th>n_titles</th>\n",
       "      <th>titles</th>\n",
       "      <th>filenames</th>\n",
       "      <th>wordcount</th>\n",
       "      <th>lemmata_wordcount</th>\n",
       "      <th>n_sentences</th>\n",
       "      <th>date_probs</th>\n",
       "      <th>date_avr</th>\n",
       "      <th>...</th>\n",
       "      <th>dikaiosyne_N</th>\n",
       "      <th>dikaiosyne_TF</th>\n",
       "      <th>G_sents</th>\n",
       "      <th>G_lems</th>\n",
       "      <th>dikaiosyne_G_sents</th>\n",
       "      <th>dikaiosyne_G_lems</th>\n",
       "      <th>dik_sents_flat</th>\n",
       "      <th>dik_sents_TF</th>\n",
       "      <th>dik_sents_TFIDF</th>\n",
       "      <th>dik_sents_TFIDF_10</th>\n",
       "    </tr>\n",
       "  </thead>\n",
       "  <tbody>\n",
       "    <tr>\n",
       "      <th>175</th>\n",
       "      <td>tlg1622</td>\n",
       "      <td>Polycarp</td>\n",
       "      <td>1</td>\n",
       "      <td>[Epistula ad Philippenses]</td>\n",
       "      <td>[tlg1622.tlg001.1st1K-grc1.xml]</td>\n",
       "      <td>1804</td>\n",
       "      <td>951</td>\n",
       "      <td>212</td>\n",
       "      <td>{'0.5': 0.5, '1.5': 0.5}</td>\n",
       "      <td>1.0</td>\n",
       "      <td>...</td>\n",
       "      <td>8</td>\n",
       "      <td>0.004435</td>\n",
       "      <td>(υεμ, πᾶς, ἐλεήμων, τόπος, γράφω, παυλυς, νος,...</td>\n",
       "      <td>(μένω, μίμνω, γῆρυς, ἀθάνατος, λευκός, μέλας, ...</td>\n",
       "      <td>(πᾶς, ἁμαρτία, φιλαργυρία, πίστις, δικαιοσύνη,...</td>\n",
       "      <td>()</td>\n",
       "      <td>[μακάριος, πτωχός, διώκω, εἰμί, βασιλεία, θεάο...</td>\n",
       "      <td>[(εἰμί, 0.04651), (οὗτος, 0.04651), (ἐντολή, 0...</td>\n",
       "      <td>[(οὗτος, 0.19805), (ἐντολή, 0.18466), (πτωχός,...</td>\n",
       "      <td>οὗτος, ἐντολή, πτωχός, διώκω, θεάομαι, ἀδελφός...</td>\n",
       "    </tr>\n",
       "    <tr>\n",
       "      <th>35</th>\n",
       "      <td>tlg0031paul</td>\n",
       "      <td>Paul of Tarsus</td>\n",
       "      <td>7</td>\n",
       "      <td>[Romans, 1 Corinthians, 2 Corinthians, Galatia...</td>\n",
       "      <td>[tlg0031.tlg006.perseus-grc2.xml, tlg0031.tlg0...</td>\n",
       "      <td>24066</td>\n",
       "      <td>11089</td>\n",
       "      <td>1632</td>\n",
       "      <td>{'0.5': 1}</td>\n",
       "      <td>0.5</td>\n",
       "      <td>...</td>\n",
       "      <td>49</td>\n",
       "      <td>0.002036</td>\n",
       "      <td>(παράκειμαι, δίκαιος, εὐφραίνω, πάσχα, κλέπτω,...</td>\n",
       "      <td>(Χριστός, Ἰησοῦς, κύριος, θεός, χάρις, πατήρ, ...</td>\n",
       "      <td>(σάρξ, κύριος, χριστός, δικαιοσύνη, θεός, εἰμί...</td>\n",
       "      <td>(Χριστός, θεός, χάρις, πατήρ, εἰμί, πνεῦμα, εἰ...</td>\n",
       "      <td>[θεός, ἀποκαλύπτω, πίστις, πίστις, γράφω, δίκα...</td>\n",
       "      <td>[(θεός, 0.04675), (πίστις, 0.04156), (νόμος, 0...</td>\n",
       "      <td>[(πίστις, 0.12745), (ἁμαρτία, 0.11192), (νόμος...</td>\n",
       "      <td>πίστις, ἁμαρτία, νόμος, λογίζομαι, θεός, βασιλ...</td>\n",
       "    </tr>\n",
       "    <tr>\n",
       "      <th>156</th>\n",
       "      <td>tlg1271</td>\n",
       "      <td>Clemens Romanus</td>\n",
       "      <td>2</td>\n",
       "      <td>[Epistula I ad Corinthios, Epistula II ad Cori...</td>\n",
       "      <td>[tlg1271.tlg001.1st1K-grc1.xml, tlg1271.tlg002...</td>\n",
       "      <td>13936</td>\n",
       "      <td>6290</td>\n",
       "      <td>1410</td>\n",
       "      <td>{'0.5': 1}</td>\n",
       "      <td>0.5</td>\n",
       "      <td>...</td>\n",
       "      <td>21</td>\n",
       "      <td>0.001507</td>\n",
       "      <td>(χιών, εὐφραίνω, δίκαιος, ἀναγγέλλουσιν, κενόω...</td>\n",
       "      <td>(δύσις, ἑῷος, ἀνατέλλω, ἥλιος, αβγ, κύκλος, φα...</td>\n",
       "      <td>(σημεῖον, γίγνομαι, σάρξ, ὁμόνοια, ἀγάπη, κύρι...</td>\n",
       "      <td>()</td>\n",
       "      <td>[οὗτος, ἄπειμι, εἰρήνη, ἀπολιμπάνω, ἕκαστος, φ...</td>\n",
       "      <td>[(θεός, 0.02871), (πίστις, 0.02392), (γίγνομαι...</td>\n",
       "      <td>[(καυχάομαι, 0.10409), (πίστις, 0.10181), (πύλ...</td>\n",
       "      <td>καυχάομαι, πίστις, πύλη, θεός, δύσις, ἀγάπη, π...</td>\n",
       "    </tr>\n",
       "    <tr>\n",
       "      <th>152</th>\n",
       "      <td>tlg1216</td>\n",
       "      <td>Barnabas</td>\n",
       "      <td>1</td>\n",
       "      <td>[The Epistle of Barnabas]</td>\n",
       "      <td>[tlg1216.tlg001.perseus-grc2.xml]</td>\n",
       "      <td>7440</td>\n",
       "      <td>3450</td>\n",
       "      <td>875</td>\n",
       "      <td>{'0.5': 0.5, '1.5': 0.5}</td>\n",
       "      <td>1.0</td>\n",
       "      <td>...</td>\n",
       "      <td>9</td>\n",
       "      <td>0.001210</td>\n",
       "      <td>(δάμαλις, ἐγκαταλίπῃς, καταβαίνω, τριακόσιοι, ...</td>\n",
       "      <td>(γίγνομαι, κίνησις, μέρος, οὗτος, πολύς, χράω,...</td>\n",
       "      <td>(δίκαιος, μνημονεύω, γῆ, γάλα, καρδία, λαμβάνω...</td>\n",
       "      <td>()</td>\n",
       "      <td>[πείθω, οὗτος, σύνοιδα, λαλέω, πολύς, ἐπίσταμα...</td>\n",
       "      <td>[(ὁδός, 0.0411), (κύριος, 0.0274), (θεός, 0.02...</td>\n",
       "      <td>[(ὁδός, 0.17298), (σκότος, 0.13651), (ἀγαθός, ...</td>\n",
       "      <td>ὁδός, σκότος, ἀγαθός, σύνοιδα, ἐπίσταμαι, συνώ...</td>\n",
       "    </tr>\n",
       "    <tr>\n",
       "      <th>164</th>\n",
       "      <td>tlg1419</td>\n",
       "      <td>Hermas</td>\n",
       "      <td>1</td>\n",
       "      <td>[The Shepherd of Hermas]</td>\n",
       "      <td>[tlg1419.tlg001.1st1K-grc1.xml]</td>\n",
       "      <td>30282</td>\n",
       "      <td>14340</td>\n",
       "      <td>2959</td>\n",
       "      <td>{'1.5': 1}</td>\n",
       "      <td>1.5</td>\n",
       "      <td>...</td>\n",
       "      <td>33</td>\n",
       "      <td>0.001090</td>\n",
       "      <td>(χιών, περιγίγνομαι, ἀσελγέσι, τίβεριν, εὐφραί...</td>\n",
       "      <td>(πέμπω, ἐφόδιον, αὐτός, καιρός, παροικία, ἐπισ...</td>\n",
       "      <td>(κύριος, ἄγγελος, οὗτος, ἔχω, πονηρός, δικαιοσ...</td>\n",
       "      <td>()</td>\n",
       "      <td>[λέγω, προηγουμένοις, ἐκκλησία, κατορθώσωνται,...</td>\n",
       "      <td>[(ἄγγελος, 0.03333), (ἐργάζομαι, 0.03), (εἰμί,...</td>\n",
       "      <td>[(ἄγγελος, 0.12433), (ἐργάζομαι, 0.12302), (ἀρ...</td>\n",
       "      <td>ἄγγελος, ἐργάζομαι, ἀρετή, ἔργον, ἀλήθεια, πον...</td>\n",
       "    </tr>\n",
       "    <tr>\n",
       "      <th>36</th>\n",
       "      <td>tlg0031pspa</td>\n",
       "      <td>Pauline literature</td>\n",
       "      <td>6</td>\n",
       "      <td>[Ephesians, Colossians, 2 Thessalonians, 1 Tim...</td>\n",
       "      <td>[tlg0031.tlg010.perseus-grc2.xml, tlg0031.tlg0...</td>\n",
       "      <td>8324</td>\n",
       "      <td>4103</td>\n",
       "      <td>390</td>\n",
       "      <td>{'0.5': 1}</td>\n",
       "      <td>0.5</td>\n",
       "      <td>...</td>\n",
       "      <td>8</td>\n",
       "      <td>0.000961</td>\n",
       "      <td>(βλασφημία, Λουκᾶς, καταβαίνω, ἀντιλαμβάνω, φρ...</td>\n",
       "      <td>(Χριστός, Ἰησοῦς, κύριος, θεός, πατήρ, ἀγαθός,...</td>\n",
       "      <td>(πᾶς, ἄνθρωπος, πίστις, δικαιοσύνη, θεός, ἀγάπ...</td>\n",
       "      <td>(Χριστός, Ἰησοῦς, θεός, ἔργον, πίστις, λόγος, ...</td>\n",
       "      <td>[μανθάνω, χριστός, ἀκούω, διδάσκω, ἀλήθεια, Ἰη...</td>\n",
       "      <td>[(ἀλήθεια, 0.03252), (ἄνθρωπος, 0.02439), (θεό...</td>\n",
       "      <td>[(ἀλήθεια, 0.0935), (διώκω, 0.07915), (ἐνδύω, ...</td>\n",
       "      <td>ἀλήθεια, διώκω, ἐνδύω, φῶς, ἐπιθυμία, ἄνθρωπος...</td>\n",
       "    </tr>\n",
       "    <tr>\n",
       "      <th>37</th>\n",
       "      <td>tlg0031rest</td>\n",
       "      <td>GNT rest</td>\n",
       "      <td>6</td>\n",
       "      <td>[Hebrews, James, 1 Peter, 2 Peter, Jude, Revel...</td>\n",
       "      <td>[tlg0031.tlg019.perseus-grc2.xml, tlg0031.tlg0...</td>\n",
       "      <td>19782</td>\n",
       "      <td>9755</td>\n",
       "      <td>1037</td>\n",
       "      <td>{'0.5': 1}</td>\n",
       "      <td>0.5</td>\n",
       "      <td>...</td>\n",
       "      <td>17</td>\n",
       "      <td>0.000859</td>\n",
       "      <td>(χισεδέκ, χιών, πάσχα, δίκαιος, εὐφραίνω, κλύδ...</td>\n",
       "      <td>(εἰσέρχομαι, κατάπαυσις, εἰμί, οὗτος, υἱός, πν...</td>\n",
       "      <td>(δίκαιος, μέγας, κύριος, ἱερεύς, οὗτος, χριστό...</td>\n",
       "      <td>(εἰμί, θεός, κύριος, Μελχισέδεκ, γίγνομαι, λαλ...</td>\n",
       "      <td>[ἀγαπάω, μισέω, ἀνομία, μετέχω, γάλα, ἄπειρος,...</td>\n",
       "      <td>[(θεός, 0.02703), (πίστις, 0.02317), (βασιλεύς...</td>\n",
       "      <td>[(βασιλεύς, 0.07352), (πίστις, 0.0668), (δίκαι...</td>\n",
       "      <td>βασιλεύς, πίστις, δίκαιος, Σαλήμ, βραδύς, φείδ...</td>\n",
       "    </tr>\n",
       "    <tr>\n",
       "      <th>158</th>\n",
       "      <td>tlg1311</td>\n",
       "      <td>Didache</td>\n",
       "      <td>1</td>\n",
       "      <td>[Didache XII Apostolorum]</td>\n",
       "      <td>[tlg1311.tlg001.1st1K-grc1.xml]</td>\n",
       "      <td>2377</td>\n",
       "      <td>1049</td>\n",
       "      <td>284</td>\n",
       "      <td>{'1.5': 1}</td>\n",
       "      <td>1.5</td>\n",
       "      <td>...</td>\n",
       "      <td>2</td>\n",
       "      <td>0.000841</td>\n",
       "      <td>(βλασφημία, ἐγκαταλίπῃς, θυμικός, πραΰς, πᾶς, ...</td>\n",
       "      <td>(δῆλος, ἅπας, κακός, πόλεμος, πρῶτος, σελίς, τ...</td>\n",
       "      <td>(δεχθήτω, δικαιοσύνη, ἔρχομαι, κύριος, προστίθ...</td>\n",
       "      <td>()</td>\n",
       "      <td>[διῶκται, ἀγαθός, μισέω, ἀλήθεια, ἀγαπῶντες, ψ...</td>\n",
       "      <td>[(κύριος, 0.14286), (διῶκται, 0.07143), (ἀγαθό...</td>\n",
       "      <td>[(διῶκται, 0.4035), (ψεῦδος, 0.4035), (κύριος,...</td>\n",
       "      <td>διῶκται, ψεῦδος, κύριος, ἀγαπῶντες, μισθός, πρ...</td>\n",
       "    </tr>\n",
       "    <tr>\n",
       "      <th>129</th>\n",
       "      <td>tlg0645</td>\n",
       "      <td>Justinus Martyr</td>\n",
       "      <td>3</td>\n",
       "      <td>[Apologia, Apology II, Dialogus cum Tryphone]</td>\n",
       "      <td>[tlg0645.tlg001.opp-grc1.xml, tlg0645.tlg002.p...</td>\n",
       "      <td>73449</td>\n",
       "      <td>34006</td>\n",
       "      <td>5829</td>\n",
       "      <td>{'1.5': 1}</td>\n",
       "      <td>1.5</td>\n",
       "      <td>...</td>\n",
       "      <td>45</td>\n",
       "      <td>0.000613</td>\n",
       "      <td>(ψάλλοντας, ἡτοιμασμένα, χιών, ἀναισθησία, κεν...</td>\n",
       "      <td>(λέγω, οὗτος, φημί, βασιλεύς, πολύς, σοφός, ἀν...</td>\n",
       "      <td>(οὗτος, κρίσις, λέγω, εἰμί, πᾶς, λαός, βασιλεύ...</td>\n",
       "      <td>(λέγω, οὗτος, φημί, πολύς, ἀνήρ, εἰμί, ὁράω, α...</td>\n",
       "      <td>[λέγω, εὐσεβής, φιλόσοφος, φύλαξ, ἐραστής, παι...</td>\n",
       "      <td>[(θεός, 0.03846), (κρίσις, 0.01795), (λαός, 0....</td>\n",
       "      <td>[(κρίσις, 0.08306), (θεός, 0.08202), (εἰρήνη, ...</td>\n",
       "      <td>κρίσις, θεός, εἰρήνη, δίδωμι, εὐσέβεια, πεπεδη...</td>\n",
       "    </tr>\n",
       "    <tr>\n",
       "      <th>150</th>\n",
       "      <td>tlg1205</td>\n",
       "      <td>Athenagoras</td>\n",
       "      <td>2</td>\n",
       "      <td>[Supplication pro Christianis, De resurrectione]</td>\n",
       "      <td>[tlg1205.tlg001.perseus-grc2.xml, tlg1205.tlg0...</td>\n",
       "      <td>20210</td>\n",
       "      <td>9819</td>\n",
       "      <td>808</td>\n",
       "      <td>{'1.5': 1}</td>\n",
       "      <td>1.5</td>\n",
       "      <td>...</td>\n",
       "      <td>12</td>\n",
       "      <td>0.000594</td>\n",
       "      <td>(ἐῤῥάγη, ἄθεος, παράκειμαι, δίκαιος, διανέμω, ...</td>\n",
       "      <td>(δηλόω, ἀνήρ, σημεῖον, ἄλλος, σημαίνω, εἰμί, ο...</td>\n",
       "      <td>(σῶμα, ψυχή, γίγνομαι, οὗτος, λόγος, ἔχω, δικα...</td>\n",
       "      <td>(ἀνήρ, θρίξ, μαλακός, βαρύς, μέτωπον, βλέφαρον...</td>\n",
       "      <td>[ὑμέτερος, ἄλλος, αἰτία, λαμβάνω, ἀδίκημα, πρό...</td>\n",
       "      <td>[(ἄνθρωπος, 0.02888), (ἔχω, 0.02166), (ψυχή, 0...</td>\n",
       "      <td>[(δίδωμι, 0.07665), (νόμος, 0.06069), (ψυχή, 0...</td>\n",
       "      <td>δίδωμι, νόμος, ψυχή, ἄνθρωπος, ἔχω, ἀποχή, κρί...</td>\n",
       "    </tr>\n",
       "    <tr>\n",
       "      <th>179</th>\n",
       "      <td>tlg1725</td>\n",
       "      <td>Theophilus Antiochenus</td>\n",
       "      <td>1</td>\n",
       "      <td>[Ad Autolycum]</td>\n",
       "      <td>[tlg1725.tlg001.perseus-grc2.xml]</td>\n",
       "      <td>21548</td>\n",
       "      <td>10945</td>\n",
       "      <td>1300</td>\n",
       "      <td>{'1.5': 1}</td>\n",
       "      <td>1.5</td>\n",
       "      <td>...</td>\n",
       "      <td>9</td>\n",
       "      <td>0.000418</td>\n",
       "      <td>(προσκυνεῖθαι, χιών, τεθνηκότων, πυθομένου, εἰ...</td>\n",
       "      <td>(οὗτος, παῖς, γράφω, μικρός, ὕστερος, αὐτός, ἔ...</td>\n",
       "      <td>(γίγνομαι, οὐρανός, ποιέω, ἔχω, διδάσκω, γῆ, λ...</td>\n",
       "      <td>(χαροπός, πράσσω, ἥκιστος, ἐργάζομαι, ὑπόμβρου...</td>\n",
       "      <td>[θάλασσα, ἔχω, ποταμός, πηγή, ἐπίῤῥυσιν, ἐπιχο...</td>\n",
       "      <td>[(θεός, 0.04762), (νόμος, 0.03175), (προφήτης,...</td>\n",
       "      <td>[(νόμος, 0.12808), (βραβεύω, 0.10281), (ἀδικία...</td>\n",
       "      <td>νόμος, βραβεύω, ἀδικία, πράσσω, προφήτης, ἁμαρ...</td>\n",
       "    </tr>\n",
       "    <tr>\n",
       "      <th>31</th>\n",
       "      <td>tlg0031matt</td>\n",
       "      <td>Matthew</td>\n",
       "      <td>1</td>\n",
       "      <td>[Matthew]</td>\n",
       "      <td>[tlg0031.tlg001.perseus-grc2.xml]</td>\n",
       "      <td>18288</td>\n",
       "      <td>8526</td>\n",
       "      <td>1276</td>\n",
       "      <td>{'0.5': 1}</td>\n",
       "      <td>0.5</td>\n",
       "      <td>...</td>\n",
       "      <td>7</td>\n",
       "      <td>0.000383</td>\n",
       "      <td>(χιών, ἑκατόνταρχος, φραγμός, φορτίζω, δίκαιος...</td>\n",
       "      <td>(λέγω, Ἰησοῦς, βασιλεία, οὐρανός, υἱός, ἄνθρωπ...</td>\n",
       "      <td>(μακάριος, οὐρανός, κύριος, ποιέω, οὗτος, βασι...</td>\n",
       "      <td>(λέγω, βασιλεία, οὐρανός, ἄνθρωπος, ποιέω, πλη...</td>\n",
       "      <td>[ἀποκρίνω, Ἰησοῦς, λέγω, ἀφίημι, πρέπω, πληρόω...</td>\n",
       "      <td>[(βασιλεία, 0.08333), (λέγω, 0.05556), (μακάρι...</td>\n",
       "      <td>[(βασιλεία, 0.26354), (μακάριος, 0.25925), (πρ...</td>\n",
       "      <td>βασιλεία, μακάριος, πρέπω, πεινῶντες, διψῶντες...</td>\n",
       "    </tr>\n",
       "    <tr>\n",
       "      <th>34</th>\n",
       "      <td>tlg0031john</td>\n",
       "      <td>Johnannine literature</td>\n",
       "      <td>4</td>\n",
       "      <td>[John, 1 John, 2 John, 3 John]</td>\n",
       "      <td>[tlg0031.tlg004.perseus-grc2.xml, tlg0031.tlg0...</td>\n",
       "      <td>18189</td>\n",
       "      <td>8142</td>\n",
       "      <td>1339</td>\n",
       "      <td>{'0.5': 1}</td>\n",
       "      <td>0.5</td>\n",
       "      <td>...</td>\n",
       "      <td>5</td>\n",
       "      <td>0.000275</td>\n",
       "      <td>(βλασφημία, ὑπομιμνῄσκω, καταβαίνω, πάσχα, πᾶς...</td>\n",
       "      <td>(λέγω, Ἰησοῦς, οὗτος, ἀποκρίνω, εἰμί, πιστεύω,...</td>\n",
       "      <td>(δίκαιος, ἁμαρτία, δικαιοσύνη, κόσμος, θεός, π...</td>\n",
       "      <td>(λέγω, Ἰησοῦς, οὗτος, εἰμί, πιστεύω, θεός, ἔχω...</td>\n",
       "      <td>[ἔρχομαι, ἐκεῖνος, ἐλέγχω, κόσμος, ἁμαρτία, κρ...</td>\n",
       "      <td>[(δίκαιος, 0.125), (εἰμί, 0.125), (ποιέω, 0.12...</td>\n",
       "      <td>[(δίκαιος, 0.64003), (ποιέω, 0.30904), (ἐλέγχω...</td>\n",
       "      <td>δίκαιος, ποιέω, ἐλέγχω, κρίσις, εἰμί, γεννάω, ...</td>\n",
       "    </tr>\n",
       "    <tr>\n",
       "      <th>33</th>\n",
       "      <td>tlg0031luke</td>\n",
       "      <td>Luke (the evangelist)</td>\n",
       "      <td>2</td>\n",
       "      <td>[Luke, Acts]</td>\n",
       "      <td>[tlg0031.tlg003.perseus-grc2.xml, tlg0031.tlg0...</td>\n",
       "      <td>37864</td>\n",
       "      <td>18113</td>\n",
       "      <td>2234</td>\n",
       "      <td>{'0.5': 1}</td>\n",
       "      <td>0.5</td>\n",
       "      <td>...</td>\n",
       "      <td>5</td>\n",
       "      <td>0.000132</td>\n",
       "      <td>(σεβαστός, ὑπομιμνῄσκω, Μαθθίας, φραγμός, Παμφ...</td>\n",
       "      <td>(κύριος, λέγω, πνεῦμα, ἅγιος, Ἰησοῦς, οὗτος, γ...</td>\n",
       "      <td>(γίγνομαι, κύριος, ποιέω, οὗτος, ἐχθρός, δικαι...</td>\n",
       "      <td>(κύριος, λέγω, οὗτος, γίγνομαι, ἡμέρα, θεός, ε...</td>\n",
       "      <td>[Ζαχαρίας, πατήρ, πίμπλημι, πνεῦμα, ἅγιος, προ...</td>\n",
       "      <td>[(πᾶς, 0.04386), (ἅγιος, 0.03509), (πατήρ, 0.0...</td>\n",
       "      <td>[(ἐχθρός, 0.14511), (ἅγιος, 0.12101), (πᾶς, 0....</td>\n",
       "      <td>ἐχθρός, ἅγιος, πᾶς, σωτηρία, πατήρ, στόμα, πίμ...</td>\n",
       "    </tr>\n",
       "    <tr>\n",
       "      <th>166</th>\n",
       "      <td>tlg1443</td>\n",
       "      <td>Ignatius Antiochenus</td>\n",
       "      <td>7</td>\n",
       "      <td>[Ad Ephesios (epist. 1), Ad Magnesios (epist. ...</td>\n",
       "      <td>[tlg1443.tlg004.1st1K-grc1.xml, tlg1443.tlg005...</td>\n",
       "      <td>8396</td>\n",
       "      <td>3919</td>\n",
       "      <td>790</td>\n",
       "      <td>{'0.5': 0.5, '1.5': 0.5}</td>\n",
       "      <td>1.0</td>\n",
       "      <td>...</td>\n",
       "      <td>1</td>\n",
       "      <td>0.000119</td>\n",
       "      <td>(χρῆσις, βλασφημία, πέτρα, κατοικέω, ἄθεος, πᾶ...</td>\n",
       "      <td>(δημοσθένης, κτησιφῶντος, κύριος, ὄνομα, φιλιπ...</td>\n",
       "      <td>()</td>\n",
       "      <td>()</td>\n",
       "      <td>[Ἰωάν(ν)ης, πληρόω]</td>\n",
       "      <td>[(Ἰωάν(ν)ης, 0.5), (πληρόω, 0.5)]</td>\n",
       "      <td>[(Ἰωάν(ν)ης, 3.33602), (πληρόω, 2.98944)]</td>\n",
       "      <td>Ἰωάν(ν)ης, πληρόω</td>\n",
       "    </tr>\n",
       "    <tr>\n",
       "      <th>107</th>\n",
       "      <td>tlg0563</td>\n",
       "      <td>Maximus of Tyre</td>\n",
       "      <td>1</td>\n",
       "      <td>[Dialexeis]</td>\n",
       "      <td>[tlg0563.tlg001.1st1K-grc1.xml]</td>\n",
       "      <td>118960</td>\n",
       "      <td>50202</td>\n",
       "      <td>22598</td>\n",
       "      <td>{'1.5': 1}</td>\n",
       "      <td>1.5</td>\n",
       "      <td>...</td>\n",
       "      <td>10</td>\n",
       "      <td>0.000084</td>\n",
       "      <td>(χιών, ἀναπλάττει, συνέμποροι, εὐλα, ψιλός, πτ...</td>\n",
       "      <td>(εἰμί, οὗτος, κακός, ἀγαθός, λέγω, ἄλλος, οὐδε...</td>\n",
       "      <td>(οὗτος, ἐλεύθερος, λέγω, εἰμί, πᾶς, ἐλάσσων, ἄ...</td>\n",
       "      <td>(εἰμί, οὗτος, λέγω, ἄλλος, οὐδείς, ἔχω, αὐτός,...</td>\n",
       "      <td>[ἀδίκημα, θηρίον, καθαρτής, οὗτος, τύραννος, σ...</td>\n",
       "      <td>[(οὗτος, 0.08163), (τύραννος, 0.04082), (ἀδικί...</td>\n",
       "      <td>[(ἀδικία, 0.29357), (οὗτος, 0.28576), (τύραννο...</td>\n",
       "      <td>ἀδικία, οὗτος, τύραννος, ἐλευθερωτής, βεβαιωτή...</td>\n",
       "    </tr>\n",
       "    <tr>\n",
       "      <th>167</th>\n",
       "      <td>tlg1447</td>\n",
       "      <td>Irenaeus</td>\n",
       "      <td>1</td>\n",
       "      <td>[Libros quinque adversus haereses]</td>\n",
       "      <td>[tlg1447.tlg001.1st1K-grc1.xml]</td>\n",
       "      <td>24651</td>\n",
       "      <td>10517</td>\n",
       "      <td>4525</td>\n",
       "      <td>{'1.5': 1}</td>\n",
       "      <td>1.5</td>\n",
       "      <td>...</td>\n",
       "      <td>1</td>\n",
       "      <td>0.000041</td>\n",
       "      <td>(ὀνειροπόμπους, εἰσηγήσαντο, ἀλληγορία, φορτίζ...</td>\n",
       "      <td>(εἰμί, ὅμοιος, σχέσις, κοινός, στίχος, οἷος, ἀ...</td>\n",
       "      <td>(γίγνομαι, οὗτος, λόγος, δικαιοσύνη, λέγω, πᾶς...</td>\n",
       "      <td>()</td>\n",
       "      <td>[κᾀκεῖνον, πολύς, μέρος, ὁμολογήσαντα, ποιέω, ...</td>\n",
       "      <td>[(γίγνομαι, 0.125), (κᾀκεῖνον, 0.0625), (πολύς...</td>\n",
       "      <td>[(ὁμολογήσαντα, 0.52609), (θελήσαντα, 0.52609)...</td>\n",
       "      <td>ὁμολογήσαντα, θελήσαντα, ἡττηθέντα, κᾀκεῖνον, ...</td>\n",
       "    </tr>\n",
       "  </tbody>\n",
       "</table>\n",
       "<p>17 rows × 23 columns</p>\n",
       "</div>"
      ],
      "text/plain": [
       "       author_id                  author  n_titles  \\\n",
       "175      tlg1622                Polycarp         1   \n",
       "35   tlg0031paul          Paul of Tarsus         7   \n",
       "156      tlg1271         Clemens Romanus         2   \n",
       "152      tlg1216                Barnabas         1   \n",
       "164      tlg1419                  Hermas         1   \n",
       "36   tlg0031pspa      Pauline literature         6   \n",
       "37   tlg0031rest                GNT rest         6   \n",
       "158      tlg1311                 Didache         1   \n",
       "129      tlg0645         Justinus Martyr         3   \n",
       "150      tlg1205             Athenagoras         2   \n",
       "179      tlg1725  Theophilus Antiochenus         1   \n",
       "31   tlg0031matt                 Matthew         1   \n",
       "34   tlg0031john   Johnannine literature         4   \n",
       "33   tlg0031luke   Luke (the evangelist)         2   \n",
       "166      tlg1443    Ignatius Antiochenus         7   \n",
       "107      tlg0563         Maximus of Tyre         1   \n",
       "167      tlg1447                Irenaeus         1   \n",
       "\n",
       "                                                titles  \\\n",
       "175                         [Epistula ad Philippenses]   \n",
       "35   [Romans, 1 Corinthians, 2 Corinthians, Galatia...   \n",
       "156  [Epistula I ad Corinthios, Epistula II ad Cori...   \n",
       "152                          [The Epistle of Barnabas]   \n",
       "164                           [The Shepherd of Hermas]   \n",
       "36   [Ephesians, Colossians, 2 Thessalonians, 1 Tim...   \n",
       "37   [Hebrews, James, 1 Peter, 2 Peter, Jude, Revel...   \n",
       "158                          [Didache XII Apostolorum]   \n",
       "129      [Apologia, Apology II, Dialogus cum Tryphone]   \n",
       "150   [Supplication pro Christianis, De resurrectione]   \n",
       "179                                     [Ad Autolycum]   \n",
       "31                                           [Matthew]   \n",
       "34                      [John, 1 John, 2 John, 3 John]   \n",
       "33                                        [Luke, Acts]   \n",
       "166  [Ad Ephesios (epist. 1), Ad Magnesios (epist. ...   \n",
       "107                                        [Dialexeis]   \n",
       "167                 [Libros quinque adversus haereses]   \n",
       "\n",
       "                                             filenames  wordcount  \\\n",
       "175                    [tlg1622.tlg001.1st1K-grc1.xml]       1804   \n",
       "35   [tlg0031.tlg006.perseus-grc2.xml, tlg0031.tlg0...      24066   \n",
       "156  [tlg1271.tlg001.1st1K-grc1.xml, tlg1271.tlg002...      13936   \n",
       "152                  [tlg1216.tlg001.perseus-grc2.xml]       7440   \n",
       "164                    [tlg1419.tlg001.1st1K-grc1.xml]      30282   \n",
       "36   [tlg0031.tlg010.perseus-grc2.xml, tlg0031.tlg0...       8324   \n",
       "37   [tlg0031.tlg019.perseus-grc2.xml, tlg0031.tlg0...      19782   \n",
       "158                    [tlg1311.tlg001.1st1K-grc1.xml]       2377   \n",
       "129  [tlg0645.tlg001.opp-grc1.xml, tlg0645.tlg002.p...      73449   \n",
       "150  [tlg1205.tlg001.perseus-grc2.xml, tlg1205.tlg0...      20210   \n",
       "179                  [tlg1725.tlg001.perseus-grc2.xml]      21548   \n",
       "31                   [tlg0031.tlg001.perseus-grc2.xml]      18288   \n",
       "34   [tlg0031.tlg004.perseus-grc2.xml, tlg0031.tlg0...      18189   \n",
       "33   [tlg0031.tlg003.perseus-grc2.xml, tlg0031.tlg0...      37864   \n",
       "166  [tlg1443.tlg004.1st1K-grc1.xml, tlg1443.tlg005...       8396   \n",
       "107                    [tlg0563.tlg001.1st1K-grc1.xml]     118960   \n",
       "167                    [tlg1447.tlg001.1st1K-grc1.xml]      24651   \n",
       "\n",
       "     lemmata_wordcount  n_sentences                date_probs  date_avr  ...  \\\n",
       "175                951          212  {'0.5': 0.5, '1.5': 0.5}       1.0  ...   \n",
       "35               11089         1632                {'0.5': 1}       0.5  ...   \n",
       "156               6290         1410                {'0.5': 1}       0.5  ...   \n",
       "152               3450          875  {'0.5': 0.5, '1.5': 0.5}       1.0  ...   \n",
       "164              14340         2959                {'1.5': 1}       1.5  ...   \n",
       "36                4103          390                {'0.5': 1}       0.5  ...   \n",
       "37                9755         1037                {'0.5': 1}       0.5  ...   \n",
       "158               1049          284                {'1.5': 1}       1.5  ...   \n",
       "129              34006         5829                {'1.5': 1}       1.5  ...   \n",
       "150               9819          808                {'1.5': 1}       1.5  ...   \n",
       "179              10945         1300                {'1.5': 1}       1.5  ...   \n",
       "31                8526         1276                {'0.5': 1}       0.5  ...   \n",
       "34                8142         1339                {'0.5': 1}       0.5  ...   \n",
       "33               18113         2234                {'0.5': 1}       0.5  ...   \n",
       "166               3919          790  {'0.5': 0.5, '1.5': 0.5}       1.0  ...   \n",
       "107              50202        22598                {'1.5': 1}       1.5  ...   \n",
       "167              10517         4525                {'1.5': 1}       1.5  ...   \n",
       "\n",
       "    dikaiosyne_N dikaiosyne_TF  \\\n",
       "175            8      0.004435   \n",
       "35            49      0.002036   \n",
       "156           21      0.001507   \n",
       "152            9      0.001210   \n",
       "164           33      0.001090   \n",
       "36             8      0.000961   \n",
       "37            17      0.000859   \n",
       "158            2      0.000841   \n",
       "129           45      0.000613   \n",
       "150           12      0.000594   \n",
       "179            9      0.000418   \n",
       "31             7      0.000383   \n",
       "34             5      0.000275   \n",
       "33             5      0.000132   \n",
       "166            1      0.000119   \n",
       "107           10      0.000084   \n",
       "167            1      0.000041   \n",
       "\n",
       "                                               G_sents  \\\n",
       "175  (υεμ, πᾶς, ἐλεήμων, τόπος, γράφω, παυλυς, νος,...   \n",
       "35   (παράκειμαι, δίκαιος, εὐφραίνω, πάσχα, κλέπτω,...   \n",
       "156  (χιών, εὐφραίνω, δίκαιος, ἀναγγέλλουσιν, κενόω...   \n",
       "152  (δάμαλις, ἐγκαταλίπῃς, καταβαίνω, τριακόσιοι, ...   \n",
       "164  (χιών, περιγίγνομαι, ἀσελγέσι, τίβεριν, εὐφραί...   \n",
       "36   (βλασφημία, Λουκᾶς, καταβαίνω, ἀντιλαμβάνω, φρ...   \n",
       "37   (χισεδέκ, χιών, πάσχα, δίκαιος, εὐφραίνω, κλύδ...   \n",
       "158  (βλασφημία, ἐγκαταλίπῃς, θυμικός, πραΰς, πᾶς, ...   \n",
       "129  (ψάλλοντας, ἡτοιμασμένα, χιών, ἀναισθησία, κεν...   \n",
       "150  (ἐῤῥάγη, ἄθεος, παράκειμαι, δίκαιος, διανέμω, ...   \n",
       "179  (προσκυνεῖθαι, χιών, τεθνηκότων, πυθομένου, εἰ...   \n",
       "31   (χιών, ἑκατόνταρχος, φραγμός, φορτίζω, δίκαιος...   \n",
       "34   (βλασφημία, ὑπομιμνῄσκω, καταβαίνω, πάσχα, πᾶς...   \n",
       "33   (σεβαστός, ὑπομιμνῄσκω, Μαθθίας, φραγμός, Παμφ...   \n",
       "166  (χρῆσις, βλασφημία, πέτρα, κατοικέω, ἄθεος, πᾶ...   \n",
       "107  (χιών, ἀναπλάττει, συνέμποροι, εὐλα, ψιλός, πτ...   \n",
       "167  (ὀνειροπόμπους, εἰσηγήσαντο, ἀλληγορία, φορτίζ...   \n",
       "\n",
       "                                                G_lems  \\\n",
       "175  (μένω, μίμνω, γῆρυς, ἀθάνατος, λευκός, μέλας, ...   \n",
       "35   (Χριστός, Ἰησοῦς, κύριος, θεός, χάρις, πατήρ, ...   \n",
       "156  (δύσις, ἑῷος, ἀνατέλλω, ἥλιος, αβγ, κύκλος, φα...   \n",
       "152  (γίγνομαι, κίνησις, μέρος, οὗτος, πολύς, χράω,...   \n",
       "164  (πέμπω, ἐφόδιον, αὐτός, καιρός, παροικία, ἐπισ...   \n",
       "36   (Χριστός, Ἰησοῦς, κύριος, θεός, πατήρ, ἀγαθός,...   \n",
       "37   (εἰσέρχομαι, κατάπαυσις, εἰμί, οὗτος, υἱός, πν...   \n",
       "158  (δῆλος, ἅπας, κακός, πόλεμος, πρῶτος, σελίς, τ...   \n",
       "129  (λέγω, οὗτος, φημί, βασιλεύς, πολύς, σοφός, ἀν...   \n",
       "150  (δηλόω, ἀνήρ, σημεῖον, ἄλλος, σημαίνω, εἰμί, ο...   \n",
       "179  (οὗτος, παῖς, γράφω, μικρός, ὕστερος, αὐτός, ἔ...   \n",
       "31   (λέγω, Ἰησοῦς, βασιλεία, οὐρανός, υἱός, ἄνθρωπ...   \n",
       "34   (λέγω, Ἰησοῦς, οὗτος, ἀποκρίνω, εἰμί, πιστεύω,...   \n",
       "33   (κύριος, λέγω, πνεῦμα, ἅγιος, Ἰησοῦς, οὗτος, γ...   \n",
       "166  (δημοσθένης, κτησιφῶντος, κύριος, ὄνομα, φιλιπ...   \n",
       "107  (εἰμί, οὗτος, κακός, ἀγαθός, λέγω, ἄλλος, οὐδε...   \n",
       "167  (εἰμί, ὅμοιος, σχέσις, κοινός, στίχος, οἷος, ἀ...   \n",
       "\n",
       "                                    dikaiosyne_G_sents  \\\n",
       "175  (πᾶς, ἁμαρτία, φιλαργυρία, πίστις, δικαιοσύνη,...   \n",
       "35   (σάρξ, κύριος, χριστός, δικαιοσύνη, θεός, εἰμί...   \n",
       "156  (σημεῖον, γίγνομαι, σάρξ, ὁμόνοια, ἀγάπη, κύρι...   \n",
       "152  (δίκαιος, μνημονεύω, γῆ, γάλα, καρδία, λαμβάνω...   \n",
       "164  (κύριος, ἄγγελος, οὗτος, ἔχω, πονηρός, δικαιοσ...   \n",
       "36   (πᾶς, ἄνθρωπος, πίστις, δικαιοσύνη, θεός, ἀγάπ...   \n",
       "37   (δίκαιος, μέγας, κύριος, ἱερεύς, οὗτος, χριστό...   \n",
       "158  (δεχθήτω, δικαιοσύνη, ἔρχομαι, κύριος, προστίθ...   \n",
       "129  (οὗτος, κρίσις, λέγω, εἰμί, πᾶς, λαός, βασιλεύ...   \n",
       "150  (σῶμα, ψυχή, γίγνομαι, οὗτος, λόγος, ἔχω, δικα...   \n",
       "179  (γίγνομαι, οὐρανός, ποιέω, ἔχω, διδάσκω, γῆ, λ...   \n",
       "31   (μακάριος, οὐρανός, κύριος, ποιέω, οὗτος, βασι...   \n",
       "34   (δίκαιος, ἁμαρτία, δικαιοσύνη, κόσμος, θεός, π...   \n",
       "33   (γίγνομαι, κύριος, ποιέω, οὗτος, ἐχθρός, δικαι...   \n",
       "166                                                 ()   \n",
       "107  (οὗτος, ἐλεύθερος, λέγω, εἰμί, πᾶς, ἐλάσσων, ἄ...   \n",
       "167  (γίγνομαι, οὗτος, λόγος, δικαιοσύνη, λέγω, πᾶς...   \n",
       "\n",
       "                                     dikaiosyne_G_lems  \\\n",
       "175                                                 ()   \n",
       "35   (Χριστός, θεός, χάρις, πατήρ, εἰμί, πνεῦμα, εἰ...   \n",
       "156                                                 ()   \n",
       "152                                                 ()   \n",
       "164                                                 ()   \n",
       "36   (Χριστός, Ἰησοῦς, θεός, ἔργον, πίστις, λόγος, ...   \n",
       "37   (εἰμί, θεός, κύριος, Μελχισέδεκ, γίγνομαι, λαλ...   \n",
       "158                                                 ()   \n",
       "129  (λέγω, οὗτος, φημί, πολύς, ἀνήρ, εἰμί, ὁράω, α...   \n",
       "150  (ἀνήρ, θρίξ, μαλακός, βαρύς, μέτωπον, βλέφαρον...   \n",
       "179  (χαροπός, πράσσω, ἥκιστος, ἐργάζομαι, ὑπόμβρου...   \n",
       "31   (λέγω, βασιλεία, οὐρανός, ἄνθρωπος, ποιέω, πλη...   \n",
       "34   (λέγω, Ἰησοῦς, οὗτος, εἰμί, πιστεύω, θεός, ἔχω...   \n",
       "33   (κύριος, λέγω, οὗτος, γίγνομαι, ἡμέρα, θεός, ε...   \n",
       "166                                                 ()   \n",
       "107  (εἰμί, οὗτος, λέγω, ἄλλος, οὐδείς, ἔχω, αὐτός,...   \n",
       "167                                                 ()   \n",
       "\n",
       "                                        dik_sents_flat  \\\n",
       "175  [μακάριος, πτωχός, διώκω, εἰμί, βασιλεία, θεάο...   \n",
       "35   [θεός, ἀποκαλύπτω, πίστις, πίστις, γράφω, δίκα...   \n",
       "156  [οὗτος, ἄπειμι, εἰρήνη, ἀπολιμπάνω, ἕκαστος, φ...   \n",
       "152  [πείθω, οὗτος, σύνοιδα, λαλέω, πολύς, ἐπίσταμα...   \n",
       "164  [λέγω, προηγουμένοις, ἐκκλησία, κατορθώσωνται,...   \n",
       "36   [μανθάνω, χριστός, ἀκούω, διδάσκω, ἀλήθεια, Ἰη...   \n",
       "37   [ἀγαπάω, μισέω, ἀνομία, μετέχω, γάλα, ἄπειρος,...   \n",
       "158  [διῶκται, ἀγαθός, μισέω, ἀλήθεια, ἀγαπῶντες, ψ...   \n",
       "129  [λέγω, εὐσεβής, φιλόσοφος, φύλαξ, ἐραστής, παι...   \n",
       "150  [ὑμέτερος, ἄλλος, αἰτία, λαμβάνω, ἀδίκημα, πρό...   \n",
       "179  [θάλασσα, ἔχω, ποταμός, πηγή, ἐπίῤῥυσιν, ἐπιχο...   \n",
       "31   [ἀποκρίνω, Ἰησοῦς, λέγω, ἀφίημι, πρέπω, πληρόω...   \n",
       "34   [ἔρχομαι, ἐκεῖνος, ἐλέγχω, κόσμος, ἁμαρτία, κρ...   \n",
       "33   [Ζαχαρίας, πατήρ, πίμπλημι, πνεῦμα, ἅγιος, προ...   \n",
       "166                                [Ἰωάν(ν)ης, πληρόω]   \n",
       "107  [ἀδίκημα, θηρίον, καθαρτής, οὗτος, τύραννος, σ...   \n",
       "167  [κᾀκεῖνον, πολύς, μέρος, ὁμολογήσαντα, ποιέω, ...   \n",
       "\n",
       "                                          dik_sents_TF  \\\n",
       "175  [(εἰμί, 0.04651), (οὗτος, 0.04651), (ἐντολή, 0...   \n",
       "35   [(θεός, 0.04675), (πίστις, 0.04156), (νόμος, 0...   \n",
       "156  [(θεός, 0.02871), (πίστις, 0.02392), (γίγνομαι...   \n",
       "152  [(ὁδός, 0.0411), (κύριος, 0.0274), (θεός, 0.02...   \n",
       "164  [(ἄγγελος, 0.03333), (ἐργάζομαι, 0.03), (εἰμί,...   \n",
       "36   [(ἀλήθεια, 0.03252), (ἄνθρωπος, 0.02439), (θεό...   \n",
       "37   [(θεός, 0.02703), (πίστις, 0.02317), (βασιλεύς...   \n",
       "158  [(κύριος, 0.14286), (διῶκται, 0.07143), (ἀγαθό...   \n",
       "129  [(θεός, 0.03846), (κρίσις, 0.01795), (λαός, 0....   \n",
       "150  [(ἄνθρωπος, 0.02888), (ἔχω, 0.02166), (ψυχή, 0...   \n",
       "179  [(θεός, 0.04762), (νόμος, 0.03175), (προφήτης,...   \n",
       "31   [(βασιλεία, 0.08333), (λέγω, 0.05556), (μακάρι...   \n",
       "34   [(δίκαιος, 0.125), (εἰμί, 0.125), (ποιέω, 0.12...   \n",
       "33   [(πᾶς, 0.04386), (ἅγιος, 0.03509), (πατήρ, 0.0...   \n",
       "166                  [(Ἰωάν(ν)ης, 0.5), (πληρόω, 0.5)]   \n",
       "107  [(οὗτος, 0.08163), (τύραννος, 0.04082), (ἀδικί...   \n",
       "167  [(γίγνομαι, 0.125), (κᾀκεῖνον, 0.0625), (πολύς...   \n",
       "\n",
       "                                       dik_sents_TFIDF  \\\n",
       "175  [(οὗτος, 0.19805), (ἐντολή, 0.18466), (πτωχός,...   \n",
       "35   [(πίστις, 0.12745), (ἁμαρτία, 0.11192), (νόμος...   \n",
       "156  [(καυχάομαι, 0.10409), (πίστις, 0.10181), (πύλ...   \n",
       "152  [(ὁδός, 0.17298), (σκότος, 0.13651), (ἀγαθός, ...   \n",
       "164  [(ἄγγελος, 0.12433), (ἐργάζομαι, 0.12302), (ἀρ...   \n",
       "36   [(ἀλήθεια, 0.0935), (διώκω, 0.07915), (ἐνδύω, ...   \n",
       "37   [(βασιλεύς, 0.07352), (πίστις, 0.0668), (δίκαι...   \n",
       "158  [(διῶκται, 0.4035), (ψεῦδος, 0.4035), (κύριος,...   \n",
       "129  [(κρίσις, 0.08306), (θεός, 0.08202), (εἰρήνη, ...   \n",
       "150  [(δίδωμι, 0.07665), (νόμος, 0.06069), (ψυχή, 0...   \n",
       "179  [(νόμος, 0.12808), (βραβεύω, 0.10281), (ἀδικία...   \n",
       "31   [(βασιλεία, 0.26354), (μακάριος, 0.25925), (πρ...   \n",
       "34   [(δίκαιος, 0.64003), (ποιέω, 0.30904), (ἐλέγχω...   \n",
       "33   [(ἐχθρός, 0.14511), (ἅγιος, 0.12101), (πᾶς, 0....   \n",
       "166          [(Ἰωάν(ν)ης, 3.33602), (πληρόω, 2.98944)]   \n",
       "107  [(ἀδικία, 0.29357), (οὗτος, 0.28576), (τύραννο...   \n",
       "167  [(ὁμολογήσαντα, 0.52609), (θελήσαντα, 0.52609)...   \n",
       "\n",
       "                                    dik_sents_TFIDF_10  \n",
       "175  οὗτος, ἐντολή, πτωχός, διώκω, θεάομαι, ἀδελφός...  \n",
       "35   πίστις, ἁμαρτία, νόμος, λογίζομαι, θεός, βασιλ...  \n",
       "156  καυχάομαι, πίστις, πύλη, θεός, δύσις, ἀγάπη, π...  \n",
       "152  ὁδός, σκότος, ἀγαθός, σύνοιδα, ἐπίσταμαι, συνώ...  \n",
       "164  ἄγγελος, ἐργάζομαι, ἀρετή, ἔργον, ἀλήθεια, πον...  \n",
       "36   ἀλήθεια, διώκω, ἐνδύω, φῶς, ἐπιθυμία, ἄνθρωπος...  \n",
       "37   βασιλεύς, πίστις, δίκαιος, Σαλήμ, βραδύς, φείδ...  \n",
       "158  διῶκται, ψεῦδος, κύριος, ἀγαπῶντες, μισθός, πρ...  \n",
       "129  κρίσις, θεός, εἰρήνη, δίδωμι, εὐσέβεια, πεπεδη...  \n",
       "150  δίδωμι, νόμος, ψυχή, ἄνθρωπος, ἔχω, ἀποχή, κρί...  \n",
       "179  νόμος, βραβεύω, ἀδικία, πράσσω, προφήτης, ἁμαρ...  \n",
       "31   βασιλεία, μακάριος, πρέπω, πεινῶντες, διψῶντες...  \n",
       "34   δίκαιος, ποιέω, ἐλέγχω, κρίσις, εἰμί, γεννάω, ...  \n",
       "33   ἐχθρός, ἅγιος, πᾶς, σωτηρία, πατήρ, στόμα, πίμ...  \n",
       "166                                  Ἰωάν(ν)ης, πληρόω  \n",
       "107  ἀδικία, οὗτος, τύραννος, ἐλευθερωτής, βεβαιωτή...  \n",
       "167  ὁμολογήσαντα, θελήσαντα, ἡττηθέντα, κᾀκεῖνον, ...  \n",
       "\n",
       "[17 rows x 23 columns]"
      ]
     },
     "execution_count": 182,
     "metadata": {},
     "output_type": "execute_result"
    }
   ],
   "source": [
    "authors_df_c_a = authors_df_c[authors_df_c[\"date_avr\"] < 2]\n",
    "authors_df_c_a"
   ]
  },
  {
   "cell_type": "code",
   "execution_count": 183,
   "metadata": {},
   "outputs": [
    {
     "data": {
      "text/plain": [
       "9"
      ]
     },
     "execution_count": 183,
     "metadata": {},
     "output_type": "execute_result"
    }
   ],
   "source": [
    "len(authors_df_c[authors_df_c[\"date_avr\"] >= 2])"
   ]
  },
  {
   "cell_type": "code",
   "execution_count": 185,
   "metadata": {},
   "outputs": [
    {
     "data": {
      "text/html": [
       "<div>\n",
       "<style scoped>\n",
       "    .dataframe tbody tr th:only-of-type {\n",
       "        vertical-align: middle;\n",
       "    }\n",
       "\n",
       "    .dataframe tbody tr th {\n",
       "        vertical-align: top;\n",
       "    }\n",
       "\n",
       "    .dataframe thead th {\n",
       "        text-align: right;\n",
       "    }\n",
       "</style>\n",
       "<table border=\"1\" class=\"dataframe\">\n",
       "  <thead>\n",
       "    <tr style=\"text-align: right;\">\n",
       "      <th></th>\n",
       "      <th>Polycarp</th>\n",
       "      <th>Paul of Tarsus</th>\n",
       "      <th>Clemens Romanus</th>\n",
       "      <th>Pseudo-Justinus Martyr</th>\n",
       "      <th>Barnabas</th>\n",
       "      <th>Hermas</th>\n",
       "      <th>Pauline literature</th>\n",
       "      <th>GNT rest</th>\n",
       "      <th>Didache</th>\n",
       "      <th>Justinus Martyr</th>\n",
       "      <th>...</th>\n",
       "      <th>Athanasius of Alexandria</th>\n",
       "      <th>Luke (the evangelist)</th>\n",
       "      <th>Gregorius Nazianzenus</th>\n",
       "      <th>Ignatius Antiochenus</th>\n",
       "      <th>Basil</th>\n",
       "      <th>Hippolytus</th>\n",
       "      <th>Maximus of Tyre</th>\n",
       "      <th>Irenaeus</th>\n",
       "      <th>Philo Judaeus</th>\n",
       "      <th>Flavius Josephus</th>\n",
       "    </tr>\n",
       "  </thead>\n",
       "  <tbody>\n",
       "    <tr>\n",
       "      <th>Polycarp</th>\n",
       "      <td>1.00</td>\n",
       "      <td>0.21</td>\n",
       "      <td>0.21</td>\n",
       "      <td>0.01</td>\n",
       "      <td>0.07</td>\n",
       "      <td>0.21</td>\n",
       "      <td>0.10</td>\n",
       "      <td>0.15</td>\n",
       "      <td>0.03</td>\n",
       "      <td>0.12</td>\n",
       "      <td>...</td>\n",
       "      <td>0.11</td>\n",
       "      <td>0.09</td>\n",
       "      <td>0.04</td>\n",
       "      <td>0.12</td>\n",
       "      <td>0.04</td>\n",
       "      <td>0.02</td>\n",
       "      <td>0.10</td>\n",
       "      <td>0.04</td>\n",
       "      <td>0.15</td>\n",
       "      <td>0.19</td>\n",
       "    </tr>\n",
       "    <tr>\n",
       "      <th>Paul of Tarsus</th>\n",
       "      <td>0.21</td>\n",
       "      <td>1.00</td>\n",
       "      <td>0.33</td>\n",
       "      <td>0.19</td>\n",
       "      <td>0.18</td>\n",
       "      <td>0.24</td>\n",
       "      <td>0.19</td>\n",
       "      <td>0.31</td>\n",
       "      <td>0.04</td>\n",
       "      <td>0.25</td>\n",
       "      <td>...</td>\n",
       "      <td>0.11</td>\n",
       "      <td>0.17</td>\n",
       "      <td>0.13</td>\n",
       "      <td>0.02</td>\n",
       "      <td>0.19</td>\n",
       "      <td>0.08</td>\n",
       "      <td>0.07</td>\n",
       "      <td>0.05</td>\n",
       "      <td>0.17</td>\n",
       "      <td>0.23</td>\n",
       "    </tr>\n",
       "    <tr>\n",
       "      <th>Clemens Romanus</th>\n",
       "      <td>0.21</td>\n",
       "      <td>0.33</td>\n",
       "      <td>1.00</td>\n",
       "      <td>0.08</td>\n",
       "      <td>0.19</td>\n",
       "      <td>0.28</td>\n",
       "      <td>0.26</td>\n",
       "      <td>0.25</td>\n",
       "      <td>0.06</td>\n",
       "      <td>0.28</td>\n",
       "      <td>...</td>\n",
       "      <td>0.14</td>\n",
       "      <td>0.22</td>\n",
       "      <td>0.18</td>\n",
       "      <td>0.00</td>\n",
       "      <td>0.17</td>\n",
       "      <td>0.07</td>\n",
       "      <td>0.06</td>\n",
       "      <td>0.10</td>\n",
       "      <td>0.22</td>\n",
       "      <td>0.19</td>\n",
       "    </tr>\n",
       "    <tr>\n",
       "      <th>Pseudo-Justinus Martyr</th>\n",
       "      <td>0.01</td>\n",
       "      <td>0.19</td>\n",
       "      <td>0.08</td>\n",
       "      <td>1.00</td>\n",
       "      <td>0.06</td>\n",
       "      <td>0.13</td>\n",
       "      <td>0.11</td>\n",
       "      <td>0.15</td>\n",
       "      <td>0.00</td>\n",
       "      <td>0.13</td>\n",
       "      <td>...</td>\n",
       "      <td>0.09</td>\n",
       "      <td>0.04</td>\n",
       "      <td>0.07</td>\n",
       "      <td>0.00</td>\n",
       "      <td>0.12</td>\n",
       "      <td>0.04</td>\n",
       "      <td>0.08</td>\n",
       "      <td>0.05</td>\n",
       "      <td>0.15</td>\n",
       "      <td>0.15</td>\n",
       "    </tr>\n",
       "    <tr>\n",
       "      <th>Barnabas</th>\n",
       "      <td>0.07</td>\n",
       "      <td>0.18</td>\n",
       "      <td>0.19</td>\n",
       "      <td>0.06</td>\n",
       "      <td>1.00</td>\n",
       "      <td>0.19</td>\n",
       "      <td>0.15</td>\n",
       "      <td>0.16</td>\n",
       "      <td>0.36</td>\n",
       "      <td>0.49</td>\n",
       "      <td>...</td>\n",
       "      <td>0.17</td>\n",
       "      <td>0.16</td>\n",
       "      <td>0.08</td>\n",
       "      <td>0.00</td>\n",
       "      <td>0.08</td>\n",
       "      <td>0.02</td>\n",
       "      <td>0.06</td>\n",
       "      <td>0.07</td>\n",
       "      <td>0.16</td>\n",
       "      <td>0.19</td>\n",
       "    </tr>\n",
       "    <tr>\n",
       "      <th>Hermas</th>\n",
       "      <td>0.21</td>\n",
       "      <td>0.24</td>\n",
       "      <td>0.28</td>\n",
       "      <td>0.13</td>\n",
       "      <td>0.19</td>\n",
       "      <td>1.00</td>\n",
       "      <td>0.24</td>\n",
       "      <td>0.25</td>\n",
       "      <td>0.14</td>\n",
       "      <td>0.23</td>\n",
       "      <td>...</td>\n",
       "      <td>0.18</td>\n",
       "      <td>0.20</td>\n",
       "      <td>0.07</td>\n",
       "      <td>0.00</td>\n",
       "      <td>0.19</td>\n",
       "      <td>0.09</td>\n",
       "      <td>0.09</td>\n",
       "      <td>0.13</td>\n",
       "      <td>0.29</td>\n",
       "      <td>0.28</td>\n",
       "    </tr>\n",
       "    <tr>\n",
       "      <th>Pauline literature</th>\n",
       "      <td>0.10</td>\n",
       "      <td>0.19</td>\n",
       "      <td>0.26</td>\n",
       "      <td>0.11</td>\n",
       "      <td>0.15</td>\n",
       "      <td>0.24</td>\n",
       "      <td>1.00</td>\n",
       "      <td>0.21</td>\n",
       "      <td>0.11</td>\n",
       "      <td>0.22</td>\n",
       "      <td>...</td>\n",
       "      <td>0.22</td>\n",
       "      <td>0.14</td>\n",
       "      <td>0.14</td>\n",
       "      <td>0.00</td>\n",
       "      <td>0.16</td>\n",
       "      <td>0.04</td>\n",
       "      <td>0.02</td>\n",
       "      <td>0.03</td>\n",
       "      <td>0.16</td>\n",
       "      <td>0.15</td>\n",
       "    </tr>\n",
       "    <tr>\n",
       "      <th>GNT rest</th>\n",
       "      <td>0.15</td>\n",
       "      <td>0.31</td>\n",
       "      <td>0.25</td>\n",
       "      <td>0.15</td>\n",
       "      <td>0.16</td>\n",
       "      <td>0.25</td>\n",
       "      <td>0.21</td>\n",
       "      <td>1.00</td>\n",
       "      <td>0.02</td>\n",
       "      <td>0.28</td>\n",
       "      <td>...</td>\n",
       "      <td>0.13</td>\n",
       "      <td>0.19</td>\n",
       "      <td>0.21</td>\n",
       "      <td>0.05</td>\n",
       "      <td>0.13</td>\n",
       "      <td>0.04</td>\n",
       "      <td>0.03</td>\n",
       "      <td>0.03</td>\n",
       "      <td>0.16</td>\n",
       "      <td>0.17</td>\n",
       "    </tr>\n",
       "    <tr>\n",
       "      <th>Didache</th>\n",
       "      <td>0.03</td>\n",
       "      <td>0.04</td>\n",
       "      <td>0.06</td>\n",
       "      <td>0.00</td>\n",
       "      <td>0.36</td>\n",
       "      <td>0.14</td>\n",
       "      <td>0.11</td>\n",
       "      <td>0.02</td>\n",
       "      <td>1.00</td>\n",
       "      <td>0.10</td>\n",
       "      <td>...</td>\n",
       "      <td>0.22</td>\n",
       "      <td>0.08</td>\n",
       "      <td>0.00</td>\n",
       "      <td>0.00</td>\n",
       "      <td>0.06</td>\n",
       "      <td>0.00</td>\n",
       "      <td>0.00</td>\n",
       "      <td>0.00</td>\n",
       "      <td>0.07</td>\n",
       "      <td>0.06</td>\n",
       "    </tr>\n",
       "    <tr>\n",
       "      <th>Justinus Martyr</th>\n",
       "      <td>0.12</td>\n",
       "      <td>0.25</td>\n",
       "      <td>0.28</td>\n",
       "      <td>0.13</td>\n",
       "      <td>0.49</td>\n",
       "      <td>0.23</td>\n",
       "      <td>0.22</td>\n",
       "      <td>0.28</td>\n",
       "      <td>0.10</td>\n",
       "      <td>1.00</td>\n",
       "      <td>...</td>\n",
       "      <td>0.24</td>\n",
       "      <td>0.23</td>\n",
       "      <td>0.16</td>\n",
       "      <td>0.03</td>\n",
       "      <td>0.21</td>\n",
       "      <td>0.09</td>\n",
       "      <td>0.08</td>\n",
       "      <td>0.08</td>\n",
       "      <td>0.30</td>\n",
       "      <td>0.35</td>\n",
       "    </tr>\n",
       "    <tr>\n",
       "      <th>Athenagoras</th>\n",
       "      <td>0.12</td>\n",
       "      <td>0.16</td>\n",
       "      <td>0.15</td>\n",
       "      <td>0.06</td>\n",
       "      <td>0.19</td>\n",
       "      <td>0.22</td>\n",
       "      <td>0.09</td>\n",
       "      <td>0.13</td>\n",
       "      <td>0.05</td>\n",
       "      <td>0.25</td>\n",
       "      <td>...</td>\n",
       "      <td>0.11</td>\n",
       "      <td>0.10</td>\n",
       "      <td>0.12</td>\n",
       "      <td>0.00</td>\n",
       "      <td>0.13</td>\n",
       "      <td>0.10</td>\n",
       "      <td>0.11</td>\n",
       "      <td>0.07</td>\n",
       "      <td>0.35</td>\n",
       "      <td>0.32</td>\n",
       "    </tr>\n",
       "    <tr>\n",
       "      <th>Origenes</th>\n",
       "      <td>0.24</td>\n",
       "      <td>0.44</td>\n",
       "      <td>0.41</td>\n",
       "      <td>0.24</td>\n",
       "      <td>0.29</td>\n",
       "      <td>0.44</td>\n",
       "      <td>0.30</td>\n",
       "      <td>0.38</td>\n",
       "      <td>0.20</td>\n",
       "      <td>0.47</td>\n",
       "      <td>...</td>\n",
       "      <td>0.37</td>\n",
       "      <td>0.29</td>\n",
       "      <td>0.23</td>\n",
       "      <td>0.02</td>\n",
       "      <td>0.43</td>\n",
       "      <td>0.22</td>\n",
       "      <td>0.11</td>\n",
       "      <td>0.13</td>\n",
       "      <td>0.49</td>\n",
       "      <td>0.44</td>\n",
       "    </tr>\n",
       "    <tr>\n",
       "      <th>Theophilus Antiochenus</th>\n",
       "      <td>0.12</td>\n",
       "      <td>0.30</td>\n",
       "      <td>0.22</td>\n",
       "      <td>0.11</td>\n",
       "      <td>0.15</td>\n",
       "      <td>0.20</td>\n",
       "      <td>0.13</td>\n",
       "      <td>0.17</td>\n",
       "      <td>0.05</td>\n",
       "      <td>0.22</td>\n",
       "      <td>...</td>\n",
       "      <td>0.13</td>\n",
       "      <td>0.14</td>\n",
       "      <td>0.18</td>\n",
       "      <td>0.00</td>\n",
       "      <td>0.21</td>\n",
       "      <td>0.13</td>\n",
       "      <td>0.11</td>\n",
       "      <td>0.02</td>\n",
       "      <td>0.20</td>\n",
       "      <td>0.24</td>\n",
       "    </tr>\n",
       "    <tr>\n",
       "      <th>Matthew</th>\n",
       "      <td>0.21</td>\n",
       "      <td>0.15</td>\n",
       "      <td>0.13</td>\n",
       "      <td>0.03</td>\n",
       "      <td>0.08</td>\n",
       "      <td>0.12</td>\n",
       "      <td>0.03</td>\n",
       "      <td>0.10</td>\n",
       "      <td>0.09</td>\n",
       "      <td>0.12</td>\n",
       "      <td>...</td>\n",
       "      <td>0.06</td>\n",
       "      <td>0.06</td>\n",
       "      <td>0.02</td>\n",
       "      <td>0.10</td>\n",
       "      <td>0.06</td>\n",
       "      <td>0.02</td>\n",
       "      <td>0.00</td>\n",
       "      <td>0.04</td>\n",
       "      <td>0.06</td>\n",
       "      <td>0.09</td>\n",
       "    </tr>\n",
       "    <tr>\n",
       "      <th>Clement of Alexandria</th>\n",
       "      <td>0.25</td>\n",
       "      <td>0.34</td>\n",
       "      <td>0.32</td>\n",
       "      <td>0.11</td>\n",
       "      <td>0.32</td>\n",
       "      <td>0.36</td>\n",
       "      <td>0.29</td>\n",
       "      <td>0.25</td>\n",
       "      <td>0.17</td>\n",
       "      <td>0.39</td>\n",
       "      <td>...</td>\n",
       "      <td>0.26</td>\n",
       "      <td>0.26</td>\n",
       "      <td>0.15</td>\n",
       "      <td>0.02</td>\n",
       "      <td>0.27</td>\n",
       "      <td>0.20</td>\n",
       "      <td>0.13</td>\n",
       "      <td>0.12</td>\n",
       "      <td>0.46</td>\n",
       "      <td>0.40</td>\n",
       "    </tr>\n",
       "    <tr>\n",
       "      <th>Eusebius</th>\n",
       "      <td>0.20</td>\n",
       "      <td>0.37</td>\n",
       "      <td>0.33</td>\n",
       "      <td>0.18</td>\n",
       "      <td>0.31</td>\n",
       "      <td>0.35</td>\n",
       "      <td>0.26</td>\n",
       "      <td>0.32</td>\n",
       "      <td>0.15</td>\n",
       "      <td>0.51</td>\n",
       "      <td>...</td>\n",
       "      <td>0.37</td>\n",
       "      <td>0.32</td>\n",
       "      <td>0.22</td>\n",
       "      <td>0.00</td>\n",
       "      <td>0.33</td>\n",
       "      <td>0.21</td>\n",
       "      <td>0.15</td>\n",
       "      <td>0.11</td>\n",
       "      <td>0.52</td>\n",
       "      <td>0.53</td>\n",
       "    </tr>\n",
       "    <tr>\n",
       "      <th>Johnannine literature</th>\n",
       "      <td>0.11</td>\n",
       "      <td>0.17</td>\n",
       "      <td>0.11</td>\n",
       "      <td>0.23</td>\n",
       "      <td>0.08</td>\n",
       "      <td>0.13</td>\n",
       "      <td>0.11</td>\n",
       "      <td>0.24</td>\n",
       "      <td>0.03</td>\n",
       "      <td>0.18</td>\n",
       "      <td>...</td>\n",
       "      <td>0.18</td>\n",
       "      <td>0.07</td>\n",
       "      <td>0.04</td>\n",
       "      <td>0.00</td>\n",
       "      <td>0.17</td>\n",
       "      <td>0.06</td>\n",
       "      <td>0.00</td>\n",
       "      <td>0.07</td>\n",
       "      <td>0.14</td>\n",
       "      <td>0.16</td>\n",
       "    </tr>\n",
       "    <tr>\n",
       "      <th>Epiphanius</th>\n",
       "      <td>0.16</td>\n",
       "      <td>0.48</td>\n",
       "      <td>0.28</td>\n",
       "      <td>0.16</td>\n",
       "      <td>0.22</td>\n",
       "      <td>0.32</td>\n",
       "      <td>0.24</td>\n",
       "      <td>0.24</td>\n",
       "      <td>0.09</td>\n",
       "      <td>0.25</td>\n",
       "      <td>...</td>\n",
       "      <td>0.19</td>\n",
       "      <td>0.19</td>\n",
       "      <td>0.14</td>\n",
       "      <td>0.06</td>\n",
       "      <td>0.20</td>\n",
       "      <td>0.12</td>\n",
       "      <td>0.15</td>\n",
       "      <td>0.17</td>\n",
       "      <td>0.34</td>\n",
       "      <td>0.33</td>\n",
       "    </tr>\n",
       "    <tr>\n",
       "      <th>Athanasius of Alexandria</th>\n",
       "      <td>0.11</td>\n",
       "      <td>0.11</td>\n",
       "      <td>0.14</td>\n",
       "      <td>0.09</td>\n",
       "      <td>0.17</td>\n",
       "      <td>0.18</td>\n",
       "      <td>0.22</td>\n",
       "      <td>0.13</td>\n",
       "      <td>0.22</td>\n",
       "      <td>0.24</td>\n",
       "      <td>...</td>\n",
       "      <td>1.00</td>\n",
       "      <td>0.14</td>\n",
       "      <td>0.08</td>\n",
       "      <td>0.00</td>\n",
       "      <td>0.11</td>\n",
       "      <td>0.06</td>\n",
       "      <td>0.12</td>\n",
       "      <td>0.02</td>\n",
       "      <td>0.25</td>\n",
       "      <td>0.23</td>\n",
       "    </tr>\n",
       "    <tr>\n",
       "      <th>Luke (the evangelist)</th>\n",
       "      <td>0.09</td>\n",
       "      <td>0.17</td>\n",
       "      <td>0.22</td>\n",
       "      <td>0.04</td>\n",
       "      <td>0.16</td>\n",
       "      <td>0.20</td>\n",
       "      <td>0.14</td>\n",
       "      <td>0.19</td>\n",
       "      <td>0.08</td>\n",
       "      <td>0.23</td>\n",
       "      <td>...</td>\n",
       "      <td>0.14</td>\n",
       "      <td>1.00</td>\n",
       "      <td>0.04</td>\n",
       "      <td>0.00</td>\n",
       "      <td>0.15</td>\n",
       "      <td>0.05</td>\n",
       "      <td>0.00</td>\n",
       "      <td>0.03</td>\n",
       "      <td>0.15</td>\n",
       "      <td>0.15</td>\n",
       "    </tr>\n",
       "    <tr>\n",
       "      <th>Gregorius Nazianzenus</th>\n",
       "      <td>0.04</td>\n",
       "      <td>0.13</td>\n",
       "      <td>0.18</td>\n",
       "      <td>0.07</td>\n",
       "      <td>0.08</td>\n",
       "      <td>0.07</td>\n",
       "      <td>0.14</td>\n",
       "      <td>0.21</td>\n",
       "      <td>0.00</td>\n",
       "      <td>0.16</td>\n",
       "      <td>...</td>\n",
       "      <td>0.08</td>\n",
       "      <td>0.04</td>\n",
       "      <td>1.00</td>\n",
       "      <td>0.00</td>\n",
       "      <td>0.08</td>\n",
       "      <td>0.03</td>\n",
       "      <td>0.07</td>\n",
       "      <td>0.02</td>\n",
       "      <td>0.13</td>\n",
       "      <td>0.15</td>\n",
       "    </tr>\n",
       "    <tr>\n",
       "      <th>Ignatius Antiochenus</th>\n",
       "      <td>0.12</td>\n",
       "      <td>0.02</td>\n",
       "      <td>0.00</td>\n",
       "      <td>0.00</td>\n",
       "      <td>0.00</td>\n",
       "      <td>0.00</td>\n",
       "      <td>0.00</td>\n",
       "      <td>0.05</td>\n",
       "      <td>0.00</td>\n",
       "      <td>0.03</td>\n",
       "      <td>...</td>\n",
       "      <td>0.00</td>\n",
       "      <td>0.00</td>\n",
       "      <td>0.00</td>\n",
       "      <td>1.00</td>\n",
       "      <td>0.00</td>\n",
       "      <td>0.00</td>\n",
       "      <td>0.00</td>\n",
       "      <td>0.00</td>\n",
       "      <td>0.01</td>\n",
       "      <td>0.00</td>\n",
       "    </tr>\n",
       "    <tr>\n",
       "      <th>Basil</th>\n",
       "      <td>0.04</td>\n",
       "      <td>0.19</td>\n",
       "      <td>0.17</td>\n",
       "      <td>0.12</td>\n",
       "      <td>0.08</td>\n",
       "      <td>0.19</td>\n",
       "      <td>0.16</td>\n",
       "      <td>0.13</td>\n",
       "      <td>0.06</td>\n",
       "      <td>0.21</td>\n",
       "      <td>...</td>\n",
       "      <td>0.11</td>\n",
       "      <td>0.15</td>\n",
       "      <td>0.08</td>\n",
       "      <td>0.00</td>\n",
       "      <td>1.00</td>\n",
       "      <td>0.11</td>\n",
       "      <td>0.03</td>\n",
       "      <td>0.04</td>\n",
       "      <td>0.24</td>\n",
       "      <td>0.22</td>\n",
       "    </tr>\n",
       "    <tr>\n",
       "      <th>Hippolytus</th>\n",
       "      <td>0.02</td>\n",
       "      <td>0.08</td>\n",
       "      <td>0.07</td>\n",
       "      <td>0.04</td>\n",
       "      <td>0.02</td>\n",
       "      <td>0.09</td>\n",
       "      <td>0.04</td>\n",
       "      <td>0.04</td>\n",
       "      <td>0.00</td>\n",
       "      <td>0.09</td>\n",
       "      <td>...</td>\n",
       "      <td>0.06</td>\n",
       "      <td>0.05</td>\n",
       "      <td>0.03</td>\n",
       "      <td>0.00</td>\n",
       "      <td>0.11</td>\n",
       "      <td>1.00</td>\n",
       "      <td>0.06</td>\n",
       "      <td>0.03</td>\n",
       "      <td>0.41</td>\n",
       "      <td>0.17</td>\n",
       "    </tr>\n",
       "    <tr>\n",
       "      <th>Maximus of Tyre</th>\n",
       "      <td>0.10</td>\n",
       "      <td>0.07</td>\n",
       "      <td>0.06</td>\n",
       "      <td>0.08</td>\n",
       "      <td>0.06</td>\n",
       "      <td>0.09</td>\n",
       "      <td>0.02</td>\n",
       "      <td>0.03</td>\n",
       "      <td>0.00</td>\n",
       "      <td>0.08</td>\n",
       "      <td>...</td>\n",
       "      <td>0.12</td>\n",
       "      <td>0.00</td>\n",
       "      <td>0.07</td>\n",
       "      <td>0.00</td>\n",
       "      <td>0.03</td>\n",
       "      <td>0.06</td>\n",
       "      <td>1.00</td>\n",
       "      <td>0.07</td>\n",
       "      <td>0.15</td>\n",
       "      <td>0.10</td>\n",
       "    </tr>\n",
       "    <tr>\n",
       "      <th>Irenaeus</th>\n",
       "      <td>0.04</td>\n",
       "      <td>0.05</td>\n",
       "      <td>0.10</td>\n",
       "      <td>0.05</td>\n",
       "      <td>0.07</td>\n",
       "      <td>0.13</td>\n",
       "      <td>0.03</td>\n",
       "      <td>0.03</td>\n",
       "      <td>0.00</td>\n",
       "      <td>0.08</td>\n",
       "      <td>...</td>\n",
       "      <td>0.02</td>\n",
       "      <td>0.03</td>\n",
       "      <td>0.02</td>\n",
       "      <td>0.00</td>\n",
       "      <td>0.04</td>\n",
       "      <td>0.03</td>\n",
       "      <td>0.07</td>\n",
       "      <td>1.00</td>\n",
       "      <td>0.10</td>\n",
       "      <td>0.13</td>\n",
       "    </tr>\n",
       "    <tr>\n",
       "      <th>Philo Judaeus</th>\n",
       "      <td>0.15</td>\n",
       "      <td>0.17</td>\n",
       "      <td>0.22</td>\n",
       "      <td>0.15</td>\n",
       "      <td>0.16</td>\n",
       "      <td>0.29</td>\n",
       "      <td>0.16</td>\n",
       "      <td>0.16</td>\n",
       "      <td>0.07</td>\n",
       "      <td>0.30</td>\n",
       "      <td>...</td>\n",
       "      <td>0.25</td>\n",
       "      <td>0.15</td>\n",
       "      <td>0.13</td>\n",
       "      <td>0.01</td>\n",
       "      <td>0.24</td>\n",
       "      <td>0.41</td>\n",
       "      <td>0.15</td>\n",
       "      <td>0.10</td>\n",
       "      <td>1.00</td>\n",
       "      <td>0.43</td>\n",
       "    </tr>\n",
       "    <tr>\n",
       "      <th>Flavius Josephus</th>\n",
       "      <td>0.19</td>\n",
       "      <td>0.23</td>\n",
       "      <td>0.19</td>\n",
       "      <td>0.15</td>\n",
       "      <td>0.19</td>\n",
       "      <td>0.28</td>\n",
       "      <td>0.15</td>\n",
       "      <td>0.17</td>\n",
       "      <td>0.06</td>\n",
       "      <td>0.35</td>\n",
       "      <td>...</td>\n",
       "      <td>0.23</td>\n",
       "      <td>0.15</td>\n",
       "      <td>0.15</td>\n",
       "      <td>0.00</td>\n",
       "      <td>0.22</td>\n",
       "      <td>0.17</td>\n",
       "      <td>0.10</td>\n",
       "      <td>0.13</td>\n",
       "      <td>0.43</td>\n",
       "      <td>1.00</td>\n",
       "    </tr>\n",
       "  </tbody>\n",
       "</table>\n",
       "<p>28 rows × 28 columns</p>\n",
       "</div>"
      ],
      "text/plain": [
       "                          Polycarp  Paul of Tarsus  Clemens Romanus  \\\n",
       "Polycarp                      1.00            0.21             0.21   \n",
       "Paul of Tarsus                0.21            1.00             0.33   \n",
       "Clemens Romanus               0.21            0.33             1.00   \n",
       "Pseudo-Justinus Martyr        0.01            0.19             0.08   \n",
       "Barnabas                      0.07            0.18             0.19   \n",
       "Hermas                        0.21            0.24             0.28   \n",
       "Pauline literature            0.10            0.19             0.26   \n",
       "GNT rest                      0.15            0.31             0.25   \n",
       "Didache                       0.03            0.04             0.06   \n",
       "Justinus Martyr               0.12            0.25             0.28   \n",
       "Athenagoras                   0.12            0.16             0.15   \n",
       "Origenes                      0.24            0.44             0.41   \n",
       "Theophilus Antiochenus        0.12            0.30             0.22   \n",
       "Matthew                       0.21            0.15             0.13   \n",
       "Clement of Alexandria         0.25            0.34             0.32   \n",
       "Eusebius                      0.20            0.37             0.33   \n",
       "Johnannine literature         0.11            0.17             0.11   \n",
       "Epiphanius                    0.16            0.48             0.28   \n",
       "Athanasius of Alexandria      0.11            0.11             0.14   \n",
       "Luke (the evangelist)         0.09            0.17             0.22   \n",
       "Gregorius Nazianzenus         0.04            0.13             0.18   \n",
       "Ignatius Antiochenus          0.12            0.02             0.00   \n",
       "Basil                         0.04            0.19             0.17   \n",
       "Hippolytus                    0.02            0.08             0.07   \n",
       "Maximus of Tyre               0.10            0.07             0.06   \n",
       "Irenaeus                      0.04            0.05             0.10   \n",
       "Philo Judaeus                 0.15            0.17             0.22   \n",
       "Flavius Josephus              0.19            0.23             0.19   \n",
       "\n",
       "                          Pseudo-Justinus Martyr  Barnabas  Hermas  \\\n",
       "Polycarp                                    0.01      0.07    0.21   \n",
       "Paul of Tarsus                              0.19      0.18    0.24   \n",
       "Clemens Romanus                             0.08      0.19    0.28   \n",
       "Pseudo-Justinus Martyr                      1.00      0.06    0.13   \n",
       "Barnabas                                    0.06      1.00    0.19   \n",
       "Hermas                                      0.13      0.19    1.00   \n",
       "Pauline literature                          0.11      0.15    0.24   \n",
       "GNT rest                                    0.15      0.16    0.25   \n",
       "Didache                                     0.00      0.36    0.14   \n",
       "Justinus Martyr                             0.13      0.49    0.23   \n",
       "Athenagoras                                 0.06      0.19    0.22   \n",
       "Origenes                                    0.24      0.29    0.44   \n",
       "Theophilus Antiochenus                      0.11      0.15    0.20   \n",
       "Matthew                                     0.03      0.08    0.12   \n",
       "Clement of Alexandria                       0.11      0.32    0.36   \n",
       "Eusebius                                    0.18      0.31    0.35   \n",
       "Johnannine literature                       0.23      0.08    0.13   \n",
       "Epiphanius                                  0.16      0.22    0.32   \n",
       "Athanasius of Alexandria                    0.09      0.17    0.18   \n",
       "Luke (the evangelist)                       0.04      0.16    0.20   \n",
       "Gregorius Nazianzenus                       0.07      0.08    0.07   \n",
       "Ignatius Antiochenus                        0.00      0.00    0.00   \n",
       "Basil                                       0.12      0.08    0.19   \n",
       "Hippolytus                                  0.04      0.02    0.09   \n",
       "Maximus of Tyre                             0.08      0.06    0.09   \n",
       "Irenaeus                                    0.05      0.07    0.13   \n",
       "Philo Judaeus                               0.15      0.16    0.29   \n",
       "Flavius Josephus                            0.15      0.19    0.28   \n",
       "\n",
       "                          Pauline literature  GNT rest  Didache  \\\n",
       "Polycarp                                0.10      0.15     0.03   \n",
       "Paul of Tarsus                          0.19      0.31     0.04   \n",
       "Clemens Romanus                         0.26      0.25     0.06   \n",
       "Pseudo-Justinus Martyr                  0.11      0.15     0.00   \n",
       "Barnabas                                0.15      0.16     0.36   \n",
       "Hermas                                  0.24      0.25     0.14   \n",
       "Pauline literature                      1.00      0.21     0.11   \n",
       "GNT rest                                0.21      1.00     0.02   \n",
       "Didache                                 0.11      0.02     1.00   \n",
       "Justinus Martyr                         0.22      0.28     0.10   \n",
       "Athenagoras                             0.09      0.13     0.05   \n",
       "Origenes                                0.30      0.38     0.20   \n",
       "Theophilus Antiochenus                  0.13      0.17     0.05   \n",
       "Matthew                                 0.03      0.10     0.09   \n",
       "Clement of Alexandria                   0.29      0.25     0.17   \n",
       "Eusebius                                0.26      0.32     0.15   \n",
       "Johnannine literature                   0.11      0.24     0.03   \n",
       "Epiphanius                              0.24      0.24     0.09   \n",
       "Athanasius of Alexandria                0.22      0.13     0.22   \n",
       "Luke (the evangelist)                   0.14      0.19     0.08   \n",
       "Gregorius Nazianzenus                   0.14      0.21     0.00   \n",
       "Ignatius Antiochenus                    0.00      0.05     0.00   \n",
       "Basil                                   0.16      0.13     0.06   \n",
       "Hippolytus                              0.04      0.04     0.00   \n",
       "Maximus of Tyre                         0.02      0.03     0.00   \n",
       "Irenaeus                                0.03      0.03     0.00   \n",
       "Philo Judaeus                           0.16      0.16     0.07   \n",
       "Flavius Josephus                        0.15      0.17     0.06   \n",
       "\n",
       "                          Justinus Martyr  ...  Athanasius of Alexandria  \\\n",
       "Polycarp                             0.12  ...                      0.11   \n",
       "Paul of Tarsus                       0.25  ...                      0.11   \n",
       "Clemens Romanus                      0.28  ...                      0.14   \n",
       "Pseudo-Justinus Martyr               0.13  ...                      0.09   \n",
       "Barnabas                             0.49  ...                      0.17   \n",
       "Hermas                               0.23  ...                      0.18   \n",
       "Pauline literature                   0.22  ...                      0.22   \n",
       "GNT rest                             0.28  ...                      0.13   \n",
       "Didache                              0.10  ...                      0.22   \n",
       "Justinus Martyr                      1.00  ...                      0.24   \n",
       "Athenagoras                          0.25  ...                      0.11   \n",
       "Origenes                             0.47  ...                      0.37   \n",
       "Theophilus Antiochenus               0.22  ...                      0.13   \n",
       "Matthew                              0.12  ...                      0.06   \n",
       "Clement of Alexandria                0.39  ...                      0.26   \n",
       "Eusebius                             0.51  ...                      0.37   \n",
       "Johnannine literature                0.18  ...                      0.18   \n",
       "Epiphanius                           0.25  ...                      0.19   \n",
       "Athanasius of Alexandria             0.24  ...                      1.00   \n",
       "Luke (the evangelist)                0.23  ...                      0.14   \n",
       "Gregorius Nazianzenus                0.16  ...                      0.08   \n",
       "Ignatius Antiochenus                 0.03  ...                      0.00   \n",
       "Basil                                0.21  ...                      0.11   \n",
       "Hippolytus                           0.09  ...                      0.06   \n",
       "Maximus of Tyre                      0.08  ...                      0.12   \n",
       "Irenaeus                             0.08  ...                      0.02   \n",
       "Philo Judaeus                        0.30  ...                      0.25   \n",
       "Flavius Josephus                     0.35  ...                      0.23   \n",
       "\n",
       "                          Luke (the evangelist)  Gregorius Nazianzenus  \\\n",
       "Polycarp                                   0.09                   0.04   \n",
       "Paul of Tarsus                             0.17                   0.13   \n",
       "Clemens Romanus                            0.22                   0.18   \n",
       "Pseudo-Justinus Martyr                     0.04                   0.07   \n",
       "Barnabas                                   0.16                   0.08   \n",
       "Hermas                                     0.20                   0.07   \n",
       "Pauline literature                         0.14                   0.14   \n",
       "GNT rest                                   0.19                   0.21   \n",
       "Didache                                    0.08                   0.00   \n",
       "Justinus Martyr                            0.23                   0.16   \n",
       "Athenagoras                                0.10                   0.12   \n",
       "Origenes                                   0.29                   0.23   \n",
       "Theophilus Antiochenus                     0.14                   0.18   \n",
       "Matthew                                    0.06                   0.02   \n",
       "Clement of Alexandria                      0.26                   0.15   \n",
       "Eusebius                                   0.32                   0.22   \n",
       "Johnannine literature                      0.07                   0.04   \n",
       "Epiphanius                                 0.19                   0.14   \n",
       "Athanasius of Alexandria                   0.14                   0.08   \n",
       "Luke (the evangelist)                      1.00                   0.04   \n",
       "Gregorius Nazianzenus                      0.04                   1.00   \n",
       "Ignatius Antiochenus                       0.00                   0.00   \n",
       "Basil                                      0.15                   0.08   \n",
       "Hippolytus                                 0.05                   0.03   \n",
       "Maximus of Tyre                            0.00                   0.07   \n",
       "Irenaeus                                   0.03                   0.02   \n",
       "Philo Judaeus                              0.15                   0.13   \n",
       "Flavius Josephus                           0.15                   0.15   \n",
       "\n",
       "                          Ignatius Antiochenus  Basil  Hippolytus  \\\n",
       "Polycarp                                  0.12   0.04        0.02   \n",
       "Paul of Tarsus                            0.02   0.19        0.08   \n",
       "Clemens Romanus                           0.00   0.17        0.07   \n",
       "Pseudo-Justinus Martyr                    0.00   0.12        0.04   \n",
       "Barnabas                                  0.00   0.08        0.02   \n",
       "Hermas                                    0.00   0.19        0.09   \n",
       "Pauline literature                        0.00   0.16        0.04   \n",
       "GNT rest                                  0.05   0.13        0.04   \n",
       "Didache                                   0.00   0.06        0.00   \n",
       "Justinus Martyr                           0.03   0.21        0.09   \n",
       "Athenagoras                               0.00   0.13        0.10   \n",
       "Origenes                                  0.02   0.43        0.22   \n",
       "Theophilus Antiochenus                    0.00   0.21        0.13   \n",
       "Matthew                                   0.10   0.06        0.02   \n",
       "Clement of Alexandria                     0.02   0.27        0.20   \n",
       "Eusebius                                  0.00   0.33        0.21   \n",
       "Johnannine literature                     0.00   0.17        0.06   \n",
       "Epiphanius                                0.06   0.20        0.12   \n",
       "Athanasius of Alexandria                  0.00   0.11        0.06   \n",
       "Luke (the evangelist)                     0.00   0.15        0.05   \n",
       "Gregorius Nazianzenus                     0.00   0.08        0.03   \n",
       "Ignatius Antiochenus                      1.00   0.00        0.00   \n",
       "Basil                                     0.00   1.00        0.11   \n",
       "Hippolytus                                0.00   0.11        1.00   \n",
       "Maximus of Tyre                           0.00   0.03        0.06   \n",
       "Irenaeus                                  0.00   0.04        0.03   \n",
       "Philo Judaeus                             0.01   0.24        0.41   \n",
       "Flavius Josephus                          0.00   0.22        0.17   \n",
       "\n",
       "                          Maximus of Tyre  Irenaeus  Philo Judaeus  \\\n",
       "Polycarp                             0.10      0.04           0.15   \n",
       "Paul of Tarsus                       0.07      0.05           0.17   \n",
       "Clemens Romanus                      0.06      0.10           0.22   \n",
       "Pseudo-Justinus Martyr               0.08      0.05           0.15   \n",
       "Barnabas                             0.06      0.07           0.16   \n",
       "Hermas                               0.09      0.13           0.29   \n",
       "Pauline literature                   0.02      0.03           0.16   \n",
       "GNT rest                             0.03      0.03           0.16   \n",
       "Didache                              0.00      0.00           0.07   \n",
       "Justinus Martyr                      0.08      0.08           0.30   \n",
       "Athenagoras                          0.11      0.07           0.35   \n",
       "Origenes                             0.11      0.13           0.49   \n",
       "Theophilus Antiochenus               0.11      0.02           0.20   \n",
       "Matthew                              0.00      0.04           0.06   \n",
       "Clement of Alexandria                0.13      0.12           0.46   \n",
       "Eusebius                             0.15      0.11           0.52   \n",
       "Johnannine literature                0.00      0.07           0.14   \n",
       "Epiphanius                           0.15      0.17           0.34   \n",
       "Athanasius of Alexandria             0.12      0.02           0.25   \n",
       "Luke (the evangelist)                0.00      0.03           0.15   \n",
       "Gregorius Nazianzenus                0.07      0.02           0.13   \n",
       "Ignatius Antiochenus                 0.00      0.00           0.01   \n",
       "Basil                                0.03      0.04           0.24   \n",
       "Hippolytus                           0.06      0.03           0.41   \n",
       "Maximus of Tyre                      1.00      0.07           0.15   \n",
       "Irenaeus                             0.07      1.00           0.10   \n",
       "Philo Judaeus                        0.15      0.10           1.00   \n",
       "Flavius Josephus                     0.10      0.13           0.43   \n",
       "\n",
       "                          Flavius Josephus  \n",
       "Polycarp                              0.19  \n",
       "Paul of Tarsus                        0.23  \n",
       "Clemens Romanus                       0.19  \n",
       "Pseudo-Justinus Martyr                0.15  \n",
       "Barnabas                              0.19  \n",
       "Hermas                                0.28  \n",
       "Pauline literature                    0.15  \n",
       "GNT rest                              0.17  \n",
       "Didache                               0.06  \n",
       "Justinus Martyr                       0.35  \n",
       "Athenagoras                           0.32  \n",
       "Origenes                              0.44  \n",
       "Theophilus Antiochenus                0.24  \n",
       "Matthew                               0.09  \n",
       "Clement of Alexandria                 0.40  \n",
       "Eusebius                              0.53  \n",
       "Johnannine literature                 0.16  \n",
       "Epiphanius                            0.33  \n",
       "Athanasius of Alexandria              0.23  \n",
       "Luke (the evangelist)                 0.15  \n",
       "Gregorius Nazianzenus                 0.15  \n",
       "Ignatius Antiochenus                  0.00  \n",
       "Basil                                 0.22  \n",
       "Hippolytus                            0.17  \n",
       "Maximus of Tyre                       0.10  \n",
       "Irenaeus                              0.13  \n",
       "Philo Judaeus                         0.43  \n",
       "Flavius Josephus                      1.00  \n",
       "\n",
       "[28 rows x 28 columns]"
      ]
     },
     "execution_count": 185,
     "metadata": {},
     "output_type": "execute_result"
    }
   ],
   "source": [
    "christian = authors_df_cj[\"author\"].tolist()\n",
    "tfidfs_christian = tfidfs_sim_mat_df[christian].loc[christian].round(2)\n",
    "tfidfs_christian"
   ]
  },
  {
   "cell_type": "code",
   "execution_count": 186,
   "metadata": {},
   "outputs": [],
   "source": [
    "tfidfs_christian.to_csv(\"../data/tfidfs_christian.csv\")\n",
    "#set_with_dataframe(ECCE_AGT_overview.add_worksheet(\"tfidfs_sim_christian\", 1, 1), tfidfs_christian, include_index=True)"
   ]
  },
  {
   "cell_type": "code",
   "execution_count": 187,
   "metadata": {},
   "outputs": [],
   "source": [
    "authors = authors_df_cj[\"author\"].tolist()"
   ]
  },
  {
   "cell_type": "code",
   "execution_count": 188,
   "metadata": {},
   "outputs": [
    {
     "data": {
      "text/html": [
       "<div>\n",
       "<style scoped>\n",
       "    .dataframe tbody tr th:only-of-type {\n",
       "        vertical-align: middle;\n",
       "    }\n",
       "\n",
       "    .dataframe tbody tr th {\n",
       "        vertical-align: top;\n",
       "    }\n",
       "\n",
       "    .dataframe thead th {\n",
       "        text-align: right;\n",
       "    }\n",
       "</style>\n",
       "<table border=\"1\" class=\"dataframe\">\n",
       "  <thead>\n",
       "    <tr style=\"text-align: right;\">\n",
       "      <th></th>\n",
       "      <th>Polycarp</th>\n",
       "      <th>Paul of Tarsus</th>\n",
       "      <th>Clemens Romanus</th>\n",
       "      <th>Pseudo-Justinus Martyr</th>\n",
       "      <th>Barnabas</th>\n",
       "      <th>Hermas</th>\n",
       "      <th>Pauline literature</th>\n",
       "      <th>GNT rest</th>\n",
       "      <th>Didache</th>\n",
       "      <th>Justinus Martyr</th>\n",
       "      <th>...</th>\n",
       "      <th>Athanasius of Alexandria</th>\n",
       "      <th>Luke (the evangelist)</th>\n",
       "      <th>Gregorius Nazianzenus</th>\n",
       "      <th>Ignatius Antiochenus</th>\n",
       "      <th>Basil</th>\n",
       "      <th>Hippolytus</th>\n",
       "      <th>Maximus of Tyre</th>\n",
       "      <th>Irenaeus</th>\n",
       "      <th>Philo Judaeus</th>\n",
       "      <th>Flavius Josephus</th>\n",
       "    </tr>\n",
       "  </thead>\n",
       "  <tbody>\n",
       "    <tr>\n",
       "      <th>Polycarp</th>\n",
       "      <td>1.00</td>\n",
       "      <td>0.21</td>\n",
       "      <td>0.21</td>\n",
       "      <td>0.01</td>\n",
       "      <td>0.07</td>\n",
       "      <td>0.21</td>\n",
       "      <td>0.10</td>\n",
       "      <td>0.15</td>\n",
       "      <td>0.03</td>\n",
       "      <td>0.12</td>\n",
       "      <td>...</td>\n",
       "      <td>0.11</td>\n",
       "      <td>0.09</td>\n",
       "      <td>0.04</td>\n",
       "      <td>0.12</td>\n",
       "      <td>0.04</td>\n",
       "      <td>0.02</td>\n",
       "      <td>0.10</td>\n",
       "      <td>0.04</td>\n",
       "      <td>0.15</td>\n",
       "      <td>0.19</td>\n",
       "    </tr>\n",
       "    <tr>\n",
       "      <th>Paul of Tarsus</th>\n",
       "      <td>0.21</td>\n",
       "      <td>1.00</td>\n",
       "      <td>0.33</td>\n",
       "      <td>0.19</td>\n",
       "      <td>0.18</td>\n",
       "      <td>0.24</td>\n",
       "      <td>0.19</td>\n",
       "      <td>0.31</td>\n",
       "      <td>0.04</td>\n",
       "      <td>0.25</td>\n",
       "      <td>...</td>\n",
       "      <td>0.11</td>\n",
       "      <td>0.17</td>\n",
       "      <td>0.13</td>\n",
       "      <td>0.02</td>\n",
       "      <td>0.19</td>\n",
       "      <td>0.08</td>\n",
       "      <td>0.07</td>\n",
       "      <td>0.05</td>\n",
       "      <td>0.17</td>\n",
       "      <td>0.23</td>\n",
       "    </tr>\n",
       "    <tr>\n",
       "      <th>Clemens Romanus</th>\n",
       "      <td>0.21</td>\n",
       "      <td>0.33</td>\n",
       "      <td>1.00</td>\n",
       "      <td>0.08</td>\n",
       "      <td>0.19</td>\n",
       "      <td>0.28</td>\n",
       "      <td>0.26</td>\n",
       "      <td>0.25</td>\n",
       "      <td>0.06</td>\n",
       "      <td>0.28</td>\n",
       "      <td>...</td>\n",
       "      <td>0.14</td>\n",
       "      <td>0.22</td>\n",
       "      <td>0.18</td>\n",
       "      <td>0.00</td>\n",
       "      <td>0.17</td>\n",
       "      <td>0.07</td>\n",
       "      <td>0.06</td>\n",
       "      <td>0.10</td>\n",
       "      <td>0.22</td>\n",
       "      <td>0.19</td>\n",
       "    </tr>\n",
       "    <tr>\n",
       "      <th>Pseudo-Justinus Martyr</th>\n",
       "      <td>0.01</td>\n",
       "      <td>0.19</td>\n",
       "      <td>0.08</td>\n",
       "      <td>1.00</td>\n",
       "      <td>0.06</td>\n",
       "      <td>0.13</td>\n",
       "      <td>0.11</td>\n",
       "      <td>0.15</td>\n",
       "      <td>0.00</td>\n",
       "      <td>0.13</td>\n",
       "      <td>...</td>\n",
       "      <td>0.09</td>\n",
       "      <td>0.04</td>\n",
       "      <td>0.07</td>\n",
       "      <td>0.00</td>\n",
       "      <td>0.12</td>\n",
       "      <td>0.04</td>\n",
       "      <td>0.08</td>\n",
       "      <td>0.05</td>\n",
       "      <td>0.15</td>\n",
       "      <td>0.15</td>\n",
       "    </tr>\n",
       "    <tr>\n",
       "      <th>Barnabas</th>\n",
       "      <td>0.07</td>\n",
       "      <td>0.18</td>\n",
       "      <td>0.19</td>\n",
       "      <td>0.06</td>\n",
       "      <td>1.00</td>\n",
       "      <td>0.19</td>\n",
       "      <td>0.15</td>\n",
       "      <td>0.16</td>\n",
       "      <td>0.36</td>\n",
       "      <td>0.49</td>\n",
       "      <td>...</td>\n",
       "      <td>0.17</td>\n",
       "      <td>0.16</td>\n",
       "      <td>0.08</td>\n",
       "      <td>0.00</td>\n",
       "      <td>0.08</td>\n",
       "      <td>0.02</td>\n",
       "      <td>0.06</td>\n",
       "      <td>0.07</td>\n",
       "      <td>0.16</td>\n",
       "      <td>0.19</td>\n",
       "    </tr>\n",
       "    <tr>\n",
       "      <th>Hermas</th>\n",
       "      <td>0.21</td>\n",
       "      <td>0.24</td>\n",
       "      <td>0.28</td>\n",
       "      <td>0.13</td>\n",
       "      <td>0.19</td>\n",
       "      <td>1.00</td>\n",
       "      <td>0.24</td>\n",
       "      <td>0.25</td>\n",
       "      <td>0.14</td>\n",
       "      <td>0.23</td>\n",
       "      <td>...</td>\n",
       "      <td>0.18</td>\n",
       "      <td>0.20</td>\n",
       "      <td>0.07</td>\n",
       "      <td>0.00</td>\n",
       "      <td>0.19</td>\n",
       "      <td>0.09</td>\n",
       "      <td>0.09</td>\n",
       "      <td>0.13</td>\n",
       "      <td>0.29</td>\n",
       "      <td>0.28</td>\n",
       "    </tr>\n",
       "    <tr>\n",
       "      <th>Pauline literature</th>\n",
       "      <td>0.10</td>\n",
       "      <td>0.19</td>\n",
       "      <td>0.26</td>\n",
       "      <td>0.11</td>\n",
       "      <td>0.15</td>\n",
       "      <td>0.24</td>\n",
       "      <td>1.00</td>\n",
       "      <td>0.21</td>\n",
       "      <td>0.11</td>\n",
       "      <td>0.22</td>\n",
       "      <td>...</td>\n",
       "      <td>0.22</td>\n",
       "      <td>0.14</td>\n",
       "      <td>0.14</td>\n",
       "      <td>0.00</td>\n",
       "      <td>0.16</td>\n",
       "      <td>0.04</td>\n",
       "      <td>0.02</td>\n",
       "      <td>0.03</td>\n",
       "      <td>0.16</td>\n",
       "      <td>0.15</td>\n",
       "    </tr>\n",
       "    <tr>\n",
       "      <th>GNT rest</th>\n",
       "      <td>0.15</td>\n",
       "      <td>0.31</td>\n",
       "      <td>0.25</td>\n",
       "      <td>0.15</td>\n",
       "      <td>0.16</td>\n",
       "      <td>0.25</td>\n",
       "      <td>0.21</td>\n",
       "      <td>1.00</td>\n",
       "      <td>0.02</td>\n",
       "      <td>0.28</td>\n",
       "      <td>...</td>\n",
       "      <td>0.13</td>\n",
       "      <td>0.19</td>\n",
       "      <td>0.21</td>\n",
       "      <td>0.05</td>\n",
       "      <td>0.13</td>\n",
       "      <td>0.04</td>\n",
       "      <td>0.03</td>\n",
       "      <td>0.03</td>\n",
       "      <td>0.16</td>\n",
       "      <td>0.17</td>\n",
       "    </tr>\n",
       "    <tr>\n",
       "      <th>Didache</th>\n",
       "      <td>0.03</td>\n",
       "      <td>0.04</td>\n",
       "      <td>0.06</td>\n",
       "      <td>0.00</td>\n",
       "      <td>0.36</td>\n",
       "      <td>0.14</td>\n",
       "      <td>0.11</td>\n",
       "      <td>0.02</td>\n",
       "      <td>1.00</td>\n",
       "      <td>0.10</td>\n",
       "      <td>...</td>\n",
       "      <td>0.22</td>\n",
       "      <td>0.08</td>\n",
       "      <td>0.00</td>\n",
       "      <td>0.00</td>\n",
       "      <td>0.06</td>\n",
       "      <td>0.00</td>\n",
       "      <td>0.00</td>\n",
       "      <td>0.00</td>\n",
       "      <td>0.07</td>\n",
       "      <td>0.06</td>\n",
       "    </tr>\n",
       "    <tr>\n",
       "      <th>Justinus Martyr</th>\n",
       "      <td>0.12</td>\n",
       "      <td>0.25</td>\n",
       "      <td>0.28</td>\n",
       "      <td>0.13</td>\n",
       "      <td>0.49</td>\n",
       "      <td>0.23</td>\n",
       "      <td>0.22</td>\n",
       "      <td>0.28</td>\n",
       "      <td>0.10</td>\n",
       "      <td>1.00</td>\n",
       "      <td>...</td>\n",
       "      <td>0.24</td>\n",
       "      <td>0.23</td>\n",
       "      <td>0.16</td>\n",
       "      <td>0.03</td>\n",
       "      <td>0.21</td>\n",
       "      <td>0.09</td>\n",
       "      <td>0.08</td>\n",
       "      <td>0.08</td>\n",
       "      <td>0.30</td>\n",
       "      <td>0.35</td>\n",
       "    </tr>\n",
       "    <tr>\n",
       "      <th>Athenagoras</th>\n",
       "      <td>0.12</td>\n",
       "      <td>0.16</td>\n",
       "      <td>0.15</td>\n",
       "      <td>0.06</td>\n",
       "      <td>0.19</td>\n",
       "      <td>0.22</td>\n",
       "      <td>0.09</td>\n",
       "      <td>0.13</td>\n",
       "      <td>0.05</td>\n",
       "      <td>0.25</td>\n",
       "      <td>...</td>\n",
       "      <td>0.11</td>\n",
       "      <td>0.10</td>\n",
       "      <td>0.12</td>\n",
       "      <td>0.00</td>\n",
       "      <td>0.13</td>\n",
       "      <td>0.10</td>\n",
       "      <td>0.11</td>\n",
       "      <td>0.07</td>\n",
       "      <td>0.35</td>\n",
       "      <td>0.32</td>\n",
       "    </tr>\n",
       "    <tr>\n",
       "      <th>Origenes</th>\n",
       "      <td>0.24</td>\n",
       "      <td>0.44</td>\n",
       "      <td>0.41</td>\n",
       "      <td>0.24</td>\n",
       "      <td>0.29</td>\n",
       "      <td>0.44</td>\n",
       "      <td>0.30</td>\n",
       "      <td>0.38</td>\n",
       "      <td>0.20</td>\n",
       "      <td>0.47</td>\n",
       "      <td>...</td>\n",
       "      <td>0.37</td>\n",
       "      <td>0.29</td>\n",
       "      <td>0.23</td>\n",
       "      <td>0.02</td>\n",
       "      <td>0.43</td>\n",
       "      <td>0.22</td>\n",
       "      <td>0.11</td>\n",
       "      <td>0.13</td>\n",
       "      <td>0.49</td>\n",
       "      <td>0.44</td>\n",
       "    </tr>\n",
       "    <tr>\n",
       "      <th>Theophilus Antiochenus</th>\n",
       "      <td>0.12</td>\n",
       "      <td>0.30</td>\n",
       "      <td>0.22</td>\n",
       "      <td>0.11</td>\n",
       "      <td>0.15</td>\n",
       "      <td>0.20</td>\n",
       "      <td>0.13</td>\n",
       "      <td>0.17</td>\n",
       "      <td>0.05</td>\n",
       "      <td>0.22</td>\n",
       "      <td>...</td>\n",
       "      <td>0.13</td>\n",
       "      <td>0.14</td>\n",
       "      <td>0.18</td>\n",
       "      <td>0.00</td>\n",
       "      <td>0.21</td>\n",
       "      <td>0.13</td>\n",
       "      <td>0.11</td>\n",
       "      <td>0.02</td>\n",
       "      <td>0.20</td>\n",
       "      <td>0.24</td>\n",
       "    </tr>\n",
       "    <tr>\n",
       "      <th>Matthew</th>\n",
       "      <td>0.21</td>\n",
       "      <td>0.15</td>\n",
       "      <td>0.13</td>\n",
       "      <td>0.03</td>\n",
       "      <td>0.08</td>\n",
       "      <td>0.12</td>\n",
       "      <td>0.03</td>\n",
       "      <td>0.10</td>\n",
       "      <td>0.09</td>\n",
       "      <td>0.12</td>\n",
       "      <td>...</td>\n",
       "      <td>0.06</td>\n",
       "      <td>0.06</td>\n",
       "      <td>0.02</td>\n",
       "      <td>0.10</td>\n",
       "      <td>0.06</td>\n",
       "      <td>0.02</td>\n",
       "      <td>0.00</td>\n",
       "      <td>0.04</td>\n",
       "      <td>0.06</td>\n",
       "      <td>0.09</td>\n",
       "    </tr>\n",
       "    <tr>\n",
       "      <th>Clement of Alexandria</th>\n",
       "      <td>0.25</td>\n",
       "      <td>0.34</td>\n",
       "      <td>0.32</td>\n",
       "      <td>0.11</td>\n",
       "      <td>0.32</td>\n",
       "      <td>0.36</td>\n",
       "      <td>0.29</td>\n",
       "      <td>0.25</td>\n",
       "      <td>0.17</td>\n",
       "      <td>0.39</td>\n",
       "      <td>...</td>\n",
       "      <td>0.26</td>\n",
       "      <td>0.26</td>\n",
       "      <td>0.15</td>\n",
       "      <td>0.02</td>\n",
       "      <td>0.27</td>\n",
       "      <td>0.20</td>\n",
       "      <td>0.13</td>\n",
       "      <td>0.12</td>\n",
       "      <td>0.46</td>\n",
       "      <td>0.40</td>\n",
       "    </tr>\n",
       "    <tr>\n",
       "      <th>Eusebius</th>\n",
       "      <td>0.20</td>\n",
       "      <td>0.37</td>\n",
       "      <td>0.33</td>\n",
       "      <td>0.18</td>\n",
       "      <td>0.31</td>\n",
       "      <td>0.35</td>\n",
       "      <td>0.26</td>\n",
       "      <td>0.32</td>\n",
       "      <td>0.15</td>\n",
       "      <td>0.51</td>\n",
       "      <td>...</td>\n",
       "      <td>0.37</td>\n",
       "      <td>0.32</td>\n",
       "      <td>0.22</td>\n",
       "      <td>0.00</td>\n",
       "      <td>0.33</td>\n",
       "      <td>0.21</td>\n",
       "      <td>0.15</td>\n",
       "      <td>0.11</td>\n",
       "      <td>0.52</td>\n",
       "      <td>0.53</td>\n",
       "    </tr>\n",
       "    <tr>\n",
       "      <th>Johnannine literature</th>\n",
       "      <td>0.11</td>\n",
       "      <td>0.17</td>\n",
       "      <td>0.11</td>\n",
       "      <td>0.23</td>\n",
       "      <td>0.08</td>\n",
       "      <td>0.13</td>\n",
       "      <td>0.11</td>\n",
       "      <td>0.24</td>\n",
       "      <td>0.03</td>\n",
       "      <td>0.18</td>\n",
       "      <td>...</td>\n",
       "      <td>0.18</td>\n",
       "      <td>0.07</td>\n",
       "      <td>0.04</td>\n",
       "      <td>0.00</td>\n",
       "      <td>0.17</td>\n",
       "      <td>0.06</td>\n",
       "      <td>0.00</td>\n",
       "      <td>0.07</td>\n",
       "      <td>0.14</td>\n",
       "      <td>0.16</td>\n",
       "    </tr>\n",
       "    <tr>\n",
       "      <th>Epiphanius</th>\n",
       "      <td>0.16</td>\n",
       "      <td>0.48</td>\n",
       "      <td>0.28</td>\n",
       "      <td>0.16</td>\n",
       "      <td>0.22</td>\n",
       "      <td>0.32</td>\n",
       "      <td>0.24</td>\n",
       "      <td>0.24</td>\n",
       "      <td>0.09</td>\n",
       "      <td>0.25</td>\n",
       "      <td>...</td>\n",
       "      <td>0.19</td>\n",
       "      <td>0.19</td>\n",
       "      <td>0.14</td>\n",
       "      <td>0.06</td>\n",
       "      <td>0.20</td>\n",
       "      <td>0.12</td>\n",
       "      <td>0.15</td>\n",
       "      <td>0.17</td>\n",
       "      <td>0.34</td>\n",
       "      <td>0.33</td>\n",
       "    </tr>\n",
       "    <tr>\n",
       "      <th>Athanasius of Alexandria</th>\n",
       "      <td>0.11</td>\n",
       "      <td>0.11</td>\n",
       "      <td>0.14</td>\n",
       "      <td>0.09</td>\n",
       "      <td>0.17</td>\n",
       "      <td>0.18</td>\n",
       "      <td>0.22</td>\n",
       "      <td>0.13</td>\n",
       "      <td>0.22</td>\n",
       "      <td>0.24</td>\n",
       "      <td>...</td>\n",
       "      <td>1.00</td>\n",
       "      <td>0.14</td>\n",
       "      <td>0.08</td>\n",
       "      <td>0.00</td>\n",
       "      <td>0.11</td>\n",
       "      <td>0.06</td>\n",
       "      <td>0.12</td>\n",
       "      <td>0.02</td>\n",
       "      <td>0.25</td>\n",
       "      <td>0.23</td>\n",
       "    </tr>\n",
       "    <tr>\n",
       "      <th>Luke (the evangelist)</th>\n",
       "      <td>0.09</td>\n",
       "      <td>0.17</td>\n",
       "      <td>0.22</td>\n",
       "      <td>0.04</td>\n",
       "      <td>0.16</td>\n",
       "      <td>0.20</td>\n",
       "      <td>0.14</td>\n",
       "      <td>0.19</td>\n",
       "      <td>0.08</td>\n",
       "      <td>0.23</td>\n",
       "      <td>...</td>\n",
       "      <td>0.14</td>\n",
       "      <td>1.00</td>\n",
       "      <td>0.04</td>\n",
       "      <td>0.00</td>\n",
       "      <td>0.15</td>\n",
       "      <td>0.05</td>\n",
       "      <td>0.00</td>\n",
       "      <td>0.03</td>\n",
       "      <td>0.15</td>\n",
       "      <td>0.15</td>\n",
       "    </tr>\n",
       "    <tr>\n",
       "      <th>Gregorius Nazianzenus</th>\n",
       "      <td>0.04</td>\n",
       "      <td>0.13</td>\n",
       "      <td>0.18</td>\n",
       "      <td>0.07</td>\n",
       "      <td>0.08</td>\n",
       "      <td>0.07</td>\n",
       "      <td>0.14</td>\n",
       "      <td>0.21</td>\n",
       "      <td>0.00</td>\n",
       "      <td>0.16</td>\n",
       "      <td>...</td>\n",
       "      <td>0.08</td>\n",
       "      <td>0.04</td>\n",
       "      <td>1.00</td>\n",
       "      <td>0.00</td>\n",
       "      <td>0.08</td>\n",
       "      <td>0.03</td>\n",
       "      <td>0.07</td>\n",
       "      <td>0.02</td>\n",
       "      <td>0.13</td>\n",
       "      <td>0.15</td>\n",
       "    </tr>\n",
       "    <tr>\n",
       "      <th>Ignatius Antiochenus</th>\n",
       "      <td>0.12</td>\n",
       "      <td>0.02</td>\n",
       "      <td>0.00</td>\n",
       "      <td>0.00</td>\n",
       "      <td>0.00</td>\n",
       "      <td>0.00</td>\n",
       "      <td>0.00</td>\n",
       "      <td>0.05</td>\n",
       "      <td>0.00</td>\n",
       "      <td>0.03</td>\n",
       "      <td>...</td>\n",
       "      <td>0.00</td>\n",
       "      <td>0.00</td>\n",
       "      <td>0.00</td>\n",
       "      <td>1.00</td>\n",
       "      <td>0.00</td>\n",
       "      <td>0.00</td>\n",
       "      <td>0.00</td>\n",
       "      <td>0.00</td>\n",
       "      <td>0.01</td>\n",
       "      <td>0.00</td>\n",
       "    </tr>\n",
       "    <tr>\n",
       "      <th>Basil</th>\n",
       "      <td>0.04</td>\n",
       "      <td>0.19</td>\n",
       "      <td>0.17</td>\n",
       "      <td>0.12</td>\n",
       "      <td>0.08</td>\n",
       "      <td>0.19</td>\n",
       "      <td>0.16</td>\n",
       "      <td>0.13</td>\n",
       "      <td>0.06</td>\n",
       "      <td>0.21</td>\n",
       "      <td>...</td>\n",
       "      <td>0.11</td>\n",
       "      <td>0.15</td>\n",
       "      <td>0.08</td>\n",
       "      <td>0.00</td>\n",
       "      <td>1.00</td>\n",
       "      <td>0.11</td>\n",
       "      <td>0.03</td>\n",
       "      <td>0.04</td>\n",
       "      <td>0.24</td>\n",
       "      <td>0.22</td>\n",
       "    </tr>\n",
       "    <tr>\n",
       "      <th>Hippolytus</th>\n",
       "      <td>0.02</td>\n",
       "      <td>0.08</td>\n",
       "      <td>0.07</td>\n",
       "      <td>0.04</td>\n",
       "      <td>0.02</td>\n",
       "      <td>0.09</td>\n",
       "      <td>0.04</td>\n",
       "      <td>0.04</td>\n",
       "      <td>0.00</td>\n",
       "      <td>0.09</td>\n",
       "      <td>...</td>\n",
       "      <td>0.06</td>\n",
       "      <td>0.05</td>\n",
       "      <td>0.03</td>\n",
       "      <td>0.00</td>\n",
       "      <td>0.11</td>\n",
       "      <td>1.00</td>\n",
       "      <td>0.06</td>\n",
       "      <td>0.03</td>\n",
       "      <td>0.41</td>\n",
       "      <td>0.17</td>\n",
       "    </tr>\n",
       "    <tr>\n",
       "      <th>Maximus of Tyre</th>\n",
       "      <td>0.10</td>\n",
       "      <td>0.07</td>\n",
       "      <td>0.06</td>\n",
       "      <td>0.08</td>\n",
       "      <td>0.06</td>\n",
       "      <td>0.09</td>\n",
       "      <td>0.02</td>\n",
       "      <td>0.03</td>\n",
       "      <td>0.00</td>\n",
       "      <td>0.08</td>\n",
       "      <td>...</td>\n",
       "      <td>0.12</td>\n",
       "      <td>0.00</td>\n",
       "      <td>0.07</td>\n",
       "      <td>0.00</td>\n",
       "      <td>0.03</td>\n",
       "      <td>0.06</td>\n",
       "      <td>1.00</td>\n",
       "      <td>0.07</td>\n",
       "      <td>0.15</td>\n",
       "      <td>0.10</td>\n",
       "    </tr>\n",
       "    <tr>\n",
       "      <th>Irenaeus</th>\n",
       "      <td>0.04</td>\n",
       "      <td>0.05</td>\n",
       "      <td>0.10</td>\n",
       "      <td>0.05</td>\n",
       "      <td>0.07</td>\n",
       "      <td>0.13</td>\n",
       "      <td>0.03</td>\n",
       "      <td>0.03</td>\n",
       "      <td>0.00</td>\n",
       "      <td>0.08</td>\n",
       "      <td>...</td>\n",
       "      <td>0.02</td>\n",
       "      <td>0.03</td>\n",
       "      <td>0.02</td>\n",
       "      <td>0.00</td>\n",
       "      <td>0.04</td>\n",
       "      <td>0.03</td>\n",
       "      <td>0.07</td>\n",
       "      <td>1.00</td>\n",
       "      <td>0.10</td>\n",
       "      <td>0.13</td>\n",
       "    </tr>\n",
       "    <tr>\n",
       "      <th>Philo Judaeus</th>\n",
       "      <td>0.15</td>\n",
       "      <td>0.17</td>\n",
       "      <td>0.22</td>\n",
       "      <td>0.15</td>\n",
       "      <td>0.16</td>\n",
       "      <td>0.29</td>\n",
       "      <td>0.16</td>\n",
       "      <td>0.16</td>\n",
       "      <td>0.07</td>\n",
       "      <td>0.30</td>\n",
       "      <td>...</td>\n",
       "      <td>0.25</td>\n",
       "      <td>0.15</td>\n",
       "      <td>0.13</td>\n",
       "      <td>0.01</td>\n",
       "      <td>0.24</td>\n",
       "      <td>0.41</td>\n",
       "      <td>0.15</td>\n",
       "      <td>0.10</td>\n",
       "      <td>1.00</td>\n",
       "      <td>0.43</td>\n",
       "    </tr>\n",
       "    <tr>\n",
       "      <th>Flavius Josephus</th>\n",
       "      <td>0.19</td>\n",
       "      <td>0.23</td>\n",
       "      <td>0.19</td>\n",
       "      <td>0.15</td>\n",
       "      <td>0.19</td>\n",
       "      <td>0.28</td>\n",
       "      <td>0.15</td>\n",
       "      <td>0.17</td>\n",
       "      <td>0.06</td>\n",
       "      <td>0.35</td>\n",
       "      <td>...</td>\n",
       "      <td>0.23</td>\n",
       "      <td>0.15</td>\n",
       "      <td>0.15</td>\n",
       "      <td>0.00</td>\n",
       "      <td>0.22</td>\n",
       "      <td>0.17</td>\n",
       "      <td>0.10</td>\n",
       "      <td>0.13</td>\n",
       "      <td>0.43</td>\n",
       "      <td>1.00</td>\n",
       "    </tr>\n",
       "  </tbody>\n",
       "</table>\n",
       "<p>28 rows × 28 columns</p>\n",
       "</div>"
      ],
      "text/plain": [
       "                          Polycarp  Paul of Tarsus  Clemens Romanus  \\\n",
       "Polycarp                      1.00            0.21             0.21   \n",
       "Paul of Tarsus                0.21            1.00             0.33   \n",
       "Clemens Romanus               0.21            0.33             1.00   \n",
       "Pseudo-Justinus Martyr        0.01            0.19             0.08   \n",
       "Barnabas                      0.07            0.18             0.19   \n",
       "Hermas                        0.21            0.24             0.28   \n",
       "Pauline literature            0.10            0.19             0.26   \n",
       "GNT rest                      0.15            0.31             0.25   \n",
       "Didache                       0.03            0.04             0.06   \n",
       "Justinus Martyr               0.12            0.25             0.28   \n",
       "Athenagoras                   0.12            0.16             0.15   \n",
       "Origenes                      0.24            0.44             0.41   \n",
       "Theophilus Antiochenus        0.12            0.30             0.22   \n",
       "Matthew                       0.21            0.15             0.13   \n",
       "Clement of Alexandria         0.25            0.34             0.32   \n",
       "Eusebius                      0.20            0.37             0.33   \n",
       "Johnannine literature         0.11            0.17             0.11   \n",
       "Epiphanius                    0.16            0.48             0.28   \n",
       "Athanasius of Alexandria      0.11            0.11             0.14   \n",
       "Luke (the evangelist)         0.09            0.17             0.22   \n",
       "Gregorius Nazianzenus         0.04            0.13             0.18   \n",
       "Ignatius Antiochenus          0.12            0.02             0.00   \n",
       "Basil                         0.04            0.19             0.17   \n",
       "Hippolytus                    0.02            0.08             0.07   \n",
       "Maximus of Tyre               0.10            0.07             0.06   \n",
       "Irenaeus                      0.04            0.05             0.10   \n",
       "Philo Judaeus                 0.15            0.17             0.22   \n",
       "Flavius Josephus              0.19            0.23             0.19   \n",
       "\n",
       "                          Pseudo-Justinus Martyr  Barnabas  Hermas  \\\n",
       "Polycarp                                    0.01      0.07    0.21   \n",
       "Paul of Tarsus                              0.19      0.18    0.24   \n",
       "Clemens Romanus                             0.08      0.19    0.28   \n",
       "Pseudo-Justinus Martyr                      1.00      0.06    0.13   \n",
       "Barnabas                                    0.06      1.00    0.19   \n",
       "Hermas                                      0.13      0.19    1.00   \n",
       "Pauline literature                          0.11      0.15    0.24   \n",
       "GNT rest                                    0.15      0.16    0.25   \n",
       "Didache                                     0.00      0.36    0.14   \n",
       "Justinus Martyr                             0.13      0.49    0.23   \n",
       "Athenagoras                                 0.06      0.19    0.22   \n",
       "Origenes                                    0.24      0.29    0.44   \n",
       "Theophilus Antiochenus                      0.11      0.15    0.20   \n",
       "Matthew                                     0.03      0.08    0.12   \n",
       "Clement of Alexandria                       0.11      0.32    0.36   \n",
       "Eusebius                                    0.18      0.31    0.35   \n",
       "Johnannine literature                       0.23      0.08    0.13   \n",
       "Epiphanius                                  0.16      0.22    0.32   \n",
       "Athanasius of Alexandria                    0.09      0.17    0.18   \n",
       "Luke (the evangelist)                       0.04      0.16    0.20   \n",
       "Gregorius Nazianzenus                       0.07      0.08    0.07   \n",
       "Ignatius Antiochenus                        0.00      0.00    0.00   \n",
       "Basil                                       0.12      0.08    0.19   \n",
       "Hippolytus                                  0.04      0.02    0.09   \n",
       "Maximus of Tyre                             0.08      0.06    0.09   \n",
       "Irenaeus                                    0.05      0.07    0.13   \n",
       "Philo Judaeus                               0.15      0.16    0.29   \n",
       "Flavius Josephus                            0.15      0.19    0.28   \n",
       "\n",
       "                          Pauline literature  GNT rest  Didache  \\\n",
       "Polycarp                                0.10      0.15     0.03   \n",
       "Paul of Tarsus                          0.19      0.31     0.04   \n",
       "Clemens Romanus                         0.26      0.25     0.06   \n",
       "Pseudo-Justinus Martyr                  0.11      0.15     0.00   \n",
       "Barnabas                                0.15      0.16     0.36   \n",
       "Hermas                                  0.24      0.25     0.14   \n",
       "Pauline literature                      1.00      0.21     0.11   \n",
       "GNT rest                                0.21      1.00     0.02   \n",
       "Didache                                 0.11      0.02     1.00   \n",
       "Justinus Martyr                         0.22      0.28     0.10   \n",
       "Athenagoras                             0.09      0.13     0.05   \n",
       "Origenes                                0.30      0.38     0.20   \n",
       "Theophilus Antiochenus                  0.13      0.17     0.05   \n",
       "Matthew                                 0.03      0.10     0.09   \n",
       "Clement of Alexandria                   0.29      0.25     0.17   \n",
       "Eusebius                                0.26      0.32     0.15   \n",
       "Johnannine literature                   0.11      0.24     0.03   \n",
       "Epiphanius                              0.24      0.24     0.09   \n",
       "Athanasius of Alexandria                0.22      0.13     0.22   \n",
       "Luke (the evangelist)                   0.14      0.19     0.08   \n",
       "Gregorius Nazianzenus                   0.14      0.21     0.00   \n",
       "Ignatius Antiochenus                    0.00      0.05     0.00   \n",
       "Basil                                   0.16      0.13     0.06   \n",
       "Hippolytus                              0.04      0.04     0.00   \n",
       "Maximus of Tyre                         0.02      0.03     0.00   \n",
       "Irenaeus                                0.03      0.03     0.00   \n",
       "Philo Judaeus                           0.16      0.16     0.07   \n",
       "Flavius Josephus                        0.15      0.17     0.06   \n",
       "\n",
       "                          Justinus Martyr  ...  Athanasius of Alexandria  \\\n",
       "Polycarp                             0.12  ...                      0.11   \n",
       "Paul of Tarsus                       0.25  ...                      0.11   \n",
       "Clemens Romanus                      0.28  ...                      0.14   \n",
       "Pseudo-Justinus Martyr               0.13  ...                      0.09   \n",
       "Barnabas                             0.49  ...                      0.17   \n",
       "Hermas                               0.23  ...                      0.18   \n",
       "Pauline literature                   0.22  ...                      0.22   \n",
       "GNT rest                             0.28  ...                      0.13   \n",
       "Didache                              0.10  ...                      0.22   \n",
       "Justinus Martyr                      1.00  ...                      0.24   \n",
       "Athenagoras                          0.25  ...                      0.11   \n",
       "Origenes                             0.47  ...                      0.37   \n",
       "Theophilus Antiochenus               0.22  ...                      0.13   \n",
       "Matthew                              0.12  ...                      0.06   \n",
       "Clement of Alexandria                0.39  ...                      0.26   \n",
       "Eusebius                             0.51  ...                      0.37   \n",
       "Johnannine literature                0.18  ...                      0.18   \n",
       "Epiphanius                           0.25  ...                      0.19   \n",
       "Athanasius of Alexandria             0.24  ...                      1.00   \n",
       "Luke (the evangelist)                0.23  ...                      0.14   \n",
       "Gregorius Nazianzenus                0.16  ...                      0.08   \n",
       "Ignatius Antiochenus                 0.03  ...                      0.00   \n",
       "Basil                                0.21  ...                      0.11   \n",
       "Hippolytus                           0.09  ...                      0.06   \n",
       "Maximus of Tyre                      0.08  ...                      0.12   \n",
       "Irenaeus                             0.08  ...                      0.02   \n",
       "Philo Judaeus                        0.30  ...                      0.25   \n",
       "Flavius Josephus                     0.35  ...                      0.23   \n",
       "\n",
       "                          Luke (the evangelist)  Gregorius Nazianzenus  \\\n",
       "Polycarp                                   0.09                   0.04   \n",
       "Paul of Tarsus                             0.17                   0.13   \n",
       "Clemens Romanus                            0.22                   0.18   \n",
       "Pseudo-Justinus Martyr                     0.04                   0.07   \n",
       "Barnabas                                   0.16                   0.08   \n",
       "Hermas                                     0.20                   0.07   \n",
       "Pauline literature                         0.14                   0.14   \n",
       "GNT rest                                   0.19                   0.21   \n",
       "Didache                                    0.08                   0.00   \n",
       "Justinus Martyr                            0.23                   0.16   \n",
       "Athenagoras                                0.10                   0.12   \n",
       "Origenes                                   0.29                   0.23   \n",
       "Theophilus Antiochenus                     0.14                   0.18   \n",
       "Matthew                                    0.06                   0.02   \n",
       "Clement of Alexandria                      0.26                   0.15   \n",
       "Eusebius                                   0.32                   0.22   \n",
       "Johnannine literature                      0.07                   0.04   \n",
       "Epiphanius                                 0.19                   0.14   \n",
       "Athanasius of Alexandria                   0.14                   0.08   \n",
       "Luke (the evangelist)                      1.00                   0.04   \n",
       "Gregorius Nazianzenus                      0.04                   1.00   \n",
       "Ignatius Antiochenus                       0.00                   0.00   \n",
       "Basil                                      0.15                   0.08   \n",
       "Hippolytus                                 0.05                   0.03   \n",
       "Maximus of Tyre                            0.00                   0.07   \n",
       "Irenaeus                                   0.03                   0.02   \n",
       "Philo Judaeus                              0.15                   0.13   \n",
       "Flavius Josephus                           0.15                   0.15   \n",
       "\n",
       "                          Ignatius Antiochenus  Basil  Hippolytus  \\\n",
       "Polycarp                                  0.12   0.04        0.02   \n",
       "Paul of Tarsus                            0.02   0.19        0.08   \n",
       "Clemens Romanus                           0.00   0.17        0.07   \n",
       "Pseudo-Justinus Martyr                    0.00   0.12        0.04   \n",
       "Barnabas                                  0.00   0.08        0.02   \n",
       "Hermas                                    0.00   0.19        0.09   \n",
       "Pauline literature                        0.00   0.16        0.04   \n",
       "GNT rest                                  0.05   0.13        0.04   \n",
       "Didache                                   0.00   0.06        0.00   \n",
       "Justinus Martyr                           0.03   0.21        0.09   \n",
       "Athenagoras                               0.00   0.13        0.10   \n",
       "Origenes                                  0.02   0.43        0.22   \n",
       "Theophilus Antiochenus                    0.00   0.21        0.13   \n",
       "Matthew                                   0.10   0.06        0.02   \n",
       "Clement of Alexandria                     0.02   0.27        0.20   \n",
       "Eusebius                                  0.00   0.33        0.21   \n",
       "Johnannine literature                     0.00   0.17        0.06   \n",
       "Epiphanius                                0.06   0.20        0.12   \n",
       "Athanasius of Alexandria                  0.00   0.11        0.06   \n",
       "Luke (the evangelist)                     0.00   0.15        0.05   \n",
       "Gregorius Nazianzenus                     0.00   0.08        0.03   \n",
       "Ignatius Antiochenus                      1.00   0.00        0.00   \n",
       "Basil                                     0.00   1.00        0.11   \n",
       "Hippolytus                                0.00   0.11        1.00   \n",
       "Maximus of Tyre                           0.00   0.03        0.06   \n",
       "Irenaeus                                  0.00   0.04        0.03   \n",
       "Philo Judaeus                             0.01   0.24        0.41   \n",
       "Flavius Josephus                          0.00   0.22        0.17   \n",
       "\n",
       "                          Maximus of Tyre  Irenaeus  Philo Judaeus  \\\n",
       "Polycarp                             0.10      0.04           0.15   \n",
       "Paul of Tarsus                       0.07      0.05           0.17   \n",
       "Clemens Romanus                      0.06      0.10           0.22   \n",
       "Pseudo-Justinus Martyr               0.08      0.05           0.15   \n",
       "Barnabas                             0.06      0.07           0.16   \n",
       "Hermas                               0.09      0.13           0.29   \n",
       "Pauline literature                   0.02      0.03           0.16   \n",
       "GNT rest                             0.03      0.03           0.16   \n",
       "Didache                              0.00      0.00           0.07   \n",
       "Justinus Martyr                      0.08      0.08           0.30   \n",
       "Athenagoras                          0.11      0.07           0.35   \n",
       "Origenes                             0.11      0.13           0.49   \n",
       "Theophilus Antiochenus               0.11      0.02           0.20   \n",
       "Matthew                              0.00      0.04           0.06   \n",
       "Clement of Alexandria                0.13      0.12           0.46   \n",
       "Eusebius                             0.15      0.11           0.52   \n",
       "Johnannine literature                0.00      0.07           0.14   \n",
       "Epiphanius                           0.15      0.17           0.34   \n",
       "Athanasius of Alexandria             0.12      0.02           0.25   \n",
       "Luke (the evangelist)                0.00      0.03           0.15   \n",
       "Gregorius Nazianzenus                0.07      0.02           0.13   \n",
       "Ignatius Antiochenus                 0.00      0.00           0.01   \n",
       "Basil                                0.03      0.04           0.24   \n",
       "Hippolytus                           0.06      0.03           0.41   \n",
       "Maximus of Tyre                      1.00      0.07           0.15   \n",
       "Irenaeus                             0.07      1.00           0.10   \n",
       "Philo Judaeus                        0.15      0.10           1.00   \n",
       "Flavius Josephus                     0.10      0.13           0.43   \n",
       "\n",
       "                          Flavius Josephus  \n",
       "Polycarp                              0.19  \n",
       "Paul of Tarsus                        0.23  \n",
       "Clemens Romanus                       0.19  \n",
       "Pseudo-Justinus Martyr                0.15  \n",
       "Barnabas                              0.19  \n",
       "Hermas                                0.28  \n",
       "Pauline literature                    0.15  \n",
       "GNT rest                              0.17  \n",
       "Didache                               0.06  \n",
       "Justinus Martyr                       0.35  \n",
       "Athenagoras                           0.32  \n",
       "Origenes                              0.44  \n",
       "Theophilus Antiochenus                0.24  \n",
       "Matthew                               0.09  \n",
       "Clement of Alexandria                 0.40  \n",
       "Eusebius                              0.53  \n",
       "Johnannine literature                 0.16  \n",
       "Epiphanius                            0.33  \n",
       "Athanasius of Alexandria              0.23  \n",
       "Luke (the evangelist)                 0.15  \n",
       "Gregorius Nazianzenus                 0.15  \n",
       "Ignatius Antiochenus                  0.00  \n",
       "Basil                                 0.22  \n",
       "Hippolytus                            0.17  \n",
       "Maximus of Tyre                       0.10  \n",
       "Irenaeus                              0.13  \n",
       "Philo Judaeus                         0.43  \n",
       "Flavius Josephus                      1.00  \n",
       "\n",
       "[28 rows x 28 columns]"
      ]
     },
     "execution_count": 188,
     "metadata": {},
     "output_type": "execute_result"
    }
   ],
   "source": [
    "tfidfs_christian"
   ]
  },
  {
   "cell_type": "code",
   "execution_count": 189,
   "metadata": {},
   "outputs": [],
   "source": [
    "G = nx.from_numpy_matrix(tfidfs_christian.to_numpy())\n",
    "\n",
    "authors_dict = dict(zip(range(len(authors)), authors))\n",
    "G = nx.relabel_nodes(G, authors_dict)\n",
    "\n",
    "total_weight = sum([int(n) for n in nx.get_edge_attributes(G, \"weight\").values()])\n",
    "for (u, v) in G.edges:\n",
    "    G[u][v][\"norm_weight\"] = round((G[u][v][\"weight\"] / total_weight), 5)\n",
    "    G[u][v][\"distance\"] = round(1 / (G[u][v][\"weight\"]), 5)\n",
    "    G[u][v][\"norm_distance\"] = round(1 / (G[u][v][\"norm_weight\"] ), 5)\n",
    "\n",
    "edges_to_remove = []\n",
    "for edge in G.edges:\n",
    "    if edge[0] == edge[1]:\n",
    "        edges_to_remove.append(edge)\n",
    "G.remove_edges_from(edges_to_remove)\n",
    "\n",
    "sim_threshold = 0.37\n",
    "edges_to_remove = []\n",
    "for edge in G.edges:\n",
    "    if G[edge[0]][edge[1]][\"weight\"] < sim_threshold:\n",
    "        edges_to_remove.append(edge)\n",
    "G.remove_edges_from(edges_to_remove)\n",
    "\n",
    "G.remove_nodes_from(list(nx.isolates(G)))"
   ]
  },
  {
   "cell_type": "code",
   "execution_count": 190,
   "metadata": {},
   "outputs": [
    {
     "data": {
      "text/html": [
       "        <script type=\"text/javascript\">\n",
       "        window.PlotlyConfig = {MathJaxConfig: 'local'};\n",
       "        if (window.MathJax) {MathJax.Hub.Config({SVG: {font: \"STIX-Web\"}});}\n",
       "        if (typeof require !== 'undefined') {\n",
       "        require.undef(\"plotly\");\n",
       "        requirejs.config({\n",
       "            paths: {\n",
       "                'plotly': ['https://cdn.plot.ly/plotly-latest.min']\n",
       "            }\n",
       "        });\n",
       "        require(['plotly'], function(Plotly) {\n",
       "            window._Plotly = Plotly;\n",
       "        });\n",
       "        }\n",
       "        </script>\n",
       "        "
      ]
     },
     "metadata": {},
     "output_type": "display_data"
    },
    {
     "data": {
      "application/vnd.plotly.v1+json": {
       "config": {
        "plotlyServerURL": "https://plot.ly"
       },
       "data": [
        {
         "line": {
          "color": "#000000",
          "width": 4
         },
         "mode": "lines",
         "type": "scatter",
         "x": [
          0.003962779269775077,
          0.18358967570092025,
          null,
          0.003962779269775077,
          -0.17190634490282353,
          null
         ],
         "y": [
          -0.04956446732674653,
          0.11249146000062084,
          null,
          -0.04956446732674653,
          -0.000990987304787577,
          null
         ]
        },
        {
         "line": {
          "color": "#404040",
          "width": 2
         },
         "mode": "lines",
         "type": "scatter",
         "x": [
          -0.1165184296104599,
          -0.17190634490282353,
          null,
          0.18358967570092025,
          -0.17190634490282353,
          null,
          -0.17190634490282353,
          0.10286989944709801,
          null,
          -0.17190634490282353,
          0.3208887755296183,
          null
         ],
         "y": [
          0.5009587846545923,
          -0.000990987304787577,
          null,
          0.11249146000062084,
          -0.000990987304787577,
          null,
          -0.000990987304787577,
          -0.4634235989270733,
          null,
          -0.000990987304787577,
          -0.2746851010676029,
          null
         ]
        },
        {
         "line": {
          "color": "#C0C0C0",
          "width": 1
         },
         "mode": "lines",
         "type": "scatter",
         "x": [
          0.12037391992800653,
          0.003962779269775077,
          null,
          0.12037391992800653,
          -0.17190634490282353,
          null,
          0.12037391992800653,
          -0.2866370917142503,
          null,
          0.6142936200380955,
          0.003962779269775077,
          null,
          -0.22065137451919786,
          -0.1165184296104599,
          null,
          0.5544360842073279,
          0.003962779269775077,
          null,
          -0.6270619600915075,
          0.003962779269775077,
          null,
          -0.1165184296104599,
          0.003962779269775077,
          null,
          -0.1165184296104599,
          0.18358967570092025,
          null,
          0.003962779269775077,
          -0.2866370917142503,
          null,
          0.003962779269775077,
          -0.5001227229435553,
          null,
          0.003962779269775077,
          -0.28362841345588685,
          null,
          0.003962779269775077,
          0.10286989944709801,
          null,
          0.003962779269775077,
          0.3208887755296183,
          null,
          0.18358967570092025,
          -0.2866370917142503,
          null,
          0.18358967570092025,
          0.10286989944709801,
          null,
          0.18358967570092025,
          0.3208887755296183,
          null,
          -0.17190634490282353,
          -0.2866370917142503,
          null,
          -0.17190634490282353,
          -0.5001227229435553,
          null,
          0.3061115831168396,
          0.10286989944709801,
          null,
          0.10286989944709801,
          0.3208887755296183,
          null
         ],
         "y": [
          0.4321116012484023,
          -0.04956446732674653,
          null,
          0.4321116012484023,
          -0.000990987304787577,
          null,
          0.4321116012484023,
          0.3220798774322779,
          null,
          -0.13840410142208812,
          -0.04956446732674653,
          null,
          0.9999999999999999,
          0.5009587846545923,
          null,
          0.278268805916914,
          -0.04956446732674653,
          null,
          0.0499859667776456,
          -0.04956446732674653,
          null,
          0.5009587846545923,
          -0.04956446732674653,
          null,
          0.5009587846545923,
          0.11249146000062084,
          null,
          -0.04956446732674653,
          0.3220798774322779,
          null,
          -0.04956446732674653,
          -0.2722450179615505,
          null,
          -0.04956446732674653,
          -0.5552302105305519,
          null,
          -0.04956446732674653,
          -0.4634235989270733,
          null,
          -0.04956446732674653,
          -0.2746851010676029,
          null,
          0.11249146000062084,
          0.3220798774322779,
          null,
          0.11249146000062084,
          -0.4634235989270733,
          null,
          0.11249146000062084,
          -0.2746851010676029,
          null,
          -0.000990987304787577,
          0.3220798774322779,
          null,
          -0.000990987304787577,
          -0.2722450179615505,
          null,
          -0.9413530114900521,
          -0.4634235989270733,
          null,
          -0.4634235989270733,
          -0.2746851010676029,
          null
         ]
        },
        {
         "hoverinfo": "text",
         "hovertext": [
          "3",
          "1",
          "1",
          "1",
          "1",
          "4",
          "12",
          "6",
          "8",
          "4",
          "2",
          "1",
          "1",
          "5",
          "4"
         ],
         "marker": {
          "color": [
           43,
           24,
           24,
           15,
           17,
           55,
           112,
           72,
           75,
           10,
           24,
           5,
           24,
           30,
           16
          ],
          "colorbar": {
           "thickness": 30,
           "title": {
            "side": "right",
            "text": "degree"
           },
           "xanchor": "left"
          },
          "colorscale": [
           [
            0,
            "rgb(255,255,255)"
           ],
           [
            0.125,
            "rgb(240,240,240)"
           ],
           [
            0.25,
            "rgb(217,217,217)"
           ],
           [
            0.375,
            "rgb(189,189,189)"
           ],
           [
            0.5,
            "rgb(150,150,150)"
           ],
           [
            0.625,
            "rgb(115,115,115)"
           ],
           [
            0.75,
            "rgb(82,82,82)"
           ],
           [
            0.875,
            "rgb(37,37,37)"
           ],
           [
            1,
            "rgb(0,0,0)"
           ]
          ],
          "line": {
           "width": 1.5
          },
          "showscale": false,
          "size": 15
         },
         "mode": "markers+text",
         "text": [
          "Paul of Tarsus",
          "Clemens Romanus",
          "Barnabas",
          "Hermas",
          "GNT rest",
          "Justinus Martyr",
          "Origenes",
          "Clement of Alexandria",
          "Eusebius",
          "Epiphanius",
          "Athanasius of Alexandria",
          "Basil",
          "Hippolytus",
          "Philo Judaeus",
          "Flavius Josephus"
         ],
         "textfont": {
          "size": 32
         },
         "textposition": "bottom center",
         "type": "scatter",
         "x": [
          0.12037391992800653,
          0.6142936200380955,
          -0.22065137451919786,
          0.5544360842073279,
          -0.6270619600915075,
          -0.1165184296104599,
          0.003962779269775077,
          0.18358967570092025,
          -0.17190634490282353,
          -0.2866370917142503,
          -0.5001227229435553,
          -0.28362841345588685,
          0.3061115831168396,
          0.10286989944709801,
          0.3208887755296183
         ],
         "y": [
          0.4321116012484023,
          -0.13840410142208812,
          0.9999999999999999,
          0.278268805916914,
          0.0499859667776456,
          0.5009587846545923,
          -0.04956446732674653,
          0.11249146000062084,
          -0.000990987304787577,
          0.3220798774322779,
          -0.2722450179615505,
          -0.5552302105305519,
          -0.9413530114900521,
          -0.4634235989270733,
          -0.2746851010676029
         ]
        },
        {
         "hoverinfo": "text",
         "marker": {
          "opacity": 0
         },
         "mode": "markers",
         "opacity": 0,
         "text": [
          "0",
          "0",
          "0",
          "0",
          "0",
          "0",
          "0",
          "0",
          "0",
          "0",
          "0",
          "0",
          "0",
          "0",
          "0",
          "0",
          "0",
          "0",
          "0",
          "0",
          "0",
          "0",
          "0",
          "0",
          "0",
          "0",
          "0"
         ],
         "type": "scatter",
         "x": [
          0.0621683495988908,
          -0.0257662124874085,
          -0.08313158589312188,
          0.3091281996539353,
          -0.16858490206482887,
          0.2791994317385515,
          -0.3115495904108662,
          -0.05627782517034241,
          0.033535623045230174,
          -0.1442123872566417,
          0.09377622748534767,
          -0.08397178281652423,
          -0.1413371562222376,
          -0.24807997183689012,
          -0.1398328170930559,
          0.053416339358436545,
          0.16242577739969669,
          0.00584166539904836,
          -0.05152370800666502,
          0.14322978757400912,
          0.2522392256152693,
          -0.2292717183085369,
          -0.3360145339231894,
          -0.03451822272786276,
          0.07449121531339739,
          0.2044907412819688,
          0.21187933748835816
         ],
         "y": [
          0.1912735669608279,
          0.21556030697180736,
          0.37709573934034013,
          -0.09398428437441732,
          0.7504793923272961,
          0.11435216929508374,
          0.0002107497254495369,
          0.2256971586639229,
          0.30672512232760657,
          0.24998389867490237,
          0.03146349633693715,
          -0.02527772731576705,
          0.1362577050527657,
          -0.1609047426441485,
          -0.30239733892864923,
          -0.25649403312690994,
          -0.16212478419717472,
          0.05575023634791663,
          0.21728566871644936,
          -0.17546606946322624,
          -0.08109682053349104,
          0.16054444506374516,
          -0.13661800263316903,
          -0.23220729311593044,
          -0.13783804418619525,
          -0.7023883052085627,
          -0.3690543499973381
         ]
        }
       ],
       "layout": {
        "autosize": false,
        "height": 1200,
        "hovermode": "closest",
        "margin": {
         "b": 10,
         "l": 10,
         "r": 10,
         "t": 10
        },
        "plot_bgcolor": "rgba(0,0,0,0)",
        "showlegend": false,
        "template": {
         "data": {
          "bar": [
           {
            "error_x": {
             "color": "#2a3f5f"
            },
            "error_y": {
             "color": "#2a3f5f"
            },
            "marker": {
             "line": {
              "color": "#E5ECF6",
              "width": 0.5
             }
            },
            "type": "bar"
           }
          ],
          "barpolar": [
           {
            "marker": {
             "line": {
              "color": "#E5ECF6",
              "width": 0.5
             }
            },
            "type": "barpolar"
           }
          ],
          "carpet": [
           {
            "aaxis": {
             "endlinecolor": "#2a3f5f",
             "gridcolor": "white",
             "linecolor": "white",
             "minorgridcolor": "white",
             "startlinecolor": "#2a3f5f"
            },
            "baxis": {
             "endlinecolor": "#2a3f5f",
             "gridcolor": "white",
             "linecolor": "white",
             "minorgridcolor": "white",
             "startlinecolor": "#2a3f5f"
            },
            "type": "carpet"
           }
          ],
          "choropleth": [
           {
            "colorbar": {
             "outlinewidth": 0,
             "ticks": ""
            },
            "type": "choropleth"
           }
          ],
          "contour": [
           {
            "colorbar": {
             "outlinewidth": 0,
             "ticks": ""
            },
            "colorscale": [
             [
              0,
              "#0d0887"
             ],
             [
              0.1111111111111111,
              "#46039f"
             ],
             [
              0.2222222222222222,
              "#7201a8"
             ],
             [
              0.3333333333333333,
              "#9c179e"
             ],
             [
              0.4444444444444444,
              "#bd3786"
             ],
             [
              0.5555555555555556,
              "#d8576b"
             ],
             [
              0.6666666666666666,
              "#ed7953"
             ],
             [
              0.7777777777777778,
              "#fb9f3a"
             ],
             [
              0.8888888888888888,
              "#fdca26"
             ],
             [
              1,
              "#f0f921"
             ]
            ],
            "type": "contour"
           }
          ],
          "contourcarpet": [
           {
            "colorbar": {
             "outlinewidth": 0,
             "ticks": ""
            },
            "type": "contourcarpet"
           }
          ],
          "heatmap": [
           {
            "colorbar": {
             "outlinewidth": 0,
             "ticks": ""
            },
            "colorscale": [
             [
              0,
              "#0d0887"
             ],
             [
              0.1111111111111111,
              "#46039f"
             ],
             [
              0.2222222222222222,
              "#7201a8"
             ],
             [
              0.3333333333333333,
              "#9c179e"
             ],
             [
              0.4444444444444444,
              "#bd3786"
             ],
             [
              0.5555555555555556,
              "#d8576b"
             ],
             [
              0.6666666666666666,
              "#ed7953"
             ],
             [
              0.7777777777777778,
              "#fb9f3a"
             ],
             [
              0.8888888888888888,
              "#fdca26"
             ],
             [
              1,
              "#f0f921"
             ]
            ],
            "type": "heatmap"
           }
          ],
          "heatmapgl": [
           {
            "colorbar": {
             "outlinewidth": 0,
             "ticks": ""
            },
            "colorscale": [
             [
              0,
              "#0d0887"
             ],
             [
              0.1111111111111111,
              "#46039f"
             ],
             [
              0.2222222222222222,
              "#7201a8"
             ],
             [
              0.3333333333333333,
              "#9c179e"
             ],
             [
              0.4444444444444444,
              "#bd3786"
             ],
             [
              0.5555555555555556,
              "#d8576b"
             ],
             [
              0.6666666666666666,
              "#ed7953"
             ],
             [
              0.7777777777777778,
              "#fb9f3a"
             ],
             [
              0.8888888888888888,
              "#fdca26"
             ],
             [
              1,
              "#f0f921"
             ]
            ],
            "type": "heatmapgl"
           }
          ],
          "histogram": [
           {
            "marker": {
             "colorbar": {
              "outlinewidth": 0,
              "ticks": ""
             }
            },
            "type": "histogram"
           }
          ],
          "histogram2d": [
           {
            "colorbar": {
             "outlinewidth": 0,
             "ticks": ""
            },
            "colorscale": [
             [
              0,
              "#0d0887"
             ],
             [
              0.1111111111111111,
              "#46039f"
             ],
             [
              0.2222222222222222,
              "#7201a8"
             ],
             [
              0.3333333333333333,
              "#9c179e"
             ],
             [
              0.4444444444444444,
              "#bd3786"
             ],
             [
              0.5555555555555556,
              "#d8576b"
             ],
             [
              0.6666666666666666,
              "#ed7953"
             ],
             [
              0.7777777777777778,
              "#fb9f3a"
             ],
             [
              0.8888888888888888,
              "#fdca26"
             ],
             [
              1,
              "#f0f921"
             ]
            ],
            "type": "histogram2d"
           }
          ],
          "histogram2dcontour": [
           {
            "colorbar": {
             "outlinewidth": 0,
             "ticks": ""
            },
            "colorscale": [
             [
              0,
              "#0d0887"
             ],
             [
              0.1111111111111111,
              "#46039f"
             ],
             [
              0.2222222222222222,
              "#7201a8"
             ],
             [
              0.3333333333333333,
              "#9c179e"
             ],
             [
              0.4444444444444444,
              "#bd3786"
             ],
             [
              0.5555555555555556,
              "#d8576b"
             ],
             [
              0.6666666666666666,
              "#ed7953"
             ],
             [
              0.7777777777777778,
              "#fb9f3a"
             ],
             [
              0.8888888888888888,
              "#fdca26"
             ],
             [
              1,
              "#f0f921"
             ]
            ],
            "type": "histogram2dcontour"
           }
          ],
          "mesh3d": [
           {
            "colorbar": {
             "outlinewidth": 0,
             "ticks": ""
            },
            "type": "mesh3d"
           }
          ],
          "parcoords": [
           {
            "line": {
             "colorbar": {
              "outlinewidth": 0,
              "ticks": ""
             }
            },
            "type": "parcoords"
           }
          ],
          "pie": [
           {
            "automargin": true,
            "type": "pie"
           }
          ],
          "scatter": [
           {
            "marker": {
             "colorbar": {
              "outlinewidth": 0,
              "ticks": ""
             }
            },
            "type": "scatter"
           }
          ],
          "scatter3d": [
           {
            "line": {
             "colorbar": {
              "outlinewidth": 0,
              "ticks": ""
             }
            },
            "marker": {
             "colorbar": {
              "outlinewidth": 0,
              "ticks": ""
             }
            },
            "type": "scatter3d"
           }
          ],
          "scattercarpet": [
           {
            "marker": {
             "colorbar": {
              "outlinewidth": 0,
              "ticks": ""
             }
            },
            "type": "scattercarpet"
           }
          ],
          "scattergeo": [
           {
            "marker": {
             "colorbar": {
              "outlinewidth": 0,
              "ticks": ""
             }
            },
            "type": "scattergeo"
           }
          ],
          "scattergl": [
           {
            "marker": {
             "colorbar": {
              "outlinewidth": 0,
              "ticks": ""
             }
            },
            "type": "scattergl"
           }
          ],
          "scattermapbox": [
           {
            "marker": {
             "colorbar": {
              "outlinewidth": 0,
              "ticks": ""
             }
            },
            "type": "scattermapbox"
           }
          ],
          "scatterpolar": [
           {
            "marker": {
             "colorbar": {
              "outlinewidth": 0,
              "ticks": ""
             }
            },
            "type": "scatterpolar"
           }
          ],
          "scatterpolargl": [
           {
            "marker": {
             "colorbar": {
              "outlinewidth": 0,
              "ticks": ""
             }
            },
            "type": "scatterpolargl"
           }
          ],
          "scatterternary": [
           {
            "marker": {
             "colorbar": {
              "outlinewidth": 0,
              "ticks": ""
             }
            },
            "type": "scatterternary"
           }
          ],
          "surface": [
           {
            "colorbar": {
             "outlinewidth": 0,
             "ticks": ""
            },
            "colorscale": [
             [
              0,
              "#0d0887"
             ],
             [
              0.1111111111111111,
              "#46039f"
             ],
             [
              0.2222222222222222,
              "#7201a8"
             ],
             [
              0.3333333333333333,
              "#9c179e"
             ],
             [
              0.4444444444444444,
              "#bd3786"
             ],
             [
              0.5555555555555556,
              "#d8576b"
             ],
             [
              0.6666666666666666,
              "#ed7953"
             ],
             [
              0.7777777777777778,
              "#fb9f3a"
             ],
             [
              0.8888888888888888,
              "#fdca26"
             ],
             [
              1,
              "#f0f921"
             ]
            ],
            "type": "surface"
           }
          ],
          "table": [
           {
            "cells": {
             "fill": {
              "color": "#EBF0F8"
             },
             "line": {
              "color": "white"
             }
            },
            "header": {
             "fill": {
              "color": "#C8D4E3"
             },
             "line": {
              "color": "white"
             }
            },
            "type": "table"
           }
          ]
         },
         "layout": {
          "annotationdefaults": {
           "arrowcolor": "#2a3f5f",
           "arrowhead": 0,
           "arrowwidth": 1
          },
          "autotypenumbers": "strict",
          "coloraxis": {
           "colorbar": {
            "outlinewidth": 0,
            "ticks": ""
           }
          },
          "colorscale": {
           "diverging": [
            [
             0,
             "#8e0152"
            ],
            [
             0.1,
             "#c51b7d"
            ],
            [
             0.2,
             "#de77ae"
            ],
            [
             0.3,
             "#f1b6da"
            ],
            [
             0.4,
             "#fde0ef"
            ],
            [
             0.5,
             "#f7f7f7"
            ],
            [
             0.6,
             "#e6f5d0"
            ],
            [
             0.7,
             "#b8e186"
            ],
            [
             0.8,
             "#7fbc41"
            ],
            [
             0.9,
             "#4d9221"
            ],
            [
             1,
             "#276419"
            ]
           ],
           "sequential": [
            [
             0,
             "#0d0887"
            ],
            [
             0.1111111111111111,
             "#46039f"
            ],
            [
             0.2222222222222222,
             "#7201a8"
            ],
            [
             0.3333333333333333,
             "#9c179e"
            ],
            [
             0.4444444444444444,
             "#bd3786"
            ],
            [
             0.5555555555555556,
             "#d8576b"
            ],
            [
             0.6666666666666666,
             "#ed7953"
            ],
            [
             0.7777777777777778,
             "#fb9f3a"
            ],
            [
             0.8888888888888888,
             "#fdca26"
            ],
            [
             1,
             "#f0f921"
            ]
           ],
           "sequentialminus": [
            [
             0,
             "#0d0887"
            ],
            [
             0.1111111111111111,
             "#46039f"
            ],
            [
             0.2222222222222222,
             "#7201a8"
            ],
            [
             0.3333333333333333,
             "#9c179e"
            ],
            [
             0.4444444444444444,
             "#bd3786"
            ],
            [
             0.5555555555555556,
             "#d8576b"
            ],
            [
             0.6666666666666666,
             "#ed7953"
            ],
            [
             0.7777777777777778,
             "#fb9f3a"
            ],
            [
             0.8888888888888888,
             "#fdca26"
            ],
            [
             1,
             "#f0f921"
            ]
           ]
          },
          "colorway": [
           "#636efa",
           "#EF553B",
           "#00cc96",
           "#ab63fa",
           "#FFA15A",
           "#19d3f3",
           "#FF6692",
           "#B6E880",
           "#FF97FF",
           "#FECB52"
          ],
          "font": {
           "color": "#2a3f5f"
          },
          "geo": {
           "bgcolor": "white",
           "lakecolor": "white",
           "landcolor": "#E5ECF6",
           "showlakes": true,
           "showland": true,
           "subunitcolor": "white"
          },
          "hoverlabel": {
           "align": "left"
          },
          "hovermode": "closest",
          "mapbox": {
           "style": "light"
          },
          "paper_bgcolor": "white",
          "plot_bgcolor": "#E5ECF6",
          "polar": {
           "angularaxis": {
            "gridcolor": "white",
            "linecolor": "white",
            "ticks": ""
           },
           "bgcolor": "#E5ECF6",
           "radialaxis": {
            "gridcolor": "white",
            "linecolor": "white",
            "ticks": ""
           }
          },
          "scene": {
           "xaxis": {
            "backgroundcolor": "#E5ECF6",
            "gridcolor": "white",
            "gridwidth": 2,
            "linecolor": "white",
            "showbackground": true,
            "ticks": "",
            "zerolinecolor": "white"
           },
           "yaxis": {
            "backgroundcolor": "#E5ECF6",
            "gridcolor": "white",
            "gridwidth": 2,
            "linecolor": "white",
            "showbackground": true,
            "ticks": "",
            "zerolinecolor": "white"
           },
           "zaxis": {
            "backgroundcolor": "#E5ECF6",
            "gridcolor": "white",
            "gridwidth": 2,
            "linecolor": "white",
            "showbackground": true,
            "ticks": "",
            "zerolinecolor": "white"
           }
          },
          "shapedefaults": {
           "line": {
            "color": "#2a3f5f"
           }
          },
          "ternary": {
           "aaxis": {
            "gridcolor": "white",
            "linecolor": "white",
            "ticks": ""
           },
           "baxis": {
            "gridcolor": "white",
            "linecolor": "white",
            "ticks": ""
           },
           "bgcolor": "#E5ECF6",
           "caxis": {
            "gridcolor": "white",
            "linecolor": "white",
            "ticks": ""
           }
          },
          "title": {
           "x": 0.05
          },
          "xaxis": {
           "automargin": true,
           "gridcolor": "white",
           "linecolor": "white",
           "ticks": "",
           "title": {
            "standoff": 15
           },
           "zerolinecolor": "white",
           "zerolinewidth": 2
          },
          "yaxis": {
           "automargin": true,
           "gridcolor": "white",
           "linecolor": "white",
           "ticks": "",
           "title": {
            "standoff": 15
           },
           "zerolinecolor": "white",
           "zerolinewidth": 2
          }
         }
        },
        "title": {
         "font": {
          "size": 16
         }
        },
        "width": 1800,
        "xaxis": {
         "range": [
          -1.15,
          1.05
         ],
         "showgrid": false,
         "showticklabels": false,
         "zeroline": false
        },
        "yaxis": {
         "range": [
          -1.15,
          1.05
         ],
         "showgrid": false,
         "showticklabels": false,
         "zeroline": false
        }
       }
      },
      "text/html": [
       "<div>                            <div id=\"89be0735-afd4-4e00-aade-750f15d5e3d4\" class=\"plotly-graph-div\" style=\"height:1200px; width:1800px;\"></div>            <script type=\"text/javascript\">                require([\"plotly\"], function(Plotly) {                    window.PLOTLYENV=window.PLOTLYENV || {};                                    if (document.getElementById(\"89be0735-afd4-4e00-aade-750f15d5e3d4\")) {                    Plotly.newPlot(                        \"89be0735-afd4-4e00-aade-750f15d5e3d4\",                        [{\"line\": {\"color\": \"#000000\", \"width\": 4}, \"mode\": \"lines\", \"type\": \"scatter\", \"x\": [0.003962779269775077, 0.18358967570092025, null, 0.003962779269775077, -0.17190634490282353, null], \"y\": [-0.04956446732674653, 0.11249146000062084, null, -0.04956446732674653, -0.000990987304787577, null]}, {\"line\": {\"color\": \"#404040\", \"width\": 2}, \"mode\": \"lines\", \"type\": \"scatter\", \"x\": [-0.1165184296104599, -0.17190634490282353, null, 0.18358967570092025, -0.17190634490282353, null, -0.17190634490282353, 0.10286989944709801, null, -0.17190634490282353, 0.3208887755296183, null], \"y\": [0.5009587846545923, -0.000990987304787577, null, 0.11249146000062084, -0.000990987304787577, null, -0.000990987304787577, -0.4634235989270733, null, -0.000990987304787577, -0.2746851010676029, null]}, {\"line\": {\"color\": \"#C0C0C0\", \"width\": 1}, \"mode\": \"lines\", \"type\": \"scatter\", \"x\": [0.12037391992800653, 0.003962779269775077, null, 0.12037391992800653, -0.17190634490282353, null, 0.12037391992800653, -0.2866370917142503, null, 0.6142936200380955, 0.003962779269775077, null, -0.22065137451919786, -0.1165184296104599, null, 0.5544360842073279, 0.003962779269775077, null, -0.6270619600915075, 0.003962779269775077, null, -0.1165184296104599, 0.003962779269775077, null, -0.1165184296104599, 0.18358967570092025, null, 0.003962779269775077, -0.2866370917142503, null, 0.003962779269775077, -0.5001227229435553, null, 0.003962779269775077, -0.28362841345588685, null, 0.003962779269775077, 0.10286989944709801, null, 0.003962779269775077, 0.3208887755296183, null, 0.18358967570092025, -0.2866370917142503, null, 0.18358967570092025, 0.10286989944709801, null, 0.18358967570092025, 0.3208887755296183, null, -0.17190634490282353, -0.2866370917142503, null, -0.17190634490282353, -0.5001227229435553, null, 0.3061115831168396, 0.10286989944709801, null, 0.10286989944709801, 0.3208887755296183, null], \"y\": [0.4321116012484023, -0.04956446732674653, null, 0.4321116012484023, -0.000990987304787577, null, 0.4321116012484023, 0.3220798774322779, null, -0.13840410142208812, -0.04956446732674653, null, 0.9999999999999999, 0.5009587846545923, null, 0.278268805916914, -0.04956446732674653, null, 0.0499859667776456, -0.04956446732674653, null, 0.5009587846545923, -0.04956446732674653, null, 0.5009587846545923, 0.11249146000062084, null, -0.04956446732674653, 0.3220798774322779, null, -0.04956446732674653, -0.2722450179615505, null, -0.04956446732674653, -0.5552302105305519, null, -0.04956446732674653, -0.4634235989270733, null, -0.04956446732674653, -0.2746851010676029, null, 0.11249146000062084, 0.3220798774322779, null, 0.11249146000062084, -0.4634235989270733, null, 0.11249146000062084, -0.2746851010676029, null, -0.000990987304787577, 0.3220798774322779, null, -0.000990987304787577, -0.2722450179615505, null, -0.9413530114900521, -0.4634235989270733, null, -0.4634235989270733, -0.2746851010676029, null]}, {\"hoverinfo\": \"text\", \"hovertext\": [\"3\", \"1\", \"1\", \"1\", \"1\", \"4\", \"12\", \"6\", \"8\", \"4\", \"2\", \"1\", \"1\", \"5\", \"4\"], \"marker\": {\"color\": [43, 24, 24, 15, 17, 55, 112, 72, 75, 10, 24, 5, 24, 30, 16], \"colorbar\": {\"thickness\": 30, \"title\": {\"side\": \"right\", \"text\": \"degree\"}, \"xanchor\": \"left\"}, \"colorscale\": [[0.0, \"rgb(255,255,255)\"], [0.125, \"rgb(240,240,240)\"], [0.25, \"rgb(217,217,217)\"], [0.375, \"rgb(189,189,189)\"], [0.5, \"rgb(150,150,150)\"], [0.625, \"rgb(115,115,115)\"], [0.75, \"rgb(82,82,82)\"], [0.875, \"rgb(37,37,37)\"], [1.0, \"rgb(0,0,0)\"]], \"line\": {\"width\": 1.5}, \"showscale\": false, \"size\": 15}, \"mode\": \"markers+text\", \"text\": [\"Paul of Tarsus\", \"Clemens Romanus\", \"Barnabas\", \"Hermas\", \"GNT rest\", \"Justinus Martyr\", \"Origenes\", \"Clement of Alexandria\", \"Eusebius\", \"Epiphanius\", \"Athanasius of Alexandria\", \"Basil\", \"Hippolytus\", \"Philo Judaeus\", \"Flavius Josephus\"], \"textfont\": {\"size\": 32}, \"textposition\": \"bottom center\", \"type\": \"scatter\", \"x\": [0.12037391992800653, 0.6142936200380955, -0.22065137451919786, 0.5544360842073279, -0.6270619600915075, -0.1165184296104599, 0.003962779269775077, 0.18358967570092025, -0.17190634490282353, -0.2866370917142503, -0.5001227229435553, -0.28362841345588685, 0.3061115831168396, 0.10286989944709801, 0.3208887755296183], \"y\": [0.4321116012484023, -0.13840410142208812, 0.9999999999999999, 0.278268805916914, 0.0499859667776456, 0.5009587846545923, -0.04956446732674653, 0.11249146000062084, -0.000990987304787577, 0.3220798774322779, -0.2722450179615505, -0.5552302105305519, -0.9413530114900521, -0.4634235989270733, -0.2746851010676029]}, {\"hoverinfo\": \"text\", \"marker\": {\"opacity\": 0}, \"mode\": \"markers\", \"opacity\": 0, \"text\": [\"0\", \"0\", \"0\", \"0\", \"0\", \"0\", \"0\", \"0\", \"0\", \"0\", \"0\", \"0\", \"0\", \"0\", \"0\", \"0\", \"0\", \"0\", \"0\", \"0\", \"0\", \"0\", \"0\", \"0\", \"0\", \"0\", \"0\"], \"type\": \"scatter\", \"x\": [0.0621683495988908, -0.0257662124874085, -0.08313158589312188, 0.3091281996539353, -0.16858490206482887, 0.2791994317385515, -0.3115495904108662, -0.05627782517034241, 0.033535623045230174, -0.1442123872566417, 0.09377622748534767, -0.08397178281652423, -0.1413371562222376, -0.24807997183689012, -0.1398328170930559, 0.053416339358436545, 0.16242577739969669, 0.00584166539904836, -0.05152370800666502, 0.14322978757400912, 0.2522392256152693, -0.2292717183085369, -0.3360145339231894, -0.03451822272786276, 0.07449121531339739, 0.2044907412819688, 0.21187933748835816], \"y\": [0.1912735669608279, 0.21556030697180736, 0.37709573934034013, -0.09398428437441732, 0.7504793923272961, 0.11435216929508374, 0.0002107497254495369, 0.2256971586639229, 0.30672512232760657, 0.24998389867490237, 0.03146349633693715, -0.02527772731576705, 0.1362577050527657, -0.1609047426441485, -0.30239733892864923, -0.25649403312690994, -0.16212478419717472, 0.05575023634791663, 0.21728566871644936, -0.17546606946322624, -0.08109682053349104, 0.16054444506374516, -0.13661800263316903, -0.23220729311593044, -0.13783804418619525, -0.7023883052085627, -0.3690543499973381]}],                        {\"autosize\": false, \"height\": 1200, \"hovermode\": \"closest\", \"margin\": {\"b\": 10, \"l\": 10, \"r\": 10, \"t\": 10}, \"plot_bgcolor\": \"rgba(0,0,0,0)\", \"showlegend\": false, \"template\": {\"data\": {\"bar\": [{\"error_x\": {\"color\": \"#2a3f5f\"}, \"error_y\": {\"color\": \"#2a3f5f\"}, \"marker\": {\"line\": {\"color\": \"#E5ECF6\", \"width\": 0.5}}, \"type\": \"bar\"}], \"barpolar\": [{\"marker\": {\"line\": {\"color\": \"#E5ECF6\", \"width\": 0.5}}, \"type\": \"barpolar\"}], \"carpet\": [{\"aaxis\": {\"endlinecolor\": \"#2a3f5f\", \"gridcolor\": \"white\", \"linecolor\": \"white\", \"minorgridcolor\": \"white\", \"startlinecolor\": \"#2a3f5f\"}, \"baxis\": {\"endlinecolor\": \"#2a3f5f\", \"gridcolor\": \"white\", \"linecolor\": \"white\", \"minorgridcolor\": \"white\", \"startlinecolor\": \"#2a3f5f\"}, \"type\": \"carpet\"}], \"choropleth\": [{\"colorbar\": {\"outlinewidth\": 0, \"ticks\": \"\"}, \"type\": \"choropleth\"}], \"contour\": [{\"colorbar\": {\"outlinewidth\": 0, \"ticks\": \"\"}, \"colorscale\": [[0.0, \"#0d0887\"], [0.1111111111111111, \"#46039f\"], [0.2222222222222222, \"#7201a8\"], [0.3333333333333333, \"#9c179e\"], [0.4444444444444444, \"#bd3786\"], [0.5555555555555556, \"#d8576b\"], [0.6666666666666666, \"#ed7953\"], [0.7777777777777778, \"#fb9f3a\"], [0.8888888888888888, \"#fdca26\"], [1.0, \"#f0f921\"]], \"type\": \"contour\"}], \"contourcarpet\": [{\"colorbar\": {\"outlinewidth\": 0, \"ticks\": \"\"}, \"type\": \"contourcarpet\"}], \"heatmap\": [{\"colorbar\": {\"outlinewidth\": 0, \"ticks\": \"\"}, \"colorscale\": [[0.0, \"#0d0887\"], [0.1111111111111111, \"#46039f\"], [0.2222222222222222, \"#7201a8\"], [0.3333333333333333, \"#9c179e\"], [0.4444444444444444, \"#bd3786\"], [0.5555555555555556, \"#d8576b\"], [0.6666666666666666, \"#ed7953\"], [0.7777777777777778, \"#fb9f3a\"], [0.8888888888888888, \"#fdca26\"], [1.0, \"#f0f921\"]], \"type\": \"heatmap\"}], \"heatmapgl\": [{\"colorbar\": {\"outlinewidth\": 0, \"ticks\": \"\"}, \"colorscale\": [[0.0, \"#0d0887\"], [0.1111111111111111, \"#46039f\"], [0.2222222222222222, \"#7201a8\"], [0.3333333333333333, \"#9c179e\"], [0.4444444444444444, \"#bd3786\"], [0.5555555555555556, \"#d8576b\"], [0.6666666666666666, \"#ed7953\"], [0.7777777777777778, \"#fb9f3a\"], [0.8888888888888888, \"#fdca26\"], [1.0, \"#f0f921\"]], \"type\": \"heatmapgl\"}], \"histogram\": [{\"marker\": {\"colorbar\": {\"outlinewidth\": 0, \"ticks\": \"\"}}, \"type\": \"histogram\"}], \"histogram2d\": [{\"colorbar\": {\"outlinewidth\": 0, \"ticks\": \"\"}, \"colorscale\": [[0.0, \"#0d0887\"], [0.1111111111111111, \"#46039f\"], [0.2222222222222222, \"#7201a8\"], [0.3333333333333333, \"#9c179e\"], [0.4444444444444444, \"#bd3786\"], [0.5555555555555556, \"#d8576b\"], [0.6666666666666666, \"#ed7953\"], [0.7777777777777778, \"#fb9f3a\"], [0.8888888888888888, \"#fdca26\"], [1.0, \"#f0f921\"]], \"type\": \"histogram2d\"}], \"histogram2dcontour\": [{\"colorbar\": {\"outlinewidth\": 0, \"ticks\": \"\"}, \"colorscale\": [[0.0, \"#0d0887\"], [0.1111111111111111, \"#46039f\"], [0.2222222222222222, \"#7201a8\"], [0.3333333333333333, \"#9c179e\"], [0.4444444444444444, \"#bd3786\"], [0.5555555555555556, \"#d8576b\"], [0.6666666666666666, \"#ed7953\"], [0.7777777777777778, \"#fb9f3a\"], [0.8888888888888888, \"#fdca26\"], [1.0, \"#f0f921\"]], \"type\": \"histogram2dcontour\"}], \"mesh3d\": [{\"colorbar\": {\"outlinewidth\": 0, \"ticks\": \"\"}, \"type\": \"mesh3d\"}], \"parcoords\": [{\"line\": {\"colorbar\": {\"outlinewidth\": 0, \"ticks\": \"\"}}, \"type\": \"parcoords\"}], \"pie\": [{\"automargin\": true, \"type\": \"pie\"}], \"scatter\": [{\"marker\": {\"colorbar\": {\"outlinewidth\": 0, \"ticks\": \"\"}}, \"type\": \"scatter\"}], \"scatter3d\": [{\"line\": {\"colorbar\": {\"outlinewidth\": 0, \"ticks\": \"\"}}, \"marker\": {\"colorbar\": {\"outlinewidth\": 0, \"ticks\": \"\"}}, \"type\": \"scatter3d\"}], \"scattercarpet\": [{\"marker\": {\"colorbar\": {\"outlinewidth\": 0, \"ticks\": \"\"}}, \"type\": \"scattercarpet\"}], \"scattergeo\": [{\"marker\": {\"colorbar\": {\"outlinewidth\": 0, \"ticks\": \"\"}}, \"type\": \"scattergeo\"}], \"scattergl\": [{\"marker\": {\"colorbar\": {\"outlinewidth\": 0, \"ticks\": \"\"}}, \"type\": \"scattergl\"}], \"scattermapbox\": [{\"marker\": {\"colorbar\": {\"outlinewidth\": 0, \"ticks\": \"\"}}, \"type\": \"scattermapbox\"}], \"scatterpolar\": [{\"marker\": {\"colorbar\": {\"outlinewidth\": 0, \"ticks\": \"\"}}, \"type\": \"scatterpolar\"}], \"scatterpolargl\": [{\"marker\": {\"colorbar\": {\"outlinewidth\": 0, \"ticks\": \"\"}}, \"type\": \"scatterpolargl\"}], \"scatterternary\": [{\"marker\": {\"colorbar\": {\"outlinewidth\": 0, \"ticks\": \"\"}}, \"type\": \"scatterternary\"}], \"surface\": [{\"colorbar\": {\"outlinewidth\": 0, \"ticks\": \"\"}, \"colorscale\": [[0.0, \"#0d0887\"], [0.1111111111111111, \"#46039f\"], [0.2222222222222222, \"#7201a8\"], [0.3333333333333333, \"#9c179e\"], [0.4444444444444444, \"#bd3786\"], [0.5555555555555556, \"#d8576b\"], [0.6666666666666666, \"#ed7953\"], [0.7777777777777778, \"#fb9f3a\"], [0.8888888888888888, \"#fdca26\"], [1.0, \"#f0f921\"]], \"type\": \"surface\"}], \"table\": [{\"cells\": {\"fill\": {\"color\": \"#EBF0F8\"}, \"line\": {\"color\": \"white\"}}, \"header\": {\"fill\": {\"color\": \"#C8D4E3\"}, \"line\": {\"color\": \"white\"}}, \"type\": \"table\"}]}, \"layout\": {\"annotationdefaults\": {\"arrowcolor\": \"#2a3f5f\", \"arrowhead\": 0, \"arrowwidth\": 1}, \"autotypenumbers\": \"strict\", \"coloraxis\": {\"colorbar\": {\"outlinewidth\": 0, \"ticks\": \"\"}}, \"colorscale\": {\"diverging\": [[0, \"#8e0152\"], [0.1, \"#c51b7d\"], [0.2, \"#de77ae\"], [0.3, \"#f1b6da\"], [0.4, \"#fde0ef\"], [0.5, \"#f7f7f7\"], [0.6, \"#e6f5d0\"], [0.7, \"#b8e186\"], [0.8, \"#7fbc41\"], [0.9, \"#4d9221\"], [1, \"#276419\"]], \"sequential\": [[0.0, \"#0d0887\"], [0.1111111111111111, \"#46039f\"], [0.2222222222222222, \"#7201a8\"], [0.3333333333333333, \"#9c179e\"], [0.4444444444444444, \"#bd3786\"], [0.5555555555555556, \"#d8576b\"], [0.6666666666666666, \"#ed7953\"], [0.7777777777777778, \"#fb9f3a\"], [0.8888888888888888, \"#fdca26\"], [1.0, \"#f0f921\"]], \"sequentialminus\": [[0.0, \"#0d0887\"], [0.1111111111111111, \"#46039f\"], [0.2222222222222222, \"#7201a8\"], [0.3333333333333333, \"#9c179e\"], [0.4444444444444444, \"#bd3786\"], [0.5555555555555556, \"#d8576b\"], [0.6666666666666666, \"#ed7953\"], [0.7777777777777778, \"#fb9f3a\"], [0.8888888888888888, \"#fdca26\"], [1.0, \"#f0f921\"]]}, \"colorway\": [\"#636efa\", \"#EF553B\", \"#00cc96\", \"#ab63fa\", \"#FFA15A\", \"#19d3f3\", \"#FF6692\", \"#B6E880\", \"#FF97FF\", \"#FECB52\"], \"font\": {\"color\": \"#2a3f5f\"}, \"geo\": {\"bgcolor\": \"white\", \"lakecolor\": \"white\", \"landcolor\": \"#E5ECF6\", \"showlakes\": true, \"showland\": true, \"subunitcolor\": \"white\"}, \"hoverlabel\": {\"align\": \"left\"}, \"hovermode\": \"closest\", \"mapbox\": {\"style\": \"light\"}, \"paper_bgcolor\": \"white\", \"plot_bgcolor\": \"#E5ECF6\", \"polar\": {\"angularaxis\": {\"gridcolor\": \"white\", \"linecolor\": \"white\", \"ticks\": \"\"}, \"bgcolor\": \"#E5ECF6\", \"radialaxis\": {\"gridcolor\": \"white\", \"linecolor\": \"white\", \"ticks\": \"\"}}, \"scene\": {\"xaxis\": {\"backgroundcolor\": \"#E5ECF6\", \"gridcolor\": \"white\", \"gridwidth\": 2, \"linecolor\": \"white\", \"showbackground\": true, \"ticks\": \"\", \"zerolinecolor\": \"white\"}, \"yaxis\": {\"backgroundcolor\": \"#E5ECF6\", \"gridcolor\": \"white\", \"gridwidth\": 2, \"linecolor\": \"white\", \"showbackground\": true, \"ticks\": \"\", \"zerolinecolor\": \"white\"}, \"zaxis\": {\"backgroundcolor\": \"#E5ECF6\", \"gridcolor\": \"white\", \"gridwidth\": 2, \"linecolor\": \"white\", \"showbackground\": true, \"ticks\": \"\", \"zerolinecolor\": \"white\"}}, \"shapedefaults\": {\"line\": {\"color\": \"#2a3f5f\"}}, \"ternary\": {\"aaxis\": {\"gridcolor\": \"white\", \"linecolor\": \"white\", \"ticks\": \"\"}, \"baxis\": {\"gridcolor\": \"white\", \"linecolor\": \"white\", \"ticks\": \"\"}, \"bgcolor\": \"#E5ECF6\", \"caxis\": {\"gridcolor\": \"white\", \"linecolor\": \"white\", \"ticks\": \"\"}}, \"title\": {\"x\": 0.05}, \"xaxis\": {\"automargin\": true, \"gridcolor\": \"white\", \"linecolor\": \"white\", \"ticks\": \"\", \"title\": {\"standoff\": 15}, \"zerolinecolor\": \"white\", \"zerolinewidth\": 2}, \"yaxis\": {\"automargin\": true, \"gridcolor\": \"white\", \"linecolor\": \"white\", \"ticks\": \"\", \"title\": {\"standoff\": 15}, \"zerolinecolor\": \"white\", \"zerolinewidth\": 2}}}, \"title\": {\"font\": {\"size\": 16}}, \"width\": 1800, \"xaxis\": {\"range\": [-1.15, 1.05], \"showgrid\": false, \"showticklabels\": false, \"zeroline\": false}, \"yaxis\": {\"range\": [-1.15, 1.05], \"showgrid\": false, \"showticklabels\": false, \"zeroline\": false}},                        {\"responsive\": true}                    ).then(function(){\n",
       "                            \n",
       "var gd = document.getElementById('89be0735-afd4-4e00-aade-750f15d5e3d4');\n",
       "var x = new MutationObserver(function (mutations, observer) {{\n",
       "        var display = window.getComputedStyle(gd).display;\n",
       "        if (!display || display === 'none') {{\n",
       "            console.log([gd, 'removed!']);\n",
       "            Plotly.purge(gd);\n",
       "            observer.disconnect();\n",
       "        }}\n",
       "}});\n",
       "\n",
       "// Listen for the removal of the full notebook cells\n",
       "var notebookContainer = gd.closest('#notebook-container');\n",
       "if (notebookContainer) {{\n",
       "    x.observe(notebookContainer, {childList: true});\n",
       "}}\n",
       "\n",
       "// Listen for the clearing of the current output cell\n",
       "var outputEl = gd.closest('.output');\n",
       "if (outputEl) {{\n",
       "    x.observe(outputEl, {childList: true});\n",
       "}}\n",
       "\n",
       "                        })                };                });            </script>        </div>"
      ]
     },
     "metadata": {},
     "output_type": "display_data"
    }
   ],
   "source": [
    "reload(textnet)\n",
    "fig = textnet.draw_2d_network(G, 1800, 1200, 32)\n",
    "fig.show()"
   ]
  },
  {
   "cell_type": "code",
   "execution_count": 191,
   "metadata": {},
   "outputs": [
    {
     "name": "stdout",
     "output_type": "stream",
     "text": [
      "Your <class 'plotly.graph_objs._figure.Figure'> object has been succefully written as \"https://sciencedata.dk/files/SDAM_root/SDAM_data/ECCE_public/authors_network_cos-sim-tfidf.png\"\n"
     ]
    }
   ],
   "source": [
    "fig.write_image(\"../figures/authors_network_cos-sim-tfidf.png\")\n",
    "# s.write_file(\"authors_network_cos-sim-tfidf.png\", fig)"
   ]
  },
  {
   "cell_type": "code",
   "execution_count": 192,
   "metadata": {},
   "outputs": [
    {
     "data": {
      "application/vnd.plotly.v1+json": {
       "config": {
        "plotlyServerURL": "https://plot.ly"
       },
       "data": [
        {
         "line": {
          "color": "#000000",
          "width": 4
         },
         "mode": "lines",
         "type": "scatter",
         "x": [
          0.13086311304795611,
          -0.3674913830647455,
          null
         ],
         "y": [
          0.08358900289391014,
          0.34072068398659466,
          null
         ]
        },
        {
         "line": {
          "color": "#404040",
          "width": 2
         },
         "mode": "lines",
         "type": "scatter",
         "x": [
          -0.41697714516565876,
          -0.5920553146621352,
          null,
          0.13086311304795611,
          0.5390919478909362,
          null
         ],
         "y": [
          -0.26635941273642155,
          -0.8278003314678417,
          null,
          0.08358900289391014,
          -0.3714991538418695,
          null
         ]
        },
        {
         "line": {
          "color": "#C0C0C0",
          "width": 1
         },
         "mode": "lines",
         "type": "scatter",
         "x": [
          -0.41697714516565876,
          0.13086311304795611,
          null,
          -0.41697714516565876,
          -1,
          null,
          0.6341682146120989,
          0.13086311304795611,
          null,
          0.3019956683546051,
          0.13086311304795611,
          null,
          -0.11043085705516767,
          0.13086311304795611,
          null,
          0.13086311304795611,
          0.15464002496817916,
          null,
          0.13086311304795611,
          0.7261957310739316,
          null
         ],
         "y": [
          -0.26635941273642155,
          0.08358900289391014,
          null,
          -0.26635941273642155,
          -0.1891676905950602,
          null,
          0.4050950271127599,
          0.08358900289391014,
          null,
          0.6604369065427511,
          0.08358900289391014,
          null,
          0.6453007258419258,
          0.08358900289391014,
          null,
          0.08358900289391014,
          -0.4766803432667763,
          null,
          0.08358900289391014,
          -0.003635414469972038,
          null
         ]
        },
        {
         "hoverinfo": "text",
         "hovertext": [
          "3",
          "1",
          "1",
          "1",
          "8",
          "1",
          "1",
          "1",
          "1",
          "1",
          "1"
         ],
         "marker": {
          "color": [
           43,
           24,
           15,
           24,
           67,
           21,
           8,
           10,
           5,
           13,
           16
          ],
          "colorbar": {
           "thickness": 30,
           "title": {
            "side": "right",
            "text": "degree"
           },
           "xanchor": "left"
          },
          "colorscale": [
           [
            0,
            "rgb(255,255,255)"
           ],
           [
            0.125,
            "rgb(240,240,240)"
           ],
           [
            0.25,
            "rgb(217,217,217)"
           ],
           [
            0.375,
            "rgb(189,189,189)"
           ],
           [
            0.5,
            "rgb(150,150,150)"
           ],
           [
            0.625,
            "rgb(115,115,115)"
           ],
           [
            0.75,
            "rgb(82,82,82)"
           ],
           [
            0.875,
            "rgb(37,37,37)"
           ],
           [
            1,
            "rgb(0,0,0)"
           ]
          ],
          "line": {
           "width": 1.5
          },
          "showscale": false,
          "size": 15
         },
         "mode": "markers+text",
         "text": [
          "Paul of Tarsus",
          "Clemens Romanus",
          "Hermas",
          "Justinus Martyr",
          "Origenes",
          "Clement of Alexandria",
          "Eusebius",
          "Epiphanius",
          "Basil",
          "Philo Judaeus",
          "Flavius Josephus"
         ],
         "textfont": {
          "size": 32
         },
         "textposition": "bottom center",
         "type": "scatter",
         "x": [
          -0.41697714516565876,
          0.6341682146120989,
          0.3019956683546051,
          -0.11043085705516767,
          0.13086311304795611,
          -0.3674913830647455,
          -1,
          -0.5920553146621352,
          0.15464002496817916,
          0.5390919478909362,
          0.7261957310739316
         ],
         "y": [
          -0.26635941273642155,
          0.4050950271127599,
          0.6604369065427511,
          0.6453007258419258,
          0.08358900289391014,
          0.34072068398659466,
          -0.1891676905950602,
          -0.8278003314678417,
          -0.4766803432667763,
          -0.3714991538418695,
          -0.003635414469972038
         ]
        },
        {
         "hoverinfo": "text",
         "marker": {
          "opacity": 0
         },
         "mode": "markers",
         "opacity": 0,
         "text": [
          "0",
          "0",
          "0",
          "0",
          "0",
          "0",
          "0",
          "0",
          "0",
          "0"
         ],
         "type": "scatter",
         "x": [
          -0.14305701605885132,
          -0.7084885725828294,
          -0.504516229913897,
          0.38251566383002755,
          0.21642939070128062,
          0.010216127996394223,
          -0.11831413500839469,
          0.14275156900806762,
          0.3349775304694461,
          0.4285294220609439
         ],
         "y": [
          -0.09138520492125571,
          -0.22776355166574086,
          -0.5470798721021316,
          0.24434201500333502,
          0.3720129547183306,
          0.36444486436791795,
          0.2121548434402524,
          -0.19654567018643307,
          -0.14395507547397968,
          0.03997679421196905
         ]
        }
       ],
       "layout": {
        "autosize": false,
        "height": 1200,
        "hovermode": "closest",
        "margin": {
         "b": 10,
         "l": 10,
         "r": 10,
         "t": 10
        },
        "plot_bgcolor": "rgba(0,0,0,0)",
        "showlegend": false,
        "template": {
         "data": {
          "bar": [
           {
            "error_x": {
             "color": "#2a3f5f"
            },
            "error_y": {
             "color": "#2a3f5f"
            },
            "marker": {
             "line": {
              "color": "#E5ECF6",
              "width": 0.5
             }
            },
            "type": "bar"
           }
          ],
          "barpolar": [
           {
            "marker": {
             "line": {
              "color": "#E5ECF6",
              "width": 0.5
             }
            },
            "type": "barpolar"
           }
          ],
          "carpet": [
           {
            "aaxis": {
             "endlinecolor": "#2a3f5f",
             "gridcolor": "white",
             "linecolor": "white",
             "minorgridcolor": "white",
             "startlinecolor": "#2a3f5f"
            },
            "baxis": {
             "endlinecolor": "#2a3f5f",
             "gridcolor": "white",
             "linecolor": "white",
             "minorgridcolor": "white",
             "startlinecolor": "#2a3f5f"
            },
            "type": "carpet"
           }
          ],
          "choropleth": [
           {
            "colorbar": {
             "outlinewidth": 0,
             "ticks": ""
            },
            "type": "choropleth"
           }
          ],
          "contour": [
           {
            "colorbar": {
             "outlinewidth": 0,
             "ticks": ""
            },
            "colorscale": [
             [
              0,
              "#0d0887"
             ],
             [
              0.1111111111111111,
              "#46039f"
             ],
             [
              0.2222222222222222,
              "#7201a8"
             ],
             [
              0.3333333333333333,
              "#9c179e"
             ],
             [
              0.4444444444444444,
              "#bd3786"
             ],
             [
              0.5555555555555556,
              "#d8576b"
             ],
             [
              0.6666666666666666,
              "#ed7953"
             ],
             [
              0.7777777777777778,
              "#fb9f3a"
             ],
             [
              0.8888888888888888,
              "#fdca26"
             ],
             [
              1,
              "#f0f921"
             ]
            ],
            "type": "contour"
           }
          ],
          "contourcarpet": [
           {
            "colorbar": {
             "outlinewidth": 0,
             "ticks": ""
            },
            "type": "contourcarpet"
           }
          ],
          "heatmap": [
           {
            "colorbar": {
             "outlinewidth": 0,
             "ticks": ""
            },
            "colorscale": [
             [
              0,
              "#0d0887"
             ],
             [
              0.1111111111111111,
              "#46039f"
             ],
             [
              0.2222222222222222,
              "#7201a8"
             ],
             [
              0.3333333333333333,
              "#9c179e"
             ],
             [
              0.4444444444444444,
              "#bd3786"
             ],
             [
              0.5555555555555556,
              "#d8576b"
             ],
             [
              0.6666666666666666,
              "#ed7953"
             ],
             [
              0.7777777777777778,
              "#fb9f3a"
             ],
             [
              0.8888888888888888,
              "#fdca26"
             ],
             [
              1,
              "#f0f921"
             ]
            ],
            "type": "heatmap"
           }
          ],
          "heatmapgl": [
           {
            "colorbar": {
             "outlinewidth": 0,
             "ticks": ""
            },
            "colorscale": [
             [
              0,
              "#0d0887"
             ],
             [
              0.1111111111111111,
              "#46039f"
             ],
             [
              0.2222222222222222,
              "#7201a8"
             ],
             [
              0.3333333333333333,
              "#9c179e"
             ],
             [
              0.4444444444444444,
              "#bd3786"
             ],
             [
              0.5555555555555556,
              "#d8576b"
             ],
             [
              0.6666666666666666,
              "#ed7953"
             ],
             [
              0.7777777777777778,
              "#fb9f3a"
             ],
             [
              0.8888888888888888,
              "#fdca26"
             ],
             [
              1,
              "#f0f921"
             ]
            ],
            "type": "heatmapgl"
           }
          ],
          "histogram": [
           {
            "marker": {
             "colorbar": {
              "outlinewidth": 0,
              "ticks": ""
             }
            },
            "type": "histogram"
           }
          ],
          "histogram2d": [
           {
            "colorbar": {
             "outlinewidth": 0,
             "ticks": ""
            },
            "colorscale": [
             [
              0,
              "#0d0887"
             ],
             [
              0.1111111111111111,
              "#46039f"
             ],
             [
              0.2222222222222222,
              "#7201a8"
             ],
             [
              0.3333333333333333,
              "#9c179e"
             ],
             [
              0.4444444444444444,
              "#bd3786"
             ],
             [
              0.5555555555555556,
              "#d8576b"
             ],
             [
              0.6666666666666666,
              "#ed7953"
             ],
             [
              0.7777777777777778,
              "#fb9f3a"
             ],
             [
              0.8888888888888888,
              "#fdca26"
             ],
             [
              1,
              "#f0f921"
             ]
            ],
            "type": "histogram2d"
           }
          ],
          "histogram2dcontour": [
           {
            "colorbar": {
             "outlinewidth": 0,
             "ticks": ""
            },
            "colorscale": [
             [
              0,
              "#0d0887"
             ],
             [
              0.1111111111111111,
              "#46039f"
             ],
             [
              0.2222222222222222,
              "#7201a8"
             ],
             [
              0.3333333333333333,
              "#9c179e"
             ],
             [
              0.4444444444444444,
              "#bd3786"
             ],
             [
              0.5555555555555556,
              "#d8576b"
             ],
             [
              0.6666666666666666,
              "#ed7953"
             ],
             [
              0.7777777777777778,
              "#fb9f3a"
             ],
             [
              0.8888888888888888,
              "#fdca26"
             ],
             [
              1,
              "#f0f921"
             ]
            ],
            "type": "histogram2dcontour"
           }
          ],
          "mesh3d": [
           {
            "colorbar": {
             "outlinewidth": 0,
             "ticks": ""
            },
            "type": "mesh3d"
           }
          ],
          "parcoords": [
           {
            "line": {
             "colorbar": {
              "outlinewidth": 0,
              "ticks": ""
             }
            },
            "type": "parcoords"
           }
          ],
          "pie": [
           {
            "automargin": true,
            "type": "pie"
           }
          ],
          "scatter": [
           {
            "marker": {
             "colorbar": {
              "outlinewidth": 0,
              "ticks": ""
             }
            },
            "type": "scatter"
           }
          ],
          "scatter3d": [
           {
            "line": {
             "colorbar": {
              "outlinewidth": 0,
              "ticks": ""
             }
            },
            "marker": {
             "colorbar": {
              "outlinewidth": 0,
              "ticks": ""
             }
            },
            "type": "scatter3d"
           }
          ],
          "scattercarpet": [
           {
            "marker": {
             "colorbar": {
              "outlinewidth": 0,
              "ticks": ""
             }
            },
            "type": "scattercarpet"
           }
          ],
          "scattergeo": [
           {
            "marker": {
             "colorbar": {
              "outlinewidth": 0,
              "ticks": ""
             }
            },
            "type": "scattergeo"
           }
          ],
          "scattergl": [
           {
            "marker": {
             "colorbar": {
              "outlinewidth": 0,
              "ticks": ""
             }
            },
            "type": "scattergl"
           }
          ],
          "scattermapbox": [
           {
            "marker": {
             "colorbar": {
              "outlinewidth": 0,
              "ticks": ""
             }
            },
            "type": "scattermapbox"
           }
          ],
          "scatterpolar": [
           {
            "marker": {
             "colorbar": {
              "outlinewidth": 0,
              "ticks": ""
             }
            },
            "type": "scatterpolar"
           }
          ],
          "scatterpolargl": [
           {
            "marker": {
             "colorbar": {
              "outlinewidth": 0,
              "ticks": ""
             }
            },
            "type": "scatterpolargl"
           }
          ],
          "scatterternary": [
           {
            "marker": {
             "colorbar": {
              "outlinewidth": 0,
              "ticks": ""
             }
            },
            "type": "scatterternary"
           }
          ],
          "surface": [
           {
            "colorbar": {
             "outlinewidth": 0,
             "ticks": ""
            },
            "colorscale": [
             [
              0,
              "#0d0887"
             ],
             [
              0.1111111111111111,
              "#46039f"
             ],
             [
              0.2222222222222222,
              "#7201a8"
             ],
             [
              0.3333333333333333,
              "#9c179e"
             ],
             [
              0.4444444444444444,
              "#bd3786"
             ],
             [
              0.5555555555555556,
              "#d8576b"
             ],
             [
              0.6666666666666666,
              "#ed7953"
             ],
             [
              0.7777777777777778,
              "#fb9f3a"
             ],
             [
              0.8888888888888888,
              "#fdca26"
             ],
             [
              1,
              "#f0f921"
             ]
            ],
            "type": "surface"
           }
          ],
          "table": [
           {
            "cells": {
             "fill": {
              "color": "#EBF0F8"
             },
             "line": {
              "color": "white"
             }
            },
            "header": {
             "fill": {
              "color": "#C8D4E3"
             },
             "line": {
              "color": "white"
             }
            },
            "type": "table"
           }
          ]
         },
         "layout": {
          "annotationdefaults": {
           "arrowcolor": "#2a3f5f",
           "arrowhead": 0,
           "arrowwidth": 1
          },
          "autotypenumbers": "strict",
          "coloraxis": {
           "colorbar": {
            "outlinewidth": 0,
            "ticks": ""
           }
          },
          "colorscale": {
           "diverging": [
            [
             0,
             "#8e0152"
            ],
            [
             0.1,
             "#c51b7d"
            ],
            [
             0.2,
             "#de77ae"
            ],
            [
             0.3,
             "#f1b6da"
            ],
            [
             0.4,
             "#fde0ef"
            ],
            [
             0.5,
             "#f7f7f7"
            ],
            [
             0.6,
             "#e6f5d0"
            ],
            [
             0.7,
             "#b8e186"
            ],
            [
             0.8,
             "#7fbc41"
            ],
            [
             0.9,
             "#4d9221"
            ],
            [
             1,
             "#276419"
            ]
           ],
           "sequential": [
            [
             0,
             "#0d0887"
            ],
            [
             0.1111111111111111,
             "#46039f"
            ],
            [
             0.2222222222222222,
             "#7201a8"
            ],
            [
             0.3333333333333333,
             "#9c179e"
            ],
            [
             0.4444444444444444,
             "#bd3786"
            ],
            [
             0.5555555555555556,
             "#d8576b"
            ],
            [
             0.6666666666666666,
             "#ed7953"
            ],
            [
             0.7777777777777778,
             "#fb9f3a"
            ],
            [
             0.8888888888888888,
             "#fdca26"
            ],
            [
             1,
             "#f0f921"
            ]
           ],
           "sequentialminus": [
            [
             0,
             "#0d0887"
            ],
            [
             0.1111111111111111,
             "#46039f"
            ],
            [
             0.2222222222222222,
             "#7201a8"
            ],
            [
             0.3333333333333333,
             "#9c179e"
            ],
            [
             0.4444444444444444,
             "#bd3786"
            ],
            [
             0.5555555555555556,
             "#d8576b"
            ],
            [
             0.6666666666666666,
             "#ed7953"
            ],
            [
             0.7777777777777778,
             "#fb9f3a"
            ],
            [
             0.8888888888888888,
             "#fdca26"
            ],
            [
             1,
             "#f0f921"
            ]
           ]
          },
          "colorway": [
           "#636efa",
           "#EF553B",
           "#00cc96",
           "#ab63fa",
           "#FFA15A",
           "#19d3f3",
           "#FF6692",
           "#B6E880",
           "#FF97FF",
           "#FECB52"
          ],
          "font": {
           "color": "#2a3f5f"
          },
          "geo": {
           "bgcolor": "white",
           "lakecolor": "white",
           "landcolor": "#E5ECF6",
           "showlakes": true,
           "showland": true,
           "subunitcolor": "white"
          },
          "hoverlabel": {
           "align": "left"
          },
          "hovermode": "closest",
          "mapbox": {
           "style": "light"
          },
          "paper_bgcolor": "white",
          "plot_bgcolor": "#E5ECF6",
          "polar": {
           "angularaxis": {
            "gridcolor": "white",
            "linecolor": "white",
            "ticks": ""
           },
           "bgcolor": "#E5ECF6",
           "radialaxis": {
            "gridcolor": "white",
            "linecolor": "white",
            "ticks": ""
           }
          },
          "scene": {
           "xaxis": {
            "backgroundcolor": "#E5ECF6",
            "gridcolor": "white",
            "gridwidth": 2,
            "linecolor": "white",
            "showbackground": true,
            "ticks": "",
            "zerolinecolor": "white"
           },
           "yaxis": {
            "backgroundcolor": "#E5ECF6",
            "gridcolor": "white",
            "gridwidth": 2,
            "linecolor": "white",
            "showbackground": true,
            "ticks": "",
            "zerolinecolor": "white"
           },
           "zaxis": {
            "backgroundcolor": "#E5ECF6",
            "gridcolor": "white",
            "gridwidth": 2,
            "linecolor": "white",
            "showbackground": true,
            "ticks": "",
            "zerolinecolor": "white"
           }
          },
          "shapedefaults": {
           "line": {
            "color": "#2a3f5f"
           }
          },
          "ternary": {
           "aaxis": {
            "gridcolor": "white",
            "linecolor": "white",
            "ticks": ""
           },
           "baxis": {
            "gridcolor": "white",
            "linecolor": "white",
            "ticks": ""
           },
           "bgcolor": "#E5ECF6",
           "caxis": {
            "gridcolor": "white",
            "linecolor": "white",
            "ticks": ""
           }
          },
          "title": {
           "x": 0.05
          },
          "xaxis": {
           "automargin": true,
           "gridcolor": "white",
           "linecolor": "white",
           "ticks": "",
           "title": {
            "standoff": 15
           },
           "zerolinecolor": "white",
           "zerolinewidth": 2
          },
          "yaxis": {
           "automargin": true,
           "gridcolor": "white",
           "linecolor": "white",
           "ticks": "",
           "title": {
            "standoff": 15
           },
           "zerolinecolor": "white",
           "zerolinewidth": 2
          }
         }
        },
        "title": {
         "font": {
          "size": 16
         }
        },
        "width": 1800,
        "xaxis": {
         "range": [
          -1.15,
          1.05
         ],
         "showgrid": false,
         "showticklabels": false,
         "zeroline": false
        },
        "yaxis": {
         "range": [
          -1.15,
          1.05
         ],
         "showgrid": false,
         "showticklabels": false,
         "zeroline": false
        }
       }
      },
      "text/html": [
       "<div>                            <div id=\"480c71ae-925b-4b3a-94e8-0cb69d06de01\" class=\"plotly-graph-div\" style=\"height:1200px; width:1800px;\"></div>            <script type=\"text/javascript\">                require([\"plotly\"], function(Plotly) {                    window.PLOTLYENV=window.PLOTLYENV || {};                                    if (document.getElementById(\"480c71ae-925b-4b3a-94e8-0cb69d06de01\")) {                    Plotly.newPlot(                        \"480c71ae-925b-4b3a-94e8-0cb69d06de01\",                        [{\"line\": {\"color\": \"#000000\", \"width\": 4}, \"mode\": \"lines\", \"type\": \"scatter\", \"x\": [0.13086311304795611, -0.3674913830647455, null], \"y\": [0.08358900289391014, 0.34072068398659466, null]}, {\"line\": {\"color\": \"#404040\", \"width\": 2}, \"mode\": \"lines\", \"type\": \"scatter\", \"x\": [-0.41697714516565876, -0.5920553146621352, null, 0.13086311304795611, 0.5390919478909362, null], \"y\": [-0.26635941273642155, -0.8278003314678417, null, 0.08358900289391014, -0.3714991538418695, null]}, {\"line\": {\"color\": \"#C0C0C0\", \"width\": 1}, \"mode\": \"lines\", \"type\": \"scatter\", \"x\": [-0.41697714516565876, 0.13086311304795611, null, -0.41697714516565876, -1.0, null, 0.6341682146120989, 0.13086311304795611, null, 0.3019956683546051, 0.13086311304795611, null, -0.11043085705516767, 0.13086311304795611, null, 0.13086311304795611, 0.15464002496817916, null, 0.13086311304795611, 0.7261957310739316, null], \"y\": [-0.26635941273642155, 0.08358900289391014, null, -0.26635941273642155, -0.1891676905950602, null, 0.4050950271127599, 0.08358900289391014, null, 0.6604369065427511, 0.08358900289391014, null, 0.6453007258419258, 0.08358900289391014, null, 0.08358900289391014, -0.4766803432667763, null, 0.08358900289391014, -0.003635414469972038, null]}, {\"hoverinfo\": \"text\", \"hovertext\": [\"3\", \"1\", \"1\", \"1\", \"8\", \"1\", \"1\", \"1\", \"1\", \"1\", \"1\"], \"marker\": {\"color\": [43, 24, 15, 24, 67, 21, 8, 10, 5, 13, 16], \"colorbar\": {\"thickness\": 30, \"title\": {\"side\": \"right\", \"text\": \"degree\"}, \"xanchor\": \"left\"}, \"colorscale\": [[0.0, \"rgb(255,255,255)\"], [0.125, \"rgb(240,240,240)\"], [0.25, \"rgb(217,217,217)\"], [0.375, \"rgb(189,189,189)\"], [0.5, \"rgb(150,150,150)\"], [0.625, \"rgb(115,115,115)\"], [0.75, \"rgb(82,82,82)\"], [0.875, \"rgb(37,37,37)\"], [1.0, \"rgb(0,0,0)\"]], \"line\": {\"width\": 1.5}, \"showscale\": false, \"size\": 15}, \"mode\": \"markers+text\", \"text\": [\"Paul of Tarsus\", \"Clemens Romanus\", \"Hermas\", \"Justinus Martyr\", \"Origenes\", \"Clement of Alexandria\", \"Eusebius\", \"Epiphanius\", \"Basil\", \"Philo Judaeus\", \"Flavius Josephus\"], \"textfont\": {\"size\": 32}, \"textposition\": \"bottom center\", \"type\": \"scatter\", \"x\": [-0.41697714516565876, 0.6341682146120989, 0.3019956683546051, -0.11043085705516767, 0.13086311304795611, -0.3674913830647455, -1.0, -0.5920553146621352, 0.15464002496817916, 0.5390919478909362, 0.7261957310739316], \"y\": [-0.26635941273642155, 0.4050950271127599, 0.6604369065427511, 0.6453007258419258, 0.08358900289391014, 0.34072068398659466, -0.1891676905950602, -0.8278003314678417, -0.4766803432667763, -0.3714991538418695, -0.003635414469972038]}, {\"hoverinfo\": \"text\", \"marker\": {\"opacity\": 0}, \"mode\": \"markers\", \"opacity\": 0, \"text\": [\"0\", \"0\", \"0\", \"0\", \"0\", \"0\", \"0\", \"0\", \"0\", \"0\"], \"type\": \"scatter\", \"x\": [-0.14305701605885132, -0.7084885725828294, -0.504516229913897, 0.38251566383002755, 0.21642939070128062, 0.010216127996394223, -0.11831413500839469, 0.14275156900806762, 0.3349775304694461, 0.4285294220609439], \"y\": [-0.09138520492125571, -0.22776355166574086, -0.5470798721021316, 0.24434201500333502, 0.3720129547183306, 0.36444486436791795, 0.2121548434402524, -0.19654567018643307, -0.14395507547397968, 0.03997679421196905]}],                        {\"autosize\": false, \"height\": 1200, \"hovermode\": \"closest\", \"margin\": {\"b\": 10, \"l\": 10, \"r\": 10, \"t\": 10}, \"plot_bgcolor\": \"rgba(0,0,0,0)\", \"showlegend\": false, \"template\": {\"data\": {\"bar\": [{\"error_x\": {\"color\": \"#2a3f5f\"}, \"error_y\": {\"color\": \"#2a3f5f\"}, \"marker\": {\"line\": {\"color\": \"#E5ECF6\", \"width\": 0.5}}, \"type\": \"bar\"}], \"barpolar\": [{\"marker\": {\"line\": {\"color\": \"#E5ECF6\", \"width\": 0.5}}, \"type\": \"barpolar\"}], \"carpet\": [{\"aaxis\": {\"endlinecolor\": \"#2a3f5f\", \"gridcolor\": \"white\", \"linecolor\": \"white\", \"minorgridcolor\": \"white\", \"startlinecolor\": \"#2a3f5f\"}, \"baxis\": {\"endlinecolor\": \"#2a3f5f\", \"gridcolor\": \"white\", \"linecolor\": \"white\", \"minorgridcolor\": \"white\", \"startlinecolor\": \"#2a3f5f\"}, \"type\": \"carpet\"}], \"choropleth\": [{\"colorbar\": {\"outlinewidth\": 0, \"ticks\": \"\"}, \"type\": \"choropleth\"}], \"contour\": [{\"colorbar\": {\"outlinewidth\": 0, \"ticks\": \"\"}, \"colorscale\": [[0.0, \"#0d0887\"], [0.1111111111111111, \"#46039f\"], [0.2222222222222222, \"#7201a8\"], [0.3333333333333333, \"#9c179e\"], [0.4444444444444444, \"#bd3786\"], [0.5555555555555556, \"#d8576b\"], [0.6666666666666666, \"#ed7953\"], [0.7777777777777778, \"#fb9f3a\"], [0.8888888888888888, \"#fdca26\"], [1.0, \"#f0f921\"]], \"type\": \"contour\"}], \"contourcarpet\": [{\"colorbar\": {\"outlinewidth\": 0, \"ticks\": \"\"}, \"type\": \"contourcarpet\"}], \"heatmap\": [{\"colorbar\": {\"outlinewidth\": 0, \"ticks\": \"\"}, \"colorscale\": [[0.0, \"#0d0887\"], [0.1111111111111111, \"#46039f\"], [0.2222222222222222, \"#7201a8\"], [0.3333333333333333, \"#9c179e\"], [0.4444444444444444, \"#bd3786\"], [0.5555555555555556, \"#d8576b\"], [0.6666666666666666, \"#ed7953\"], [0.7777777777777778, \"#fb9f3a\"], [0.8888888888888888, \"#fdca26\"], [1.0, \"#f0f921\"]], \"type\": \"heatmap\"}], \"heatmapgl\": [{\"colorbar\": {\"outlinewidth\": 0, \"ticks\": \"\"}, \"colorscale\": [[0.0, \"#0d0887\"], [0.1111111111111111, \"#46039f\"], [0.2222222222222222, \"#7201a8\"], [0.3333333333333333, \"#9c179e\"], [0.4444444444444444, \"#bd3786\"], [0.5555555555555556, \"#d8576b\"], [0.6666666666666666, \"#ed7953\"], [0.7777777777777778, \"#fb9f3a\"], [0.8888888888888888, \"#fdca26\"], [1.0, \"#f0f921\"]], \"type\": \"heatmapgl\"}], \"histogram\": [{\"marker\": {\"colorbar\": {\"outlinewidth\": 0, \"ticks\": \"\"}}, \"type\": \"histogram\"}], \"histogram2d\": [{\"colorbar\": {\"outlinewidth\": 0, \"ticks\": \"\"}, \"colorscale\": [[0.0, \"#0d0887\"], [0.1111111111111111, \"#46039f\"], [0.2222222222222222, \"#7201a8\"], [0.3333333333333333, \"#9c179e\"], [0.4444444444444444, \"#bd3786\"], [0.5555555555555556, \"#d8576b\"], [0.6666666666666666, \"#ed7953\"], [0.7777777777777778, \"#fb9f3a\"], [0.8888888888888888, \"#fdca26\"], [1.0, \"#f0f921\"]], \"type\": \"histogram2d\"}], \"histogram2dcontour\": [{\"colorbar\": {\"outlinewidth\": 0, \"ticks\": \"\"}, \"colorscale\": [[0.0, \"#0d0887\"], [0.1111111111111111, \"#46039f\"], [0.2222222222222222, \"#7201a8\"], [0.3333333333333333, \"#9c179e\"], [0.4444444444444444, \"#bd3786\"], [0.5555555555555556, \"#d8576b\"], [0.6666666666666666, \"#ed7953\"], [0.7777777777777778, \"#fb9f3a\"], [0.8888888888888888, \"#fdca26\"], [1.0, \"#f0f921\"]], \"type\": \"histogram2dcontour\"}], \"mesh3d\": [{\"colorbar\": {\"outlinewidth\": 0, \"ticks\": \"\"}, \"type\": \"mesh3d\"}], \"parcoords\": [{\"line\": {\"colorbar\": {\"outlinewidth\": 0, \"ticks\": \"\"}}, \"type\": \"parcoords\"}], \"pie\": [{\"automargin\": true, \"type\": \"pie\"}], \"scatter\": [{\"marker\": {\"colorbar\": {\"outlinewidth\": 0, \"ticks\": \"\"}}, \"type\": \"scatter\"}], \"scatter3d\": [{\"line\": {\"colorbar\": {\"outlinewidth\": 0, \"ticks\": \"\"}}, \"marker\": {\"colorbar\": {\"outlinewidth\": 0, \"ticks\": \"\"}}, \"type\": \"scatter3d\"}], \"scattercarpet\": [{\"marker\": {\"colorbar\": {\"outlinewidth\": 0, \"ticks\": \"\"}}, \"type\": \"scattercarpet\"}], \"scattergeo\": [{\"marker\": {\"colorbar\": {\"outlinewidth\": 0, \"ticks\": \"\"}}, \"type\": \"scattergeo\"}], \"scattergl\": [{\"marker\": {\"colorbar\": {\"outlinewidth\": 0, \"ticks\": \"\"}}, \"type\": \"scattergl\"}], \"scattermapbox\": [{\"marker\": {\"colorbar\": {\"outlinewidth\": 0, \"ticks\": \"\"}}, \"type\": \"scattermapbox\"}], \"scatterpolar\": [{\"marker\": {\"colorbar\": {\"outlinewidth\": 0, \"ticks\": \"\"}}, \"type\": \"scatterpolar\"}], \"scatterpolargl\": [{\"marker\": {\"colorbar\": {\"outlinewidth\": 0, \"ticks\": \"\"}}, \"type\": \"scatterpolargl\"}], \"scatterternary\": [{\"marker\": {\"colorbar\": {\"outlinewidth\": 0, \"ticks\": \"\"}}, \"type\": \"scatterternary\"}], \"surface\": [{\"colorbar\": {\"outlinewidth\": 0, \"ticks\": \"\"}, \"colorscale\": [[0.0, \"#0d0887\"], [0.1111111111111111, \"#46039f\"], [0.2222222222222222, \"#7201a8\"], [0.3333333333333333, \"#9c179e\"], [0.4444444444444444, \"#bd3786\"], [0.5555555555555556, \"#d8576b\"], [0.6666666666666666, \"#ed7953\"], [0.7777777777777778, \"#fb9f3a\"], [0.8888888888888888, \"#fdca26\"], [1.0, \"#f0f921\"]], \"type\": \"surface\"}], \"table\": [{\"cells\": {\"fill\": {\"color\": \"#EBF0F8\"}, \"line\": {\"color\": \"white\"}}, \"header\": {\"fill\": {\"color\": \"#C8D4E3\"}, \"line\": {\"color\": \"white\"}}, \"type\": \"table\"}]}, \"layout\": {\"annotationdefaults\": {\"arrowcolor\": \"#2a3f5f\", \"arrowhead\": 0, \"arrowwidth\": 1}, \"autotypenumbers\": \"strict\", \"coloraxis\": {\"colorbar\": {\"outlinewidth\": 0, \"ticks\": \"\"}}, \"colorscale\": {\"diverging\": [[0, \"#8e0152\"], [0.1, \"#c51b7d\"], [0.2, \"#de77ae\"], [0.3, \"#f1b6da\"], [0.4, \"#fde0ef\"], [0.5, \"#f7f7f7\"], [0.6, \"#e6f5d0\"], [0.7, \"#b8e186\"], [0.8, \"#7fbc41\"], [0.9, \"#4d9221\"], [1, \"#276419\"]], \"sequential\": [[0.0, \"#0d0887\"], [0.1111111111111111, \"#46039f\"], [0.2222222222222222, \"#7201a8\"], [0.3333333333333333, \"#9c179e\"], [0.4444444444444444, \"#bd3786\"], [0.5555555555555556, \"#d8576b\"], [0.6666666666666666, \"#ed7953\"], [0.7777777777777778, \"#fb9f3a\"], [0.8888888888888888, \"#fdca26\"], [1.0, \"#f0f921\"]], \"sequentialminus\": [[0.0, \"#0d0887\"], [0.1111111111111111, \"#46039f\"], [0.2222222222222222, \"#7201a8\"], [0.3333333333333333, \"#9c179e\"], [0.4444444444444444, \"#bd3786\"], [0.5555555555555556, \"#d8576b\"], [0.6666666666666666, \"#ed7953\"], [0.7777777777777778, \"#fb9f3a\"], [0.8888888888888888, \"#fdca26\"], [1.0, \"#f0f921\"]]}, \"colorway\": [\"#636efa\", \"#EF553B\", \"#00cc96\", \"#ab63fa\", \"#FFA15A\", \"#19d3f3\", \"#FF6692\", \"#B6E880\", \"#FF97FF\", \"#FECB52\"], \"font\": {\"color\": \"#2a3f5f\"}, \"geo\": {\"bgcolor\": \"white\", \"lakecolor\": \"white\", \"landcolor\": \"#E5ECF6\", \"showlakes\": true, \"showland\": true, \"subunitcolor\": \"white\"}, \"hoverlabel\": {\"align\": \"left\"}, \"hovermode\": \"closest\", \"mapbox\": {\"style\": \"light\"}, \"paper_bgcolor\": \"white\", \"plot_bgcolor\": \"#E5ECF6\", \"polar\": {\"angularaxis\": {\"gridcolor\": \"white\", \"linecolor\": \"white\", \"ticks\": \"\"}, \"bgcolor\": \"#E5ECF6\", \"radialaxis\": {\"gridcolor\": \"white\", \"linecolor\": \"white\", \"ticks\": \"\"}}, \"scene\": {\"xaxis\": {\"backgroundcolor\": \"#E5ECF6\", \"gridcolor\": \"white\", \"gridwidth\": 2, \"linecolor\": \"white\", \"showbackground\": true, \"ticks\": \"\", \"zerolinecolor\": \"white\"}, \"yaxis\": {\"backgroundcolor\": \"#E5ECF6\", \"gridcolor\": \"white\", \"gridwidth\": 2, \"linecolor\": \"white\", \"showbackground\": true, \"ticks\": \"\", \"zerolinecolor\": \"white\"}, \"zaxis\": {\"backgroundcolor\": \"#E5ECF6\", \"gridcolor\": \"white\", \"gridwidth\": 2, \"linecolor\": \"white\", \"showbackground\": true, \"ticks\": \"\", \"zerolinecolor\": \"white\"}}, \"shapedefaults\": {\"line\": {\"color\": \"#2a3f5f\"}}, \"ternary\": {\"aaxis\": {\"gridcolor\": \"white\", \"linecolor\": \"white\", \"ticks\": \"\"}, \"baxis\": {\"gridcolor\": \"white\", \"linecolor\": \"white\", \"ticks\": \"\"}, \"bgcolor\": \"#E5ECF6\", \"caxis\": {\"gridcolor\": \"white\", \"linecolor\": \"white\", \"ticks\": \"\"}}, \"title\": {\"x\": 0.05}, \"xaxis\": {\"automargin\": true, \"gridcolor\": \"white\", \"linecolor\": \"white\", \"ticks\": \"\", \"title\": {\"standoff\": 15}, \"zerolinecolor\": \"white\", \"zerolinewidth\": 2}, \"yaxis\": {\"automargin\": true, \"gridcolor\": \"white\", \"linecolor\": \"white\", \"ticks\": \"\", \"title\": {\"standoff\": 15}, \"zerolinecolor\": \"white\", \"zerolinewidth\": 2}}}, \"title\": {\"font\": {\"size\": 16}}, \"width\": 1800, \"xaxis\": {\"range\": [-1.15, 1.05], \"showgrid\": false, \"showticklabels\": false, \"zeroline\": false}, \"yaxis\": {\"range\": [-1.15, 1.05], \"showgrid\": false, \"showticklabels\": false, \"zeroline\": false}},                        {\"responsive\": true}                    ).then(function(){\n",
       "                            \n",
       "var gd = document.getElementById('480c71ae-925b-4b3a-94e8-0cb69d06de01');\n",
       "var x = new MutationObserver(function (mutations, observer) {{\n",
       "        var display = window.getComputedStyle(gd).display;\n",
       "        if (!display || display === 'none') {{\n",
       "            console.log([gd, 'removed!']);\n",
       "            Plotly.purge(gd);\n",
       "            observer.disconnect();\n",
       "        }}\n",
       "}});\n",
       "\n",
       "// Listen for the removal of the full notebook cells\n",
       "var notebookContainer = gd.closest('#notebook-container');\n",
       "if (notebookContainer) {{\n",
       "    x.observe(notebookContainer, {childList: true});\n",
       "}}\n",
       "\n",
       "// Listen for the clearing of the current output cell\n",
       "var outputEl = gd.closest('.output');\n",
       "if (outputEl) {{\n",
       "    x.observe(outputEl, {childList: true});\n",
       "}}\n",
       "\n",
       "                        })                };                });            </script>        </div>"
      ]
     },
     "metadata": {},
     "output_type": "display_data"
    }
   ],
   "source": [
    "G_paul = textnet.construct_ego_network(G, \"Paul of Tarsus\", 10, reduced=True)\n",
    "fig = textnet.draw_2d_network(G_paul, 1800, 1200, 32)\n",
    "fig.show()"
   ]
  },
  {
   "cell_type": "code",
   "execution_count": 193,
   "metadata": {},
   "outputs": [
    {
     "name": "stdout",
     "output_type": "stream",
     "text": [
      "Your <class 'plotly.graph_objs._figure.Figure'> object has been succefully written as \"https://sciencedata.dk/files/SDAM_root/SDAM_data/ECCE_public/paul_egonet_cos-sim-tfidf.png\"\n"
     ]
    }
   ],
   "source": [
    "fig.write_image(\"../figures/paul_egonet_cos-sim-tfidf.png\")\n",
    "# s.write_file(\"paul_egonet_cos-sim-tfidf.png\", fig)"
   ]
  },
  {
   "cell_type": "code",
   "execution_count": null,
   "metadata": {},
   "outputs": [],
   "source": []
  }
 ],
 "metadata": {
  "colab": {
   "name": "OVERVIEW.ipynb",
   "provenance": []
  },
  "kernelspec": {
   "display_name": "ecce_venv",
   "language": "python",
   "name": "ecce_venv"
  },
  "language_info": {
   "codemirror_mode": {
    "name": "ipython",
    "version": 3
   },
   "file_extension": ".py",
   "mimetype": "text/x-python",
   "name": "python",
   "nbconvert_exporter": "python",
   "pygments_lexer": "ipython3",
   "version": "3.6.9"
  }
 },
 "nbformat": 4,
 "nbformat_minor": 4
}
